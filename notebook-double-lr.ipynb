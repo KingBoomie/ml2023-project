{
 "cells": [
  {
   "cell_type": "code",
   "execution_count": 1,
   "id": "bc36bae3",
   "metadata": {
    "_cell_guid": "b1076dfc-b9ad-4769-8c92-a6c4dae69d19",
    "_uuid": "8f2839f25d086af736a60e9eeb907d3b93b6e0e5",
    "execution": {
     "iopub.execute_input": "2023-12-16T21:53:20.967981Z",
     "iopub.status.busy": "2023-12-16T21:53:20.967452Z",
     "iopub.status.idle": "2023-12-16T21:53:21.880289Z",
     "shell.execute_reply": "2023-12-16T21:53:21.879405Z"
    },
    "papermill": {
     "duration": 0.927906,
     "end_time": "2023-12-16T21:53:21.882832",
     "exception": false,
     "start_time": "2023-12-16T21:53:20.954926",
     "status": "completed"
    },
    "tags": []
   },
   "outputs": [
    {
     "name": "stdout",
     "output_type": "stream",
     "text": [
      "/kaggle/input/optiver-trading-at-the-close/public_timeseries_testing_util.py\n",
      "/kaggle/input/optiver-trading-at-the-close/train.csv\n",
      "/kaggle/input/optiver-trading-at-the-close/example_test_files/sample_submission.csv\n",
      "/kaggle/input/optiver-trading-at-the-close/example_test_files/revealed_targets.csv\n",
      "/kaggle/input/optiver-trading-at-the-close/example_test_files/test.csv\n",
      "/kaggle/input/optiver-trading-at-the-close/optiver2023/competition.cpython-310-x86_64-linux-gnu.so\n",
      "/kaggle/input/optiver-trading-at-the-close/optiver2023/__init__.py\n"
     ]
    }
   ],
   "source": [
    "# This Python 3 environment comes with many helpful analytics libraries installed\n",
    "# It is defined by the kaggle/python Docker image: https://github.com/kaggle/docker-python\n",
    "# For example, here's several helpful packages to load\n",
    "\n",
    "import numpy as np # linear algebra\n",
    "import pandas as pd # data processing, CSV file I/O (e.g. pd.read_csv)\n",
    "\n",
    "# Input data files are available in the read-only \"../input/\" directory\n",
    "# For example, running this (by clicking run or pressing Shift+Enter) will list all files under the input directory\n",
    "\n",
    "import os\n",
    "for dirname, _, filenames in os.walk('/kaggle/input'):\n",
    "    for filename in filenames:\n",
    "        print(os.path.join(dirname, filename))\n",
    "\n",
    "# You can write up to 20GB to the current directory (/kaggle/working/) that gets preserved as output when you create a version using \"Save & Run All\" \n",
    "# You can also write temporary files to /kaggle/temp/, but they won't be saved outside of the current session"
   ]
  },
  {
   "cell_type": "code",
   "execution_count": 2,
   "id": "f29396fe",
   "metadata": {
    "ExecuteTime": {
     "end_time": "2023-11-16T16:00:29.496150424Z",
     "start_time": "2023-11-16T16:00:28.962765124Z"
    },
    "collapsed": false,
    "execution": {
     "iopub.execute_input": "2023-12-16T21:53:21.904872Z",
     "iopub.status.busy": "2023-12-16T21:53:21.903515Z",
     "iopub.status.idle": "2023-12-16T21:53:23.493144Z",
     "shell.execute_reply": "2023-12-16T21:53:23.492263Z"
    },
    "jupyter": {
     "outputs_hidden": false
    },
    "papermill": {
     "duration": 1.602897,
     "end_time": "2023-12-16T21:53:23.495606",
     "exception": false,
     "start_time": "2023-12-16T21:53:21.892709",
     "status": "completed"
    },
    "tags": []
   },
   "outputs": [],
   "source": [
    "# Deps\n",
    "import warnings\n",
    "warnings.simplefilter(action='ignore', category=FutureWarning)\n",
    "\n",
    "\n",
    "import pandas as pd\n",
    "import numpy as np\n",
    "from sklearn.model_selection import train_test_split\n",
    "from sklearn.metrics import mean_squared_error, mean_absolute_error\n",
    "from sklearn.impute import SimpleImputer\n",
    "from sklearn.linear_model import LinearRegression, Ridge\n"
   ]
  },
  {
   "cell_type": "code",
   "execution_count": 3,
   "id": "9eb60cfe",
   "metadata": {
    "execution": {
     "iopub.execute_input": "2023-12-16T21:53:23.516828Z",
     "iopub.status.busy": "2023-12-16T21:53:23.516207Z",
     "iopub.status.idle": "2023-12-16T21:53:23.537946Z",
     "shell.execute_reply": "2023-12-16T21:53:23.536937Z"
    },
    "papermill": {
     "duration": 0.035357,
     "end_time": "2023-12-16T21:53:23.540579",
     "exception": false,
     "start_time": "2023-12-16T21:53:23.505222",
     "status": "completed"
    },
    "tags": []
   },
   "outputs": [],
   "source": [
    "import optiver2023\n",
    "env = optiver2023.make_env()\n",
    "iter_test = env.iter_test()\n"
   ]
  },
  {
   "cell_type": "markdown",
   "id": "3c7a2f95",
   "metadata": {
    "papermill": {
     "duration": 0.009235,
     "end_time": "2023-12-16T21:53:23.559700",
     "exception": false,
     "start_time": "2023-12-16T21:53:23.550465",
     "status": "completed"
    },
    "tags": []
   },
   "source": [
    "## Load the data"
   ]
  },
  {
   "cell_type": "code",
   "execution_count": 4,
   "id": "3cd64810",
   "metadata": {
    "ExecuteTime": {
     "end_time": "2023-11-16T14:46:26.662305064Z",
     "start_time": "2023-11-16T14:46:21.016210797Z"
    },
    "execution": {
     "iopub.execute_input": "2023-12-16T21:53:23.581061Z",
     "iopub.status.busy": "2023-12-16T21:53:23.580225Z",
     "iopub.status.idle": "2023-12-16T21:53:44.955263Z",
     "shell.execute_reply": "2023-12-16T21:53:44.954086Z"
    },
    "papermill": {
     "duration": 21.388494,
     "end_time": "2023-12-16T21:53:44.957737",
     "exception": false,
     "start_time": "2023-12-16T21:53:23.569243",
     "status": "completed"
    },
    "tags": []
   },
   "outputs": [
    {
     "data": {
      "text/html": [
       "<div>\n",
       "<style scoped>\n",
       "    .dataframe tbody tr th:only-of-type {\n",
       "        vertical-align: middle;\n",
       "    }\n",
       "\n",
       "    .dataframe tbody tr th {\n",
       "        vertical-align: top;\n",
       "    }\n",
       "\n",
       "    .dataframe thead th {\n",
       "        text-align: right;\n",
       "    }\n",
       "</style>\n",
       "<table border=\"1\" class=\"dataframe\">\n",
       "  <thead>\n",
       "    <tr style=\"text-align: right;\">\n",
       "      <th></th>\n",
       "      <th>stock_id</th>\n",
       "      <th>date_id</th>\n",
       "      <th>seconds_in_bucket</th>\n",
       "      <th>imbalance_size</th>\n",
       "      <th>imbalance_buy_sell_flag</th>\n",
       "      <th>reference_price</th>\n",
       "      <th>matched_size</th>\n",
       "      <th>far_price</th>\n",
       "      <th>near_price</th>\n",
       "      <th>bid_price</th>\n",
       "      <th>bid_size</th>\n",
       "      <th>ask_price</th>\n",
       "      <th>ask_size</th>\n",
       "      <th>wap</th>\n",
       "      <th>target</th>\n",
       "      <th>time_id</th>\n",
       "      <th>row_id</th>\n",
       "    </tr>\n",
       "  </thead>\n",
       "  <tbody>\n",
       "    <tr>\n",
       "      <th>0</th>\n",
       "      <td>0</td>\n",
       "      <td>0</td>\n",
       "      <td>0</td>\n",
       "      <td>3180602.69</td>\n",
       "      <td>1</td>\n",
       "      <td>0.999812</td>\n",
       "      <td>13380276.64</td>\n",
       "      <td>NaN</td>\n",
       "      <td>NaN</td>\n",
       "      <td>0.999812</td>\n",
       "      <td>60651.50</td>\n",
       "      <td>1.000026</td>\n",
       "      <td>8493.03</td>\n",
       "      <td>1.0</td>\n",
       "      <td>-3.029704</td>\n",
       "      <td>0</td>\n",
       "      <td>0_0_0</td>\n",
       "    </tr>\n",
       "    <tr>\n",
       "      <th>1</th>\n",
       "      <td>1</td>\n",
       "      <td>0</td>\n",
       "      <td>0</td>\n",
       "      <td>166603.91</td>\n",
       "      <td>-1</td>\n",
       "      <td>0.999896</td>\n",
       "      <td>1642214.25</td>\n",
       "      <td>NaN</td>\n",
       "      <td>NaN</td>\n",
       "      <td>0.999896</td>\n",
       "      <td>3233.04</td>\n",
       "      <td>1.000660</td>\n",
       "      <td>20605.09</td>\n",
       "      <td>1.0</td>\n",
       "      <td>-5.519986</td>\n",
       "      <td>0</td>\n",
       "      <td>0_0_1</td>\n",
       "    </tr>\n",
       "    <tr>\n",
       "      <th>2</th>\n",
       "      <td>2</td>\n",
       "      <td>0</td>\n",
       "      <td>0</td>\n",
       "      <td>302879.87</td>\n",
       "      <td>-1</td>\n",
       "      <td>0.999561</td>\n",
       "      <td>1819368.03</td>\n",
       "      <td>NaN</td>\n",
       "      <td>NaN</td>\n",
       "      <td>0.999403</td>\n",
       "      <td>37956.00</td>\n",
       "      <td>1.000298</td>\n",
       "      <td>18995.00</td>\n",
       "      <td>1.0</td>\n",
       "      <td>-8.389950</td>\n",
       "      <td>0</td>\n",
       "      <td>0_0_2</td>\n",
       "    </tr>\n",
       "    <tr>\n",
       "      <th>3</th>\n",
       "      <td>3</td>\n",
       "      <td>0</td>\n",
       "      <td>0</td>\n",
       "      <td>11917682.27</td>\n",
       "      <td>-1</td>\n",
       "      <td>1.000171</td>\n",
       "      <td>18389745.62</td>\n",
       "      <td>NaN</td>\n",
       "      <td>NaN</td>\n",
       "      <td>0.999999</td>\n",
       "      <td>2324.90</td>\n",
       "      <td>1.000214</td>\n",
       "      <td>479032.40</td>\n",
       "      <td>1.0</td>\n",
       "      <td>-4.010200</td>\n",
       "      <td>0</td>\n",
       "      <td>0_0_3</td>\n",
       "    </tr>\n",
       "    <tr>\n",
       "      <th>4</th>\n",
       "      <td>4</td>\n",
       "      <td>0</td>\n",
       "      <td>0</td>\n",
       "      <td>447549.96</td>\n",
       "      <td>-1</td>\n",
       "      <td>0.999532</td>\n",
       "      <td>17860614.95</td>\n",
       "      <td>NaN</td>\n",
       "      <td>NaN</td>\n",
       "      <td>0.999394</td>\n",
       "      <td>16485.54</td>\n",
       "      <td>1.000016</td>\n",
       "      <td>434.10</td>\n",
       "      <td>1.0</td>\n",
       "      <td>-7.349849</td>\n",
       "      <td>0</td>\n",
       "      <td>0_0_4</td>\n",
       "    </tr>\n",
       "  </tbody>\n",
       "</table>\n",
       "</div>"
      ],
      "text/plain": [
       "   stock_id  date_id  seconds_in_bucket  imbalance_size  \\\n",
       "0         0        0                  0      3180602.69   \n",
       "1         1        0                  0       166603.91   \n",
       "2         2        0                  0       302879.87   \n",
       "3         3        0                  0     11917682.27   \n",
       "4         4        0                  0       447549.96   \n",
       "\n",
       "   imbalance_buy_sell_flag  reference_price  matched_size  far_price  \\\n",
       "0                        1         0.999812   13380276.64        NaN   \n",
       "1                       -1         0.999896    1642214.25        NaN   \n",
       "2                       -1         0.999561    1819368.03        NaN   \n",
       "3                       -1         1.000171   18389745.62        NaN   \n",
       "4                       -1         0.999532   17860614.95        NaN   \n",
       "\n",
       "   near_price  bid_price  bid_size  ask_price   ask_size  wap    target  \\\n",
       "0         NaN   0.999812  60651.50   1.000026    8493.03  1.0 -3.029704   \n",
       "1         NaN   0.999896   3233.04   1.000660   20605.09  1.0 -5.519986   \n",
       "2         NaN   0.999403  37956.00   1.000298   18995.00  1.0 -8.389950   \n",
       "3         NaN   0.999999   2324.90   1.000214  479032.40  1.0 -4.010200   \n",
       "4         NaN   0.999394  16485.54   1.000016     434.10  1.0 -7.349849   \n",
       "\n",
       "   time_id row_id  \n",
       "0        0  0_0_0  \n",
       "1        0  0_0_1  \n",
       "2        0  0_0_2  \n",
       "3        0  0_0_3  \n",
       "4        0  0_0_4  "
      ]
     },
     "execution_count": 4,
     "metadata": {},
     "output_type": "execute_result"
    }
   ],
   "source": [
    "# Load and preprocess the data\n",
    "train_df = pd.read_csv('/kaggle/input/optiver-trading-at-the-close/train.csv')\n",
    "train_df.head()\n"
   ]
  },
  {
   "cell_type": "code",
   "execution_count": 5,
   "id": "dd9aae01",
   "metadata": {
    "ExecuteTime": {
     "end_time": "2023-11-16T15:39:13.643665544Z",
     "start_time": "2023-11-16T15:39:13.165666814Z"
    },
    "execution": {
     "iopub.execute_input": "2023-12-16T21:53:44.978996Z",
     "iopub.status.busy": "2023-12-16T21:53:44.978559Z",
     "iopub.status.idle": "2023-12-16T21:53:45.222028Z",
     "shell.execute_reply": "2023-12-16T21:53:45.220892Z"
    },
    "papermill": {
     "duration": 0.256843,
     "end_time": "2023-12-16T21:53:45.224391",
     "exception": false,
     "start_time": "2023-12-16T21:53:44.967548",
     "status": "completed"
    },
    "tags": []
   },
   "outputs": [
    {
     "data": {
      "text/html": [
       "<div>\n",
       "<style scoped>\n",
       "    .dataframe tbody tr th:only-of-type {\n",
       "        vertical-align: middle;\n",
       "    }\n",
       "\n",
       "    .dataframe tbody tr th {\n",
       "        vertical-align: top;\n",
       "    }\n",
       "\n",
       "    .dataframe thead th {\n",
       "        text-align: right;\n",
       "    }\n",
       "</style>\n",
       "<table border=\"1\" class=\"dataframe\">\n",
       "  <thead>\n",
       "    <tr style=\"text-align: right;\">\n",
       "      <th></th>\n",
       "      <th>stock_id</th>\n",
       "      <th>date_id</th>\n",
       "      <th>seconds_in_bucket</th>\n",
       "      <th>imbalance_size</th>\n",
       "      <th>imbalance_buy_sell_flag</th>\n",
       "      <th>reference_price</th>\n",
       "      <th>matched_size</th>\n",
       "      <th>far_price</th>\n",
       "      <th>near_price</th>\n",
       "      <th>bid_price</th>\n",
       "      <th>bid_size</th>\n",
       "      <th>ask_price</th>\n",
       "      <th>ask_size</th>\n",
       "      <th>wap</th>\n",
       "      <th>time_id</th>\n",
       "      <th>row_id</th>\n",
       "      <th>currently_scored</th>\n",
       "    </tr>\n",
       "  </thead>\n",
       "  <tbody>\n",
       "    <tr>\n",
       "      <th>0</th>\n",
       "      <td>0</td>\n",
       "      <td>478</td>\n",
       "      <td>0</td>\n",
       "      <td>3753451.43</td>\n",
       "      <td>-1</td>\n",
       "      <td>0.999875</td>\n",
       "      <td>11548975.43</td>\n",
       "      <td>NaN</td>\n",
       "      <td>NaN</td>\n",
       "      <td>0.999875</td>\n",
       "      <td>22940.00</td>\n",
       "      <td>1.000050</td>\n",
       "      <td>9177.60</td>\n",
       "      <td>1.000000</td>\n",
       "      <td>26290</td>\n",
       "      <td>478_0_0</td>\n",
       "      <td>False</td>\n",
       "    </tr>\n",
       "    <tr>\n",
       "      <th>1</th>\n",
       "      <td>1</td>\n",
       "      <td>478</td>\n",
       "      <td>0</td>\n",
       "      <td>985977.11</td>\n",
       "      <td>-1</td>\n",
       "      <td>1.000245</td>\n",
       "      <td>3850033.97</td>\n",
       "      <td>NaN</td>\n",
       "      <td>NaN</td>\n",
       "      <td>0.999940</td>\n",
       "      <td>1967.90</td>\n",
       "      <td>1.000601</td>\n",
       "      <td>19692.00</td>\n",
       "      <td>1.000000</td>\n",
       "      <td>26290</td>\n",
       "      <td>478_0_1</td>\n",
       "      <td>False</td>\n",
       "    </tr>\n",
       "    <tr>\n",
       "      <th>2</th>\n",
       "      <td>2</td>\n",
       "      <td>478</td>\n",
       "      <td>0</td>\n",
       "      <td>599128.74</td>\n",
       "      <td>1</td>\n",
       "      <td>1.000584</td>\n",
       "      <td>4359198.25</td>\n",
       "      <td>NaN</td>\n",
       "      <td>NaN</td>\n",
       "      <td>0.999918</td>\n",
       "      <td>4488.22</td>\n",
       "      <td>1.000636</td>\n",
       "      <td>34955.12</td>\n",
       "      <td>1.000000</td>\n",
       "      <td>26290</td>\n",
       "      <td>478_0_2</td>\n",
       "      <td>False</td>\n",
       "    </tr>\n",
       "    <tr>\n",
       "      <th>3</th>\n",
       "      <td>3</td>\n",
       "      <td>478</td>\n",
       "      <td>0</td>\n",
       "      <td>2872317.54</td>\n",
       "      <td>-1</td>\n",
       "      <td>0.999802</td>\n",
       "      <td>27129551.64</td>\n",
       "      <td>NaN</td>\n",
       "      <td>NaN</td>\n",
       "      <td>0.999705</td>\n",
       "      <td>16082.04</td>\n",
       "      <td>1.000189</td>\n",
       "      <td>10314.00</td>\n",
       "      <td>1.000000</td>\n",
       "      <td>26290</td>\n",
       "      <td>478_0_3</td>\n",
       "      <td>False</td>\n",
       "    </tr>\n",
       "    <tr>\n",
       "      <th>4</th>\n",
       "      <td>4</td>\n",
       "      <td>478</td>\n",
       "      <td>0</td>\n",
       "      <td>740059.14</td>\n",
       "      <td>-1</td>\n",
       "      <td>0.999886</td>\n",
       "      <td>8880890.78</td>\n",
       "      <td>NaN</td>\n",
       "      <td>NaN</td>\n",
       "      <td>0.999720</td>\n",
       "      <td>19012.35</td>\n",
       "      <td>1.000107</td>\n",
       "      <td>7245.60</td>\n",
       "      <td>1.000000</td>\n",
       "      <td>26290</td>\n",
       "      <td>478_0_4</td>\n",
       "      <td>False</td>\n",
       "    </tr>\n",
       "    <tr>\n",
       "      <th>...</th>\n",
       "      <td>...</td>\n",
       "      <td>...</td>\n",
       "      <td>...</td>\n",
       "      <td>...</td>\n",
       "      <td>...</td>\n",
       "      <td>...</td>\n",
       "      <td>...</td>\n",
       "      <td>...</td>\n",
       "      <td>...</td>\n",
       "      <td>...</td>\n",
       "      <td>...</td>\n",
       "      <td>...</td>\n",
       "      <td>...</td>\n",
       "      <td>...</td>\n",
       "      <td>...</td>\n",
       "      <td>...</td>\n",
       "      <td>...</td>\n",
       "    </tr>\n",
       "    <tr>\n",
       "      <th>32995</th>\n",
       "      <td>195</td>\n",
       "      <td>480</td>\n",
       "      <td>540</td>\n",
       "      <td>2440722.89</td>\n",
       "      <td>-1</td>\n",
       "      <td>1.000317</td>\n",
       "      <td>28280361.74</td>\n",
       "      <td>0.999734</td>\n",
       "      <td>0.999734</td>\n",
       "      <td>1.000317</td>\n",
       "      <td>32257.04</td>\n",
       "      <td>1.000434</td>\n",
       "      <td>319862.40</td>\n",
       "      <td>1.000328</td>\n",
       "      <td>26454</td>\n",
       "      <td>480_540_195</td>\n",
       "      <td>False</td>\n",
       "    </tr>\n",
       "    <tr>\n",
       "      <th>32996</th>\n",
       "      <td>196</td>\n",
       "      <td>480</td>\n",
       "      <td>540</td>\n",
       "      <td>349510.47</td>\n",
       "      <td>-1</td>\n",
       "      <td>1.000643</td>\n",
       "      <td>9187699.11</td>\n",
       "      <td>1.000129</td>\n",
       "      <td>1.000386</td>\n",
       "      <td>1.000643</td>\n",
       "      <td>205108.40</td>\n",
       "      <td>1.000900</td>\n",
       "      <td>93393.07</td>\n",
       "      <td>1.000819</td>\n",
       "      <td>26454</td>\n",
       "      <td>480_540_196</td>\n",
       "      <td>False</td>\n",
       "    </tr>\n",
       "    <tr>\n",
       "      <th>32997</th>\n",
       "      <td>197</td>\n",
       "      <td>480</td>\n",
       "      <td>540</td>\n",
       "      <td>0.00</td>\n",
       "      <td>0</td>\n",
       "      <td>0.995789</td>\n",
       "      <td>12725436.10</td>\n",
       "      <td>0.995789</td>\n",
       "      <td>0.995789</td>\n",
       "      <td>0.995789</td>\n",
       "      <td>16790.66</td>\n",
       "      <td>0.995883</td>\n",
       "      <td>180038.32</td>\n",
       "      <td>0.995797</td>\n",
       "      <td>26454</td>\n",
       "      <td>480_540_197</td>\n",
       "      <td>False</td>\n",
       "    </tr>\n",
       "    <tr>\n",
       "      <th>32998</th>\n",
       "      <td>198</td>\n",
       "      <td>480</td>\n",
       "      <td>540</td>\n",
       "      <td>1000898.84</td>\n",
       "      <td>1</td>\n",
       "      <td>0.999210</td>\n",
       "      <td>94773271.05</td>\n",
       "      <td>0.999210</td>\n",
       "      <td>0.999210</td>\n",
       "      <td>0.998970</td>\n",
       "      <td>125631.72</td>\n",
       "      <td>0.999210</td>\n",
       "      <td>669893.00</td>\n",
       "      <td>0.999008</td>\n",
       "      <td>26454</td>\n",
       "      <td>480_540_198</td>\n",
       "      <td>False</td>\n",
       "    </tr>\n",
       "    <tr>\n",
       "      <th>32999</th>\n",
       "      <td>199</td>\n",
       "      <td>480</td>\n",
       "      <td>540</td>\n",
       "      <td>1884285.71</td>\n",
       "      <td>-1</td>\n",
       "      <td>1.002129</td>\n",
       "      <td>24073677.32</td>\n",
       "      <td>1.000859</td>\n",
       "      <td>1.001494</td>\n",
       "      <td>1.002129</td>\n",
       "      <td>250081.44</td>\n",
       "      <td>1.002447</td>\n",
       "      <td>300167.56</td>\n",
       "      <td>1.002274</td>\n",
       "      <td>26454</td>\n",
       "      <td>480_540_199</td>\n",
       "      <td>False</td>\n",
       "    </tr>\n",
       "  </tbody>\n",
       "</table>\n",
       "<p>33000 rows × 17 columns</p>\n",
       "</div>"
      ],
      "text/plain": [
       "       stock_id  date_id  seconds_in_bucket  imbalance_size  \\\n",
       "0             0      478                  0      3753451.43   \n",
       "1             1      478                  0       985977.11   \n",
       "2             2      478                  0       599128.74   \n",
       "3             3      478                  0      2872317.54   \n",
       "4             4      478                  0       740059.14   \n",
       "...         ...      ...                ...             ...   \n",
       "32995       195      480                540      2440722.89   \n",
       "32996       196      480                540       349510.47   \n",
       "32997       197      480                540            0.00   \n",
       "32998       198      480                540      1000898.84   \n",
       "32999       199      480                540      1884285.71   \n",
       "\n",
       "       imbalance_buy_sell_flag  reference_price  matched_size  far_price  \\\n",
       "0                           -1         0.999875   11548975.43        NaN   \n",
       "1                           -1         1.000245    3850033.97        NaN   \n",
       "2                            1         1.000584    4359198.25        NaN   \n",
       "3                           -1         0.999802   27129551.64        NaN   \n",
       "4                           -1         0.999886    8880890.78        NaN   \n",
       "...                        ...              ...           ...        ...   \n",
       "32995                       -1         1.000317   28280361.74   0.999734   \n",
       "32996                       -1         1.000643    9187699.11   1.000129   \n",
       "32997                        0         0.995789   12725436.10   0.995789   \n",
       "32998                        1         0.999210   94773271.05   0.999210   \n",
       "32999                       -1         1.002129   24073677.32   1.000859   \n",
       "\n",
       "       near_price  bid_price   bid_size  ask_price   ask_size       wap  \\\n",
       "0             NaN   0.999875   22940.00   1.000050    9177.60  1.000000   \n",
       "1             NaN   0.999940    1967.90   1.000601   19692.00  1.000000   \n",
       "2             NaN   0.999918    4488.22   1.000636   34955.12  1.000000   \n",
       "3             NaN   0.999705   16082.04   1.000189   10314.00  1.000000   \n",
       "4             NaN   0.999720   19012.35   1.000107    7245.60  1.000000   \n",
       "...           ...        ...        ...        ...        ...       ...   \n",
       "32995    0.999734   1.000317   32257.04   1.000434  319862.40  1.000328   \n",
       "32996    1.000386   1.000643  205108.40   1.000900   93393.07  1.000819   \n",
       "32997    0.995789   0.995789   16790.66   0.995883  180038.32  0.995797   \n",
       "32998    0.999210   0.998970  125631.72   0.999210  669893.00  0.999008   \n",
       "32999    1.001494   1.002129  250081.44   1.002447  300167.56  1.002274   \n",
       "\n",
       "       time_id       row_id  currently_scored  \n",
       "0        26290      478_0_0             False  \n",
       "1        26290      478_0_1             False  \n",
       "2        26290      478_0_2             False  \n",
       "3        26290      478_0_3             False  \n",
       "4        26290      478_0_4             False  \n",
       "...        ...          ...               ...  \n",
       "32995    26454  480_540_195             False  \n",
       "32996    26454  480_540_196             False  \n",
       "32997    26454  480_540_197             False  \n",
       "32998    26454  480_540_198             False  \n",
       "32999    26454  480_540_199             False  \n",
       "\n",
       "[33000 rows x 17 columns]"
      ]
     },
     "execution_count": 5,
     "metadata": {},
     "output_type": "execute_result"
    }
   ],
   "source": [
    "### Test dataset:\n",
    "test_df = pd.read_csv(\"/kaggle/input/optiver-trading-at-the-close/example_test_files/test.csv\")\n",
    "test_df_targets = pd.read_csv(\"/kaggle/input/optiver-trading-at-the-close/example_test_files/revealed_targets.csv\")\n",
    "\n",
    "sample_submission = pd.read_csv(\"/kaggle/input/optiver-trading-at-the-close/example_test_files/sample_submission.csv\")\n",
    "test_df\n"
   ]
  },
  {
   "cell_type": "markdown",
   "id": "44f81b21",
   "metadata": {
    "papermill": {
     "duration": 0.010552,
     "end_time": "2023-12-16T21:53:45.246086",
     "exception": false,
     "start_time": "2023-12-16T21:53:45.235534",
     "status": "completed"
    },
    "tags": []
   },
   "source": [
    "## PreProcessing for X Train y Train"
   ]
  },
  {
   "cell_type": "code",
   "execution_count": 6,
   "id": "ddf72c99",
   "metadata": {
    "collapsed": false,
    "execution": {
     "iopub.execute_input": "2023-12-16T21:53:45.269327Z",
     "iopub.status.busy": "2023-12-16T21:53:45.268352Z",
     "iopub.status.idle": "2023-12-16T21:53:45.274378Z",
     "shell.execute_reply": "2023-12-16T21:53:45.273641Z"
    },
    "jupyter": {
     "outputs_hidden": false
    },
    "papermill": {
     "duration": 0.01999,
     "end_time": "2023-12-16T21:53:45.276656",
     "exception": false,
     "start_time": "2023-12-16T21:53:45.256666",
     "status": "completed"
    },
    "tags": []
   },
   "outputs": [],
   "source": [
    "def add_seconds_to_row_id(row_id, seconds):\n",
    "    row_split = row_id.split(\"_\")\n",
    "    return row_split[0] + '_' + str(int(row_split[1]) + 60) + '_' + row_split[2]"
   ]
  },
  {
   "cell_type": "code",
   "execution_count": 7,
   "id": "7d90dca0",
   "metadata": {
    "ExecuteTime": {
     "end_time": "2023-11-16T14:46:39.441882934Z",
     "start_time": "2023-11-16T14:46:38.934669661Z"
    },
    "execution": {
     "iopub.execute_input": "2023-12-16T21:53:45.299596Z",
     "iopub.status.busy": "2023-12-16T21:53:45.299172Z",
     "iopub.status.idle": "2023-12-16T21:55:43.249627Z",
     "shell.execute_reply": "2023-12-16T21:55:43.248526Z"
    },
    "papermill": {
     "duration": 117.965016,
     "end_time": "2023-12-16T21:55:43.252414",
     "exception": false,
     "start_time": "2023-12-16T21:53:45.287398",
     "status": "completed"
    },
    "tags": []
   },
   "outputs": [],
   "source": [
    "train_df_2 = train_df.copy()\n",
    "train_df_2['row_id_60_secs_to_future'] = train_df_2.apply(lambda row: \\\n",
    "          add_seconds_to_row_id(row.row_id, 60), axis=1)\n",
    "train_df_60_secs_to_future = train_df[[\"row_id\", \"wap\"]].copy()\n",
    "train_df_60_secs_to_future.columns = train_df_60_secs_to_future.columns.map(lambda col: \\\n",
    "                              col+'_60_secs_to_future')\n",
    "train_df_2 = pd.merge(train_df_2, train_df_60_secs_to_future, \\\n",
    "                            on=['row_id_60_secs_to_future'], how='left')\n",
    "train_df_2[\"index_diff\"]=(train_df_2[\"wap_60_secs_to_future\"]/train_df_2[\"wap\"])-train_df_2[\"target\"]/10000"
   ]
  },
  {
   "cell_type": "code",
   "execution_count": 8,
   "id": "79506d8e",
   "metadata": {
    "ExecuteTime": {
     "end_time": "2023-11-16T14:46:39.989298242Z",
     "start_time": "2023-11-16T14:46:39.441588572Z"
    },
    "execution": {
     "iopub.execute_input": "2023-12-16T21:55:43.275668Z",
     "iopub.status.busy": "2023-12-16T21:55:43.275210Z",
     "iopub.status.idle": "2023-12-16T21:55:46.997385Z",
     "shell.execute_reply": "2023-12-16T21:55:46.996408Z"
    },
    "papermill": {
     "duration": 3.736855,
     "end_time": "2023-12-16T21:55:47.000044",
     "exception": false,
     "start_time": "2023-12-16T21:55:43.263189",
     "status": "completed"
    },
    "tags": []
   },
   "outputs": [],
   "source": [
    "y = train_df_2.dropna()[['index_diff','wap_60_secs_to_future', 'target']]\n",
    "X = train_df_2.dropna().drop(['index_diff','target', 'row_id','far_price', 'near_price','row_id_60_secs_to_future', 'wap_60_secs_to_future','time_id'], axis = 1)\n",
    "X_train, X_test, y_train, y_test = train_test_split(X, y, test_size = 0.1,)\n",
    "y_train_index = y_train['index_diff']\n",
    "y_test_index = y_test['index_diff']\n",
    "y_train_wap = y_train['wap_60_secs_to_future']\n",
    "y_test_wap = y_test['wap_60_secs_to_future']"
   ]
  },
  {
   "cell_type": "code",
   "execution_count": 9,
   "id": "c572bcb9",
   "metadata": {
    "execution": {
     "iopub.execute_input": "2023-12-16T21:55:47.023034Z",
     "iopub.status.busy": "2023-12-16T21:55:47.022608Z",
     "iopub.status.idle": "2023-12-16T21:55:47.373731Z",
     "shell.execute_reply": "2023-12-16T21:55:47.372607Z"
    },
    "papermill": {
     "duration": 0.365907,
     "end_time": "2023-12-16T21:55:47.376565",
     "exception": false,
     "start_time": "2023-12-16T21:55:47.010658",
     "status": "completed"
    },
    "tags": []
   },
   "outputs": [],
   "source": [
    "X_cols = X.columns\n",
    "imputer = SimpleImputer(missing_values=np.nan, strategy='mean').fit(X_train[X_cols])"
   ]
  },
  {
   "cell_type": "markdown",
   "id": "86cf5ce6",
   "metadata": {
    "papermill": {
     "duration": 0.011821,
     "end_time": "2023-12-16T21:55:47.399145",
     "exception": false,
     "start_time": "2023-12-16T21:55:47.387324",
     "status": "completed"
    },
    "tags": []
   },
   "source": [
    "## Building model"
   ]
  },
  {
   "cell_type": "code",
   "execution_count": 10,
   "id": "3f93d529",
   "metadata": {
    "ExecuteTime": {
     "end_time": "2023-11-16T14:48:27.764724964Z",
     "start_time": "2023-11-16T14:48:27.716955177Z"
    },
    "execution": {
     "iopub.execute_input": "2023-12-16T21:55:47.423390Z",
     "iopub.status.busy": "2023-12-16T21:55:47.423008Z",
     "iopub.status.idle": "2023-12-16T21:55:47.428225Z",
     "shell.execute_reply": "2023-12-16T21:55:47.427050Z"
    },
    "papermill": {
     "duration": 0.020441,
     "end_time": "2023-12-16T21:55:47.430547",
     "exception": false,
     "start_time": "2023-12-16T21:55:47.410106",
     "status": "completed"
    },
    "tags": []
   },
   "outputs": [],
   "source": [
    "# Train the models\n",
    "model_index_diff = Ridge(alpha=0.375)\n",
    "model_wap_60_secs_to_future = LinearRegression()"
   ]
  },
  {
   "cell_type": "code",
   "execution_count": 11,
   "id": "aa886fcb",
   "metadata": {
    "ExecuteTime": {
     "end_time": "2023-11-16T14:48:49.671727177Z",
     "start_time": "2023-11-16T14:48:28.596287386Z"
    },
    "execution": {
     "iopub.execute_input": "2023-12-16T21:55:47.453916Z",
     "iopub.status.busy": "2023-12-16T21:55:47.453525Z",
     "iopub.status.idle": "2023-12-16T21:55:49.494187Z",
     "shell.execute_reply": "2023-12-16T21:55:49.493162Z"
    },
    "papermill": {
     "duration": 2.055085,
     "end_time": "2023-12-16T21:55:49.496744",
     "exception": false,
     "start_time": "2023-12-16T21:55:47.441659",
     "status": "completed"
    },
    "tags": []
   },
   "outputs": [
    {
     "name": "stderr",
     "output_type": "stream",
     "text": [
      "/opt/conda/lib/python3.10/site-packages/sklearn/linear_model/_ridge.py:216: LinAlgWarning: Ill-conditioned matrix (rcond=8.19549e-24): result may not be accurate.\n",
      "  return linalg.solve(A, Xy, assume_a=\"pos\", overwrite_a=True).T\n"
     ]
    },
    {
     "data": {
      "text/html": [
       "<style>#sk-container-id-1 {color: black;background-color: white;}#sk-container-id-1 pre{padding: 0;}#sk-container-id-1 div.sk-toggleable {background-color: white;}#sk-container-id-1 label.sk-toggleable__label {cursor: pointer;display: block;width: 100%;margin-bottom: 0;padding: 0.3em;box-sizing: border-box;text-align: center;}#sk-container-id-1 label.sk-toggleable__label-arrow:before {content: \"▸\";float: left;margin-right: 0.25em;color: #696969;}#sk-container-id-1 label.sk-toggleable__label-arrow:hover:before {color: black;}#sk-container-id-1 div.sk-estimator:hover label.sk-toggleable__label-arrow:before {color: black;}#sk-container-id-1 div.sk-toggleable__content {max-height: 0;max-width: 0;overflow: hidden;text-align: left;background-color: #f0f8ff;}#sk-container-id-1 div.sk-toggleable__content pre {margin: 0.2em;color: black;border-radius: 0.25em;background-color: #f0f8ff;}#sk-container-id-1 input.sk-toggleable__control:checked~div.sk-toggleable__content {max-height: 200px;max-width: 100%;overflow: auto;}#sk-container-id-1 input.sk-toggleable__control:checked~label.sk-toggleable__label-arrow:before {content: \"▾\";}#sk-container-id-1 div.sk-estimator input.sk-toggleable__control:checked~label.sk-toggleable__label {background-color: #d4ebff;}#sk-container-id-1 div.sk-label input.sk-toggleable__control:checked~label.sk-toggleable__label {background-color: #d4ebff;}#sk-container-id-1 input.sk-hidden--visually {border: 0;clip: rect(1px 1px 1px 1px);clip: rect(1px, 1px, 1px, 1px);height: 1px;margin: -1px;overflow: hidden;padding: 0;position: absolute;width: 1px;}#sk-container-id-1 div.sk-estimator {font-family: monospace;background-color: #f0f8ff;border: 1px dotted black;border-radius: 0.25em;box-sizing: border-box;margin-bottom: 0.5em;}#sk-container-id-1 div.sk-estimator:hover {background-color: #d4ebff;}#sk-container-id-1 div.sk-parallel-item::after {content: \"\";width: 100%;border-bottom: 1px solid gray;flex-grow: 1;}#sk-container-id-1 div.sk-label:hover label.sk-toggleable__label {background-color: #d4ebff;}#sk-container-id-1 div.sk-serial::before {content: \"\";position: absolute;border-left: 1px solid gray;box-sizing: border-box;top: 0;bottom: 0;left: 50%;z-index: 0;}#sk-container-id-1 div.sk-serial {display: flex;flex-direction: column;align-items: center;background-color: white;padding-right: 0.2em;padding-left: 0.2em;position: relative;}#sk-container-id-1 div.sk-item {position: relative;z-index: 1;}#sk-container-id-1 div.sk-parallel {display: flex;align-items: stretch;justify-content: center;background-color: white;position: relative;}#sk-container-id-1 div.sk-item::before, #sk-container-id-1 div.sk-parallel-item::before {content: \"\";position: absolute;border-left: 1px solid gray;box-sizing: border-box;top: 0;bottom: 0;left: 50%;z-index: -1;}#sk-container-id-1 div.sk-parallel-item {display: flex;flex-direction: column;z-index: 1;position: relative;background-color: white;}#sk-container-id-1 div.sk-parallel-item:first-child::after {align-self: flex-end;width: 50%;}#sk-container-id-1 div.sk-parallel-item:last-child::after {align-self: flex-start;width: 50%;}#sk-container-id-1 div.sk-parallel-item:only-child::after {width: 0;}#sk-container-id-1 div.sk-dashed-wrapped {border: 1px dashed gray;margin: 0 0.4em 0.5em 0.4em;box-sizing: border-box;padding-bottom: 0.4em;background-color: white;}#sk-container-id-1 div.sk-label label {font-family: monospace;font-weight: bold;display: inline-block;line-height: 1.2em;}#sk-container-id-1 div.sk-label-container {text-align: center;}#sk-container-id-1 div.sk-container {/* jupyter's `normalize.less` sets `[hidden] { display: none; }` but bootstrap.min.css set `[hidden] { display: none !important; }` so we also need the `!important` here to be able to override the default hidden behavior on the sphinx rendered scikit-learn.org. See: https://github.com/scikit-learn/scikit-learn/issues/21755 */display: inline-block !important;position: relative;}#sk-container-id-1 div.sk-text-repr-fallback {display: none;}</style><div id=\"sk-container-id-1\" class=\"sk-top-container\"><div class=\"sk-text-repr-fallback\"><pre>LinearRegression()</pre><b>In a Jupyter environment, please rerun this cell to show the HTML representation or trust the notebook. <br />On GitHub, the HTML representation is unable to render, please try loading this page with nbviewer.org.</b></div><div class=\"sk-container\" hidden><div class=\"sk-item\"><div class=\"sk-estimator sk-toggleable\"><input class=\"sk-toggleable__control sk-hidden--visually\" id=\"sk-estimator-id-1\" type=\"checkbox\" checked><label for=\"sk-estimator-id-1\" class=\"sk-toggleable__label sk-toggleable__label-arrow\">LinearRegression</label><div class=\"sk-toggleable__content\"><pre>LinearRegression()</pre></div></div></div></div></div>"
      ],
      "text/plain": [
       "LinearRegression()"
      ]
     },
     "execution_count": 11,
     "metadata": {},
     "output_type": "execute_result"
    }
   ],
   "source": [
    "model_index_diff.fit(X_train, y_train_index)\n",
    "model_wap_60_secs_to_future.fit(X_train, y_train_wap)"
   ]
  },
  {
   "cell_type": "code",
   "execution_count": 12,
   "id": "5931a223",
   "metadata": {
    "execution": {
     "iopub.execute_input": "2023-12-16T21:55:49.520732Z",
     "iopub.status.busy": "2023-12-16T21:55:49.520085Z",
     "iopub.status.idle": "2023-12-16T21:55:49.525771Z",
     "shell.execute_reply": "2023-12-16T21:55:49.524973Z"
    },
    "papermill": {
     "duration": 0.020242,
     "end_time": "2023-12-16T21:55:49.528077",
     "exception": false,
     "start_time": "2023-12-16T21:55:49.507835",
     "status": "completed"
    },
    "tags": []
   },
   "outputs": [],
   "source": [
    "def conj_model_predict(model_index, model_wap, X_test):\n",
    "    storage_df = pd.DataFrame()\n",
    "    storage_df[\"wap\"] = X_test[\"wap\"]\n",
    "    storage_df[\"index_diff\"] = model_index.predict(X_test)\n",
    "    storage_df[\"wap_60_secs_to_future\"] = model_wap.predict(X_test)\n",
    "    return (10000*(storage_df[\"wap_60_secs_to_future\"]/X_test[\"wap\"]-storage_df[\"index_diff\"])).to_numpy(dtype='float32')"
   ]
  },
  {
   "cell_type": "code",
   "execution_count": 13,
   "id": "63487947",
   "metadata": {
    "ExecuteTime": {
     "end_time": "2023-11-16T14:48:50.571465508Z",
     "start_time": "2023-11-16T14:48:49.667178028Z"
    },
    "execution": {
     "iopub.execute_input": "2023-12-16T21:55:49.551753Z",
     "iopub.status.busy": "2023-12-16T21:55:49.551296Z",
     "iopub.status.idle": "2023-12-16T21:55:49.603248Z",
     "shell.execute_reply": "2023-12-16T21:55:49.601889Z"
    },
    "papermill": {
     "duration": 0.068091,
     "end_time": "2023-12-16T21:55:49.607090",
     "exception": false,
     "start_time": "2023-12-16T21:55:49.538999",
     "status": "completed"
    },
    "tags": []
   },
   "outputs": [
    {
     "data": {
      "text/plain": [
       "array([ 0.08655965, -0.06191594, -0.44733703, ..., -0.28914472,\n",
       "       -0.21908912, -0.9072781 ], dtype=float32)"
      ]
     },
     "execution_count": 13,
     "metadata": {},
     "output_type": "execute_result"
    }
   ],
   "source": [
    "y_pred = conj_model_predict(model_index_diff, model_wap_60_secs_to_future, X_test)\n",
    "y_pred"
   ]
  },
  {
   "cell_type": "markdown",
   "id": "f748c755",
   "metadata": {
    "papermill": {
     "duration": 0.022995,
     "end_time": "2023-12-16T21:55:49.653647",
     "exception": false,
     "start_time": "2023-12-16T21:55:49.630652",
     "status": "completed"
    },
    "tags": []
   },
   "source": [
    "## Evaluation"
   ]
  },
  {
   "cell_type": "code",
   "execution_count": null,
   "id": "104f91bf",
   "metadata": {
    "ExecuteTime": {
     "end_time": "2023-11-16T14:48:50.630358573Z",
     "start_time": "2023-11-16T14:48:50.572363485Z"
    },
    "papermill": {
     "duration": 0.022803,
     "end_time": "2023-12-16T21:55:49.699283",
     "exception": false,
     "start_time": "2023-12-16T21:55:49.676480",
     "status": "completed"
    },
    "tags": []
   },
   "outputs": [],
   "source": []
  },
  {
   "cell_type": "code",
   "execution_count": 14,
   "id": "58763632",
   "metadata": {
    "ExecuteTime": {
     "end_time": "2023-11-16T14:48:50.630841571Z",
     "start_time": "2023-11-16T14:48:50.615069992Z"
    },
    "execution": {
     "iopub.execute_input": "2023-12-16T21:55:49.729172Z",
     "iopub.status.busy": "2023-12-16T21:55:49.728778Z",
     "iopub.status.idle": "2023-12-16T21:55:49.737289Z",
     "shell.execute_reply": "2023-12-16T21:55:49.736126Z"
    },
    "papermill": {
     "duration": 0.022795,
     "end_time": "2023-12-16T21:55:49.739288",
     "exception": false,
     "start_time": "2023-12-16T21:55:49.716493",
     "status": "completed"
    },
    "tags": []
   },
   "outputs": [
    {
     "name": "stdout",
     "output_type": "stream",
     "text": [
      "Mean Absolute Error: 5.5984524470947195\n"
     ]
    }
   ],
   "source": [
    "mae = mean_absolute_error(y_pred, y_test['target'])\n",
    "print(\"Mean Absolute Error: {}\".format(mae))"
   ]
  },
  {
   "cell_type": "markdown",
   "id": "ee25b9a8",
   "metadata": {
    "papermill": {
     "duration": 0.010563,
     "end_time": "2023-12-16T21:55:49.760792",
     "exception": false,
     "start_time": "2023-12-16T21:55:49.750229",
     "status": "completed"
    },
    "tags": []
   },
   "source": [
    "### Prediction on the real test data"
   ]
  },
  {
   "cell_type": "code",
   "execution_count": 15,
   "id": "0bcd3098",
   "metadata": {
    "execution": {
     "iopub.execute_input": "2023-12-16T21:55:49.785027Z",
     "iopub.status.busy": "2023-12-16T21:55:49.784204Z",
     "iopub.status.idle": "2023-12-16T21:55:49.813660Z",
     "shell.execute_reply": "2023-12-16T21:55:49.812205Z"
    },
    "papermill": {
     "duration": 0.045636,
     "end_time": "2023-12-16T21:55:49.817567",
     "exception": false,
     "start_time": "2023-12-16T21:55:49.771931",
     "status": "completed"
    },
    "tags": []
   },
   "outputs": [
    {
     "data": {
      "text/plain": [
       "array([-0.4166315,  1.3969814,  1.8239378, ...,  0.7689604,  0.530404 ,\n",
       "       -0.499064 ], dtype=float32)"
      ]
     },
     "execution_count": 15,
     "metadata": {},
     "output_type": "execute_result"
    }
   ],
   "source": [
    "\n",
    "test_preds = conj_model_predict(model_index_diff, model_wap_60_secs_to_future, test_df[X_cols])\n",
    "test_preds"
   ]
  },
  {
   "cell_type": "code",
   "execution_count": 16,
   "id": "c706f2ef",
   "metadata": {
    "execution": {
     "iopub.execute_input": "2023-12-16T21:55:49.866211Z",
     "iopub.status.busy": "2023-12-16T21:55:49.865487Z",
     "iopub.status.idle": "2023-12-16T21:55:49.872713Z",
     "shell.execute_reply": "2023-12-16T21:55:49.871250Z"
    },
    "papermill": {
     "duration": 0.03585,
     "end_time": "2023-12-16T21:55:49.876434",
     "exception": false,
     "start_time": "2023-12-16T21:55:49.840584",
     "status": "completed"
    },
    "tags": []
   },
   "outputs": [],
   "source": [
    "# pd.DataFrame({'row_id':sample_submission[\"row_id\"],'target':test_preds}).to_csv('submission.csv', index=False)"
   ]
  },
  {
   "cell_type": "code",
   "execution_count": 17,
   "id": "e4755231",
   "metadata": {
    "ExecuteTime": {
     "end_time": "2023-11-16T15:44:54.337897539Z",
     "start_time": "2023-11-16T15:44:54.272326454Z"
    },
    "execution": {
     "iopub.execute_input": "2023-12-16T21:55:49.924556Z",
     "iopub.status.busy": "2023-12-16T21:55:49.924167Z",
     "iopub.status.idle": "2023-12-16T21:55:50.264849Z",
     "shell.execute_reply": "2023-12-16T21:55:50.263651Z"
    },
    "papermill": {
     "duration": 0.367814,
     "end_time": "2023-12-16T21:55:50.267841",
     "exception": false,
     "start_time": "2023-12-16T21:55:49.900027",
     "status": "completed"
    },
    "tags": []
   },
   "outputs": [
    {
     "name": "stdout",
     "output_type": "stream",
     "text": [
      "This version of the API is not optimized and should not be used to estimate the runtime of your code on the hidden test set.\n"
     ]
    }
   ],
   "source": [
    "test, revealed_targets, test_preds = next(iter_test)"
   ]
  },
  {
   "cell_type": "code",
   "execution_count": 18,
   "id": "59e55328",
   "metadata": {
    "execution": {
     "iopub.execute_input": "2023-12-16T21:55:50.292238Z",
     "iopub.status.busy": "2023-12-16T21:55:50.291822Z",
     "iopub.status.idle": "2023-12-16T21:55:50.296978Z",
     "shell.execute_reply": "2023-12-16T21:55:50.295840Z"
    },
    "papermill": {
     "duration": 0.02003,
     "end_time": "2023-12-16T21:55:50.299195",
     "exception": false,
     "start_time": "2023-12-16T21:55:50.279165",
     "status": "completed"
    },
    "tags": []
   },
   "outputs": [],
   "source": [
    "env.predict(test_preds)"
   ]
  },
  {
   "cell_type": "code",
   "execution_count": 19,
   "id": "bd749f0c",
   "metadata": {
    "execution": {
     "iopub.execute_input": "2023-12-16T21:55:50.323304Z",
     "iopub.status.busy": "2023-12-16T21:55:50.322898Z",
     "iopub.status.idle": "2023-12-16T21:55:50.455914Z",
     "shell.execute_reply": "2023-12-16T21:55:50.454947Z"
    },
    "papermill": {
     "duration": 0.148304,
     "end_time": "2023-12-16T21:55:50.458648",
     "exception": false,
     "start_time": "2023-12-16T21:55:50.310344",
     "status": "completed"
    },
    "tags": []
   },
   "outputs": [],
   "source": [
    "revealed = pd.read_csv('/kaggle/input/optiver-trading-at-the-close/example_test_files/revealed_targets.csv')\n",
    "test = pd.read_csv('/kaggle/input/optiver-trading-at-the-close/example_test_files/test.csv')\n"
   ]
  },
  {
   "cell_type": "code",
   "execution_count": null,
   "id": "ef85d73b",
   "metadata": {
    "papermill": {
     "duration": 0.01091,
     "end_time": "2023-12-16T21:55:50.480934",
     "exception": false,
     "start_time": "2023-12-16T21:55:50.470024",
     "status": "completed"
    },
    "scrolled": true,
    "tags": []
   },
   "outputs": [],
   "source": []
  },
  {
   "cell_type": "code",
   "execution_count": 20,
   "id": "6e5da758",
   "metadata": {
    "execution": {
     "iopub.execute_input": "2023-12-16T21:55:50.506004Z",
     "iopub.status.busy": "2023-12-16T21:55:50.504660Z",
     "iopub.status.idle": "2023-12-16T21:55:52.526767Z",
     "shell.execute_reply": "2023-12-16T21:55:52.525792Z"
    },
    "papermill": {
     "duration": 2.03748,
     "end_time": "2023-12-16T21:55:52.529512",
     "exception": false,
     "start_time": "2023-12-16T21:55:50.492032",
     "status": "completed"
    },
    "tags": []
   },
   "outputs": [
    {
     "name": "stdout",
     "output_type": "stream",
     "text": [
      "   stock_id  date_id  seconds_in_bucket  imbalance_size  \\\n",
      "0         0      478                 10      3771174.79   \n",
      "1         1      478                 10       967084.13   \n",
      "2         2      478                 10       712904.65   \n",
      "\n",
      "   imbalance_buy_sell_flag  reference_price  matched_size  far_price  \\\n",
      "0                       -1         1.000050   11550982.93        NaN   \n",
      "1                       -1         0.999991    3868926.94        NaN   \n",
      "2                        1         1.000482    4245422.33        NaN   \n",
      "\n",
      "   near_price  bid_price  bid_size  ask_price  ask_size       wap    row_id  \\\n",
      "0         NaN   1.000050  17208.00   1.000224  21456.38  1.000127  478_10_0   \n",
      "1         NaN   0.999940   1967.90   1.000346  20671.35  0.999975  478_10_1   \n",
      "2         NaN   1.000123  14833.68   1.000636  54092.56  1.000234  478_10_2   \n",
      "\n",
      "   currently_scored  \n",
      "0             False  \n",
      "1             False  \n",
      "2             False  \n",
      "  stock_id  date_id  seconds_in_bucket revealed_target revealed_date_id  \\\n",
      "0     <NA>    478.0               10.0            <NA>             <NA>   \n",
      "\n",
      "  revealed_time_id  \n",
      "0             <NA>  \n",
      "     row_id  target\n",
      "0  478_10_0     0.0\n",
      "1  478_10_1     0.0\n",
      "2  478_10_2     0.0\n"
     ]
    }
   ],
   "source": [
    "counter = 0\n",
    "for (test, revealed_targets, sample_prediction) in iter_test:\n",
    "    if counter == 0:\n",
    "        print(test.head(3))\n",
    "        print(revealed_targets.head(3))\n",
    "        print(sample_prediction.head(3))\n",
    "    test_df_2=pd.DataFrame(imputer.transform(test[X_cols]))\n",
    "    test_df_2.columns=test[X_cols].columns\n",
    "    test_df_2.index=test[X_cols].index\n",
    "    sample_prediction['target'] = conj_model_predict(model_index_diff, model_wap_60_secs_to_future, test_df_2[X_cols])\n",
    "    env.predict(sample_prediction)\n",
    "    counter += 1"
   ]
  },
  {
   "cell_type": "code",
   "execution_count": null,
   "id": "ee1ea2d0",
   "metadata": {
    "papermill": {
     "duration": 0.010908,
     "end_time": "2023-12-16T21:55:52.551813",
     "exception": false,
     "start_time": "2023-12-16T21:55:52.540905",
     "status": "completed"
    },
    "tags": []
   },
   "outputs": [],
   "source": []
  },
  {
   "cell_type": "code",
   "execution_count": null,
   "id": "385f9d53",
   "metadata": {
    "papermill": {
     "duration": 0.010787,
     "end_time": "2023-12-16T21:55:52.573865",
     "exception": false,
     "start_time": "2023-12-16T21:55:52.563078",
     "status": "completed"
    },
    "tags": []
   },
   "outputs": [],
   "source": []
  }
 ],
 "metadata": {
  "kaggle": {
   "accelerator": "none",
   "dataSources": [
    {
     "databundleVersionId": 7056235,
     "sourceId": 57891,
     "sourceType": "competition"
    }
   ],
   "dockerImageVersionId": 30587,
   "isGpuEnabled": false,
   "isInternetEnabled": false,
   "language": "python",
   "sourceType": "notebook"
  },
  "kernelspec": {
   "display_name": "Python 3",
   "language": "python",
   "name": "python3"
  },
  "language_info": {
   "codemirror_mode": {
    "name": "ipython",
    "version": 3
   },
   "file_extension": ".py",
   "mimetype": "text/x-python",
   "name": "python",
   "nbconvert_exporter": "python",
   "pygments_lexer": "ipython3",
   "version": "3.10.12"
  },
  "papermill": {
   "default_parameters": {},
   "duration": 156.623008,
   "end_time": "2023-12-16T21:55:53.808816",
   "environment_variables": {},
   "exception": null,
   "input_path": "__notebook__.ipynb",
   "output_path": "__notebook__.ipynb",
   "parameters": {},
   "start_time": "2023-12-16T21:53:17.185808",
   "version": "2.4.0"
  }
 },
 "nbformat": 4,
 "nbformat_minor": 5
}
