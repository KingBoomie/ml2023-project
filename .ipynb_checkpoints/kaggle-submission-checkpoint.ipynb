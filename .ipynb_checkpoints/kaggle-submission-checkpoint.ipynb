{
 "cells": [
  {
   "cell_type": "code",
   "execution_count": 1,
   "id": "a53b6aab",
   "metadata": {
    "_cell_guid": "b1076dfc-b9ad-4769-8c92-a6c4dae69d19",
    "_uuid": "8f2839f25d086af736a60e9eeb907d3b93b6e0e5",
    "execution": {
     "iopub.execute_input": "2023-11-16T15:56:45.592506Z",
     "iopub.status.busy": "2023-11-16T15:56:45.592057Z",
     "iopub.status.idle": "2023-11-16T15:56:46.022073Z",
     "shell.execute_reply": "2023-11-16T15:56:46.020674Z"
    },
    "papermill": {
     "duration": 0.437516,
     "end_time": "2023-11-16T15:56:46.024714",
     "exception": false,
     "start_time": "2023-11-16T15:56:45.587198",
     "status": "completed"
    },
    "tags": []
   },
   "outputs": [
    {
     "name": "stdout",
     "output_type": "stream",
     "text": [
      "/kaggle/input/optiver-trading-at-the-close/public_timeseries_testing_util.py\n",
      "/kaggle/input/optiver-trading-at-the-close/train.csv\n",
      "/kaggle/input/optiver-trading-at-the-close/example_test_files/sample_submission.csv\n",
      "/kaggle/input/optiver-trading-at-the-close/example_test_files/revealed_targets.csv\n",
      "/kaggle/input/optiver-trading-at-the-close/example_test_files/test.csv\n",
      "/kaggle/input/optiver-trading-at-the-close/optiver2023/competition.cpython-310-x86_64-linux-gnu.so\n",
      "/kaggle/input/optiver-trading-at-the-close/optiver2023/__init__.py\n"
     ]
    }
   ],
   "source": [
    "# This Python 3 environment comes with many helpful analytics libraries installed\n",
    "# It is defined by the kaggle/python Docker image: https://github.com/kaggle/docker-python\n",
    "# For example, here's several helpful packages to load\n",
    "\n",
    "import numpy as np # linear algebra\n",
    "import pandas as pd # data processing, CSV file I/O (e.g. pd.read_csv)\n",
    "\n",
    "# Input data files are available in the read-only \"../input/\" directory\n",
    "# For example, running this (by clicking run or pressing Shift+Enter) will list all files under the input directory\n",
    "\n",
    "import os\n",
    "for dirname, _, filenames in os.walk('/kaggle/input'):\n",
    "    for filename in filenames:\n",
    "        print(os.path.join(dirname, filename))\n",
    "\n",
    "# You can write up to 20GB to the current directory (/kaggle/working/) that gets preserved as output when you create a version using \"Save & Run All\" \n",
    "# You can also write temporary files to /kaggle/temp/, but they won't be saved outside of the current session"
   ]
  },
  {
   "cell_type": "code",
   "execution_count": 1,
   "id": "cf3062b3cc5711f1",
   "metadata": {
    "ExecuteTime": {
     "end_time": "2023-11-16T16:00:29.496150424Z",
     "start_time": "2023-11-16T16:00:28.962765124Z"
    },
    "jupyter": {
     "outputs_hidden": false
    }
   },
   "outputs": [],
   "source": [
    "# Deps\n",
    "import warnings\n",
    "warnings.simplefilter(action='ignore', category=FutureWarning)\n",
    "\n",
    "\n",
    "import pandas as pd\n",
    "import xgboost as xgb\n",
    "import numpy as np\n",
    "from sklearn.model_selection import train_test_split\n",
    "from sklearn.metrics import mean_squared_error, mean_absolute_error\n",
    "from sklearn.impute import SimpleImputer\n"
   ]
  },
  {
   "cell_type": "code",
   "execution_count": 2,
   "id": "194c0021",
   "metadata": {
    "execution": {
     "iopub.execute_input": "2023-11-16T15:56:46.034037Z",
     "iopub.status.busy": "2023-11-16T15:56:46.033485Z",
     "iopub.status.idle": "2023-11-16T15:56:46.054231Z",
     "shell.execute_reply": "2023-11-16T15:56:46.052993Z"
    },
    "papermill": {
     "duration": 0.029273,
     "end_time": "2023-11-16T15:56:46.056942",
     "exception": false,
     "start_time": "2023-11-16T15:56:46.027669",
     "status": "completed"
    },
    "tags": []
   },
   "outputs": [],
   "source": [
    "import optiver2023\n",
    "env = optiver2023.make_env()\n",
    "iter_test = env.iter_test()\n"
   ]
  },
  {
   "cell_type": "code",
   "execution_count": 3,
   "id": "50411e74",
   "metadata": {
    "execution": {
     "iopub.execute_input": "2023-11-16T15:56:46.064019Z",
     "iopub.status.busy": "2023-11-16T15:56:46.063623Z",
     "iopub.status.idle": "2023-11-16T15:56:47.080110Z",
     "shell.execute_reply": "2023-11-16T15:56:47.078864Z"
    },
    "papermill": {
     "duration": 1.022923,
     "end_time": "2023-11-16T15:56:47.082607",
     "exception": false,
     "start_time": "2023-11-16T15:56:46.059684",
     "status": "completed"
    },
    "scrolled": true,
    "tags": []
   },
   "outputs": [
    {
     "name": "stdout",
     "output_type": "stream",
     "text": [
      "This version of the API is not optimized and should not be used to estimate the runtime of your code on the hidden test set.\n",
      "(200, 16) (11000, 6) (200, 2)\n",
      "   stock_id  date_id  seconds_in_bucket  imbalance_size  \\\n",
      "0         0      478                  0      3753451.43   \n",
      "1         1      478                  0       985977.11   \n",
      "2         2      478                  0       599128.74   \n",
      "\n",
      "   imbalance_buy_sell_flag  reference_price  matched_size  far_price  \\\n",
      "0                       -1         0.999875   11548975.43        NaN   \n",
      "1                       -1         1.000245    3850033.97        NaN   \n",
      "2                        1         1.000584    4359198.25        NaN   \n",
      "\n",
      "   near_price  bid_price  bid_size  ask_price  ask_size  wap   row_id  \\\n",
      "0         NaN   0.999875  22940.00   1.000050   9177.60  1.0  478_0_0   \n",
      "1         NaN   0.999940   1967.90   1.000601  19692.00  1.0  478_0_1   \n",
      "2         NaN   0.999918   4488.22   1.000636  34955.12  1.0  478_0_2   \n",
      "\n",
      "   currently_scored  \n",
      "0             False  \n",
      "1             False  \n",
      "2             False  \n",
      "   stock_id  date_id  seconds_in_bucket  revealed_target  revealed_date_id  \\\n",
      "0         0      478                  0        -2.310276               477   \n",
      "1         1      478                  0       -12.850165               477   \n",
      "2         2      478                  0        -0.439882               477   \n",
      "\n",
      "   revealed_time_id  \n",
      "0             26235  \n",
      "1             26235  \n",
      "2             26235  \n",
      "    row_id  target\n",
      "0  478_0_0     0.0\n",
      "1  478_0_1     0.0\n",
      "2  478_0_2     0.0\n",
      "(200, 16) (1, 6) (200, 2)\n",
      "(200, 16) (1, 6) (200, 2)\n",
      "(200, 16) (1, 6) (200, 2)\n",
      "(200, 16) (1, 6) (200, 2)\n",
      "(200, 16) (1, 6) (200, 2)\n",
      "(200, 16) (1, 6) (200, 2)\n",
      "(200, 16) (1, 6) (200, 2)\n",
      "(200, 16) (1, 6) (200, 2)\n",
      "(200, 16) (1, 6) (200, 2)\n",
      "(200, 16) (1, 6) (200, 2)\n",
      "(200, 16) (1, 6) (200, 2)\n",
      "(200, 16) (1, 6) (200, 2)\n",
      "(200, 16) (1, 6) (200, 2)\n",
      "(200, 16) (1, 6) (200, 2)\n",
      "(200, 16) (1, 6) (200, 2)\n",
      "(200, 16) (1, 6) (200, 2)\n",
      "(200, 16) (1, 6) (200, 2)\n",
      "(200, 16) (1, 6) (200, 2)\n",
      "(200, 16) (1, 6) (200, 2)\n",
      "(200, 16) (1, 6) (200, 2)\n",
      "   stock_id  date_id  seconds_in_bucket  imbalance_size  \\\n",
      "0         0      478                200      8074566.50   \n",
      "1         1      478                200      1490380.17   \n",
      "2         2      478                200            0.00   \n",
      "\n",
      "   imbalance_buy_sell_flag  reference_price  matched_size  far_price  \\\n",
      "0                       -1         1.001096   11816431.79        NaN   \n",
      "1                       -1         1.002887    4156454.40        NaN   \n",
      "2                        0         1.002532    5132991.55        NaN   \n",
      "\n",
      "   near_price  bid_price  bid_size  ask_price  ask_size       wap     row_id  \\\n",
      "0         NaN   1.001096  12574.98   1.001270  29748.74  1.001148  478_200_0   \n",
      "1         NaN   1.002633  97476.08   1.003040    789.60  1.003036  478_200_1   \n",
      "2         NaN   1.002070   7822.40   1.002583  12522.24  1.002268  478_200_2   \n",
      "\n",
      "   currently_scored  \n",
      "0             False  \n",
      "1             False  \n",
      "2             False  \n",
      "  stock_id  date_id  seconds_in_bucket revealed_target revealed_date_id  \\\n",
      "0     <NA>    478.0              200.0            <NA>             <NA>   \n",
      "\n",
      "  revealed_time_id  \n",
      "0             <NA>  \n",
      "      row_id  target\n",
      "0  478_200_0     0.0\n",
      "1  478_200_1     0.0\n",
      "2  478_200_2     0.0\n",
      "(200, 16) (1, 6) (200, 2)\n",
      "(200, 16) (1, 6) (200, 2)\n",
      "(200, 16) (1, 6) (200, 2)\n",
      "(200, 16) (1, 6) (200, 2)\n",
      "(200, 16) (1, 6) (200, 2)\n",
      "(200, 16) (1, 6) (200, 2)\n",
      "(200, 16) (1, 6) (200, 2)\n",
      "(200, 16) (1, 6) (200, 2)\n",
      "(200, 16) (1, 6) (200, 2)\n",
      "(200, 16) (1, 6) (200, 2)\n",
      "(200, 16) (1, 6) (200, 2)\n",
      "(200, 16) (1, 6) (200, 2)\n",
      "(200, 16) (1, 6) (200, 2)\n",
      "(200, 16) (1, 6) (200, 2)\n",
      "(200, 16) (1, 6) (200, 2)\n",
      "(200, 16) (1, 6) (200, 2)\n",
      "(200, 16) (1, 6) (200, 2)\n",
      "(200, 16) (1, 6) (200, 2)\n",
      "(200, 16) (1, 6) (200, 2)\n",
      "(200, 16) (1, 6) (200, 2)\n",
      "   stock_id  date_id  seconds_in_bucket  imbalance_size  \\\n",
      "0         0      478                400      1401865.93   \n",
      "1         1      478                400      2091412.92   \n",
      "2         2      478                400       602836.70   \n",
      "\n",
      "   imbalance_buy_sell_flag  reference_price  matched_size  far_price  \\\n",
      "0                       -1         1.000747   27101536.79   0.991681   \n",
      "1                       -1         1.001363    9965453.67        NaN   \n",
      "2                       -1         1.001917   10362975.60   0.981164   \n",
      "\n",
      "   near_price  bid_price  bid_size  ask_price  ask_size       wap     row_id  \\\n",
      "0    0.996912   1.000747  75366.20   1.000922  94669.09  1.000824  478_400_0   \n",
      "1    0.990845   1.001363  56756.16   1.001972  35691.39  1.001737  478_400_1   \n",
      "2    0.995255   1.001814  40470.57   1.002122  25619.67  1.002003  478_400_2   \n",
      "\n",
      "   currently_scored  \n",
      "0             False  \n",
      "1             False  \n",
      "2             False  \n",
      "  stock_id  date_id  seconds_in_bucket revealed_target revealed_date_id  \\\n",
      "0     <NA>    478.0              400.0            <NA>             <NA>   \n",
      "\n",
      "  revealed_time_id  \n",
      "0             <NA>  \n",
      "      row_id  target\n",
      "0  478_400_0     0.0\n",
      "1  478_400_1     0.0\n",
      "2  478_400_2     0.0\n",
      "(200, 16) (1, 6) (200, 2)\n",
      "(200, 16) (1, 6) (200, 2)\n",
      "(200, 16) (1, 6) (200, 2)\n",
      "(200, 16) (1, 6) (200, 2)\n",
      "(200, 16) (1, 6) (200, 2)\n",
      "(200, 16) (1, 6) (200, 2)\n",
      "(200, 16) (1, 6) (200, 2)\n",
      "(200, 16) (1, 6) (200, 2)\n",
      "(200, 16) (1, 6) (200, 2)\n",
      "(200, 16) (1, 6) (200, 2)\n",
      "(200, 16) (1, 6) (200, 2)\n",
      "(200, 16) (1, 6) (200, 2)\n",
      "(200, 16) (1, 6) (200, 2)\n",
      "(200, 16) (1, 6) (200, 2)\n",
      "(200, 16) (11000, 6) (200, 2)\n",
      "(200, 16) (1, 6) (200, 2)\n",
      "(200, 16) (1, 6) (200, 2)\n",
      "(200, 16) (1, 6) (200, 2)\n",
      "(200, 16) (1, 6) (200, 2)\n",
      "(200, 16) (1, 6) (200, 2)\n",
      "   stock_id  date_id  seconds_in_bucket  imbalance_size  \\\n",
      "0         0      479                 50      5438165.34   \n",
      "1         1      479                 50        47786.63   \n",
      "2         2      479                 50      5156282.45   \n",
      "\n",
      "   imbalance_buy_sell_flag  reference_price  matched_size  far_price  \\\n",
      "0                        1         1.000607   28424985.15        NaN   \n",
      "1                       -1         0.999730    5572362.98        NaN   \n",
      "2                       -1         1.000549   10118507.07        NaN   \n",
      "\n",
      "   near_price  bid_price   bid_size  ask_price   ask_size       wap    row_id  \\\n",
      "0         NaN   1.000433  140800.38   1.000607  195382.25  1.000506  479_50_0   \n",
      "1         NaN   0.999382   26888.44   1.000079    2008.00  1.000030  479_50_1   \n",
      "2         NaN   1.000549   17757.74   1.001164   21869.12  1.000824  479_50_2   \n",
      "\n",
      "   currently_scored  \n",
      "0             False  \n",
      "1             False  \n",
      "2             False  \n",
      "  stock_id  date_id  seconds_in_bucket revealed_target revealed_date_id  \\\n",
      "0     <NA>    479.0               50.0            <NA>             <NA>   \n",
      "\n",
      "  revealed_time_id  \n",
      "0             <NA>  \n",
      "     row_id  target\n",
      "0  479_50_0     0.0\n",
      "1  479_50_1     0.0\n",
      "2  479_50_2     0.0\n",
      "(200, 16) (1, 6) (200, 2)\n",
      "(200, 16) (1, 6) (200, 2)\n",
      "(200, 16) (1, 6) (200, 2)\n",
      "(200, 16) (1, 6) (200, 2)\n",
      "(200, 16) (1, 6) (200, 2)\n",
      "(200, 16) (1, 6) (200, 2)\n",
      "(200, 16) (1, 6) (200, 2)\n",
      "(200, 16) (1, 6) (200, 2)\n",
      "(200, 16) (1, 6) (200, 2)\n",
      "(200, 16) (1, 6) (200, 2)\n",
      "(200, 16) (1, 6) (200, 2)\n",
      "(200, 16) (1, 6) (200, 2)\n",
      "(200, 16) (1, 6) (200, 2)\n",
      "(200, 16) (1, 6) (200, 2)\n",
      "(200, 16) (1, 6) (200, 2)\n",
      "(200, 16) (1, 6) (200, 2)\n",
      "(200, 16) (1, 6) (200, 2)\n",
      "(200, 16) (1, 6) (200, 2)\n",
      "(200, 16) (1, 6) (200, 2)\n",
      "(200, 16) (1, 6) (200, 2)\n",
      "   stock_id  date_id  seconds_in_bucket  imbalance_size  \\\n",
      "0         0      479                250      3904295.81   \n",
      "1         1      479                250            0.00   \n",
      "2         2      479                250      5309773.42   \n",
      "\n",
      "   imbalance_buy_sell_flag  reference_price  matched_size  far_price  \\\n",
      "0                        1         0.999390   32510741.02        NaN   \n",
      "1                        0         1.000079    6463242.32        NaN   \n",
      "2                       -1         1.002036   10930624.48        NaN   \n",
      "\n",
      "   near_price  bid_price  bid_size  ask_price  ask_size       wap     row_id  \\\n",
      "0         NaN   0.999216  44826.60   0.999390  53054.04  0.999296  479_250_0   \n",
      "1         NaN   0.999830   1806.75   1.000129  33334.46  0.999845  479_250_1   \n",
      "2         NaN   1.001882   6448.20   1.002753  27575.37  1.002047  479_250_2   \n",
      "\n",
      "   currently_scored  \n",
      "0             False  \n",
      "1             False  \n",
      "2             False  \n",
      "  stock_id  date_id  seconds_in_bucket revealed_target revealed_date_id  \\\n",
      "0     <NA>    479.0              250.0            <NA>             <NA>   \n",
      "\n",
      "  revealed_time_id  \n",
      "0             <NA>  \n",
      "      row_id  target\n",
      "0  479_250_0     0.0\n",
      "1  479_250_1     0.0\n",
      "2  479_250_2     0.0\n",
      "(200, 16) (1, 6) (200, 2)\n",
      "(200, 16) (1, 6) (200, 2)\n",
      "(200, 16) (1, 6) (200, 2)\n",
      "(200, 16) (1, 6) (200, 2)\n",
      "(200, 16) (1, 6) (200, 2)\n",
      "(200, 16) (1, 6) (200, 2)\n",
      "(200, 16) (1, 6) (200, 2)\n",
      "(200, 16) (1, 6) (200, 2)\n",
      "(200, 16) (1, 6) (200, 2)\n",
      "(200, 16) (1, 6) (200, 2)\n",
      "(200, 16) (1, 6) (200, 2)\n",
      "(200, 16) (1, 6) (200, 2)\n",
      "(200, 16) (1, 6) (200, 2)\n",
      "(200, 16) (1, 6) (200, 2)\n",
      "(200, 16) (1, 6) (200, 2)\n",
      "(200, 16) (1, 6) (200, 2)\n",
      "(200, 16) (1, 6) (200, 2)\n",
      "(200, 16) (1, 6) (200, 2)\n",
      "(200, 16) (1, 6) (200, 2)\n",
      "(200, 16) (1, 6) (200, 2)\n",
      "   stock_id  date_id  seconds_in_bucket  imbalance_size  \\\n",
      "0         0      479                450            0.00   \n",
      "1         1      479                450            0.00   \n",
      "2         2      479                450      1180924.82   \n",
      "\n",
      "   imbalance_buy_sell_flag  reference_price  matched_size  far_price  \\\n",
      "0                        0         0.998347   53612504.27   0.998347   \n",
      "1                        0         0.998286    8802980.22   0.998286   \n",
      "2                       -1         1.001625   25223032.79   0.993268   \n",
      "\n",
      "   near_price  bid_price   bid_size  ask_price   ask_size       wap  \\\n",
      "0    0.998347   0.998173  181071.14   0.998347  136774.44  0.998272   \n",
      "1    0.998286   0.998037    1001.95   0.998585   86415.50  0.998043   \n",
      "2    0.995985   1.001625   27153.65   1.002087    1368.08  1.002065   \n",
      "\n",
      "      row_id  currently_scored  \n",
      "0  479_450_0             False  \n",
      "1  479_450_1             False  \n",
      "2  479_450_2             False  \n",
      "  stock_id  date_id  seconds_in_bucket revealed_target revealed_date_id  \\\n",
      "0     <NA>    479.0              450.0            <NA>             <NA>   \n",
      "\n",
      "  revealed_time_id  \n",
      "0             <NA>  \n",
      "      row_id  target\n",
      "0  479_450_0     0.0\n",
      "1  479_450_1     0.0\n",
      "2  479_450_2     0.0\n",
      "(200, 16) (1, 6) (200, 2)\n",
      "(200, 16) (1, 6) (200, 2)\n",
      "(200, 16) (1, 6) (200, 2)\n",
      "(200, 16) (1, 6) (200, 2)\n",
      "(200, 16) (1, 6) (200, 2)\n",
      "(200, 16) (1, 6) (200, 2)\n",
      "(200, 16) (1, 6) (200, 2)\n",
      "(200, 16) (1, 6) (200, 2)\n",
      "(200, 16) (1, 6) (200, 2)\n",
      "(200, 16) (11000, 6) (200, 2)\n",
      "(200, 16) (1, 6) (200, 2)\n",
      "(200, 16) (1, 6) (200, 2)\n",
      "(200, 16) (1, 6) (200, 2)\n",
      "(200, 16) (1, 6) (200, 2)\n",
      "(200, 16) (1, 6) (200, 2)\n",
      "(200, 16) (1, 6) (200, 2)\n",
      "(200, 16) (1, 6) (200, 2)\n",
      "(200, 16) (1, 6) (200, 2)\n",
      "(200, 16) (1, 6) (200, 2)\n",
      "(200, 16) (1, 6) (200, 2)\n",
      "   stock_id  date_id  seconds_in_bucket  imbalance_size  \\\n",
      "0         0      480                100      2384695.47   \n",
      "1         1      480                100            0.00   \n",
      "2         2      480                100      2951630.45   \n",
      "\n",
      "   imbalance_buy_sell_flag  reference_price  matched_size  far_price  \\\n",
      "0                       -1         1.000245   24209405.55        NaN   \n",
      "1                        0         0.999492    1465234.23        NaN   \n",
      "2                       -1         0.999483    3223452.85        NaN   \n",
      "\n",
      "   near_price  bid_price  bid_size  ask_price  ask_size       wap     row_id  \\\n",
      "0         NaN   0.999368   79772.0   0.999543  17609.91  0.999512  480_100_0   \n",
      "1         NaN   0.999492   16698.0   1.000019  92646.80  0.999573  480_100_1   \n",
      "2         NaN   0.999380    5623.1   0.999741  50044.26  0.999417  480_100_2   \n",
      "\n",
      "   currently_scored  \n",
      "0             False  \n",
      "1             False  \n",
      "2             False  \n",
      "  stock_id  date_id  seconds_in_bucket revealed_target revealed_date_id  \\\n",
      "0     <NA>    480.0              100.0            <NA>             <NA>   \n",
      "\n",
      "  revealed_time_id  \n",
      "0             <NA>  \n",
      "      row_id  target\n",
      "0  480_100_0     0.0\n",
      "1  480_100_1     0.0\n",
      "2  480_100_2     0.0\n",
      "(200, 16) (1, 6) (200, 2)\n",
      "(200, 16) (1, 6) (200, 2)\n",
      "(200, 16) (1, 6) (200, 2)\n",
      "(200, 16) (1, 6) (200, 2)\n",
      "(200, 16) (1, 6) (200, 2)\n",
      "(200, 16) (1, 6) (200, 2)\n",
      "(200, 16) (1, 6) (200, 2)\n",
      "(200, 16) (1, 6) (200, 2)\n",
      "(200, 16) (1, 6) (200, 2)\n",
      "(200, 16) (1, 6) (200, 2)\n",
      "(200, 16) (1, 6) (200, 2)\n",
      "(200, 16) (1, 6) (200, 2)\n",
      "(200, 16) (1, 6) (200, 2)\n",
      "(200, 16) (1, 6) (200, 2)\n",
      "(200, 16) (1, 6) (200, 2)\n",
      "(200, 16) (1, 6) (200, 2)\n",
      "(200, 16) (1, 6) (200, 2)\n",
      "(200, 16) (1, 6) (200, 2)\n",
      "(200, 16) (1, 6) (200, 2)\n",
      "(200, 16) (1, 6) (200, 2)\n",
      "   stock_id  date_id  seconds_in_bucket  imbalance_size  \\\n",
      "0         0      480                300      5196897.12   \n",
      "1         1      480                300      1948772.92   \n",
      "2         2      480                300      1569818.05   \n",
      "\n",
      "   imbalance_buy_sell_flag  reference_price  matched_size  far_price  \\\n",
      "0                       -1         0.998667   36965031.84   0.986389   \n",
      "1                       -1         0.998702    5813475.35   0.950242   \n",
      "2                       -1         0.998916    9695775.21   0.961497   \n",
      "\n",
      "   near_price  bid_price  bid_size  ask_price   ask_size       wap     row_id  \\\n",
      "0    0.986389   0.998140  23333.10   0.998491  139079.99  0.998191  480_300_0   \n",
      "1    0.978791   0.998228    189.51   0.999387   21249.76  0.998238  480_300_1   \n",
      "2    0.983042   0.998607   1937.50   0.999225    3295.79  0.998836  480_300_2   \n",
      "\n",
      "   currently_scored  \n",
      "0             False  \n",
      "1             False  \n",
      "2             False  \n",
      "  stock_id  date_id  seconds_in_bucket revealed_target revealed_date_id  \\\n",
      "0     <NA>    480.0              300.0            <NA>             <NA>   \n",
      "\n",
      "  revealed_time_id  \n",
      "0             <NA>  \n",
      "      row_id  target\n",
      "0  480_300_0     0.0\n",
      "1  480_300_1     0.0\n",
      "2  480_300_2     0.0\n",
      "(200, 16) (1, 6) (200, 2)\n",
      "(200, 16) (1, 6) (200, 2)\n",
      "(200, 16) (1, 6) (200, 2)\n",
      "(200, 16) (1, 6) (200, 2)\n",
      "(200, 16) (1, 6) (200, 2)\n",
      "(200, 16) (1, 6) (200, 2)\n",
      "(200, 16) (1, 6) (200, 2)\n",
      "(200, 16) (1, 6) (200, 2)\n",
      "(200, 16) (1, 6) (200, 2)\n",
      "(200, 16) (1, 6) (200, 2)\n",
      "(200, 16) (1, 6) (200, 2)\n",
      "(200, 16) (1, 6) (200, 2)\n",
      "(200, 16) (1, 6) (200, 2)\n",
      "(200, 16) (1, 6) (200, 2)\n",
      "(200, 16) (1, 6) (200, 2)\n",
      "(200, 16) (1, 6) (200, 2)\n",
      "(200, 16) (1, 6) (200, 2)\n",
      "(200, 16) (1, 6) (200, 2)\n",
      "(200, 16) (1, 6) (200, 2)\n",
      "(200, 16) (1, 6) (200, 2)\n",
      "   stock_id  date_id  seconds_in_bucket  imbalance_size  \\\n",
      "0         0      480                500            0.00   \n",
      "1         1      480                500        88468.41   \n",
      "2         2      480                500       376011.29   \n",
      "\n",
      "   imbalance_buy_sell_flag  reference_price  matched_size  far_price  \\\n",
      "0                        0         0.999017   42161928.97   0.999017   \n",
      "1                       -1         0.996648    7635810.59   0.996121   \n",
      "2                       -1         0.998607   10889581.97   0.998040   \n",
      "\n",
      "   near_price  bid_price   bid_size  ask_price   ask_size       wap  \\\n",
      "0    0.999017   0.999017   53827.20   0.999193  146071.08  0.999065   \n",
      "1    0.996437   0.996437  176306.44   0.996859   64345.00  0.996746   \n",
      "2    0.998195   0.998555   23248.80   0.998865  190117.80  0.998589   \n",
      "\n",
      "      row_id  currently_scored  \n",
      "0  480_500_0             False  \n",
      "1  480_500_1             False  \n",
      "2  480_500_2             False  \n",
      "  stock_id  date_id  seconds_in_bucket revealed_target revealed_date_id  \\\n",
      "0     <NA>    480.0              500.0            <NA>             <NA>   \n",
      "\n",
      "  revealed_time_id  \n",
      "0             <NA>  \n",
      "      row_id  target\n",
      "0  480_500_0     0.0\n",
      "1  480_500_1     0.0\n",
      "2  480_500_2     0.0\n",
      "(200, 16) (1, 6) (200, 2)\n",
      "(200, 16) (1, 6) (200, 2)\n",
      "(200, 16) (1, 6) (200, 2)\n",
      "(200, 16) (1, 6) (200, 2)\n"
     ]
    }
   ],
   "source": [
    "counter = 0\n",
    "for (test, revealed_targets, sample_prediction) in iter_test:\n",
    "    print(test.shape, revealed_targets.shape, sample_prediction.shape)\n",
    "    if counter % 20 == 0:\n",
    "        print(test.head(3))\n",
    "        print(revealed_targets.head(3))\n",
    "        print(sample_prediction.head(3))\n",
    "    sample_prediction['target'] = 0\n",
    "    env.predict(sample_prediction)\n",
    "    counter += 1"
   ]
  },
  {
   "cell_type": "code",
   "execution_count": null,
   "id": "220c10fa",
   "metadata": {
    "papermill": {
     "duration": 0.003364,
     "end_time": "2023-11-16T15:56:47.089865",
     "exception": false,
     "start_time": "2023-11-16T15:56:47.086501",
     "status": "completed"
    },
    "tags": []
   },
   "outputs": [],
   "source": []
  },
  {
   "cell_type": "markdown",
   "id": "c245eba7-318c-4539-82a3-f1f048892f4b",
   "metadata": {
    "papermill": {
     "duration": 0.007209,
     "end_time": "2023-11-16T06:41:15.288368",
     "exception": false,
     "start_time": "2023-11-16T06:41:15.281159",
     "status": "completed"
    },
    "tags": []
   },
   "source": [
    "## Load the data"
   ]
  },
  {
   "cell_type": "code",
   "execution_count": 3,
   "id": "c98da882-966f-45ca-9dd4-6fc052be1cf8",
   "metadata": {
    "ExecuteTime": {
     "end_time": "2023-11-16T14:46:26.662305064Z",
     "start_time": "2023-11-16T14:46:21.016210797Z"
    },
    "execution": {
     "iopub.execute_input": "2023-11-16T06:41:15.304729Z",
     "iopub.status.busy": "2023-11-16T06:41:15.304262Z",
     "iopub.status.idle": "2023-11-16T06:41:31.009029Z",
     "shell.execute_reply": "2023-11-16T06:41:31.006661Z"
    },
    "papermill": {
     "duration": 15.716881,
     "end_time": "2023-11-16T06:41:31.012501",
     "exception": false,
     "start_time": "2023-11-16T06:41:15.295620",
     "status": "completed"
    },
    "tags": []
   },
   "outputs": [
    {
     "data": {
      "text/html": [
       "<div>\n",
       "<style scoped>\n",
       "    .dataframe tbody tr th:only-of-type {\n",
       "        vertical-align: middle;\n",
       "    }\n",
       "\n",
       "    .dataframe tbody tr th {\n",
       "        vertical-align: top;\n",
       "    }\n",
       "\n",
       "    .dataframe thead th {\n",
       "        text-align: right;\n",
       "    }\n",
       "</style>\n",
       "<table border=\"1\" class=\"dataframe\">\n",
       "  <thead>\n",
       "    <tr style=\"text-align: right;\">\n",
       "      <th></th>\n",
       "      <th>stock_id</th>\n",
       "      <th>date_id</th>\n",
       "      <th>seconds_in_bucket</th>\n",
       "      <th>imbalance_size</th>\n",
       "      <th>imbalance_buy_sell_flag</th>\n",
       "      <th>reference_price</th>\n",
       "      <th>matched_size</th>\n",
       "      <th>far_price</th>\n",
       "      <th>near_price</th>\n",
       "      <th>bid_price</th>\n",
       "      <th>bid_size</th>\n",
       "      <th>ask_price</th>\n",
       "      <th>ask_size</th>\n",
       "      <th>wap</th>\n",
       "      <th>target</th>\n",
       "      <th>time_id</th>\n",
       "      <th>row_id</th>\n",
       "    </tr>\n",
       "  </thead>\n",
       "  <tbody>\n",
       "    <tr>\n",
       "      <th>0</th>\n",
       "      <td>0</td>\n",
       "      <td>0</td>\n",
       "      <td>0</td>\n",
       "      <td>3180602.69</td>\n",
       "      <td>1</td>\n",
       "      <td>0.999812</td>\n",
       "      <td>13380276.64</td>\n",
       "      <td>NaN</td>\n",
       "      <td>NaN</td>\n",
       "      <td>0.999812</td>\n",
       "      <td>60651.50</td>\n",
       "      <td>1.000026</td>\n",
       "      <td>8493.03</td>\n",
       "      <td>1.0</td>\n",
       "      <td>-3.029704</td>\n",
       "      <td>0</td>\n",
       "      <td>0_0_0</td>\n",
       "    </tr>\n",
       "    <tr>\n",
       "      <th>1</th>\n",
       "      <td>1</td>\n",
       "      <td>0</td>\n",
       "      <td>0</td>\n",
       "      <td>166603.91</td>\n",
       "      <td>-1</td>\n",
       "      <td>0.999896</td>\n",
       "      <td>1642214.25</td>\n",
       "      <td>NaN</td>\n",
       "      <td>NaN</td>\n",
       "      <td>0.999896</td>\n",
       "      <td>3233.04</td>\n",
       "      <td>1.000660</td>\n",
       "      <td>20605.09</td>\n",
       "      <td>1.0</td>\n",
       "      <td>-5.519986</td>\n",
       "      <td>0</td>\n",
       "      <td>0_0_1</td>\n",
       "    </tr>\n",
       "    <tr>\n",
       "      <th>2</th>\n",
       "      <td>2</td>\n",
       "      <td>0</td>\n",
       "      <td>0</td>\n",
       "      <td>302879.87</td>\n",
       "      <td>-1</td>\n",
       "      <td>0.999561</td>\n",
       "      <td>1819368.03</td>\n",
       "      <td>NaN</td>\n",
       "      <td>NaN</td>\n",
       "      <td>0.999403</td>\n",
       "      <td>37956.00</td>\n",
       "      <td>1.000298</td>\n",
       "      <td>18995.00</td>\n",
       "      <td>1.0</td>\n",
       "      <td>-8.389950</td>\n",
       "      <td>0</td>\n",
       "      <td>0_0_2</td>\n",
       "    </tr>\n",
       "    <tr>\n",
       "      <th>3</th>\n",
       "      <td>3</td>\n",
       "      <td>0</td>\n",
       "      <td>0</td>\n",
       "      <td>11917682.27</td>\n",
       "      <td>-1</td>\n",
       "      <td>1.000171</td>\n",
       "      <td>18389745.62</td>\n",
       "      <td>NaN</td>\n",
       "      <td>NaN</td>\n",
       "      <td>0.999999</td>\n",
       "      <td>2324.90</td>\n",
       "      <td>1.000214</td>\n",
       "      <td>479032.40</td>\n",
       "      <td>1.0</td>\n",
       "      <td>-4.010200</td>\n",
       "      <td>0</td>\n",
       "      <td>0_0_3</td>\n",
       "    </tr>\n",
       "    <tr>\n",
       "      <th>4</th>\n",
       "      <td>4</td>\n",
       "      <td>0</td>\n",
       "      <td>0</td>\n",
       "      <td>447549.96</td>\n",
       "      <td>-1</td>\n",
       "      <td>0.999532</td>\n",
       "      <td>17860614.95</td>\n",
       "      <td>NaN</td>\n",
       "      <td>NaN</td>\n",
       "      <td>0.999394</td>\n",
       "      <td>16485.54</td>\n",
       "      <td>1.000016</td>\n",
       "      <td>434.10</td>\n",
       "      <td>1.0</td>\n",
       "      <td>-7.349849</td>\n",
       "      <td>0</td>\n",
       "      <td>0_0_4</td>\n",
       "    </tr>\n",
       "  </tbody>\n",
       "</table>\n",
       "</div>"
      ],
      "text/plain": [
       "   stock_id  date_id  seconds_in_bucket  imbalance_size  \\\n",
       "0         0        0                  0      3180602.69   \n",
       "1         1        0                  0       166603.91   \n",
       "2         2        0                  0       302879.87   \n",
       "3         3        0                  0     11917682.27   \n",
       "4         4        0                  0       447549.96   \n",
       "\n",
       "   imbalance_buy_sell_flag  reference_price  matched_size  far_price  \\\n",
       "0                        1         0.999812   13380276.64        NaN   \n",
       "1                       -1         0.999896    1642214.25        NaN   \n",
       "2                       -1         0.999561    1819368.03        NaN   \n",
       "3                       -1         1.000171   18389745.62        NaN   \n",
       "4                       -1         0.999532   17860614.95        NaN   \n",
       "\n",
       "   near_price  bid_price  bid_size  ask_price   ask_size  wap    target  \\\n",
       "0         NaN   0.999812  60651.50   1.000026    8493.03  1.0 -3.029704   \n",
       "1         NaN   0.999896   3233.04   1.000660   20605.09  1.0 -5.519986   \n",
       "2         NaN   0.999403  37956.00   1.000298   18995.00  1.0 -8.389950   \n",
       "3         NaN   0.999999   2324.90   1.000214  479032.40  1.0 -4.010200   \n",
       "4         NaN   0.999394  16485.54   1.000016     434.10  1.0 -7.349849   \n",
       "\n",
       "   time_id row_id  \n",
       "0        0  0_0_0  \n",
       "1        0  0_0_1  \n",
       "2        0  0_0_2  \n",
       "3        0  0_0_3  \n",
       "4        0  0_0_4  "
      ]
     },
     "execution_count": 3,
     "metadata": {},
     "output_type": "execute_result"
    }
   ],
   "source": [
    "# Load and preprocess the data\n",
    "train_df = pd.read_csv('./train.csv')\n",
    "train_df.head()\n"
   ]
  },
  {
   "cell_type": "markdown",
   "id": "b6b729ea-970d-42bc-9573-20fed6e12953",
   "metadata": {
    "papermill": {
     "duration": 0.00771,
     "end_time": "2023-11-16T06:41:31.028638",
     "exception": false,
     "start_time": "2023-11-16T06:41:31.020928",
     "status": "completed"
    },
    "tags": []
   },
   "source": [
    "## EDA"
   ]
  },
  {
   "cell_type": "code",
   "execution_count": 4,
   "id": "22b8519e-e6df-4c7d-875b-9baa70a9bca3",
   "metadata": {
    "ExecuteTime": {
     "end_time": "2023-11-16T14:46:26.665791577Z",
     "start_time": "2023-11-16T14:46:26.662922480Z"
    },
    "execution": {
     "iopub.execute_input": "2023-11-16T06:41:31.045840Z",
     "iopub.status.busy": "2023-11-16T06:41:31.045376Z",
     "iopub.status.idle": "2023-11-16T06:41:31.052515Z",
     "shell.execute_reply": "2023-11-16T06:41:31.051166Z"
    },
    "papermill": {
     "duration": 0.018364,
     "end_time": "2023-11-16T06:41:31.054744",
     "exception": false,
     "start_time": "2023-11-16T06:41:31.036380",
     "status": "completed"
    },
    "tags": []
   },
   "outputs": [
    {
     "name": "stdout",
     "output_type": "stream",
     "text": [
      "Shape of the DataFrame: (5237980, 17)\n",
      "Columns in the DataFrame: Index(['stock_id', 'date_id', 'seconds_in_bucket', 'imbalance_size',\n",
      "       'imbalance_buy_sell_flag', 'reference_price', 'matched_size',\n",
      "       'far_price', 'near_price', 'bid_price', 'bid_size', 'ask_price',\n",
      "       'ask_size', 'wap', 'target', 'time_id', 'row_id'],\n",
      "      dtype='object')\n"
     ]
    }
   ],
   "source": [
    "def print_df(df):\n",
    "    # Print the shape of the DataFrame\n",
    "    print(\"Shape of the DataFrame:\", df.shape)\n",
    "    # Print the columns of the DataFrame\n",
    "    print(\"Columns in the DataFrame:\", df.columns)\n",
    "\n",
    "\n",
    "print_df(train_df)"
   ]
  },
  {
   "cell_type": "code",
   "execution_count": 5,
   "id": "d86d0093-be47-4711-966a-c88bf8843762",
   "metadata": {
    "ExecuteTime": {
     "end_time": "2023-11-16T14:46:26.738958335Z",
     "start_time": "2023-11-16T14:46:26.666175922Z"
    },
    "execution": {
     "iopub.execute_input": "2023-11-16T06:41:31.072572Z",
     "iopub.status.busy": "2023-11-16T06:41:31.071322Z",
     "iopub.status.idle": "2023-11-16T06:41:31.104258Z",
     "shell.execute_reply": "2023-11-16T06:41:31.102573Z"
    },
    "papermill": {
     "duration": 0.045376,
     "end_time": "2023-11-16T06:41:31.107806",
     "exception": false,
     "start_time": "2023-11-16T06:41:31.062430",
     "status": "completed"
    },
    "tags": []
   },
   "outputs": [
    {
     "data": {
      "text/plain": [
       "200"
      ]
     },
     "execution_count": 5,
     "metadata": {},
     "output_type": "execute_result"
    }
   ],
   "source": [
    "# Available Stocks count\n",
    "len(train_df.stock_id.unique())"
   ]
  },
  {
   "cell_type": "code",
   "execution_count": 6,
   "id": "7c05c380-3ffd-4409-9200-e75fb644e0b8",
   "metadata": {
    "ExecuteTime": {
     "end_time": "2023-11-16T14:46:27.433079831Z",
     "start_time": "2023-11-16T14:46:26.693143512Z"
    },
    "execution": {
     "iopub.execute_input": "2023-11-16T06:41:31.127291Z",
     "iopub.status.busy": "2023-11-16T06:41:31.126792Z",
     "iopub.status.idle": "2023-11-16T06:41:31.677180Z",
     "shell.execute_reply": "2023-11-16T06:41:31.675778Z"
    },
    "papermill": {
     "duration": 0.562982,
     "end_time": "2023-11-16T06:41:31.679307",
     "exception": false,
     "start_time": "2023-11-16T06:41:31.116325",
     "status": "completed"
    },
    "tags": []
   },
   "outputs": [
    {
     "data": {
      "text/plain": [
       "<Axes: >"
      ]
     },
     "execution_count": 6,
     "metadata": {},
     "output_type": "execute_result"
    },
    {
     "data": {
      "image/png": "[encoded data removed]",
      "text/plain": [
       "<Figure size 640x480 with 1 Axes>"
      ]
     },
     "metadata": {},
     "output_type": "display_data"
    }
   ],
   "source": [
    "train_df.isna().sum().sort_values(ascending=False).plot(kind='bar')"
   ]
  },
  {
   "cell_type": "code",
   "execution_count": 7,
   "id": "66524931-cc39-4d7c-8e8b-4ea9da18a800",
   "metadata": {
    "ExecuteTime": {
     "end_time": "2023-11-16T14:46:28.108851302Z",
     "start_time": "2023-11-16T14:46:27.432493480Z"
    },
    "execution": {
     "iopub.execute_input": "2023-11-16T06:41:31.698857Z",
     "iopub.status.busy": "2023-11-16T06:41:31.697600Z",
     "iopub.status.idle": "2023-11-16T06:41:32.385299Z",
     "shell.execute_reply": "2023-11-16T06:41:32.384387Z"
    },
    "papermill": {
     "duration": 0.699684,
     "end_time": "2023-11-16T06:41:32.387448",
     "exception": false,
     "start_time": "2023-11-16T06:41:31.687764",
     "status": "completed"
    },
    "tags": []
   },
   "outputs": [
    {
     "data": {
      "image/png": "[encoded data removed]",
      "text/plain": [
       "<Figure size 640x480 with 1 Axes>"
      ]
     },
     "metadata": {},
     "output_type": "display_data"
    }
   ],
   "source": [
    "# Check the total null values of df\n",
    "def check_null(df,return_null_cols=False, null_cols_count=2, ):\n",
    "    df = df.copy()\n",
    "    vals = df.isna().sum().sort_values(ascending=False).plot(kind='bar')\n",
    "    if return_null_cols:\n",
    "        return vals[:null_cols_count].index\n",
    "\n",
    "null_cols = check_null(train_df)"
   ]
  },
  {
   "cell_type": "code",
   "execution_count": 8,
   "id": "43881e3d-8f45-4f90-bbb8-3c957dc3c8a6",
   "metadata": {
    "ExecuteTime": {
     "end_time": "2023-11-16T14:46:28.135918891Z",
     "start_time": "2023-11-16T14:46:28.109677645Z"
    },
    "execution": {
     "iopub.execute_input": "2023-11-16T06:41:32.405744Z",
     "iopub.status.busy": "2023-11-16T06:41:32.405462Z",
     "iopub.status.idle": "2023-11-16T06:41:32.409190Z",
     "shell.execute_reply": "2023-11-16T06:41:32.408296Z"
    },
    "papermill": {
     "duration": 0.015058,
     "end_time": "2023-11-16T06:41:32.411147",
     "exception": false,
     "start_time": "2023-11-16T06:41:32.396089",
     "status": "completed"
    },
    "tags": []
   },
   "outputs": [],
   "source": [
    "null_cols"
   ]
  },
  {
   "cell_type": "code",
   "execution_count": 9,
   "id": "4998a3e6-e95c-4b68-b058-bae664c82cea",
   "metadata": {
    "ExecuteTime": {
     "end_time": "2023-11-16T14:46:28.683004049Z",
     "start_time": "2023-11-16T14:46:28.114751048Z"
    },
    "execution": {
     "iopub.execute_input": "2023-11-16T06:41:32.432366Z",
     "iopub.status.busy": "2023-11-16T06:41:32.431964Z",
     "iopub.status.idle": "2023-11-16T06:41:32.927310Z",
     "shell.execute_reply": "2023-11-16T06:41:32.925872Z"
    },
    "papermill": {
     "duration": 0.508734,
     "end_time": "2023-11-16T06:41:32.930007",
     "exception": false,
     "start_time": "2023-11-16T06:41:32.421273",
     "status": "completed"
    },
    "tags": []
   },
   "outputs": [
    {
     "name": "stdout",
     "output_type": "stream",
     "text": [
      "high null values: Index(['far_price', 'near_price'], dtype='object')\n"
     ]
    }
   ],
   "source": [
    "# Drip high null columsn\n",
    "high_null_cols = train_df.isna().sum().sort_values(ascending=False)[:2].index\n",
    "\n",
    "print(f\"high null values: {high_null_cols}\")\n",
    "\n",
    "def drop_cols(df, cols):\n",
    "    df = df.drop(cols, axis=1)\n",
    "    return df\n",
    "\n",
    "df = drop_cols(train_df, high_null_cols)\n",
    "df = drop_cols(df, ['row_id'])"
   ]
  },
  {
   "cell_type": "code",
   "execution_count": 10,
   "id": "283cee7b-e5ff-4917-b049-23f8f41bddbb",
   "metadata": {
    "ExecuteTime": {
     "end_time": "2023-11-16T14:46:38.215987070Z",
     "start_time": "2023-11-16T14:46:28.676431860Z"
    },
    "execution": {
     "iopub.execute_input": "2023-11-16T06:41:32.950294Z",
     "iopub.status.busy": "2023-11-16T06:41:32.949264Z",
     "iopub.status.idle": "2023-11-16T06:41:46.041372Z",
     "shell.execute_reply": "2023-11-16T06:41:46.039614Z"
    },
    "papermill": {
     "duration": 13.1046,
     "end_time": "2023-11-16T06:41:46.043741",
     "exception": false,
     "start_time": "2023-11-16T06:41:32.939141",
     "status": "completed"
    },
    "tags": []
   },
   "outputs": [],
   "source": [
    "def imputer(df_processed):\n",
    "    '''\n",
    "    Function that receives a dataframe and returns the median value of each missing value in a column partitioned by stock_id,\n",
    "    '''\n",
    "    stock_list = list(df_processed['stock_id'].unique())\n",
    "\n",
    "    imputer_columns = ['imbalance_size', 'reference_price', 'matched_size', 'bid_price', 'ask_price', \n",
    "                       'wap', 'target', 'seconds_in_bucket', 'bid_size', 'ask_size']\n",
    "\n",
    "    # Create a single SimpleImputer instance for each column\n",
    "    imputers = {col: SimpleImputer(missing_values=np.nan, strategy='median') for col in imputer_columns}\n",
    "\n",
    "    for stock in stock_list:\n",
    "        stock_df = df_processed.loc[df_processed['stock_id'] == stock]\n",
    "\n",
    "        # Apply imputation to each column\n",
    "        for col, imputer in imputers.items():\n",
    "            stock_df.loc[:,col] = imputer.fit_transform(stock_df[col].values.reshape(-1,1))\n",
    "\n",
    "        # Update the original DataFrame with imputed values\n",
    "        df_processed.loc[df_processed['stock_id'] == stock, imputer_columns] = stock_df[imputer_columns].values\n",
    "\n",
    "    return df_processed, imputers\n",
    "\n",
    "df_processed, imputers = imputer(df)"
   ]
  },
  {
   "cell_type": "code",
   "execution_count": 11,
   "id": "c7ae4158-ffaf-444e-8541-6b58d11532ee",
   "metadata": {
    "ExecuteTime": {
     "end_time": "2023-11-16T14:46:38.237962839Z",
     "start_time": "2023-11-16T14:46:38.215026644Z"
    },
    "execution": {
     "iopub.execute_input": "2023-11-16T06:41:46.063767Z",
     "iopub.status.busy": "2023-11-16T06:41:46.063208Z",
     "iopub.status.idle": "2023-11-16T06:41:46.075622Z",
     "shell.execute_reply": "2023-11-16T06:41:46.074900Z"
    },
    "papermill": {
     "duration": 0.025334,
     "end_time": "2023-11-16T06:41:46.078049",
     "exception": false,
     "start_time": "2023-11-16T06:41:46.052715",
     "status": "completed"
    },
    "tags": []
   },
   "outputs": [
    {
     "data": {
      "text/plain": [
       "{'imbalance_size': SimpleImputer(strategy='median'),\n",
       " 'reference_price': SimpleImputer(strategy='median'),\n",
       " 'matched_size': SimpleImputer(strategy='median'),\n",
       " 'bid_price': SimpleImputer(strategy='median'),\n",
       " 'ask_price': SimpleImputer(strategy='median'),\n",
       " 'wap': SimpleImputer(strategy='median'),\n",
       " 'target': SimpleImputer(strategy='median'),\n",
       " 'seconds_in_bucket': SimpleImputer(strategy='median'),\n",
       " 'bid_size': SimpleImputer(strategy='median'),\n",
       " 'ask_size': SimpleImputer(strategy='median')}"
      ]
     },
     "execution_count": 11,
     "metadata": {},
     "output_type": "execute_result"
    }
   ],
   "source": [
    "imputers"
   ]
  },
  {
   "cell_type": "code",
   "execution_count": 12,
   "id": "e95daea8-8e2e-4ca0-ac41-7b57580fa3a9",
   "metadata": {
    "ExecuteTime": {
     "end_time": "2023-11-16T14:46:38.277159937Z",
     "start_time": "2023-11-16T14:46:38.274522367Z"
    },
    "execution": {
     "iopub.execute_input": "2023-11-16T06:41:46.099232Z",
     "iopub.status.busy": "2023-11-16T06:41:46.098168Z",
     "iopub.status.idle": "2023-11-16T06:41:46.104080Z",
     "shell.execute_reply": "2023-11-16T06:41:46.103119Z"
    },
    "papermill": {
     "duration": 0.019233,
     "end_time": "2023-11-16T06:41:46.106894",
     "exception": false,
     "start_time": "2023-11-16T06:41:46.087661",
     "status": "completed"
    },
    "tags": []
   },
   "outputs": [],
   "source": [
    "def apply_imputer(df_processed, imputers):\n",
    "    imputer_columns = ['imbalance_size', 'reference_price', 'matched_size', 'bid_price', 'ask_price',\n",
    "                       'wap', 'seconds_in_bucket', 'bid_size', 'ask_size']\n",
    "\n",
    "    for col in imputer_columns:\n",
    "        df_processed[col] = imputers[col].transform(np.array(df_processed[col]).reshape(-1, 1))\n",
    "\n",
    "    return df_processed"
   ]
  },
  {
   "cell_type": "code",
   "execution_count": 29,
   "id": "e8051df9-163f-4779-889a-acf3b53521bc",
   "metadata": {
    "ExecuteTime": {
     "end_time": "2023-11-16T15:39:32.628953329Z",
     "start_time": "2023-11-16T15:39:32.150009484Z"
    },
    "execution": {
     "iopub.execute_input": "2023-11-16T06:41:46.127716Z",
     "iopub.status.busy": "2023-11-16T06:41:46.127329Z",
     "iopub.status.idle": "2023-11-16T06:41:46.594575Z",
     "shell.execute_reply": "2023-11-16T06:41:46.593250Z"
    },
    "papermill": {
     "duration": 0.481035,
     "end_time": "2023-11-16T06:41:46.597693",
     "exception": false,
     "start_time": "2023-11-16T06:41:46.116658",
     "status": "completed"
    },
    "tags": []
   },
   "outputs": [
    {
     "data": {
      "text/html": [
       "<div>\n",
       "<style scoped>\n",
       "    .dataframe tbody tr th:only-of-type {\n",
       "        vertical-align: middle;\n",
       "    }\n",
       "\n",
       "    .dataframe tbody tr th {\n",
       "        vertical-align: top;\n",
       "    }\n",
       "\n",
       "    .dataframe thead th {\n",
       "        text-align: right;\n",
       "    }\n",
       "</style>\n",
       "<table border=\"1\" class=\"dataframe\">\n",
       "  <thead>\n",
       "    <tr style=\"text-align: right;\">\n",
       "      <th></th>\n",
       "      <th>stock_id</th>\n",
       "      <th>date_id</th>\n",
       "      <th>seconds_in_bucket</th>\n",
       "      <th>imbalance_size</th>\n",
       "      <th>imbalance_buy_sell_flag</th>\n",
       "      <th>reference_price</th>\n",
       "      <th>matched_size</th>\n",
       "      <th>bid_price</th>\n",
       "      <th>bid_size</th>\n",
       "      <th>ask_price</th>\n",
       "      <th>ask_size</th>\n",
       "      <th>wap</th>\n",
       "      <th>target</th>\n",
       "      <th>time_id</th>\n",
       "    </tr>\n",
       "  </thead>\n",
       "  <tbody>\n",
       "    <tr>\n",
       "      <th>0</th>\n",
       "      <td>0</td>\n",
       "      <td>0</td>\n",
       "      <td>0.0</td>\n",
       "      <td>3180602.69</td>\n",
       "      <td>1</td>\n",
       "      <td>0.999812</td>\n",
       "      <td>13380276.64</td>\n",
       "      <td>0.999812</td>\n",
       "      <td>60651.50</td>\n",
       "      <td>1.000026</td>\n",
       "      <td>8493.03</td>\n",
       "      <td>1.000000</td>\n",
       "      <td>-3.029704</td>\n",
       "      <td>0</td>\n",
       "    </tr>\n",
       "    <tr>\n",
       "      <th>1</th>\n",
       "      <td>1</td>\n",
       "      <td>0</td>\n",
       "      <td>0.0</td>\n",
       "      <td>166603.91</td>\n",
       "      <td>-1</td>\n",
       "      <td>0.999896</td>\n",
       "      <td>1642214.25</td>\n",
       "      <td>0.999896</td>\n",
       "      <td>3233.04</td>\n",
       "      <td>1.000660</td>\n",
       "      <td>20605.09</td>\n",
       "      <td>1.000000</td>\n",
       "      <td>-5.519986</td>\n",
       "      <td>0</td>\n",
       "    </tr>\n",
       "    <tr>\n",
       "      <th>2</th>\n",
       "      <td>2</td>\n",
       "      <td>0</td>\n",
       "      <td>0.0</td>\n",
       "      <td>302879.87</td>\n",
       "      <td>-1</td>\n",
       "      <td>0.999561</td>\n",
       "      <td>1819368.03</td>\n",
       "      <td>0.999403</td>\n",
       "      <td>37956.00</td>\n",
       "      <td>1.000298</td>\n",
       "      <td>18995.00</td>\n",
       "      <td>1.000000</td>\n",
       "      <td>-8.389950</td>\n",
       "      <td>0</td>\n",
       "    </tr>\n",
       "    <tr>\n",
       "      <th>3</th>\n",
       "      <td>3</td>\n",
       "      <td>0</td>\n",
       "      <td>0.0</td>\n",
       "      <td>11917682.27</td>\n",
       "      <td>-1</td>\n",
       "      <td>1.000171</td>\n",
       "      <td>18389745.62</td>\n",
       "      <td>0.999999</td>\n",
       "      <td>2324.90</td>\n",
       "      <td>1.000214</td>\n",
       "      <td>479032.40</td>\n",
       "      <td>1.000000</td>\n",
       "      <td>-4.010200</td>\n",
       "      <td>0</td>\n",
       "    </tr>\n",
       "    <tr>\n",
       "      <th>4</th>\n",
       "      <td>4</td>\n",
       "      <td>0</td>\n",
       "      <td>0.0</td>\n",
       "      <td>447549.96</td>\n",
       "      <td>-1</td>\n",
       "      <td>0.999532</td>\n",
       "      <td>17860614.95</td>\n",
       "      <td>0.999394</td>\n",
       "      <td>16485.54</td>\n",
       "      <td>1.000016</td>\n",
       "      <td>434.10</td>\n",
       "      <td>1.000000</td>\n",
       "      <td>-7.349849</td>\n",
       "      <td>0</td>\n",
       "    </tr>\n",
       "    <tr>\n",
       "      <th>...</th>\n",
       "      <td>...</td>\n",
       "      <td>...</td>\n",
       "      <td>...</td>\n",
       "      <td>...</td>\n",
       "      <td>...</td>\n",
       "      <td>...</td>\n",
       "      <td>...</td>\n",
       "      <td>...</td>\n",
       "      <td>...</td>\n",
       "      <td>...</td>\n",
       "      <td>...</td>\n",
       "      <td>...</td>\n",
       "      <td>...</td>\n",
       "      <td>...</td>\n",
       "    </tr>\n",
       "    <tr>\n",
       "      <th>5237975</th>\n",
       "      <td>195</td>\n",
       "      <td>480</td>\n",
       "      <td>540.0</td>\n",
       "      <td>2440722.89</td>\n",
       "      <td>-1</td>\n",
       "      <td>1.000317</td>\n",
       "      <td>28280361.74</td>\n",
       "      <td>1.000317</td>\n",
       "      <td>32257.04</td>\n",
       "      <td>1.000434</td>\n",
       "      <td>319862.40</td>\n",
       "      <td>1.000328</td>\n",
       "      <td>2.310276</td>\n",
       "      <td>26454</td>\n",
       "    </tr>\n",
       "    <tr>\n",
       "      <th>5237976</th>\n",
       "      <td>196</td>\n",
       "      <td>480</td>\n",
       "      <td>540.0</td>\n",
       "      <td>349510.47</td>\n",
       "      <td>-1</td>\n",
       "      <td>1.000643</td>\n",
       "      <td>9187699.11</td>\n",
       "      <td>1.000643</td>\n",
       "      <td>205108.40</td>\n",
       "      <td>1.000900</td>\n",
       "      <td>93393.07</td>\n",
       "      <td>1.000819</td>\n",
       "      <td>-8.220077</td>\n",
       "      <td>26454</td>\n",
       "    </tr>\n",
       "    <tr>\n",
       "      <th>5237977</th>\n",
       "      <td>197</td>\n",
       "      <td>480</td>\n",
       "      <td>540.0</td>\n",
       "      <td>0.00</td>\n",
       "      <td>0</td>\n",
       "      <td>0.995789</td>\n",
       "      <td>12725436.10</td>\n",
       "      <td>0.995789</td>\n",
       "      <td>16790.66</td>\n",
       "      <td>0.995883</td>\n",
       "      <td>180038.32</td>\n",
       "      <td>0.995797</td>\n",
       "      <td>1.169443</td>\n",
       "      <td>26454</td>\n",
       "    </tr>\n",
       "    <tr>\n",
       "      <th>5237978</th>\n",
       "      <td>198</td>\n",
       "      <td>480</td>\n",
       "      <td>540.0</td>\n",
       "      <td>1000898.84</td>\n",
       "      <td>1</td>\n",
       "      <td>0.999210</td>\n",
       "      <td>94773271.05</td>\n",
       "      <td>0.998970</td>\n",
       "      <td>125631.72</td>\n",
       "      <td>0.999210</td>\n",
       "      <td>669893.00</td>\n",
       "      <td>0.999008</td>\n",
       "      <td>-1.540184</td>\n",
       "      <td>26454</td>\n",
       "    </tr>\n",
       "    <tr>\n",
       "      <th>5237979</th>\n",
       "      <td>199</td>\n",
       "      <td>480</td>\n",
       "      <td>540.0</td>\n",
       "      <td>1884285.71</td>\n",
       "      <td>-1</td>\n",
       "      <td>1.002129</td>\n",
       "      <td>24073677.32</td>\n",
       "      <td>1.002129</td>\n",
       "      <td>250081.44</td>\n",
       "      <td>1.002447</td>\n",
       "      <td>300167.56</td>\n",
       "      <td>1.002274</td>\n",
       "      <td>-6.530285</td>\n",
       "      <td>26454</td>\n",
       "    </tr>\n",
       "  </tbody>\n",
       "</table>\n",
       "<p>5237980 rows × 14 columns</p>\n",
       "</div>"
      ],
      "text/plain": [
       "         stock_id  date_id  seconds_in_bucket  imbalance_size  \\\n",
       "0               0        0                0.0      3180602.69   \n",
       "1               1        0                0.0       166603.91   \n",
       "2               2        0                0.0       302879.87   \n",
       "3               3        0                0.0     11917682.27   \n",
       "4               4        0                0.0       447549.96   \n",
       "...           ...      ...                ...             ...   \n",
       "5237975       195      480              540.0      2440722.89   \n",
       "5237976       196      480              540.0       349510.47   \n",
       "5237977       197      480              540.0            0.00   \n",
       "5237978       198      480              540.0      1000898.84   \n",
       "5237979       199      480              540.0      1884285.71   \n",
       "\n",
       "         imbalance_buy_sell_flag  reference_price  matched_size  bid_price  \\\n",
       "0                              1         0.999812   13380276.64   0.999812   \n",
       "1                             -1         0.999896    1642214.25   0.999896   \n",
       "2                             -1         0.999561    1819368.03   0.999403   \n",
       "3                             -1         1.000171   18389745.62   0.999999   \n",
       "4                             -1         0.999532   17860614.95   0.999394   \n",
       "...                          ...              ...           ...        ...   \n",
       "5237975                       -1         1.000317   28280361.74   1.000317   \n",
       "5237976                       -1         1.000643    9187699.11   1.000643   \n",
       "5237977                        0         0.995789   12725436.10   0.995789   \n",
       "5237978                        1         0.999210   94773271.05   0.998970   \n",
       "5237979                       -1         1.002129   24073677.32   1.002129   \n",
       "\n",
       "          bid_size  ask_price   ask_size       wap    target  time_id  \n",
       "0         60651.50   1.000026    8493.03  1.000000 -3.029704        0  \n",
       "1          3233.04   1.000660   20605.09  1.000000 -5.519986        0  \n",
       "2         37956.00   1.000298   18995.00  1.000000 -8.389950        0  \n",
       "3          2324.90   1.000214  479032.40  1.000000 -4.010200        0  \n",
       "4         16485.54   1.000016     434.10  1.000000 -7.349849        0  \n",
       "...            ...        ...        ...       ...       ...      ...  \n",
       "5237975   32257.04   1.000434  319862.40  1.000328  2.310276    26454  \n",
       "5237976  205108.40   1.000900   93393.07  1.000819 -8.220077    26454  \n",
       "5237977   16790.66   0.995883  180038.32  0.995797  1.169443    26454  \n",
       "5237978  125631.72   0.999210  669893.00  0.999008 -1.540184    26454  \n",
       "5237979  250081.44   1.002447  300167.56  1.002274 -6.530285    26454  \n",
       "\n",
       "[5237980 rows x 14 columns]"
      ]
     },
     "execution_count": 29,
     "metadata": {},
     "output_type": "execute_result"
    }
   ],
   "source": [
    "df_processed = apply_imputer(df_processed, imputers)\n",
    "df_processed"
   ]
  },
  {
   "cell_type": "code",
   "execution_count": 27,
   "id": "5a438db9-0f79-499c-bfc0-d740b5d9af79",
   "metadata": {
    "ExecuteTime": {
     "end_time": "2023-11-16T15:39:13.643665544Z",
     "start_time": "2023-11-16T15:39:13.165666814Z"
    },
    "execution": {
     "iopub.execute_input": "2023-11-16T06:41:46.618720Z",
     "iopub.status.busy": "2023-11-16T06:41:46.618318Z",
     "iopub.status.idle": "2023-11-16T06:41:46.790869Z",
     "shell.execute_reply": "2023-11-16T06:41:46.789901Z"
    },
    "papermill": {
     "duration": 0.185301,
     "end_time": "2023-11-16T06:41:46.792858",
     "exception": false,
     "start_time": "2023-11-16T06:41:46.607557",
     "status": "completed"
    },
    "tags": []
   },
   "outputs": [
    {
     "data": {
      "text/html": [
       "<div>\n",
       "<style scoped>\n",
       "    .dataframe tbody tr th:only-of-type {\n",
       "        vertical-align: middle;\n",
       "    }\n",
       "\n",
       "    .dataframe tbody tr th {\n",
       "        vertical-align: top;\n",
       "    }\n",
       "\n",
       "    .dataframe thead th {\n",
       "        text-align: right;\n",
       "    }\n",
       "</style>\n",
       "<table border=\"1\" class=\"dataframe\">\n",
       "  <thead>\n",
       "    <tr style=\"text-align: right;\">\n",
       "      <th></th>\n",
       "      <th>stock_id</th>\n",
       "      <th>date_id</th>\n",
       "      <th>seconds_in_bucket</th>\n",
       "      <th>imbalance_size</th>\n",
       "      <th>imbalance_buy_sell_flag</th>\n",
       "      <th>reference_price</th>\n",
       "      <th>matched_size</th>\n",
       "      <th>far_price</th>\n",
       "      <th>near_price</th>\n",
       "      <th>bid_price</th>\n",
       "      <th>bid_size</th>\n",
       "      <th>ask_price</th>\n",
       "      <th>ask_size</th>\n",
       "      <th>wap</th>\n",
       "      <th>time_id</th>\n",
       "      <th>row_id</th>\n",
       "      <th>currently_scored</th>\n",
       "    </tr>\n",
       "  </thead>\n",
       "  <tbody>\n",
       "    <tr>\n",
       "      <th>0</th>\n",
       "      <td>0</td>\n",
       "      <td>478</td>\n",
       "      <td>0</td>\n",
       "      <td>3753451.43</td>\n",
       "      <td>-1</td>\n",
       "      <td>0.999875</td>\n",
       "      <td>11548975.43</td>\n",
       "      <td>NaN</td>\n",
       "      <td>NaN</td>\n",
       "      <td>0.999875</td>\n",
       "      <td>22940.00</td>\n",
       "      <td>1.000050</td>\n",
       "      <td>9177.60</td>\n",
       "      <td>1.000000</td>\n",
       "      <td>26290</td>\n",
       "      <td>478_0_0</td>\n",
       "      <td>False</td>\n",
       "    </tr>\n",
       "    <tr>\n",
       "      <th>1</th>\n",
       "      <td>1</td>\n",
       "      <td>478</td>\n",
       "      <td>0</td>\n",
       "      <td>985977.11</td>\n",
       "      <td>-1</td>\n",
       "      <td>1.000245</td>\n",
       "      <td>3850033.97</td>\n",
       "      <td>NaN</td>\n",
       "      <td>NaN</td>\n",
       "      <td>0.999940</td>\n",
       "      <td>1967.90</td>\n",
       "      <td>1.000601</td>\n",
       "      <td>19692.00</td>\n",
       "      <td>1.000000</td>\n",
       "      <td>26290</td>\n",
       "      <td>478_0_1</td>\n",
       "      <td>False</td>\n",
       "    </tr>\n",
       "    <tr>\n",
       "      <th>2</th>\n",
       "      <td>2</td>\n",
       "      <td>478</td>\n",
       "      <td>0</td>\n",
       "      <td>599128.74</td>\n",
       "      <td>1</td>\n",
       "      <td>1.000584</td>\n",
       "      <td>4359198.25</td>\n",
       "      <td>NaN</td>\n",
       "      <td>NaN</td>\n",
       "      <td>0.999918</td>\n",
       "      <td>4488.22</td>\n",
       "      <td>1.000636</td>\n",
       "      <td>34955.12</td>\n",
       "      <td>1.000000</td>\n",
       "      <td>26290</td>\n",
       "      <td>478_0_2</td>\n",
       "      <td>False</td>\n",
       "    </tr>\n",
       "    <tr>\n",
       "      <th>3</th>\n",
       "      <td>3</td>\n",
       "      <td>478</td>\n",
       "      <td>0</td>\n",
       "      <td>2872317.54</td>\n",
       "      <td>-1</td>\n",
       "      <td>0.999802</td>\n",
       "      <td>27129551.64</td>\n",
       "      <td>NaN</td>\n",
       "      <td>NaN</td>\n",
       "      <td>0.999705</td>\n",
       "      <td>16082.04</td>\n",
       "      <td>1.000189</td>\n",
       "      <td>10314.00</td>\n",
       "      <td>1.000000</td>\n",
       "      <td>26290</td>\n",
       "      <td>478_0_3</td>\n",
       "      <td>False</td>\n",
       "    </tr>\n",
       "    <tr>\n",
       "      <th>4</th>\n",
       "      <td>4</td>\n",
       "      <td>478</td>\n",
       "      <td>0</td>\n",
       "      <td>740059.14</td>\n",
       "      <td>-1</td>\n",
       "      <td>0.999886</td>\n",
       "      <td>8880890.78</td>\n",
       "      <td>NaN</td>\n",
       "      <td>NaN</td>\n",
       "      <td>0.999720</td>\n",
       "      <td>19012.35</td>\n",
       "      <td>1.000107</td>\n",
       "      <td>7245.60</td>\n",
       "      <td>1.000000</td>\n",
       "      <td>26290</td>\n",
       "      <td>478_0_4</td>\n",
       "      <td>False</td>\n",
       "    </tr>\n",
       "    <tr>\n",
       "      <th>...</th>\n",
       "      <td>...</td>\n",
       "      <td>...</td>\n",
       "      <td>...</td>\n",
       "      <td>...</td>\n",
       "      <td>...</td>\n",
       "      <td>...</td>\n",
       "      <td>...</td>\n",
       "      <td>...</td>\n",
       "      <td>...</td>\n",
       "      <td>...</td>\n",
       "      <td>...</td>\n",
       "      <td>...</td>\n",
       "      <td>...</td>\n",
       "      <td>...</td>\n",
       "      <td>...</td>\n",
       "      <td>...</td>\n",
       "      <td>...</td>\n",
       "    </tr>\n",
       "    <tr>\n",
       "      <th>32995</th>\n",
       "      <td>195</td>\n",
       "      <td>480</td>\n",
       "      <td>540</td>\n",
       "      <td>2440722.89</td>\n",
       "      <td>-1</td>\n",
       "      <td>1.000317</td>\n",
       "      <td>28280361.74</td>\n",
       "      <td>0.999734</td>\n",
       "      <td>0.999734</td>\n",
       "      <td>1.000317</td>\n",
       "      <td>32257.04</td>\n",
       "      <td>1.000434</td>\n",
       "      <td>319862.40</td>\n",
       "      <td>1.000328</td>\n",
       "      <td>26454</td>\n",
       "      <td>480_540_195</td>\n",
       "      <td>False</td>\n",
       "    </tr>\n",
       "    <tr>\n",
       "      <th>32996</th>\n",
       "      <td>196</td>\n",
       "      <td>480</td>\n",
       "      <td>540</td>\n",
       "      <td>349510.47</td>\n",
       "      <td>-1</td>\n",
       "      <td>1.000643</td>\n",
       "      <td>9187699.11</td>\n",
       "      <td>1.000129</td>\n",
       "      <td>1.000386</td>\n",
       "      <td>1.000643</td>\n",
       "      <td>205108.40</td>\n",
       "      <td>1.000900</td>\n",
       "      <td>93393.07</td>\n",
       "      <td>1.000819</td>\n",
       "      <td>26454</td>\n",
       "      <td>480_540_196</td>\n",
       "      <td>False</td>\n",
       "    </tr>\n",
       "    <tr>\n",
       "      <th>32997</th>\n",
       "      <td>197</td>\n",
       "      <td>480</td>\n",
       "      <td>540</td>\n",
       "      <td>0.00</td>\n",
       "      <td>0</td>\n",
       "      <td>0.995789</td>\n",
       "      <td>12725436.10</td>\n",
       "      <td>0.995789</td>\n",
       "      <td>0.995789</td>\n",
       "      <td>0.995789</td>\n",
       "      <td>16790.66</td>\n",
       "      <td>0.995883</td>\n",
       "      <td>180038.32</td>\n",
       "      <td>0.995797</td>\n",
       "      <td>26454</td>\n",
       "      <td>480_540_197</td>\n",
       "      <td>False</td>\n",
       "    </tr>\n",
       "    <tr>\n",
       "      <th>32998</th>\n",
       "      <td>198</td>\n",
       "      <td>480</td>\n",
       "      <td>540</td>\n",
       "      <td>1000898.84</td>\n",
       "      <td>1</td>\n",
       "      <td>0.999210</td>\n",
       "      <td>94773271.05</td>\n",
       "      <td>0.999210</td>\n",
       "      <td>0.999210</td>\n",
       "      <td>0.998970</td>\n",
       "      <td>125631.72</td>\n",
       "      <td>0.999210</td>\n",
       "      <td>669893.00</td>\n",
       "      <td>0.999008</td>\n",
       "      <td>26454</td>\n",
       "      <td>480_540_198</td>\n",
       "      <td>False</td>\n",
       "    </tr>\n",
       "    <tr>\n",
       "      <th>32999</th>\n",
       "      <td>199</td>\n",
       "      <td>480</td>\n",
       "      <td>540</td>\n",
       "      <td>1884285.71</td>\n",
       "      <td>-1</td>\n",
       "      <td>1.002129</td>\n",
       "      <td>24073677.32</td>\n",
       "      <td>1.000859</td>\n",
       "      <td>1.001494</td>\n",
       "      <td>1.002129</td>\n",
       "      <td>250081.44</td>\n",
       "      <td>1.002447</td>\n",
       "      <td>300167.56</td>\n",
       "      <td>1.002274</td>\n",
       "      <td>26454</td>\n",
       "      <td>480_540_199</td>\n",
       "      <td>False</td>\n",
       "    </tr>\n",
       "  </tbody>\n",
       "</table>\n",
       "<p>33000 rows × 17 columns</p>\n",
       "</div>"
      ],
      "text/plain": [
       "       stock_id  date_id  seconds_in_bucket  imbalance_size  \\\n",
       "0             0      478                  0      3753451.43   \n",
       "1             1      478                  0       985977.11   \n",
       "2             2      478                  0       599128.74   \n",
       "3             3      478                  0      2872317.54   \n",
       "4             4      478                  0       740059.14   \n",
       "...         ...      ...                ...             ...   \n",
       "32995       195      480                540      2440722.89   \n",
       "32996       196      480                540       349510.47   \n",
       "32997       197      480                540            0.00   \n",
       "32998       198      480                540      1000898.84   \n",
       "32999       199      480                540      1884285.71   \n",
       "\n",
       "       imbalance_buy_sell_flag  reference_price  matched_size  far_price  \\\n",
       "0                           -1         0.999875   11548975.43        NaN   \n",
       "1                           -1         1.000245    3850033.97        NaN   \n",
       "2                            1         1.000584    4359198.25        NaN   \n",
       "3                           -1         0.999802   27129551.64        NaN   \n",
       "4                           -1         0.999886    8880890.78        NaN   \n",
       "...                        ...              ...           ...        ...   \n",
       "32995                       -1         1.000317   28280361.74   0.999734   \n",
       "32996                       -1         1.000643    9187699.11   1.000129   \n",
       "32997                        0         0.995789   12725436.10   0.995789   \n",
       "32998                        1         0.999210   94773271.05   0.999210   \n",
       "32999                       -1         1.002129   24073677.32   1.000859   \n",
       "\n",
       "       near_price  bid_price   bid_size  ask_price   ask_size       wap  \\\n",
       "0             NaN   0.999875   22940.00   1.000050    9177.60  1.000000   \n",
       "1             NaN   0.999940    1967.90   1.000601   19692.00  1.000000   \n",
       "2             NaN   0.999918    4488.22   1.000636   34955.12  1.000000   \n",
       "3             NaN   0.999705   16082.04   1.000189   10314.00  1.000000   \n",
       "4             NaN   0.999720   19012.35   1.000107    7245.60  1.000000   \n",
       "...           ...        ...        ...        ...        ...       ...   \n",
       "32995    0.999734   1.000317   32257.04   1.000434  319862.40  1.000328   \n",
       "32996    1.000386   1.000643  205108.40   1.000900   93393.07  1.000819   \n",
       "32997    0.995789   0.995789   16790.66   0.995883  180038.32  0.995797   \n",
       "32998    0.999210   0.998970  125631.72   0.999210  669893.00  0.999008   \n",
       "32999    1.001494   1.002129  250081.44   1.002447  300167.56  1.002274   \n",
       "\n",
       "       time_id       row_id  currently_scored  \n",
       "0        26290      478_0_0             False  \n",
       "1        26290      478_0_1             False  \n",
       "2        26290      478_0_2             False  \n",
       "3        26290      478_0_3             False  \n",
       "4        26290      478_0_4             False  \n",
       "...        ...          ...               ...  \n",
       "32995    26454  480_540_195             False  \n",
       "32996    26454  480_540_196             False  \n",
       "32997    26454  480_540_197             False  \n",
       "32998    26454  480_540_198             False  \n",
       "32999    26454  480_540_199             False  \n",
       "\n",
       "[33000 rows x 17 columns]"
      ]
     },
     "execution_count": 27,
     "metadata": {},
     "output_type": "execute_result"
    }
   ],
   "source": [
    "### Test dataset:\n",
    "test_df = pd.read_csv(\"./example_test_files/test.csv\")\n",
    "test_df_targets = pd.read_csv(\"./example_test_files/revealed_targets.csv\")\n",
    "\n",
    "sample_submission = pd.read_csv(\"./example_test_files/sample_submission.csv\")\n",
    "test_df\n"
   ]
  },
  {
   "cell_type": "markdown",
   "id": "fcf9ca15-d2cd-45b7-a21f-f79da03d05f7",
   "metadata": {
    "papermill": {
     "duration": 0.010228,
     "end_time": "2023-11-16T06:41:46.812918",
     "exception": false,
     "start_time": "2023-11-16T06:41:46.802690",
     "status": "completed"
    },
    "tags": []
   },
   "source": [
    "## PreProcessing for X Train y Train"
   ]
  },
  {
   "cell_type": "code",
   "execution_count": null,
   "id": "5682eef8-706f-46d0-9713-ce4b67413a5a",
   "metadata": {
    "jupyter": {
     "outputs_hidden": false
    }
   },
   "outputs": [],
   "source": []
  },
  {
   "cell_type": "code",
   "execution_count": 15,
   "id": "69c8cd7a-92c5-49de-afe6-ca8b90940eb4",
   "metadata": {
    "ExecuteTime": {
     "end_time": "2023-11-16T14:46:39.441882934Z",
     "start_time": "2023-11-16T14:46:38.934669661Z"
    },
    "execution": {
     "iopub.execute_input": "2023-11-16T06:41:46.834476Z",
     "iopub.status.busy": "2023-11-16T06:41:46.833436Z",
     "iopub.status.idle": "2023-11-16T06:41:47.017971Z",
     "shell.execute_reply": "2023-11-16T06:41:47.016864Z"
    },
    "papermill": {
     "duration": 0.197819,
     "end_time": "2023-11-16T06:41:47.020631",
     "exception": false,
     "start_time": "2023-11-16T06:41:46.822812",
     "status": "completed"
    },
    "tags": []
   },
   "outputs": [],
   "source": [
    "\n",
    "y = df_processed['target']\n",
    "X = df_processed.drop(['target'], axis = 1)"
   ]
  },
  {
   "cell_type": "code",
   "execution_count": 16,
   "id": "340851a7-9937-4aa8-9d2f-6abaef74d7f1",
   "metadata": {
    "ExecuteTime": {
     "end_time": "2023-11-16T14:46:39.989298242Z",
     "start_time": "2023-11-16T14:46:39.441588572Z"
    },
    "execution": {
     "iopub.execute_input": "2023-11-16T06:41:47.041830Z",
     "iopub.status.busy": "2023-11-16T06:41:47.041400Z",
     "iopub.status.idle": "2023-11-16T06:41:47.242471Z",
     "shell.execute_reply": "2023-11-16T06:41:47.241252Z"
    },
    "papermill": {
     "duration": 0.21496,
     "end_time": "2023-11-16T06:41:47.245403",
     "exception": false,
     "start_time": "2023-11-16T06:41:47.030443",
     "status": "completed"
    },
    "tags": []
   },
   "outputs": [],
   "source": [
    "X = X.drop(['time_id'], axis = 1)\n"
   ]
  },
  {
   "cell_type": "code",
   "execution_count": 17,
   "id": "ed707b5c-31d4-423d-af3c-311f7aaa7f7f",
   "metadata": {
    "ExecuteTime": {
     "end_time": "2023-11-16T14:46:40.009248656Z",
     "start_time": "2023-11-16T14:46:39.989535115Z"
    },
    "execution": {
     "iopub.execute_input": "2023-11-16T06:41:47.266806Z",
     "iopub.status.busy": "2023-11-16T06:41:47.266435Z",
     "iopub.status.idle": "2023-11-16T06:41:47.272798Z",
     "shell.execute_reply": "2023-11-16T06:41:47.271023Z"
    },
    "papermill": {
     "duration": 0.021392,
     "end_time": "2023-11-16T06:41:47.276684",
     "exception": false,
     "start_time": "2023-11-16T06:41:47.255292",
     "status": "completed"
    },
    "tags": []
   },
   "outputs": [],
   "source": [
    "# Use this same cols to test data\n",
    "X_cols = X.columns"
   ]
  },
  {
   "cell_type": "code",
   "execution_count": 18,
   "id": "b6871c10-cb07-4be5-b6a9-60db788f8807",
   "metadata": {
    "ExecuteTime": {
     "end_time": "2023-11-16T14:46:41.071598246Z",
     "start_time": "2023-11-16T14:46:39.995280836Z"
    },
    "execution": {
     "iopub.execute_input": "2023-11-16T06:41:47.297896Z",
     "iopub.status.busy": "2023-11-16T06:41:47.297502Z",
     "iopub.status.idle": "2023-11-16T06:41:49.971375Z",
     "shell.execute_reply": "2023-11-16T06:41:49.969862Z"
    },
    "papermill": {
     "duration": 2.687292,
     "end_time": "2023-11-16T06:41:49.974065",
     "exception": false,
     "start_time": "2023-11-16T06:41:47.286773",
     "status": "completed"
    },
    "tags": []
   },
   "outputs": [],
   "source": [
    "X_train, X_test, y_train, y_test = train_test_split(X, y, test_size = 0.8, random_state = 42)"
   ]
  },
  {
   "cell_type": "markdown",
   "id": "0c2af470-9b83-4a5f-bf2b-3eab844512d3",
   "metadata": {
    "papermill": {
     "duration": 0.008718,
     "end_time": "2023-11-16T06:41:49.992115",
     "exception": false,
     "start_time": "2023-11-16T06:41:49.983397",
     "status": "completed"
    },
    "tags": []
   },
   "source": [
    "## Building model"
   ]
  },
  {
   "cell_type": "code",
   "execution_count": 23,
   "id": "5b78e362-d008-40c6-a525-4ccbec999657",
   "metadata": {
    "ExecuteTime": {
     "end_time": "2023-11-16T14:48:27.764724964Z",
     "start_time": "2023-11-16T14:48:27.716955177Z"
    },
    "execution": {
     "iopub.execute_input": "2023-11-16T06:41:50.015331Z",
     "iopub.status.busy": "2023-11-16T06:41:50.014977Z",
     "iopub.status.idle": "2023-11-16T06:41:50.021015Z",
     "shell.execute_reply": "2023-11-16T06:41:50.019526Z"
    },
    "papermill": {
     "duration": 0.023071,
     "end_time": "2023-11-16T06:41:50.025068",
     "exception": false,
     "start_time": "2023-11-16T06:41:50.001997",
     "status": "completed"
    },
    "tags": []
   },
   "outputs": [],
   "source": [
    "# Train the model\n",
    "clf = xgb.XGBRegressor(n_estimators = 50, eval_metric = 'mae')\n"
   ]
  },
  {
   "cell_type": "code",
   "execution_count": 24,
   "id": "d98ff475-6a53-4738-910e-a88fb2393427",
   "metadata": {
    "ExecuteTime": {
     "end_time": "2023-11-16T14:48:49.671727177Z",
     "start_time": "2023-11-16T14:48:28.596287386Z"
    },
    "execution": {
     "iopub.execute_input": "2023-11-16T06:41:50.121610Z",
     "iopub.status.busy": "2023-11-16T06:41:50.121203Z",
     "iopub.status.idle": "2023-11-16T06:41:52.225082Z",
     "shell.execute_reply": "2023-11-16T06:41:52.223018Z"
    },
    "papermill": {
     "duration": 2.116838,
     "end_time": "2023-11-16T06:41:52.227452",
     "exception": false,
     "start_time": "2023-11-16T06:41:50.110614",
     "status": "completed"
    },
    "tags": []
   },
   "outputs": [
    {
     "data": {
      "text/html": [
       "<style>#sk-container-id-2 {color: black;}#sk-container-id-2 pre{padding: 0;}#sk-container-id-2 div.sk-toggleable {background-color: white;}#sk-container-id-2 label.sk-toggleable__label {cursor: pointer;display: block;width: 100%;margin-bottom: 0;padding: 0.3em;box-sizing: border-box;text-align: center;}#sk-container-id-2 label.sk-toggleable__label-arrow:before {content: \"▸\";float: left;margin-right: 0.25em;color: #696969;}#sk-container-id-2 label.sk-toggleable__label-arrow:hover:before {color: black;}#sk-container-id-2 div.sk-estimator:hover label.sk-toggleable__label-arrow:before {color: black;}#sk-container-id-2 div.sk-toggleable__content {max-height: 0;max-width: 0;overflow: hidden;text-align: left;background-color: #f0f8ff;}#sk-container-id-2 div.sk-toggleable__content pre {margin: 0.2em;color: black;border-radius: 0.25em;background-color: #f0f8ff;}#sk-container-id-2 input.sk-toggleable__control:checked~div.sk-toggleable__content {max-height: 200px;max-width: 100%;overflow: auto;}#sk-container-id-2 input.sk-toggleable__control:checked~label.sk-toggleable__label-arrow:before {content: \"▾\";}#sk-container-id-2 div.sk-estimator input.sk-toggleable__control:checked~label.sk-toggleable__label {background-color: #d4ebff;}#sk-container-id-2 div.sk-label input.sk-toggleable__control:checked~label.sk-toggleable__label {background-color: #d4ebff;}#sk-container-id-2 input.sk-hidden--visually {border: 0;clip: rect(1px 1px 1px 1px);clip: rect(1px, 1px, 1px, 1px);height: 1px;margin: -1px;overflow: hidden;padding: 0;position: absolute;width: 1px;}#sk-container-id-2 div.sk-estimator {font-family: monospace;background-color: #f0f8ff;border: 1px dotted black;border-radius: 0.25em;box-sizing: border-box;margin-bottom: 0.5em;}#sk-container-id-2 div.sk-estimator:hover {background-color: #d4ebff;}#sk-container-id-2 div.sk-parallel-item::after {content: \"\";width: 100%;border-bottom: 1px solid gray;flex-grow: 1;}#sk-container-id-2 div.sk-label:hover label.sk-toggleable__label {background-color: #d4ebff;}#sk-container-id-2 div.sk-serial::before {content: \"\";position: absolute;border-left: 1px solid gray;box-sizing: border-box;top: 0;bottom: 0;left: 50%;z-index: 0;}#sk-container-id-2 div.sk-serial {display: flex;flex-direction: column;align-items: center;background-color: white;padding-right: 0.2em;padding-left: 0.2em;position: relative;}#sk-container-id-2 div.sk-item {position: relative;z-index: 1;}#sk-container-id-2 div.sk-parallel {display: flex;align-items: stretch;justify-content: center;background-color: white;position: relative;}#sk-container-id-2 div.sk-item::before, #sk-container-id-2 div.sk-parallel-item::before {content: \"\";position: absolute;border-left: 1px solid gray;box-sizing: border-box;top: 0;bottom: 0;left: 50%;z-index: -1;}#sk-container-id-2 div.sk-parallel-item {display: flex;flex-direction: column;z-index: 1;position: relative;background-color: white;}#sk-container-id-2 div.sk-parallel-item:first-child::after {align-self: flex-end;width: 50%;}#sk-container-id-2 div.sk-parallel-item:last-child::after {align-self: flex-start;width: 50%;}#sk-container-id-2 div.sk-parallel-item:only-child::after {width: 0;}#sk-container-id-2 div.sk-dashed-wrapped {border: 1px dashed gray;margin: 0 0.4em 0.5em 0.4em;box-sizing: border-box;padding-bottom: 0.4em;background-color: white;}#sk-container-id-2 div.sk-label label {font-family: monospace;font-weight: bold;display: inline-block;line-height: 1.2em;}#sk-container-id-2 div.sk-label-container {text-align: center;}#sk-container-id-2 div.sk-container {/* jupyter's `normalize.less` sets `[hidden] { display: none; }` but bootstrap.min.css set `[hidden] { display: none !important; }` so we also need the `!important` here to be able to override the default hidden behavior on the sphinx rendered scikit-learn.org. See: https://github.com/scikit-learn/scikit-learn/issues/21755 */display: inline-block !important;position: relative;}#sk-container-id-2 div.sk-text-repr-fallback {display: none;}</style><div id=\"sk-container-id-2\" class=\"sk-top-container\"><div class=\"sk-text-repr-fallback\"><pre>XGBRegressor(base_score=None, booster=None, callbacks=None,\n",
       "             colsample_bylevel=None, colsample_bynode=None,\n",
       "             colsample_bytree=None, early_stopping_rounds=None,\n",
       "             enable_categorical=False, eval_metric=&#x27;mae&#x27;, feature_types=None,\n",
       "             gamma=None, gpu_id=None, grow_policy=None, importance_type=None,\n",
       "             interaction_constraints=None, learning_rate=None, max_bin=None,\n",
       "             max_cat_threshold=None, max_cat_to_onehot=None,\n",
       "             max_delta_step=None, max_depth=None, max_leaves=None,\n",
       "             min_child_weight=None, missing=nan, monotone_constraints=None,\n",
       "             n_estimators=50, n_jobs=None, num_parallel_tree=None,\n",
       "             predictor=None, random_state=None, ...)</pre><b>In a Jupyter environment, please rerun this cell to show the HTML representation or trust the notebook. <br />On GitHub, the HTML representation is unable to render, please try loading this page with nbviewer.org.</b></div><div class=\"sk-container\" hidden><div class=\"sk-item\"><div class=\"sk-estimator sk-toggleable\"><input class=\"sk-toggleable__control sk-hidden--visually\" id=\"sk-estimator-id-2\" type=\"checkbox\" checked><label for=\"sk-estimator-id-2\" class=\"sk-toggleable__label sk-toggleable__label-arrow\">XGBRegressor</label><div class=\"sk-toggleable__content\"><pre>XGBRegressor(base_score=None, booster=None, callbacks=None,\n",
       "             colsample_bylevel=None, colsample_bynode=None,\n",
       "             colsample_bytree=None, early_stopping_rounds=None,\n",
       "             enable_categorical=False, eval_metric=&#x27;mae&#x27;, feature_types=None,\n",
       "             gamma=None, gpu_id=None, grow_policy=None, importance_type=None,\n",
       "             interaction_constraints=None, learning_rate=None, max_bin=None,\n",
       "             max_cat_threshold=None, max_cat_to_onehot=None,\n",
       "             max_delta_step=None, max_depth=None, max_leaves=None,\n",
       "             min_child_weight=None, missing=nan, monotone_constraints=None,\n",
       "             n_estimators=50, n_jobs=None, num_parallel_tree=None,\n",
       "             predictor=None, random_state=None, ...)</pre></div></div></div></div></div>"
      ],
      "text/plain": [
       "XGBRegressor(base_score=None, booster=None, callbacks=None,\n",
       "             colsample_bylevel=None, colsample_bynode=None,\n",
       "             colsample_bytree=None, early_stopping_rounds=None,\n",
       "             enable_categorical=False, eval_metric='mae', feature_types=None,\n",
       "             gamma=None, gpu_id=None, grow_policy=None, importance_type=None,\n",
       "             interaction_constraints=None, learning_rate=None, max_bin=None,\n",
       "             max_cat_threshold=None, max_cat_to_onehot=None,\n",
       "             max_delta_step=None, max_depth=None, max_leaves=None,\n",
       "             min_child_weight=None, missing=nan, monotone_constraints=None,\n",
       "             n_estimators=50, n_jobs=None, num_parallel_tree=None,\n",
       "             predictor=None, random_state=None, ...)"
      ]
     },
     "execution_count": 24,
     "metadata": {},
     "output_type": "execute_result"
    }
   ],
   "source": [
    "clf.fit(X_train, y_train)"
   ]
  },
  {
   "cell_type": "code",
   "execution_count": 25,
   "id": "77e5178b-ef9f-4f54-a106-d57b2c1b11af",
   "metadata": {
    "ExecuteTime": {
     "end_time": "2023-11-16T14:48:50.571465508Z",
     "start_time": "2023-11-16T14:48:49.667178028Z"
    },
    "execution": {
     "iopub.execute_input": "2023-11-16T06:41:52.249670Z",
     "iopub.status.busy": "2023-11-16T06:41:52.248174Z",
     "iopub.status.idle": "2023-11-16T06:41:53.255135Z",
     "shell.execute_reply": "2023-11-16T06:41:53.254180Z"
    },
    "papermill": {
     "duration": 1.020271,
     "end_time": "2023-11-16T06:41:53.257714",
     "exception": false,
     "start_time": "2023-11-16T06:41:52.237443",
     "status": "completed"
    },
    "tags": []
   },
   "outputs": [
    {
     "data": {
      "text/plain": [
       "array([-0.3988465 ,  0.16856651, -0.1897864 , ..., -0.6606394 ,\n",
       "       -0.23136507, -1.6553824 ], dtype=float32)"
      ]
     },
     "execution_count": 25,
     "metadata": {},
     "output_type": "execute_result"
    }
   ],
   "source": [
    "y_pred = clf.predict(X_test)\n",
    "y_pred"
   ]
  },
  {
   "cell_type": "markdown",
   "id": "03e22d71-65fd-4575-8bf9-f99b5db76302",
   "metadata": {
    "papermill": {
     "duration": 0.009998,
     "end_time": "2023-11-16T06:41:53.278222",
     "exception": false,
     "start_time": "2023-11-16T06:41:53.268224",
     "status": "completed"
    },
    "tags": []
   },
   "source": [
    "## Evaluation"
   ]
  },
  {
   "cell_type": "code",
   "execution_count": 25,
   "id": "3150891c-4c65-4e4b-b68e-bf4ab455c441",
   "metadata": {
    "ExecuteTime": {
     "end_time": "2023-11-16T14:48:50.630358573Z",
     "start_time": "2023-11-16T14:48:50.572363485Z"
    },
    "papermill": {
     "duration": 0.009999,
     "end_time": "2023-11-16T06:41:53.299221",
     "exception": false,
     "start_time": "2023-11-16T06:41:53.289222",
     "status": "completed"
    },
    "tags": []
   },
   "outputs": [],
   "source": []
  },
  {
   "cell_type": "code",
   "execution_count": 26,
   "id": "1eb4e49c-f394-41d6-b031-dfea56484a4c",
   "metadata": {
    "ExecuteTime": {
     "end_time": "2023-11-16T14:48:50.630841571Z",
     "start_time": "2023-11-16T14:48:50.615069992Z"
    },
    "execution": {
     "iopub.execute_input": "2023-11-16T06:41:53.321391Z",
     "iopub.status.busy": "2023-11-16T06:41:53.320954Z",
     "iopub.status.idle": "2023-11-16T06:41:53.355073Z",
     "shell.execute_reply": "2023-11-16T06:41:53.353316Z"
    },
    "papermill": {
     "duration": 0.048551,
     "end_time": "2023-11-16T06:41:53.357724",
     "exception": false,
     "start_time": "2023-11-16T06:41:53.309173",
     "status": "completed"
    },
    "tags": []
   },
   "outputs": [
    {
     "name": "stdout",
     "output_type": "stream",
     "text": [
      "Mean Absolute Error: 6.314560903624651\n"
     ]
    }
   ],
   "source": [
    "mae = mean_absolute_error(y_pred, y_test)\n",
    "print(\"Mean Absolute Error: {}\".format(mae))"
   ]
  },
  {
   "cell_type": "markdown",
   "id": "85bfbb8c-89d5-47c2-a463-feef7da8e471",
   "metadata": {
    "papermill": {
     "duration": 0.009824,
     "end_time": "2023-11-16T06:41:53.377943",
     "exception": false,
     "start_time": "2023-11-16T06:41:53.368119",
     "status": "completed"
    },
    "tags": []
   },
   "source": [
    "### Prediction on the real test data"
   ]
  },
  {
   "cell_type": "code",
   "execution_count": 23,
   "id": "38014135-a10d-471d-857f-584e869059aa",
   "metadata": {
    "execution": {
     "iopub.execute_input": "2023-11-16T06:41:53.400489Z",
     "iopub.status.busy": "2023-11-16T06:41:53.400030Z",
     "iopub.status.idle": "2023-11-16T06:41:53.422869Z",
     "shell.execute_reply": "2023-11-16T06:41:53.422135Z"
    },
    "papermill": {
     "duration": 0.036837,
     "end_time": "2023-11-16T06:41:53.424793",
     "exception": false,
     "start_time": "2023-11-16T06:41:53.387956",
     "status": "completed"
    },
    "tags": []
   },
   "outputs": [
    {
     "data": {
      "text/plain": [
       "array([-2.033901  ,  1.4639628 ,  2.425465  , ...,  0.72875226,\n",
       "        1.657935  , -1.4829203 ], dtype=float32)"
      ]
     },
     "execution_count": 23,
     "metadata": {},
     "output_type": "execute_result"
    }
   ],
   "source": [
    "\n",
    "test_preds = clf.predict(test_df[X_cols])\n",
    "test_preds"
   ]
  },
  {
   "cell_type": "code",
   "execution_count": 24,
   "id": "50a1893f-bfe5-4781-98f1-0a9b2ab95092",
   "metadata": {
    "execution": {
     "iopub.execute_input": "2023-11-16T06:41:53.446308Z",
     "iopub.status.busy": "2023-11-16T06:41:53.445970Z",
     "iopub.status.idle": "2023-11-16T06:41:53.451248Z",
     "shell.execute_reply": "2023-11-16T06:41:53.449934Z"
    },
    "papermill": {
     "duration": 0.017949,
     "end_time": "2023-11-16T06:41:53.453099",
     "exception": false,
     "start_time": "2023-11-16T06:41:53.435150",
     "status": "completed"
    },
    "tags": []
   },
   "outputs": [],
   "source": [
    "# pd.DataFrame({'row_id':sample_submission[\"row_id\"],'target':test_preds}).to_csv('submission.csv', index=False)"
   ]
  },
  {
   "cell_type": "code",
   "execution_count": 30,
   "id": "3f83e1df-8f7a-439a-a2d7-ec7be4dacd7c",
   "metadata": {
    "ExecuteTime": {
     "end_time": "2023-11-16T15:44:54.337897539Z",
     "start_time": "2023-11-16T15:44:54.272326454Z"
    },
    "execution": {
     "iopub.execute_input": "2023-11-16T06:41:53.475372Z",
     "iopub.status.busy": "2023-11-16T06:41:53.474795Z",
     "iopub.status.idle": "2023-11-16T06:41:53.510538Z",
     "shell.execute_reply": "2023-11-16T06:41:53.509338Z"
    },
    "papermill": {
     "duration": 0.049783,
     "end_time": "2023-11-16T06:41:53.513126",
     "exception": false,
     "start_time": "2023-11-16T06:41:53.463343",
     "status": "completed"
    },
    "tags": []
   },
   "outputs": [],
   "source": [
    "import optiver2023\n",
    "env = optiver2023.make_env()\n",
    "iter_test = env.iter_test()"
   ]
  },
  {
   "cell_type": "code",
   "execution_count": 26,
   "id": "e971ad17-0a3e-4faa-9271-f44e7d27ee0e",
   "metadata": {
    "execution": {
     "iopub.execute_input": "2023-11-16T06:41:53.536956Z",
     "iopub.status.busy": "2023-11-16T06:41:53.536430Z",
     "iopub.status.idle": "2023-11-16T06:41:53.612628Z",
     "shell.execute_reply": "2023-11-16T06:41:53.611549Z"
    },
    "papermill": {
     "duration": 0.092519,
     "end_time": "2023-11-16T06:41:53.615916",
     "exception": false,
     "start_time": "2023-11-16T06:41:53.523397",
     "status": "completed"
    },
    "tags": []
   },
   "outputs": [],
   "source": [
    "revealed = pd.read_csv('/kaggle/input/optiver-trading-at-the-close/example_test_files/revealed_targets.csv')\n",
    "test = pd.read_csv('/kaggle/input/optiver-trading-at-the-close/example_test_files/test.csv')\n"
   ]
  },
  {
   "cell_type": "code",
   "execution_count": 27,
   "id": "584c605c-5d35-4652-b912-619fb222f083",
   "metadata": {
    "execution": {
     "iopub.execute_input": "2023-11-16T06:41:53.638566Z",
     "iopub.status.busy": "2023-11-16T06:41:53.638163Z",
     "iopub.status.idle": "2023-11-16T06:41:54.110406Z",
     "shell.execute_reply": "2023-11-16T06:41:54.109372Z"
    },
    "papermill": {
     "duration": 0.486718,
     "end_time": "2023-11-16T06:41:54.113268",
     "exception": false,
     "start_time": "2023-11-16T06:41:53.626550",
     "status": "completed"
    },
    "scrolled": true,
    "tags": []
   },
   "outputs": [
    {
     "name": "stdout",
     "output_type": "stream",
     "text": [
      "This version of the API is not optimized and should not be used to estimate the runtime of your code on the hidden test set.\n",
      "   stock_id  date_id  seconds_in_bucket  imbalance_size  \\\n",
      "0         0      478                  0      3753451.43   \n",
      "1         1      478                  0       985977.11   \n",
      "2         2      478                  0       599128.74   \n",
      "\n",
      "   imbalance_buy_sell_flag  reference_price  matched_size  far_price  \\\n",
      "0                       -1         0.999875   11548975.43        NaN   \n",
      "1                       -1         1.000245    3850033.97        NaN   \n",
      "2                        1         1.000584    4359198.25        NaN   \n",
      "\n",
      "   near_price  bid_price  bid_size  ask_price  ask_size  wap   row_id  \\\n",
      "0         NaN   0.999875  22940.00   1.000050   9177.60  1.0  478_0_0   \n",
      "1         NaN   0.999940   1967.90   1.000601  19692.00  1.0  478_0_1   \n",
      "2         NaN   0.999918   4488.22   1.000636  34955.12  1.0  478_0_2   \n",
      "\n",
      "   currently_scored  \n",
      "0             False  \n",
      "1             False  \n",
      "2             False  \n",
      "   stock_id  date_id  seconds_in_bucket  revealed_target  revealed_date_id  \\\n",
      "0         0      478                  0        -2.310276               477   \n",
      "1         1      478                  0       -12.850165               477   \n",
      "2         2      478                  0        -0.439882               477   \n",
      "\n",
      "   revealed_time_id  \n",
      "0             26235  \n",
      "1             26235  \n",
      "2             26235  \n",
      "    row_id  target\n",
      "0  478_0_0     0.0\n",
      "1  478_0_1     0.0\n",
      "2  478_0_2     0.0\n"
     ]
    }
   ],
   "source": [
    "counter = 0\n",
    "for (test, revealed_targets, test_preds) in iter_test:\n",
    "    if counter == 0:\n",
    "        print(test.head(3))\n",
    "        print(revealed_targets.head(3))\n",
    "        print(test_preds.head(3))\n",
    "    test_preds['target'] = 0\n",
    "    env.predict(test_preds)\n",
    "    counter += 1"
   ]
  }
 ],
 "metadata": {
  "kaggle": {
   "accelerator": "none",
   "dataSources": [
    {
     "databundleVersionId": 7056235,
     "sourceId": 57891,
     "sourceType": "competition"
    }
   ],
   "dockerImageVersionId": 30587,
   "isGpuEnabled": false,
   "isInternetEnabled": true,
   "language": "python",
   "sourceType": "notebook"
  },
  "kernelspec": {
   "display_name": "Python 3 (ipykernel)",
   "language": "python",
   "name": "python3"
  },
  "language_info": {
   "codemirror_mode": {
    "name": "ipython",
    "version": 3
   },
   "file_extension": ".py",
   "mimetype": "text/x-python",
   "name": "python",
   "nbconvert_exporter": "python",
   "pygments_lexer": "ipython3",
   "version": "3.10.1"
  },
  "papermill": {
   "default_parameters": {},
   "duration": 5.460298,
   "end_time": "2023-11-16T15:56:47.613258",
   "environment_variables": {},
   "exception": null,
   "input_path": "__notebook__.ipynb",
   "output_path": "__notebook__.ipynb",
   "parameters": {},
   "start_time": "2023-11-16T15:56:42.152960",
   "version": "2.4.0"
  }
 },
 "nbformat": 4,
 "nbformat_minor": 5
}
