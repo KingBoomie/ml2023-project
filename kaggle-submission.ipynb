{
 "cells": [
  {
   "cell_type": "code",
   "execution_count": 1,
   "id": "70c78e8f",
   "metadata": {
    "_cell_guid": "b1076dfc-b9ad-4769-8c92-a6c4dae69d19",
    "_uuid": "8f2839f25d086af736a60e9eeb907d3b93b6e0e5",
    "execution": {
     "iopub.execute_input": "2023-11-16T16:15:39.317585Z",
     "iopub.status.busy": "2023-11-16T16:15:39.316297Z",
     "iopub.status.idle": "2023-11-16T16:15:39.765002Z",
     "shell.execute_reply": "2023-11-16T16:15:39.763801Z"
    },
    "papermill": {
     "duration": 0.467634,
     "end_time": "2023-11-16T16:15:39.767677",
     "exception": false,
     "start_time": "2023-11-16T16:15:39.300043",
     "status": "completed"
    },
    "tags": []
   },
   "outputs": [
    {
     "name": "stdout",
     "output_type": "stream",
     "text": [
      "/kaggle/input/optiver-trading-at-the-close/public_timeseries_testing_util.py\n",
      "/kaggle/input/optiver-trading-at-the-close/train.csv\n",
      "/kaggle/input/optiver-trading-at-the-close/example_test_files/sample_submission.csv\n",
      "/kaggle/input/optiver-trading-at-the-close/example_test_files/revealed_targets.csv\n",
      "/kaggle/input/optiver-trading-at-the-close/example_test_files/test.csv\n",
      "/kaggle/input/optiver-trading-at-the-close/optiver2023/competition.cpython-310-x86_64-linux-gnu.so\n",
      "/kaggle/input/optiver-trading-at-the-close/optiver2023/__init__.py\n"
     ]
    }
   ],
   "source": [
    "# This Python 3 environment comes with many helpful analytics libraries installed\n",
    "# It is defined by the kaggle/python Docker image: https://github.com/kaggle/docker-python\n",
    "# For example, here's several helpful packages to load\n",
    "\n",
    "import numpy as np # linear algebra\n",
    "import pandas as pd # data processing, CSV file I/O (e.g. pd.read_csv)\n",
    "\n",
    "# Input data files are available in the read-only \"../input/\" directory\n",
    "# For example, running this (by clicking run or pressing Shift+Enter) will list all files under the input directory\n",
    "\n",
    "import os\n",
    "for dirname, _, filenames in os.walk('/kaggle/input'):\n",
    "    for filename in filenames:\n",
    "        print(os.path.join(dirname, filename))\n",
    "\n",
    "# You can write up to 20GB to the current directory (/kaggle/working/) that gets preserved as output when you create a version using \"Save & Run All\" \n",
    "# You can also write temporary files to /kaggle/temp/, but they won't be saved outside of the current session"
   ]
  },
  {
   "cell_type": "code",
   "execution_count": 2,
   "id": "b99736f6",
   "metadata": {
    "ExecuteTime": {
     "end_time": "2023-11-16T16:00:29.496150424Z",
     "start_time": "2023-11-16T16:00:28.962765124Z"
    },
    "collapsed": false,
    "execution": {
     "iopub.execute_input": "2023-11-16T16:15:39.796311Z",
     "iopub.status.busy": "2023-11-16T16:15:39.795807Z",
     "iopub.status.idle": "2023-11-16T16:15:41.840781Z",
     "shell.execute_reply": "2023-11-16T16:15:41.839386Z"
    },
    "jupyter": {
     "outputs_hidden": false
    },
    "papermill": {
     "duration": 2.063282,
     "end_time": "2023-11-16T16:15:41.844510",
     "exception": false,
     "start_time": "2023-11-16T16:15:39.781228",
     "status": "completed"
    },
    "tags": []
   },
   "outputs": [],
   "source": [
    "# Deps\n",
    "import warnings\n",
    "warnings.simplefilter(action='ignore', category=FutureWarning)\n",
    "\n",
    "\n",
    "import pandas as pd\n",
    "import xgboost as xgb\n",
    "import numpy as np\n",
    "from sklearn.model_selection import train_test_split\n",
    "from sklearn.metrics import mean_squared_error, mean_absolute_error\n",
    "from sklearn.impute import SimpleImputer\n"
   ]
  },
  {
   "cell_type": "code",
   "execution_count": 3,
   "id": "e23b3aab",
   "metadata": {
    "execution": {
     "iopub.execute_input": "2023-11-16T16:15:41.875683Z",
     "iopub.status.busy": "2023-11-16T16:15:41.874516Z",
     "iopub.status.idle": "2023-11-16T16:15:41.895100Z",
     "shell.execute_reply": "2023-11-16T16:15:41.894013Z"
    },
    "papermill": {
     "duration": 0.038902,
     "end_time": "2023-11-16T16:15:41.897801",
     "exception": false,
     "start_time": "2023-11-16T16:15:41.858899",
     "status": "completed"
    },
    "tags": []
   },
   "outputs": [],
   "source": [
    "import optiver2023\n",
    "env = optiver2023.make_env()\n",
    "iter_test = env.iter_test()\n"
   ]
  },
  {
   "cell_type": "code",
   "execution_count": null,
   "id": "5f9a741e",
   "metadata": {
    "papermill": {
     "duration": 0.013023,
     "end_time": "2023-11-16T16:15:41.925033",
     "exception": false,
     "start_time": "2023-11-16T16:15:41.912010",
     "status": "completed"
    },
    "scrolled": true,
    "tags": []
   },
   "outputs": [],
   "source": []
  },
  {
   "cell_type": "code",
   "execution_count": null,
   "id": "e2f626f3",
   "metadata": {
    "papermill": {
     "duration": 0.013988,
     "end_time": "2023-11-16T16:15:41.953665",
     "exception": false,
     "start_time": "2023-11-16T16:15:41.939677",
     "status": "completed"
    },
    "tags": []
   },
   "outputs": [],
   "source": []
  },
  {
   "cell_type": "markdown",
   "id": "e610c43e",
   "metadata": {
    "papermill": {
     "duration": 0.013017,
     "end_time": "2023-11-16T16:15:41.980408",
     "exception": false,
     "start_time": "2023-11-16T16:15:41.967391",
     "status": "completed"
    },
    "tags": []
   },
   "source": [
    "## Load the data"
   ]
  },
  {
   "cell_type": "code",
   "execution_count": 4,
   "id": "db7f9e04",
   "metadata": {
    "ExecuteTime": {
     "end_time": "2023-11-16T14:46:26.662305064Z",
     "start_time": "2023-11-16T14:46:21.016210797Z"
    },
    "execution": {
     "iopub.execute_input": "2023-11-16T16:15:42.009476Z",
     "iopub.status.busy": "2023-11-16T16:15:42.009068Z",
     "iopub.status.idle": "2023-11-16T16:16:03.390053Z",
     "shell.execute_reply": "2023-11-16T16:16:03.388670Z"
    },
    "papermill": {
     "duration": 21.398754,
     "end_time": "2023-11-16T16:16:03.392689",
     "exception": false,
     "start_time": "2023-11-16T16:15:41.993935",
     "status": "completed"
    },
    "tags": []
   },
   "outputs": [
    {
     "data": {
      "text/html": [
       "<div>\n",
       "<style scoped>\n",
       "    .dataframe tbody tr th:only-of-type {\n",
       "        vertical-align: middle;\n",
       "    }\n",
       "\n",
       "    .dataframe tbody tr th {\n",
       "        vertical-align: top;\n",
       "    }\n",
       "\n",
       "    .dataframe thead th {\n",
       "        text-align: right;\n",
       "    }\n",
       "</style>\n",
       "<table border=\"1\" class=\"dataframe\">\n",
       "  <thead>\n",
       "    <tr style=\"text-align: right;\">\n",
       "      <th></th>\n",
       "      <th>stock_id</th>\n",
       "      <th>date_id</th>\n",
       "      <th>seconds_in_bucket</th>\n",
       "      <th>imbalance_size</th>\n",
       "      <th>imbalance_buy_sell_flag</th>\n",
       "      <th>reference_price</th>\n",
       "      <th>matched_size</th>\n",
       "      <th>far_price</th>\n",
       "      <th>near_price</th>\n",
       "      <th>bid_price</th>\n",
       "      <th>bid_size</th>\n",
       "      <th>ask_price</th>\n",
       "      <th>ask_size</th>\n",
       "      <th>wap</th>\n",
       "      <th>target</th>\n",
       "      <th>time_id</th>\n",
       "      <th>row_id</th>\n",
       "    </tr>\n",
       "  </thead>\n",
       "  <tbody>\n",
       "    <tr>\n",
       "      <th>0</th>\n",
       "      <td>0</td>\n",
       "      <td>0</td>\n",
       "      <td>0</td>\n",
       "      <td>3180602.69</td>\n",
       "      <td>1</td>\n",
       "      <td>0.999812</td>\n",
       "      <td>13380276.64</td>\n",
       "      <td>NaN</td>\n",
       "      <td>NaN</td>\n",
       "      <td>0.999812</td>\n",
       "      <td>60651.50</td>\n",
       "      <td>1.000026</td>\n",
       "      <td>8493.03</td>\n",
       "      <td>1.0</td>\n",
       "      <td>-3.029704</td>\n",
       "      <td>0</td>\n",
       "      <td>0_0_0</td>\n",
       "    </tr>\n",
       "    <tr>\n",
       "      <th>1</th>\n",
       "      <td>1</td>\n",
       "      <td>0</td>\n",
       "      <td>0</td>\n",
       "      <td>166603.91</td>\n",
       "      <td>-1</td>\n",
       "      <td>0.999896</td>\n",
       "      <td>1642214.25</td>\n",
       "      <td>NaN</td>\n",
       "      <td>NaN</td>\n",
       "      <td>0.999896</td>\n",
       "      <td>3233.04</td>\n",
       "      <td>1.000660</td>\n",
       "      <td>20605.09</td>\n",
       "      <td>1.0</td>\n",
       "      <td>-5.519986</td>\n",
       "      <td>0</td>\n",
       "      <td>0_0_1</td>\n",
       "    </tr>\n",
       "    <tr>\n",
       "      <th>2</th>\n",
       "      <td>2</td>\n",
       "      <td>0</td>\n",
       "      <td>0</td>\n",
       "      <td>302879.87</td>\n",
       "      <td>-1</td>\n",
       "      <td>0.999561</td>\n",
       "      <td>1819368.03</td>\n",
       "      <td>NaN</td>\n",
       "      <td>NaN</td>\n",
       "      <td>0.999403</td>\n",
       "      <td>37956.00</td>\n",
       "      <td>1.000298</td>\n",
       "      <td>18995.00</td>\n",
       "      <td>1.0</td>\n",
       "      <td>-8.389950</td>\n",
       "      <td>0</td>\n",
       "      <td>0_0_2</td>\n",
       "    </tr>\n",
       "    <tr>\n",
       "      <th>3</th>\n",
       "      <td>3</td>\n",
       "      <td>0</td>\n",
       "      <td>0</td>\n",
       "      <td>11917682.27</td>\n",
       "      <td>-1</td>\n",
       "      <td>1.000171</td>\n",
       "      <td>18389745.62</td>\n",
       "      <td>NaN</td>\n",
       "      <td>NaN</td>\n",
       "      <td>0.999999</td>\n",
       "      <td>2324.90</td>\n",
       "      <td>1.000214</td>\n",
       "      <td>479032.40</td>\n",
       "      <td>1.0</td>\n",
       "      <td>-4.010200</td>\n",
       "      <td>0</td>\n",
       "      <td>0_0_3</td>\n",
       "    </tr>\n",
       "    <tr>\n",
       "      <th>4</th>\n",
       "      <td>4</td>\n",
       "      <td>0</td>\n",
       "      <td>0</td>\n",
       "      <td>447549.96</td>\n",
       "      <td>-1</td>\n",
       "      <td>0.999532</td>\n",
       "      <td>17860614.95</td>\n",
       "      <td>NaN</td>\n",
       "      <td>NaN</td>\n",
       "      <td>0.999394</td>\n",
       "      <td>16485.54</td>\n",
       "      <td>1.000016</td>\n",
       "      <td>434.10</td>\n",
       "      <td>1.0</td>\n",
       "      <td>-7.349849</td>\n",
       "      <td>0</td>\n",
       "      <td>0_0_4</td>\n",
       "    </tr>\n",
       "  </tbody>\n",
       "</table>\n",
       "</div>"
      ],
      "text/plain": [
       "   stock_id  date_id  seconds_in_bucket  imbalance_size  \\\n",
       "0         0        0                  0      3180602.69   \n",
       "1         1        0                  0       166603.91   \n",
       "2         2        0                  0       302879.87   \n",
       "3         3        0                  0     11917682.27   \n",
       "4         4        0                  0       447549.96   \n",
       "\n",
       "   imbalance_buy_sell_flag  reference_price  matched_size  far_price  \\\n",
       "0                        1         0.999812   13380276.64        NaN   \n",
       "1                       -1         0.999896    1642214.25        NaN   \n",
       "2                       -1         0.999561    1819368.03        NaN   \n",
       "3                       -1         1.000171   18389745.62        NaN   \n",
       "4                       -1         0.999532   17860614.95        NaN   \n",
       "\n",
       "   near_price  bid_price  bid_size  ask_price   ask_size  wap    target  \\\n",
       "0         NaN   0.999812  60651.50   1.000026    8493.03  1.0 -3.029704   \n",
       "1         NaN   0.999896   3233.04   1.000660   20605.09  1.0 -5.519986   \n",
       "2         NaN   0.999403  37956.00   1.000298   18995.00  1.0 -8.389950   \n",
       "3         NaN   0.999999   2324.90   1.000214  479032.40  1.0 -4.010200   \n",
       "4         NaN   0.999394  16485.54   1.000016     434.10  1.0 -7.349849   \n",
       "\n",
       "   time_id row_id  \n",
       "0        0  0_0_0  \n",
       "1        0  0_0_1  \n",
       "2        0  0_0_2  \n",
       "3        0  0_0_3  \n",
       "4        0  0_0_4  "
      ]
     },
     "execution_count": 4,
     "metadata": {},
     "output_type": "execute_result"
    }
   ],
   "source": [
    "# Load and preprocess the data\n",
    "train_df = pd.read_csv('/kaggle/input/optiver-trading-at-the-close/train.csv')\n",
    "train_df.head()\n"
   ]
  },
  {
   "cell_type": "markdown",
   "id": "4dd70c15",
   "metadata": {
    "papermill": {
     "duration": 0.013222,
     "end_time": "2023-11-16T16:16:03.419582",
     "exception": false,
     "start_time": "2023-11-16T16:16:03.406360",
     "status": "completed"
    },
    "tags": []
   },
   "source": [
    "## EDA"
   ]
  },
  {
   "cell_type": "code",
   "execution_count": 5,
   "id": "2e18d887",
   "metadata": {
    "ExecuteTime": {
     "end_time": "2023-11-16T14:46:26.665791577Z",
     "start_time": "2023-11-16T14:46:26.662922480Z"
    },
    "execution": {
     "iopub.execute_input": "2023-11-16T16:16:03.448611Z",
     "iopub.status.busy": "2023-11-16T16:16:03.448213Z",
     "iopub.status.idle": "2023-11-16T16:16:03.455696Z",
     "shell.execute_reply": "2023-11-16T16:16:03.454321Z"
    },
    "papermill": {
     "duration": 0.02546,
     "end_time": "2023-11-16T16:16:03.458841",
     "exception": false,
     "start_time": "2023-11-16T16:16:03.433381",
     "status": "completed"
    },
    "tags": []
   },
   "outputs": [
    {
     "name": "stdout",
     "output_type": "stream",
     "text": [
      "Shape of the DataFrame: (5237980, 17)\n",
      "Columns in the DataFrame: Index(['stock_id', 'date_id', 'seconds_in_bucket', 'imbalance_size',\n",
      "       'imbalance_buy_sell_flag', 'reference_price', 'matched_size',\n",
      "       'far_price', 'near_price', 'bid_price', 'bid_size', 'ask_price',\n",
      "       'ask_size', 'wap', 'target', 'time_id', 'row_id'],\n",
      "      dtype='object')\n"
     ]
    }
   ],
   "source": [
    "def print_df(df):\n",
    "    # Print the shape of the DataFrame\n",
    "    print(\"Shape of the DataFrame:\", df.shape)\n",
    "    # Print the columns of the DataFrame\n",
    "    print(\"Columns in the DataFrame:\", df.columns)\n",
    "\n",
    "\n",
    "print_df(train_df)"
   ]
  },
  {
   "cell_type": "code",
   "execution_count": 6,
   "id": "3eefb5d0",
   "metadata": {
    "ExecuteTime": {
     "end_time": "2023-11-16T14:46:26.738958335Z",
     "start_time": "2023-11-16T14:46:26.666175922Z"
    },
    "execution": {
     "iopub.execute_input": "2023-11-16T16:16:03.487740Z",
     "iopub.status.busy": "2023-11-16T16:16:03.487320Z",
     "iopub.status.idle": "2023-11-16T16:16:03.530102Z",
     "shell.execute_reply": "2023-11-16T16:16:03.528846Z"
    },
    "papermill": {
     "duration": 0.060766,
     "end_time": "2023-11-16T16:16:03.533235",
     "exception": false,
     "start_time": "2023-11-16T16:16:03.472469",
     "status": "completed"
    },
    "tags": []
   },
   "outputs": [
    {
     "data": {
      "text/plain": [
       "200"
      ]
     },
     "execution_count": 6,
     "metadata": {},
     "output_type": "execute_result"
    }
   ],
   "source": [
    "# Available Stocks count\n",
    "len(train_df.stock_id.unique())"
   ]
  },
  {
   "cell_type": "code",
   "execution_count": 7,
   "id": "0c71dc3f",
   "metadata": {
    "ExecuteTime": {
     "end_time": "2023-11-16T14:46:27.433079831Z",
     "start_time": "2023-11-16T14:46:26.693143512Z"
    },
    "execution": {
     "iopub.execute_input": "2023-11-16T16:16:03.564077Z",
     "iopub.status.busy": "2023-11-16T16:16:03.562682Z",
     "iopub.status.idle": "2023-11-16T16:16:04.670105Z",
     "shell.execute_reply": "2023-11-16T16:16:04.668689Z"
    },
    "papermill": {
     "duration": 1.125437,
     "end_time": "2023-11-16T16:16:04.673039",
     "exception": false,
     "start_time": "2023-11-16T16:16:03.547602",
     "status": "completed"
    },
    "tags": []
   },
   "outputs": [
    {
     "data": {
      "text/plain": [
       "<Axes: >"
      ]
     },
     "execution_count": 7,
     "metadata": {},
     "output_type": "execute_result"
    },
    {
     "data": {
      "image/png": "[encoded data removed]",
      "text/plain": [
       "<Figure size 640x480 with 1 Axes>"
      ]
     },
     "metadata": {},
     "output_type": "display_data"
    }
   ],
   "source": [
    "train_df.isna().sum().sort_values(ascending=False).plot(kind='bar')"
   ]
  },
  {
   "cell_type": "code",
   "execution_count": 8,
   "id": "866efd00",
   "metadata": {
    "ExecuteTime": {
     "end_time": "2023-11-16T14:46:28.108851302Z",
     "start_time": "2023-11-16T14:46:27.432493480Z"
    },
    "execution": {
     "iopub.execute_input": "2023-11-16T16:16:04.705823Z",
     "iopub.status.busy": "2023-11-16T16:16:04.705408Z",
     "iopub.status.idle": "2023-11-16T16:16:06.140326Z",
     "shell.execute_reply": "2023-11-16T16:16:06.139163Z"
    },
    "papermill": {
     "duration": 1.45433,
     "end_time": "2023-11-16T16:16:06.143072",
     "exception": false,
     "start_time": "2023-11-16T16:16:04.688742",
     "status": "completed"
    },
    "tags": []
   },
   "outputs": [
    {
     "data": {
      "image/png": "[encoded data removed]",
      "text/plain": [
       "<Figure size 640x480 with 1 Axes>"
      ]
     },
     "metadata": {},
     "output_type": "display_data"
    }
   ],
   "source": [
    "# Check the total null values of df\n",
    "def check_null(df,return_null_cols=False, null_cols_count=2, ):\n",
    "    df = df.copy()\n",
    "    vals = df.isna().sum().sort_values(ascending=False).plot(kind='bar')\n",
    "    if return_null_cols:\n",
    "        return vals[:null_cols_count].index\n",
    "\n",
    "null_cols = check_null(train_df)"
   ]
  },
  {
   "cell_type": "code",
   "execution_count": 9,
   "id": "b07eb69a",
   "metadata": {
    "ExecuteTime": {
     "end_time": "2023-11-16T14:46:28.135918891Z",
     "start_time": "2023-11-16T14:46:28.109677645Z"
    },
    "execution": {
     "iopub.execute_input": "2023-11-16T16:16:06.177331Z",
     "iopub.status.busy": "2023-11-16T16:16:06.176688Z",
     "iopub.status.idle": "2023-11-16T16:16:06.181487Z",
     "shell.execute_reply": "2023-11-16T16:16:06.180600Z"
    },
    "papermill": {
     "duration": 0.024694,
     "end_time": "2023-11-16T16:16:06.184298",
     "exception": false,
     "start_time": "2023-11-16T16:16:06.159604",
     "status": "completed"
    },
    "tags": []
   },
   "outputs": [],
   "source": [
    "null_cols"
   ]
  },
  {
   "cell_type": "code",
   "execution_count": 10,
   "id": "8b6a9873",
   "metadata": {
    "ExecuteTime": {
     "end_time": "2023-11-16T14:46:28.683004049Z",
     "start_time": "2023-11-16T14:46:28.114751048Z"
    },
    "execution": {
     "iopub.execute_input": "2023-11-16T16:16:06.218611Z",
     "iopub.status.busy": "2023-11-16T16:16:06.217491Z",
     "iopub.status.idle": "2023-11-16T16:16:07.386676Z",
     "shell.execute_reply": "2023-11-16T16:16:07.385358Z"
    },
    "papermill": {
     "duration": 1.189905,
     "end_time": "2023-11-16T16:16:07.389795",
     "exception": false,
     "start_time": "2023-11-16T16:16:06.199890",
     "status": "completed"
    },
    "tags": []
   },
   "outputs": [
    {
     "name": "stdout",
     "output_type": "stream",
     "text": [
      "high null values: Index(['far_price', 'near_price'], dtype='object')\n"
     ]
    }
   ],
   "source": [
    "# Drip high null columsn\n",
    "high_null_cols = train_df.isna().sum().sort_values(ascending=False)[:2].index\n",
    "\n",
    "print(f\"high null values: {high_null_cols}\")\n",
    "\n",
    "def drop_cols(df, cols):\n",
    "    df = df.drop(cols, axis=1)\n",
    "    return df\n",
    "\n",
    "df = drop_cols(train_df, high_null_cols)\n",
    "df = drop_cols(df, ['row_id'])"
   ]
  },
  {
   "cell_type": "code",
   "execution_count": 11,
   "id": "ebf511e8",
   "metadata": {
    "ExecuteTime": {
     "end_time": "2023-11-16T14:46:38.215987070Z",
     "start_time": "2023-11-16T14:46:28.676431860Z"
    },
    "execution": {
     "iopub.execute_input": "2023-11-16T16:16:07.423386Z",
     "iopub.status.busy": "2023-11-16T16:16:07.422543Z",
     "iopub.status.idle": "2023-11-16T16:16:24.636368Z",
     "shell.execute_reply": "2023-11-16T16:16:24.635175Z"
    },
    "papermill": {
     "duration": 17.233619,
     "end_time": "2023-11-16T16:16:24.639361",
     "exception": false,
     "start_time": "2023-11-16T16:16:07.405742",
     "status": "completed"
    },
    "tags": []
   },
   "outputs": [],
   "source": [
    "def imputer(df_processed):\n",
    "    '''\n",
    "    Function that receives a dataframe and returns the median value of each missing value in a column partitioned by stock_id,\n",
    "    '''\n",
    "    stock_list = list(df_processed['stock_id'].unique())\n",
    "\n",
    "    imputer_columns = ['imbalance_size', 'reference_price', 'matched_size', 'bid_price', 'ask_price', \n",
    "                       'wap', 'target', 'seconds_in_bucket', 'bid_size', 'ask_size']\n",
    "\n",
    "    # Create a single SimpleImputer instance for each column\n",
    "    imputers = {col: SimpleImputer(missing_values=np.nan, strategy='median') for col in imputer_columns}\n",
    "\n",
    "    for stock in stock_list:\n",
    "        stock_df = df_processed.loc[df_processed['stock_id'] == stock]\n",
    "\n",
    "        # Apply imputation to each column\n",
    "        for col, imputer in imputers.items():\n",
    "            stock_df.loc[:,col] = imputer.fit_transform(stock_df[col].values.reshape(-1,1))\n",
    "\n",
    "        # Update the original DataFrame with imputed values\n",
    "        df_processed.loc[df_processed['stock_id'] == stock, imputer_columns] = stock_df[imputer_columns].values\n",
    "\n",
    "    return df_processed, imputers\n",
    "\n",
    "df_processed, imputers = imputer(df)"
   ]
  },
  {
   "cell_type": "code",
   "execution_count": 12,
   "id": "a0841cfe",
   "metadata": {
    "ExecuteTime": {
     "end_time": "2023-11-16T14:46:38.237962839Z",
     "start_time": "2023-11-16T14:46:38.215026644Z"
    },
    "execution": {
     "iopub.execute_input": "2023-11-16T16:16:24.671709Z",
     "iopub.status.busy": "2023-11-16T16:16:24.671235Z",
     "iopub.status.idle": "2023-11-16T16:16:24.683193Z",
     "shell.execute_reply": "2023-11-16T16:16:24.681887Z"
    },
    "papermill": {
     "duration": 0.030687,
     "end_time": "2023-11-16T16:16:24.685522",
     "exception": false,
     "start_time": "2023-11-16T16:16:24.654835",
     "status": "completed"
    },
    "tags": []
   },
   "outputs": [
    {
     "data": {
      "text/plain": [
       "{'imbalance_size': SimpleImputer(strategy='median'),\n",
       " 'reference_price': SimpleImputer(strategy='median'),\n",
       " 'matched_size': SimpleImputer(strategy='median'),\n",
       " 'bid_price': SimpleImputer(strategy='median'),\n",
       " 'ask_price': SimpleImputer(strategy='median'),\n",
       " 'wap': SimpleImputer(strategy='median'),\n",
       " 'target': SimpleImputer(strategy='median'),\n",
       " 'seconds_in_bucket': SimpleImputer(strategy='median'),\n",
       " 'bid_size': SimpleImputer(strategy='median'),\n",
       " 'ask_size': SimpleImputer(strategy='median')}"
      ]
     },
     "execution_count": 12,
     "metadata": {},
     "output_type": "execute_result"
    }
   ],
   "source": [
    "imputers"
   ]
  },
  {
   "cell_type": "code",
   "execution_count": 13,
   "id": "978d1e14",
   "metadata": {
    "ExecuteTime": {
     "end_time": "2023-11-16T14:46:38.277159937Z",
     "start_time": "2023-11-16T14:46:38.274522367Z"
    },
    "execution": {
     "iopub.execute_input": "2023-11-16T16:16:24.718477Z",
     "iopub.status.busy": "2023-11-16T16:16:24.718028Z",
     "iopub.status.idle": "2023-11-16T16:16:24.724915Z",
     "shell.execute_reply": "2023-11-16T16:16:24.723712Z"
    },
    "papermill": {
     "duration": 0.026304,
     "end_time": "2023-11-16T16:16:24.727434",
     "exception": false,
     "start_time": "2023-11-16T16:16:24.701130",
     "status": "completed"
    },
    "tags": []
   },
   "outputs": [],
   "source": [
    "def apply_imputer(df_processed, imputers):\n",
    "    imputer_columns = ['imbalance_size', 'reference_price', 'matched_size', 'bid_price', 'ask_price',\n",
    "                       'wap', 'seconds_in_bucket', 'bid_size', 'ask_size']\n",
    "\n",
    "    for col in imputer_columns:\n",
    "        df_processed[col] = imputers[col].transform(np.array(df_processed[col]).reshape(-1, 1))\n",
    "\n",
    "    return df_processed"
   ]
  },
  {
   "cell_type": "code",
   "execution_count": 14,
   "id": "60644287",
   "metadata": {
    "ExecuteTime": {
     "end_time": "2023-11-16T15:39:32.628953329Z",
     "start_time": "2023-11-16T15:39:32.150009484Z"
    },
    "execution": {
     "iopub.execute_input": "2023-11-16T16:16:24.760453Z",
     "iopub.status.busy": "2023-11-16T16:16:24.760031Z",
     "iopub.status.idle": "2023-11-16T16:16:25.307387Z",
     "shell.execute_reply": "2023-11-16T16:16:25.306176Z"
    },
    "papermill": {
     "duration": 0.56729,
     "end_time": "2023-11-16T16:16:25.310276",
     "exception": false,
     "start_time": "2023-11-16T16:16:24.742986",
     "status": "completed"
    },
    "tags": []
   },
   "outputs": [
    {
     "data": {
      "text/html": [
       "<div>\n",
       "<style scoped>\n",
       "    .dataframe tbody tr th:only-of-type {\n",
       "        vertical-align: middle;\n",
       "    }\n",
       "\n",
       "    .dataframe tbody tr th {\n",
       "        vertical-align: top;\n",
       "    }\n",
       "\n",
       "    .dataframe thead th {\n",
       "        text-align: right;\n",
       "    }\n",
       "</style>\n",
       "<table border=\"1\" class=\"dataframe\">\n",
       "  <thead>\n",
       "    <tr style=\"text-align: right;\">\n",
       "      <th></th>\n",
       "      <th>stock_id</th>\n",
       "      <th>date_id</th>\n",
       "      <th>seconds_in_bucket</th>\n",
       "      <th>imbalance_size</th>\n",
       "      <th>imbalance_buy_sell_flag</th>\n",
       "      <th>reference_price</th>\n",
       "      <th>matched_size</th>\n",
       "      <th>bid_price</th>\n",
       "      <th>bid_size</th>\n",
       "      <th>ask_price</th>\n",
       "      <th>ask_size</th>\n",
       "      <th>wap</th>\n",
       "      <th>target</th>\n",
       "      <th>time_id</th>\n",
       "    </tr>\n",
       "  </thead>\n",
       "  <tbody>\n",
       "    <tr>\n",
       "      <th>0</th>\n",
       "      <td>0</td>\n",
       "      <td>0</td>\n",
       "      <td>0.0</td>\n",
       "      <td>3180602.69</td>\n",
       "      <td>1</td>\n",
       "      <td>0.999812</td>\n",
       "      <td>13380276.64</td>\n",
       "      <td>0.999812</td>\n",
       "      <td>60651.50</td>\n",
       "      <td>1.000026</td>\n",
       "      <td>8493.03</td>\n",
       "      <td>1.000000</td>\n",
       "      <td>-3.029704</td>\n",
       "      <td>0</td>\n",
       "    </tr>\n",
       "    <tr>\n",
       "      <th>1</th>\n",
       "      <td>1</td>\n",
       "      <td>0</td>\n",
       "      <td>0.0</td>\n",
       "      <td>166603.91</td>\n",
       "      <td>-1</td>\n",
       "      <td>0.999896</td>\n",
       "      <td>1642214.25</td>\n",
       "      <td>0.999896</td>\n",
       "      <td>3233.04</td>\n",
       "      <td>1.000660</td>\n",
       "      <td>20605.09</td>\n",
       "      <td>1.000000</td>\n",
       "      <td>-5.519986</td>\n",
       "      <td>0</td>\n",
       "    </tr>\n",
       "    <tr>\n",
       "      <th>2</th>\n",
       "      <td>2</td>\n",
       "      <td>0</td>\n",
       "      <td>0.0</td>\n",
       "      <td>302879.87</td>\n",
       "      <td>-1</td>\n",
       "      <td>0.999561</td>\n",
       "      <td>1819368.03</td>\n",
       "      <td>0.999403</td>\n",
       "      <td>37956.00</td>\n",
       "      <td>1.000298</td>\n",
       "      <td>18995.00</td>\n",
       "      <td>1.000000</td>\n",
       "      <td>-8.389950</td>\n",
       "      <td>0</td>\n",
       "    </tr>\n",
       "    <tr>\n",
       "      <th>3</th>\n",
       "      <td>3</td>\n",
       "      <td>0</td>\n",
       "      <td>0.0</td>\n",
       "      <td>11917682.27</td>\n",
       "      <td>-1</td>\n",
       "      <td>1.000171</td>\n",
       "      <td>18389745.62</td>\n",
       "      <td>0.999999</td>\n",
       "      <td>2324.90</td>\n",
       "      <td>1.000214</td>\n",
       "      <td>479032.40</td>\n",
       "      <td>1.000000</td>\n",
       "      <td>-4.010200</td>\n",
       "      <td>0</td>\n",
       "    </tr>\n",
       "    <tr>\n",
       "      <th>4</th>\n",
       "      <td>4</td>\n",
       "      <td>0</td>\n",
       "      <td>0.0</td>\n",
       "      <td>447549.96</td>\n",
       "      <td>-1</td>\n",
       "      <td>0.999532</td>\n",
       "      <td>17860614.95</td>\n",
       "      <td>0.999394</td>\n",
       "      <td>16485.54</td>\n",
       "      <td>1.000016</td>\n",
       "      <td>434.10</td>\n",
       "      <td>1.000000</td>\n",
       "      <td>-7.349849</td>\n",
       "      <td>0</td>\n",
       "    </tr>\n",
       "    <tr>\n",
       "      <th>...</th>\n",
       "      <td>...</td>\n",
       "      <td>...</td>\n",
       "      <td>...</td>\n",
       "      <td>...</td>\n",
       "      <td>...</td>\n",
       "      <td>...</td>\n",
       "      <td>...</td>\n",
       "      <td>...</td>\n",
       "      <td>...</td>\n",
       "      <td>...</td>\n",
       "      <td>...</td>\n",
       "      <td>...</td>\n",
       "      <td>...</td>\n",
       "      <td>...</td>\n",
       "    </tr>\n",
       "    <tr>\n",
       "      <th>5237975</th>\n",
       "      <td>195</td>\n",
       "      <td>480</td>\n",
       "      <td>540.0</td>\n",
       "      <td>2440722.89</td>\n",
       "      <td>-1</td>\n",
       "      <td>1.000317</td>\n",
       "      <td>28280361.74</td>\n",
       "      <td>1.000317</td>\n",
       "      <td>32257.04</td>\n",
       "      <td>1.000434</td>\n",
       "      <td>319862.40</td>\n",
       "      <td>1.000328</td>\n",
       "      <td>2.310276</td>\n",
       "      <td>26454</td>\n",
       "    </tr>\n",
       "    <tr>\n",
       "      <th>5237976</th>\n",
       "      <td>196</td>\n",
       "      <td>480</td>\n",
       "      <td>540.0</td>\n",
       "      <td>349510.47</td>\n",
       "      <td>-1</td>\n",
       "      <td>1.000643</td>\n",
       "      <td>9187699.11</td>\n",
       "      <td>1.000643</td>\n",
       "      <td>205108.40</td>\n",
       "      <td>1.000900</td>\n",
       "      <td>93393.07</td>\n",
       "      <td>1.000819</td>\n",
       "      <td>-8.220077</td>\n",
       "      <td>26454</td>\n",
       "    </tr>\n",
       "    <tr>\n",
       "      <th>5237977</th>\n",
       "      <td>197</td>\n",
       "      <td>480</td>\n",
       "      <td>540.0</td>\n",
       "      <td>0.00</td>\n",
       "      <td>0</td>\n",
       "      <td>0.995789</td>\n",
       "      <td>12725436.10</td>\n",
       "      <td>0.995789</td>\n",
       "      <td>16790.66</td>\n",
       "      <td>0.995883</td>\n",
       "      <td>180038.32</td>\n",
       "      <td>0.995797</td>\n",
       "      <td>1.169443</td>\n",
       "      <td>26454</td>\n",
       "    </tr>\n",
       "    <tr>\n",
       "      <th>5237978</th>\n",
       "      <td>198</td>\n",
       "      <td>480</td>\n",
       "      <td>540.0</td>\n",
       "      <td>1000898.84</td>\n",
       "      <td>1</td>\n",
       "      <td>0.999210</td>\n",
       "      <td>94773271.05</td>\n",
       "      <td>0.998970</td>\n",
       "      <td>125631.72</td>\n",
       "      <td>0.999210</td>\n",
       "      <td>669893.00</td>\n",
       "      <td>0.999008</td>\n",
       "      <td>-1.540184</td>\n",
       "      <td>26454</td>\n",
       "    </tr>\n",
       "    <tr>\n",
       "      <th>5237979</th>\n",
       "      <td>199</td>\n",
       "      <td>480</td>\n",
       "      <td>540.0</td>\n",
       "      <td>1884285.71</td>\n",
       "      <td>-1</td>\n",
       "      <td>1.002129</td>\n",
       "      <td>24073677.32</td>\n",
       "      <td>1.002129</td>\n",
       "      <td>250081.44</td>\n",
       "      <td>1.002447</td>\n",
       "      <td>300167.56</td>\n",
       "      <td>1.002274</td>\n",
       "      <td>-6.530285</td>\n",
       "      <td>26454</td>\n",
       "    </tr>\n",
       "  </tbody>\n",
       "</table>\n",
       "<p>5237980 rows × 14 columns</p>\n",
       "</div>"
      ],
      "text/plain": [
       "         stock_id  date_id  seconds_in_bucket  imbalance_size  \\\n",
       "0               0        0                0.0      3180602.69   \n",
       "1               1        0                0.0       166603.91   \n",
       "2               2        0                0.0       302879.87   \n",
       "3               3        0                0.0     11917682.27   \n",
       "4               4        0                0.0       447549.96   \n",
       "...           ...      ...                ...             ...   \n",
       "5237975       195      480              540.0      2440722.89   \n",
       "5237976       196      480              540.0       349510.47   \n",
       "5237977       197      480              540.0            0.00   \n",
       "5237978       198      480              540.0      1000898.84   \n",
       "5237979       199      480              540.0      1884285.71   \n",
       "\n",
       "         imbalance_buy_sell_flag  reference_price  matched_size  bid_price  \\\n",
       "0                              1         0.999812   13380276.64   0.999812   \n",
       "1                             -1         0.999896    1642214.25   0.999896   \n",
       "2                             -1         0.999561    1819368.03   0.999403   \n",
       "3                             -1         1.000171   18389745.62   0.999999   \n",
       "4                             -1         0.999532   17860614.95   0.999394   \n",
       "...                          ...              ...           ...        ...   \n",
       "5237975                       -1         1.000317   28280361.74   1.000317   \n",
       "5237976                       -1         1.000643    9187699.11   1.000643   \n",
       "5237977                        0         0.995789   12725436.10   0.995789   \n",
       "5237978                        1         0.999210   94773271.05   0.998970   \n",
       "5237979                       -1         1.002129   24073677.32   1.002129   \n",
       "\n",
       "          bid_size  ask_price   ask_size       wap    target  time_id  \n",
       "0         60651.50   1.000026    8493.03  1.000000 -3.029704        0  \n",
       "1          3233.04   1.000660   20605.09  1.000000 -5.519986        0  \n",
       "2         37956.00   1.000298   18995.00  1.000000 -8.389950        0  \n",
       "3          2324.90   1.000214  479032.40  1.000000 -4.010200        0  \n",
       "4         16485.54   1.000016     434.10  1.000000 -7.349849        0  \n",
       "...            ...        ...        ...       ...       ...      ...  \n",
       "5237975   32257.04   1.000434  319862.40  1.000328  2.310276    26454  \n",
       "5237976  205108.40   1.000900   93393.07  1.000819 -8.220077    26454  \n",
       "5237977   16790.66   0.995883  180038.32  0.995797  1.169443    26454  \n",
       "5237978  125631.72   0.999210  669893.00  0.999008 -1.540184    26454  \n",
       "5237979  250081.44   1.002447  300167.56  1.002274 -6.530285    26454  \n",
       "\n",
       "[5237980 rows x 14 columns]"
      ]
     },
     "execution_count": 14,
     "metadata": {},
     "output_type": "execute_result"
    }
   ],
   "source": [
    "df_processed = apply_imputer(df_processed, imputers)\n",
    "df_processed"
   ]
  },
  {
   "cell_type": "code",
   "execution_count": 15,
   "id": "dbe7b80a",
   "metadata": {
    "ExecuteTime": {
     "end_time": "2023-11-16T15:39:13.643665544Z",
     "start_time": "2023-11-16T15:39:13.165666814Z"
    },
    "execution": {
     "iopub.execute_input": "2023-11-16T16:16:25.408739Z",
     "iopub.status.busy": "2023-11-16T16:16:25.407688Z",
     "iopub.status.idle": "2023-11-16T16:16:25.642606Z",
     "shell.execute_reply": "2023-11-16T16:16:25.641471Z"
    },
    "papermill": {
     "duration": 0.318692,
     "end_time": "2023-11-16T16:16:25.645183",
     "exception": false,
     "start_time": "2023-11-16T16:16:25.326491",
     "status": "completed"
    },
    "tags": []
   },
   "outputs": [
    {
     "data": {
      "text/html": [
       "<div>\n",
       "<style scoped>\n",
       "    .dataframe tbody tr th:only-of-type {\n",
       "        vertical-align: middle;\n",
       "    }\n",
       "\n",
       "    .dataframe tbody tr th {\n",
       "        vertical-align: top;\n",
       "    }\n",
       "\n",
       "    .dataframe thead th {\n",
       "        text-align: right;\n",
       "    }\n",
       "</style>\n",
       "<table border=\"1\" class=\"dataframe\">\n",
       "  <thead>\n",
       "    <tr style=\"text-align: right;\">\n",
       "      <th></th>\n",
       "      <th>stock_id</th>\n",
       "      <th>date_id</th>\n",
       "      <th>seconds_in_bucket</th>\n",
       "      <th>imbalance_size</th>\n",
       "      <th>imbalance_buy_sell_flag</th>\n",
       "      <th>reference_price</th>\n",
       "      <th>matched_size</th>\n",
       "      <th>far_price</th>\n",
       "      <th>near_price</th>\n",
       "      <th>bid_price</th>\n",
       "      <th>bid_size</th>\n",
       "      <th>ask_price</th>\n",
       "      <th>ask_size</th>\n",
       "      <th>wap</th>\n",
       "      <th>time_id</th>\n",
       "      <th>row_id</th>\n",
       "      <th>currently_scored</th>\n",
       "    </tr>\n",
       "  </thead>\n",
       "  <tbody>\n",
       "    <tr>\n",
       "      <th>0</th>\n",
       "      <td>0</td>\n",
       "      <td>478</td>\n",
       "      <td>0</td>\n",
       "      <td>3753451.43</td>\n",
       "      <td>-1</td>\n",
       "      <td>0.999875</td>\n",
       "      <td>11548975.43</td>\n",
       "      <td>NaN</td>\n",
       "      <td>NaN</td>\n",
       "      <td>0.999875</td>\n",
       "      <td>22940.00</td>\n",
       "      <td>1.000050</td>\n",
       "      <td>9177.60</td>\n",
       "      <td>1.000000</td>\n",
       "      <td>26290</td>\n",
       "      <td>478_0_0</td>\n",
       "      <td>False</td>\n",
       "    </tr>\n",
       "    <tr>\n",
       "      <th>1</th>\n",
       "      <td>1</td>\n",
       "      <td>478</td>\n",
       "      <td>0</td>\n",
       "      <td>985977.11</td>\n",
       "      <td>-1</td>\n",
       "      <td>1.000245</td>\n",
       "      <td>3850033.97</td>\n",
       "      <td>NaN</td>\n",
       "      <td>NaN</td>\n",
       "      <td>0.999940</td>\n",
       "      <td>1967.90</td>\n",
       "      <td>1.000601</td>\n",
       "      <td>19692.00</td>\n",
       "      <td>1.000000</td>\n",
       "      <td>26290</td>\n",
       "      <td>478_0_1</td>\n",
       "      <td>False</td>\n",
       "    </tr>\n",
       "    <tr>\n",
       "      <th>2</th>\n",
       "      <td>2</td>\n",
       "      <td>478</td>\n",
       "      <td>0</td>\n",
       "      <td>599128.74</td>\n",
       "      <td>1</td>\n",
       "      <td>1.000584</td>\n",
       "      <td>4359198.25</td>\n",
       "      <td>NaN</td>\n",
       "      <td>NaN</td>\n",
       "      <td>0.999918</td>\n",
       "      <td>4488.22</td>\n",
       "      <td>1.000636</td>\n",
       "      <td>34955.12</td>\n",
       "      <td>1.000000</td>\n",
       "      <td>26290</td>\n",
       "      <td>478_0_2</td>\n",
       "      <td>False</td>\n",
       "    </tr>\n",
       "    <tr>\n",
       "      <th>3</th>\n",
       "      <td>3</td>\n",
       "      <td>478</td>\n",
       "      <td>0</td>\n",
       "      <td>2872317.54</td>\n",
       "      <td>-1</td>\n",
       "      <td>0.999802</td>\n",
       "      <td>27129551.64</td>\n",
       "      <td>NaN</td>\n",
       "      <td>NaN</td>\n",
       "      <td>0.999705</td>\n",
       "      <td>16082.04</td>\n",
       "      <td>1.000189</td>\n",
       "      <td>10314.00</td>\n",
       "      <td>1.000000</td>\n",
       "      <td>26290</td>\n",
       "      <td>478_0_3</td>\n",
       "      <td>False</td>\n",
       "    </tr>\n",
       "    <tr>\n",
       "      <th>4</th>\n",
       "      <td>4</td>\n",
       "      <td>478</td>\n",
       "      <td>0</td>\n",
       "      <td>740059.14</td>\n",
       "      <td>-1</td>\n",
       "      <td>0.999886</td>\n",
       "      <td>8880890.78</td>\n",
       "      <td>NaN</td>\n",
       "      <td>NaN</td>\n",
       "      <td>0.999720</td>\n",
       "      <td>19012.35</td>\n",
       "      <td>1.000107</td>\n",
       "      <td>7245.60</td>\n",
       "      <td>1.000000</td>\n",
       "      <td>26290</td>\n",
       "      <td>478_0_4</td>\n",
       "      <td>False</td>\n",
       "    </tr>\n",
       "    <tr>\n",
       "      <th>...</th>\n",
       "      <td>...</td>\n",
       "      <td>...</td>\n",
       "      <td>...</td>\n",
       "      <td>...</td>\n",
       "      <td>...</td>\n",
       "      <td>...</td>\n",
       "      <td>...</td>\n",
       "      <td>...</td>\n",
       "      <td>...</td>\n",
       "      <td>...</td>\n",
       "      <td>...</td>\n",
       "      <td>...</td>\n",
       "      <td>...</td>\n",
       "      <td>...</td>\n",
       "      <td>...</td>\n",
       "      <td>...</td>\n",
       "      <td>...</td>\n",
       "    </tr>\n",
       "    <tr>\n",
       "      <th>32995</th>\n",
       "      <td>195</td>\n",
       "      <td>480</td>\n",
       "      <td>540</td>\n",
       "      <td>2440722.89</td>\n",
       "      <td>-1</td>\n",
       "      <td>1.000317</td>\n",
       "      <td>28280361.74</td>\n",
       "      <td>0.999734</td>\n",
       "      <td>0.999734</td>\n",
       "      <td>1.000317</td>\n",
       "      <td>32257.04</td>\n",
       "      <td>1.000434</td>\n",
       "      <td>319862.40</td>\n",
       "      <td>1.000328</td>\n",
       "      <td>26454</td>\n",
       "      <td>480_540_195</td>\n",
       "      <td>False</td>\n",
       "    </tr>\n",
       "    <tr>\n",
       "      <th>32996</th>\n",
       "      <td>196</td>\n",
       "      <td>480</td>\n",
       "      <td>540</td>\n",
       "      <td>349510.47</td>\n",
       "      <td>-1</td>\n",
       "      <td>1.000643</td>\n",
       "      <td>9187699.11</td>\n",
       "      <td>1.000129</td>\n",
       "      <td>1.000386</td>\n",
       "      <td>1.000643</td>\n",
       "      <td>205108.40</td>\n",
       "      <td>1.000900</td>\n",
       "      <td>93393.07</td>\n",
       "      <td>1.000819</td>\n",
       "      <td>26454</td>\n",
       "      <td>480_540_196</td>\n",
       "      <td>False</td>\n",
       "    </tr>\n",
       "    <tr>\n",
       "      <th>32997</th>\n",
       "      <td>197</td>\n",
       "      <td>480</td>\n",
       "      <td>540</td>\n",
       "      <td>0.00</td>\n",
       "      <td>0</td>\n",
       "      <td>0.995789</td>\n",
       "      <td>12725436.10</td>\n",
       "      <td>0.995789</td>\n",
       "      <td>0.995789</td>\n",
       "      <td>0.995789</td>\n",
       "      <td>16790.66</td>\n",
       "      <td>0.995883</td>\n",
       "      <td>180038.32</td>\n",
       "      <td>0.995797</td>\n",
       "      <td>26454</td>\n",
       "      <td>480_540_197</td>\n",
       "      <td>False</td>\n",
       "    </tr>\n",
       "    <tr>\n",
       "      <th>32998</th>\n",
       "      <td>198</td>\n",
       "      <td>480</td>\n",
       "      <td>540</td>\n",
       "      <td>1000898.84</td>\n",
       "      <td>1</td>\n",
       "      <td>0.999210</td>\n",
       "      <td>94773271.05</td>\n",
       "      <td>0.999210</td>\n",
       "      <td>0.999210</td>\n",
       "      <td>0.998970</td>\n",
       "      <td>125631.72</td>\n",
       "      <td>0.999210</td>\n",
       "      <td>669893.00</td>\n",
       "      <td>0.999008</td>\n",
       "      <td>26454</td>\n",
       "      <td>480_540_198</td>\n",
       "      <td>False</td>\n",
       "    </tr>\n",
       "    <tr>\n",
       "      <th>32999</th>\n",
       "      <td>199</td>\n",
       "      <td>480</td>\n",
       "      <td>540</td>\n",
       "      <td>1884285.71</td>\n",
       "      <td>-1</td>\n",
       "      <td>1.002129</td>\n",
       "      <td>24073677.32</td>\n",
       "      <td>1.000859</td>\n",
       "      <td>1.001494</td>\n",
       "      <td>1.002129</td>\n",
       "      <td>250081.44</td>\n",
       "      <td>1.002447</td>\n",
       "      <td>300167.56</td>\n",
       "      <td>1.002274</td>\n",
       "      <td>26454</td>\n",
       "      <td>480_540_199</td>\n",
       "      <td>False</td>\n",
       "    </tr>\n",
       "  </tbody>\n",
       "</table>\n",
       "<p>33000 rows × 17 columns</p>\n",
       "</div>"
      ],
      "text/plain": [
       "       stock_id  date_id  seconds_in_bucket  imbalance_size  \\\n",
       "0             0      478                  0      3753451.43   \n",
       "1             1      478                  0       985977.11   \n",
       "2             2      478                  0       599128.74   \n",
       "3             3      478                  0      2872317.54   \n",
       "4             4      478                  0       740059.14   \n",
       "...         ...      ...                ...             ...   \n",
       "32995       195      480                540      2440722.89   \n",
       "32996       196      480                540       349510.47   \n",
       "32997       197      480                540            0.00   \n",
       "32998       198      480                540      1000898.84   \n",
       "32999       199      480                540      1884285.71   \n",
       "\n",
       "       imbalance_buy_sell_flag  reference_price  matched_size  far_price  \\\n",
       "0                           -1         0.999875   11548975.43        NaN   \n",
       "1                           -1         1.000245    3850033.97        NaN   \n",
       "2                            1         1.000584    4359198.25        NaN   \n",
       "3                           -1         0.999802   27129551.64        NaN   \n",
       "4                           -1         0.999886    8880890.78        NaN   \n",
       "...                        ...              ...           ...        ...   \n",
       "32995                       -1         1.000317   28280361.74   0.999734   \n",
       "32996                       -1         1.000643    9187699.11   1.000129   \n",
       "32997                        0         0.995789   12725436.10   0.995789   \n",
       "32998                        1         0.999210   94773271.05   0.999210   \n",
       "32999                       -1         1.002129   24073677.32   1.000859   \n",
       "\n",
       "       near_price  bid_price   bid_size  ask_price   ask_size       wap  \\\n",
       "0             NaN   0.999875   22940.00   1.000050    9177.60  1.000000   \n",
       "1             NaN   0.999940    1967.90   1.000601   19692.00  1.000000   \n",
       "2             NaN   0.999918    4488.22   1.000636   34955.12  1.000000   \n",
       "3             NaN   0.999705   16082.04   1.000189   10314.00  1.000000   \n",
       "4             NaN   0.999720   19012.35   1.000107    7245.60  1.000000   \n",
       "...           ...        ...        ...        ...        ...       ...   \n",
       "32995    0.999734   1.000317   32257.04   1.000434  319862.40  1.000328   \n",
       "32996    1.000386   1.000643  205108.40   1.000900   93393.07  1.000819   \n",
       "32997    0.995789   0.995789   16790.66   0.995883  180038.32  0.995797   \n",
       "32998    0.999210   0.998970  125631.72   0.999210  669893.00  0.999008   \n",
       "32999    1.001494   1.002129  250081.44   1.002447  300167.56  1.002274   \n",
       "\n",
       "       time_id       row_id  currently_scored  \n",
       "0        26290      478_0_0             False  \n",
       "1        26290      478_0_1             False  \n",
       "2        26290      478_0_2             False  \n",
       "3        26290      478_0_3             False  \n",
       "4        26290      478_0_4             False  \n",
       "...        ...          ...               ...  \n",
       "32995    26454  480_540_195             False  \n",
       "32996    26454  480_540_196             False  \n",
       "32997    26454  480_540_197             False  \n",
       "32998    26454  480_540_198             False  \n",
       "32999    26454  480_540_199             False  \n",
       "\n",
       "[33000 rows x 17 columns]"
      ]
     },
     "execution_count": 15,
     "metadata": {},
     "output_type": "execute_result"
    }
   ],
   "source": [
    "### Test dataset:\n",
    "test_df = pd.read_csv(\"/kaggle/input/optiver-trading-at-the-close/example_test_files/test.csv\")\n",
    "test_df_targets = pd.read_csv(\"/kaggle/input/optiver-trading-at-the-close/example_test_files/revealed_targets.csv\")\n",
    "\n",
    "sample_submission = pd.read_csv(\"/kaggle/input/optiver-trading-at-the-close/example_test_files/sample_submission.csv\")\n",
    "test_df\n"
   ]
  },
  {
   "cell_type": "markdown",
   "id": "d8e195da",
   "metadata": {
    "papermill": {
     "duration": 0.016403,
     "end_time": "2023-11-16T16:16:25.678309",
     "exception": false,
     "start_time": "2023-11-16T16:16:25.661906",
     "status": "completed"
    },
    "tags": []
   },
   "source": [
    "## PreProcessing for X Train y Train"
   ]
  },
  {
   "cell_type": "code",
   "execution_count": null,
   "id": "35fca72f",
   "metadata": {
    "collapsed": false,
    "jupyter": {
     "outputs_hidden": false
    },
    "papermill": {
     "duration": 0.016749,
     "end_time": "2023-11-16T16:16:25.711748",
     "exception": false,
     "start_time": "2023-11-16T16:16:25.694999",
     "status": "completed"
    },
    "tags": []
   },
   "outputs": [],
   "source": []
  },
  {
   "cell_type": "code",
   "execution_count": 16,
   "id": "f1f34718",
   "metadata": {
    "ExecuteTime": {
     "end_time": "2023-11-16T14:46:39.441882934Z",
     "start_time": "2023-11-16T14:46:38.934669661Z"
    },
    "execution": {
     "iopub.execute_input": "2023-11-16T16:16:25.746906Z",
     "iopub.status.busy": "2023-11-16T16:16:25.746525Z",
     "iopub.status.idle": "2023-11-16T16:16:26.035450Z",
     "shell.execute_reply": "2023-11-16T16:16:26.034378Z"
    },
    "papermill": {
     "duration": 0.309708,
     "end_time": "2023-11-16T16:16:26.038296",
     "exception": false,
     "start_time": "2023-11-16T16:16:25.728588",
     "status": "completed"
    },
    "tags": []
   },
   "outputs": [],
   "source": [
    "\n",
    "y = df_processed['target']\n",
    "X = df_processed.drop(['target'], axis = 1)"
   ]
  },
  {
   "cell_type": "code",
   "execution_count": 17,
   "id": "dc29fb5c",
   "metadata": {
    "ExecuteTime": {
     "end_time": "2023-11-16T14:46:39.989298242Z",
     "start_time": "2023-11-16T14:46:39.441588572Z"
    },
    "execution": {
     "iopub.execute_input": "2023-11-16T16:16:26.075557Z",
     "iopub.status.busy": "2023-11-16T16:16:26.074834Z",
     "iopub.status.idle": "2023-11-16T16:16:26.396984Z",
     "shell.execute_reply": "2023-11-16T16:16:26.395728Z"
    },
    "papermill": {
     "duration": 0.344063,
     "end_time": "2023-11-16T16:16:26.399919",
     "exception": false,
     "start_time": "2023-11-16T16:16:26.055856",
     "status": "completed"
    },
    "tags": []
   },
   "outputs": [],
   "source": [
    "X = X.drop(['time_id'], axis = 1)\n"
   ]
  },
  {
   "cell_type": "code",
   "execution_count": 18,
   "id": "e44b685a",
   "metadata": {
    "ExecuteTime": {
     "end_time": "2023-11-16T14:46:40.009248656Z",
     "start_time": "2023-11-16T14:46:39.989535115Z"
    },
    "execution": {
     "iopub.execute_input": "2023-11-16T16:16:26.435575Z",
     "iopub.status.busy": "2023-11-16T16:16:26.435172Z",
     "iopub.status.idle": "2023-11-16T16:16:26.439769Z",
     "shell.execute_reply": "2023-11-16T16:16:26.438703Z"
    },
    "papermill": {
     "duration": 0.025002,
     "end_time": "2023-11-16T16:16:26.442086",
     "exception": false,
     "start_time": "2023-11-16T16:16:26.417084",
     "status": "completed"
    },
    "tags": []
   },
   "outputs": [],
   "source": [
    "# Use this same cols to test data\n",
    "X_cols = X.columns"
   ]
  },
  {
   "cell_type": "code",
   "execution_count": 19,
   "id": "8e432d97",
   "metadata": {
    "ExecuteTime": {
     "end_time": "2023-11-16T14:46:41.071598246Z",
     "start_time": "2023-11-16T14:46:39.995280836Z"
    },
    "execution": {
     "iopub.execute_input": "2023-11-16T16:16:26.478126Z",
     "iopub.status.busy": "2023-11-16T16:16:26.477668Z",
     "iopub.status.idle": "2023-11-16T16:16:28.457388Z",
     "shell.execute_reply": "2023-11-16T16:16:28.456189Z"
    },
    "papermill": {
     "duration": 2.001145,
     "end_time": "2023-11-16T16:16:28.460112",
     "exception": false,
     "start_time": "2023-11-16T16:16:26.458967",
     "status": "completed"
    },
    "tags": []
   },
   "outputs": [],
   "source": [
    "X_train, X_test, y_train, y_test = train_test_split(X, y, test_size = 0.8, random_state = 42)"
   ]
  },
  {
   "cell_type": "markdown",
   "id": "4e48832a",
   "metadata": {
    "papermill": {
     "duration": 0.016297,
     "end_time": "2023-11-16T16:16:28.493390",
     "exception": false,
     "start_time": "2023-11-16T16:16:28.477093",
     "status": "completed"
    },
    "tags": []
   },
   "source": [
    "## Building model"
   ]
  },
  {
   "cell_type": "code",
   "execution_count": 20,
   "id": "75f318dc",
   "metadata": {
    "ExecuteTime": {
     "end_time": "2023-11-16T14:48:27.764724964Z",
     "start_time": "2023-11-16T14:48:27.716955177Z"
    },
    "execution": {
     "iopub.execute_input": "2023-11-16T16:16:28.528864Z",
     "iopub.status.busy": "2023-11-16T16:16:28.528469Z",
     "iopub.status.idle": "2023-11-16T16:16:28.532998Z",
     "shell.execute_reply": "2023-11-16T16:16:28.532007Z"
    },
    "papermill": {
     "duration": 0.02491,
     "end_time": "2023-11-16T16:16:28.535104",
     "exception": false,
     "start_time": "2023-11-16T16:16:28.510194",
     "status": "completed"
    },
    "tags": []
   },
   "outputs": [],
   "source": [
    "# Train the model\n",
    "clf = xgb.XGBRegressor(n_estimators = 50, eval_metric = 'mae')\n"
   ]
  },
  {
   "cell_type": "code",
   "execution_count": 21,
   "id": "959a41ae",
   "metadata": {
    "ExecuteTime": {
     "end_time": "2023-11-16T14:48:49.671727177Z",
     "start_time": "2023-11-16T14:48:28.596287386Z"
    },
    "execution": {
     "iopub.execute_input": "2023-11-16T16:16:28.570335Z",
     "iopub.status.busy": "2023-11-16T16:16:28.569426Z",
     "iopub.status.idle": "2023-11-16T16:16:32.178644Z",
     "shell.execute_reply": "2023-11-16T16:16:32.177717Z"
    },
    "papermill": {
     "duration": 3.629469,
     "end_time": "2023-11-16T16:16:32.181147",
     "exception": false,
     "start_time": "2023-11-16T16:16:28.551678",
     "status": "completed"
    },
    "tags": []
   },
   "outputs": [
    {
     "data": {
      "text/html": [
       "<style>#sk-container-id-1 {color: black;background-color: white;}#sk-container-id-1 pre{padding: 0;}#sk-container-id-1 div.sk-toggleable {background-color: white;}#sk-container-id-1 label.sk-toggleable__label {cursor: pointer;display: block;width: 100%;margin-bottom: 0;padding: 0.3em;box-sizing: border-box;text-align: center;}#sk-container-id-1 label.sk-toggleable__label-arrow:before {content: \"▸\";float: left;margin-right: 0.25em;color: #696969;}#sk-container-id-1 label.sk-toggleable__label-arrow:hover:before {color: black;}#sk-container-id-1 div.sk-estimator:hover label.sk-toggleable__label-arrow:before {color: black;}#sk-container-id-1 div.sk-toggleable__content {max-height: 0;max-width: 0;overflow: hidden;text-align: left;background-color: #f0f8ff;}#sk-container-id-1 div.sk-toggleable__content pre {margin: 0.2em;color: black;border-radius: 0.25em;background-color: #f0f8ff;}#sk-container-id-1 input.sk-toggleable__control:checked~div.sk-toggleable__content {max-height: 200px;max-width: 100%;overflow: auto;}#sk-container-id-1 input.sk-toggleable__control:checked~label.sk-toggleable__label-arrow:before {content: \"▾\";}#sk-container-id-1 div.sk-estimator input.sk-toggleable__control:checked~label.sk-toggleable__label {background-color: #d4ebff;}#sk-container-id-1 div.sk-label input.sk-toggleable__control:checked~label.sk-toggleable__label {background-color: #d4ebff;}#sk-container-id-1 input.sk-hidden--visually {border: 0;clip: rect(1px 1px 1px 1px);clip: rect(1px, 1px, 1px, 1px);height: 1px;margin: -1px;overflow: hidden;padding: 0;position: absolute;width: 1px;}#sk-container-id-1 div.sk-estimator {font-family: monospace;background-color: #f0f8ff;border: 1px dotted black;border-radius: 0.25em;box-sizing: border-box;margin-bottom: 0.5em;}#sk-container-id-1 div.sk-estimator:hover {background-color: #d4ebff;}#sk-container-id-1 div.sk-parallel-item::after {content: \"\";width: 100%;border-bottom: 1px solid gray;flex-grow: 1;}#sk-container-id-1 div.sk-label:hover label.sk-toggleable__label {background-color: #d4ebff;}#sk-container-id-1 div.sk-serial::before {content: \"\";position: absolute;border-left: 1px solid gray;box-sizing: border-box;top: 0;bottom: 0;left: 50%;z-index: 0;}#sk-container-id-1 div.sk-serial {display: flex;flex-direction: column;align-items: center;background-color: white;padding-right: 0.2em;padding-left: 0.2em;position: relative;}#sk-container-id-1 div.sk-item {position: relative;z-index: 1;}#sk-container-id-1 div.sk-parallel {display: flex;align-items: stretch;justify-content: center;background-color: white;position: relative;}#sk-container-id-1 div.sk-item::before, #sk-container-id-1 div.sk-parallel-item::before {content: \"\";position: absolute;border-left: 1px solid gray;box-sizing: border-box;top: 0;bottom: 0;left: 50%;z-index: -1;}#sk-container-id-1 div.sk-parallel-item {display: flex;flex-direction: column;z-index: 1;position: relative;background-color: white;}#sk-container-id-1 div.sk-parallel-item:first-child::after {align-self: flex-end;width: 50%;}#sk-container-id-1 div.sk-parallel-item:last-child::after {align-self: flex-start;width: 50%;}#sk-container-id-1 div.sk-parallel-item:only-child::after {width: 0;}#sk-container-id-1 div.sk-dashed-wrapped {border: 1px dashed gray;margin: 0 0.4em 0.5em 0.4em;box-sizing: border-box;padding-bottom: 0.4em;background-color: white;}#sk-container-id-1 div.sk-label label {font-family: monospace;font-weight: bold;display: inline-block;line-height: 1.2em;}#sk-container-id-1 div.sk-label-container {text-align: center;}#sk-container-id-1 div.sk-container {/* jupyter's `normalize.less` sets `[hidden] { display: none; }` but bootstrap.min.css set `[hidden] { display: none !important; }` so we also need the `!important` here to be able to override the default hidden behavior on the sphinx rendered scikit-learn.org. See: https://github.com/scikit-learn/scikit-learn/issues/21755 */display: inline-block !important;position: relative;}#sk-container-id-1 div.sk-text-repr-fallback {display: none;}</style><div id=\"sk-container-id-1\" class=\"sk-top-container\"><div class=\"sk-text-repr-fallback\"><pre>XGBRegressor(base_score=None, booster=None, callbacks=None,\n",
       "             colsample_bylevel=None, colsample_bynode=None,\n",
       "             colsample_bytree=None, device=None, early_stopping_rounds=None,\n",
       "             enable_categorical=False, eval_metric=&#x27;mae&#x27;, feature_types=None,\n",
       "             gamma=None, grow_policy=None, importance_type=None,\n",
       "             interaction_constraints=None, learning_rate=None, max_bin=None,\n",
       "             max_cat_threshold=None, max_cat_to_onehot=None,\n",
       "             max_delta_step=None, max_depth=None, max_leaves=None,\n",
       "             min_child_weight=None, missing=nan, monotone_constraints=None,\n",
       "             multi_strategy=None, n_estimators=50, n_jobs=None,\n",
       "             num_parallel_tree=None, random_state=None, ...)</pre><b>In a Jupyter environment, please rerun this cell to show the HTML representation or trust the notebook. <br />On GitHub, the HTML representation is unable to render, please try loading this page with nbviewer.org.</b></div><div class=\"sk-container\" hidden><div class=\"sk-item\"><div class=\"sk-estimator sk-toggleable\"><input class=\"sk-toggleable__control sk-hidden--visually\" id=\"sk-estimator-id-1\" type=\"checkbox\" checked><label for=\"sk-estimator-id-1\" class=\"sk-toggleable__label sk-toggleable__label-arrow\">XGBRegressor</label><div class=\"sk-toggleable__content\"><pre>XGBRegressor(base_score=None, booster=None, callbacks=None,\n",
       "             colsample_bylevel=None, colsample_bynode=None,\n",
       "             colsample_bytree=None, device=None, early_stopping_rounds=None,\n",
       "             enable_categorical=False, eval_metric=&#x27;mae&#x27;, feature_types=None,\n",
       "             gamma=None, grow_policy=None, importance_type=None,\n",
       "             interaction_constraints=None, learning_rate=None, max_bin=None,\n",
       "             max_cat_threshold=None, max_cat_to_onehot=None,\n",
       "             max_delta_step=None, max_depth=None, max_leaves=None,\n",
       "             min_child_weight=None, missing=nan, monotone_constraints=None,\n",
       "             multi_strategy=None, n_estimators=50, n_jobs=None,\n",
       "             num_parallel_tree=None, random_state=None, ...)</pre></div></div></div></div></div>"
      ],
      "text/plain": [
       "XGBRegressor(base_score=None, booster=None, callbacks=None,\n",
       "             colsample_bylevel=None, colsample_bynode=None,\n",
       "             colsample_bytree=None, device=None, early_stopping_rounds=None,\n",
       "             enable_categorical=False, eval_metric='mae', feature_types=None,\n",
       "             gamma=None, grow_policy=None, importance_type=None,\n",
       "             interaction_constraints=None, learning_rate=None, max_bin=None,\n",
       "             max_cat_threshold=None, max_cat_to_onehot=None,\n",
       "             max_delta_step=None, max_depth=None, max_leaves=None,\n",
       "             min_child_weight=None, missing=nan, monotone_constraints=None,\n",
       "             multi_strategy=None, n_estimators=50, n_jobs=None,\n",
       "             num_parallel_tree=None, random_state=None, ...)"
      ]
     },
     "execution_count": 21,
     "metadata": {},
     "output_type": "execute_result"
    }
   ],
   "source": [
    "clf.fit(X_train, y_train)"
   ]
  },
  {
   "cell_type": "code",
   "execution_count": 22,
   "id": "639ca323",
   "metadata": {
    "ExecuteTime": {
     "end_time": "2023-11-16T14:48:50.571465508Z",
     "start_time": "2023-11-16T14:48:49.667178028Z"
    },
    "execution": {
     "iopub.execute_input": "2023-11-16T16:16:32.217611Z",
     "iopub.status.busy": "2023-11-16T16:16:32.217201Z",
     "iopub.status.idle": "2023-11-16T16:16:34.542364Z",
     "shell.execute_reply": "2023-11-16T16:16:34.541579Z"
    },
    "papermill": {
     "duration": 2.346081,
     "end_time": "2023-11-16T16:16:34.544549",
     "exception": false,
     "start_time": "2023-11-16T16:16:32.198468",
     "status": "completed"
    },
    "tags": []
   },
   "outputs": [
    {
     "data": {
      "text/plain": [
       "array([-0.4685102 ,  0.03332288,  0.06917237, ..., -0.6658977 ,\n",
       "       -0.2952325 , -1.5250771 ], dtype=float32)"
      ]
     },
     "execution_count": 22,
     "metadata": {},
     "output_type": "execute_result"
    }
   ],
   "source": [
    "y_pred = clf.predict(X_test)\n",
    "y_pred"
   ]
  },
  {
   "cell_type": "markdown",
   "id": "8db324bb",
   "metadata": {
    "papermill": {
     "duration": 0.017071,
     "end_time": "2023-11-16T16:16:34.578947",
     "exception": false,
     "start_time": "2023-11-16T16:16:34.561876",
     "status": "completed"
    },
    "tags": []
   },
   "source": [
    "## Evaluation"
   ]
  },
  {
   "cell_type": "code",
   "execution_count": null,
   "id": "f2e0d83b",
   "metadata": {
    "ExecuteTime": {
     "end_time": "2023-11-16T14:48:50.630358573Z",
     "start_time": "2023-11-16T14:48:50.572363485Z"
    },
    "papermill": {
     "duration": 0.01702,
     "end_time": "2023-11-16T16:16:34.613268",
     "exception": false,
     "start_time": "2023-11-16T16:16:34.596248",
     "status": "completed"
    },
    "tags": []
   },
   "outputs": [],
   "source": []
  },
  {
   "cell_type": "code",
   "execution_count": 23,
   "id": "e0f13e85",
   "metadata": {
    "ExecuteTime": {
     "end_time": "2023-11-16T14:48:50.630841571Z",
     "start_time": "2023-11-16T14:48:50.615069992Z"
    },
    "execution": {
     "iopub.execute_input": "2023-11-16T16:16:34.649838Z",
     "iopub.status.busy": "2023-11-16T16:16:34.649397Z",
     "iopub.status.idle": "2023-11-16T16:16:34.689035Z",
     "shell.execute_reply": "2023-11-16T16:16:34.687739Z"
    },
    "papermill": {
     "duration": 0.061341,
     "end_time": "2023-11-16T16:16:34.691933",
     "exception": false,
     "start_time": "2023-11-16T16:16:34.630592",
     "status": "completed"
    },
    "tags": []
   },
   "outputs": [
    {
     "name": "stdout",
     "output_type": "stream",
     "text": [
      "Mean Absolute Error: 6.302675248695277\n"
     ]
    }
   ],
   "source": [
    "mae = mean_absolute_error(y_pred, y_test)\n",
    "print(\"Mean Absolute Error: {}\".format(mae))"
   ]
  },
  {
   "cell_type": "markdown",
   "id": "0e2fb1e4",
   "metadata": {
    "papermill": {
     "duration": 0.017093,
     "end_time": "2023-11-16T16:16:34.726913",
     "exception": false,
     "start_time": "2023-11-16T16:16:34.709820",
     "status": "completed"
    },
    "tags": []
   },
   "source": [
    "### Prediction on the real test data"
   ]
  },
  {
   "cell_type": "code",
   "execution_count": 24,
   "id": "0b26268f",
   "metadata": {
    "execution": {
     "iopub.execute_input": "2023-11-16T16:16:34.764406Z",
     "iopub.status.busy": "2023-11-16T16:16:34.764021Z",
     "iopub.status.idle": "2023-11-16T16:16:34.797359Z",
     "shell.execute_reply": "2023-11-16T16:16:34.796156Z"
    },
    "papermill": {
     "duration": 0.055844,
     "end_time": "2023-11-16T16:16:34.800171",
     "exception": false,
     "start_time": "2023-11-16T16:16:34.744327",
     "status": "completed"
    },
    "tags": []
   },
   "outputs": [
    {
     "data": {
      "text/plain": [
       "array([-2.3579779 ,  1.6253014 ,  2.4964733 , ...,  0.21342263,\n",
       "        1.6834283 , -1.5154458 ], dtype=float32)"
      ]
     },
     "execution_count": 24,
     "metadata": {},
     "output_type": "execute_result"
    }
   ],
   "source": [
    "\n",
    "test_preds = clf.predict(test_df[X_cols])\n",
    "test_preds"
   ]
  },
  {
   "cell_type": "code",
   "execution_count": 25,
   "id": "a34d7d3b",
   "metadata": {
    "execution": {
     "iopub.execute_input": "2023-11-16T16:16:34.840857Z",
     "iopub.status.busy": "2023-11-16T16:16:34.840428Z",
     "iopub.status.idle": "2023-11-16T16:16:34.845664Z",
     "shell.execute_reply": "2023-11-16T16:16:34.844359Z"
    },
    "papermill": {
     "duration": 0.027708,
     "end_time": "2023-11-16T16:16:34.847996",
     "exception": false,
     "start_time": "2023-11-16T16:16:34.820288",
     "status": "completed"
    },
    "tags": []
   },
   "outputs": [],
   "source": [
    "# pd.DataFrame({'row_id':sample_submission[\"row_id\"],'target':test_preds}).to_csv('submission.csv', index=False)"
   ]
  },
  {
   "cell_type": "code",
   "execution_count": 26,
   "id": "840963f9",
   "metadata": {
    "ExecuteTime": {
     "end_time": "2023-11-16T15:44:54.337897539Z",
     "start_time": "2023-11-16T15:44:54.272326454Z"
    },
    "execution": {
     "iopub.execute_input": "2023-11-16T16:16:34.885896Z",
     "iopub.status.busy": "2023-11-16T16:16:34.884731Z",
     "iopub.status.idle": "2023-11-16T16:16:35.254326Z",
     "shell.execute_reply": "2023-11-16T16:16:35.253228Z"
    },
    "papermill": {
     "duration": 0.391502,
     "end_time": "2023-11-16T16:16:35.257127",
     "exception": false,
     "start_time": "2023-11-16T16:16:34.865625",
     "status": "completed"
    },
    "tags": []
   },
   "outputs": [
    {
     "name": "stdout",
     "output_type": "stream",
     "text": [
      "This version of the API is not optimized and should not be used to estimate the runtime of your code on the hidden test set.\n"
     ]
    }
   ],
   "source": [
    "test, revealed_targets, test_preds = next(iter_test)"
   ]
  },
  {
   "cell_type": "code",
   "execution_count": 27,
   "id": "46f0dd5c",
   "metadata": {
    "execution": {
     "iopub.execute_input": "2023-11-16T16:16:35.294959Z",
     "iopub.status.busy": "2023-11-16T16:16:35.294527Z",
     "iopub.status.idle": "2023-11-16T16:16:35.299569Z",
     "shell.execute_reply": "2023-11-16T16:16:35.298536Z"
    },
    "papermill": {
     "duration": 0.026644,
     "end_time": "2023-11-16T16:16:35.302070",
     "exception": false,
     "start_time": "2023-11-16T16:16:35.275426",
     "status": "completed"
    },
    "tags": []
   },
   "outputs": [],
   "source": [
    "env.predict(test_preds)"
   ]
  },
  {
   "cell_type": "code",
   "execution_count": 28,
   "id": "8dc581e8",
   "metadata": {
    "execution": {
     "iopub.execute_input": "2023-11-16T16:16:35.339494Z",
     "iopub.status.busy": "2023-11-16T16:16:35.339074Z",
     "iopub.status.idle": "2023-11-16T16:16:35.470277Z",
     "shell.execute_reply": "2023-11-16T16:16:35.469071Z"
    },
    "papermill": {
     "duration": 0.153095,
     "end_time": "2023-11-16T16:16:35.473255",
     "exception": false,
     "start_time": "2023-11-16T16:16:35.320160",
     "status": "completed"
    },
    "tags": []
   },
   "outputs": [],
   "source": [
    "revealed = pd.read_csv('/kaggle/input/optiver-trading-at-the-close/example_test_files/revealed_targets.csv')\n",
    "test = pd.read_csv('/kaggle/input/optiver-trading-at-the-close/example_test_files/test.csv')\n"
   ]
  },
  {
   "cell_type": "code",
   "execution_count": 29,
   "id": "c9635959",
   "metadata": {
    "execution": {
     "iopub.execute_input": "2023-11-16T16:16:35.510388Z",
     "iopub.status.busy": "2023-11-16T16:16:35.509982Z",
     "iopub.status.idle": "2023-11-16T16:16:36.912702Z",
     "shell.execute_reply": "2023-11-16T16:16:36.911381Z"
    },
    "papermill": {
     "duration": 1.425732,
     "end_time": "2023-11-16T16:16:36.916611",
     "exception": false,
     "start_time": "2023-11-16T16:16:35.490879",
     "status": "completed"
    },
    "scrolled": true,
    "tags": []
   },
   "outputs": [],
   "source": [
    "counter = 0\n",
    "for (test, revealed_targets, test_preds) in iter_test:\n",
    "    test_preds['target'] = clf.predict(test[X_cols])\n",
    "    env.predict(test_preds)\n",
    "    counter += 1"
   ]
  },
  {
   "cell_type": "code",
   "execution_count": null,
   "id": "20a0ec90",
   "metadata": {
    "papermill": {
     "duration": 0.017304,
     "end_time": "2023-11-16T16:16:36.956243",
     "exception": false,
     "start_time": "2023-11-16T16:16:36.938939",
     "status": "completed"
    },
    "tags": []
   },
   "outputs": [],
   "source": []
  }
 ],
 "metadata": {
  "kaggle": {
   "accelerator": "none",
   "dataSources": [
    {
     "databundleVersionId": 7056235,
     "sourceId": 57891,
     "sourceType": "competition"
    }
   ],
   "dockerImageVersionId": 30587,
   "isGpuEnabled": false,
   "isInternetEnabled": true,
   "language": "python",
   "sourceType": "notebook"
  },
  "kernelspec": {
   "display_name": "Python 3",
   "language": "python",
   "name": "python3"
  },
  "language_info": {
   "codemirror_mode": {
    "name": "ipython",
    "version": 3
   },
   "file_extension": ".py",
   "mimetype": "text/x-python",
   "name": "python",
   "nbconvert_exporter": "python",
   "pygments_lexer": "ipython3",
   "version": "3.10.12"
  },
  "papermill": {
   "default_parameters": {},
   "duration": 62.219064,
   "end_time": "2023-11-16T16:16:37.896521",
   "environment_variables": {},
   "exception": null,
   "input_path": "__notebook__.ipynb",
   "output_path": "__notebook__.ipynb",
   "parameters": {},
   "start_time": "2023-11-16T16:15:35.677457",
   "version": "2.4.0"
  }
 },
 "nbformat": 4,
 "nbformat_minor": 5
}
