{
 "cells": [
  {
   "cell_type": "code",
   "execution_count": 1,
   "id": "7a566ecd",
   "metadata": {
    "_cell_guid": "b1076dfc-b9ad-4769-8c92-a6c4dae69d19",
    "_uuid": "8f2839f25d086af736a60e9eeb907d3b93b6e0e5",
    "execution": {
     "iopub.execute_input": "2023-12-20T13:40:10.656886Z",
     "iopub.status.busy": "2023-12-20T13:40:10.656539Z",
     "iopub.status.idle": "2023-12-20T13:40:10.969212Z",
     "shell.execute_reply": "2023-12-20T13:40:10.967773Z"
    },
    "id": "52c0af8f",
    "papermill": {
     "duration": 0.322786,
     "end_time": "2023-12-20T13:40:10.971330",
     "exception": false,
     "start_time": "2023-12-20T13:40:10.648544",
     "status": "completed"
    },
    "tags": []
   },
   "outputs": [
    {
     "name": "stdout",
     "output_type": "stream",
     "text": [
      "/kaggle/input/optiver-trading-at-the-close/public_timeseries_testing_util.py\n",
      "/kaggle/input/optiver-trading-at-the-close/train.csv\n",
      "/kaggle/input/optiver-trading-at-the-close/example_test_files/sample_submission.csv\n",
      "/kaggle/input/optiver-trading-at-the-close/example_test_files/revealed_targets.csv\n",
      "/kaggle/input/optiver-trading-at-the-close/example_test_files/test.csv\n",
      "/kaggle/input/optiver-trading-at-the-close/optiver2023/competition.cpython-310-x86_64-linux-gnu.so\n",
      "/kaggle/input/optiver-trading-at-the-close/optiver2023/__init__.py\n"
     ]
    }
   ],
   "source": [
    "# This Python 3 environment comes with many helpful analytics libraries installed\n",
    "# It is defined by the kaggle/python Docker image: https://github.com/kaggle/docker-python\n",
    "# For example, here's several helpful packages to load\n",
    "\n",
    "import numpy as np # linear algebra\n",
    "import pandas as pd # data processing, CSV file I/O (e.g. pd.read_csv)\n",
    "\n",
    "# Input data files are available in the read-only \"../input/\" directory\n",
    "# For example, running this (by clicking run or pressing Shift+Enter) will list all files under the input directory\n",
    "\n",
    "import os\n",
    "for dirname, _, filenames in os.walk('/kaggle/input'):\n",
    "    for filename in filenames:\n",
    "        print(os.path.join(dirname, filename))\n",
    "\n",
    "# You can write up to 20GB to the current directory (/kaggle/working/) that gets preserved as output when you create a version using \"Save & Run All\"\n",
    "# You can also write temporary files to /kaggle/temp/, but they won't be saved outside of the current session"
   ]
  },
  {
   "cell_type": "code",
   "execution_count": 2,
   "id": "796f1c28",
   "metadata": {
    "execution": {
     "iopub.execute_input": "2023-12-20T13:40:10.984690Z",
     "iopub.status.busy": "2023-12-20T13:40:10.984275Z",
     "iopub.status.idle": "2023-12-20T13:40:12.587873Z",
     "shell.execute_reply": "2023-12-20T13:40:12.586917Z"
    },
    "id": "01edf839",
    "papermill": {
     "duration": 1.612797,
     "end_time": "2023-12-20T13:40:12.590084",
     "exception": false,
     "start_time": "2023-12-20T13:40:10.977287",
     "status": "completed"
    },
    "tags": []
   },
   "outputs": [],
   "source": [
    "# Deps\n",
    "import pandas as pd\n",
    "import xgboost as xgb\n",
    "from sklearn.model_selection import train_test_split\n",
    "from sklearn.metrics import mean_squared_error, mean_absolute_error\n",
    "from sklearn.impute import SimpleImputer\n"
   ]
  },
  {
   "cell_type": "markdown",
   "id": "55e94758",
   "metadata": {
    "id": "f3a7bbc9",
    "papermill": {
     "duration": 0.005307,
     "end_time": "2023-12-20T13:40:12.601170",
     "exception": false,
     "start_time": "2023-12-20T13:40:12.595863",
     "status": "completed"
    },
    "tags": []
   },
   "source": [
    "## Load the data"
   ]
  },
  {
   "cell_type": "code",
   "execution_count": 3,
   "id": "ef654184",
   "metadata": {
    "execution": {
     "iopub.execute_input": "2023-12-20T13:40:12.613695Z",
     "iopub.status.busy": "2023-12-20T13:40:12.613112Z",
     "iopub.status.idle": "2023-12-20T13:40:26.037916Z",
     "shell.execute_reply": "2023-12-20T13:40:26.037051Z"
    },
    "id": "c6cdd767",
    "outputId": "c2a4acf6-db23-4b57-be9e-0f011f37291f",
    "papermill": {
     "duration": 13.433082,
     "end_time": "2023-12-20T13:40:26.039610",
     "exception": false,
     "start_time": "2023-12-20T13:40:12.606528",
     "status": "completed"
    },
    "tags": []
   },
   "outputs": [
    {
     "data": {
      "text/html": [
       "<div>\n",
       "<style scoped>\n",
       "    .dataframe tbody tr th:only-of-type {\n",
       "        vertical-align: middle;\n",
       "    }\n",
       "\n",
       "    .dataframe tbody tr th {\n",
       "        vertical-align: top;\n",
       "    }\n",
       "\n",
       "    .dataframe thead th {\n",
       "        text-align: right;\n",
       "    }\n",
       "</style>\n",
       "<table border=\"1\" class=\"dataframe\">\n",
       "  <thead>\n",
       "    <tr style=\"text-align: right;\">\n",
       "      <th></th>\n",
       "      <th>stock_id</th>\n",
       "      <th>date_id</th>\n",
       "      <th>seconds_in_bucket</th>\n",
       "      <th>imbalance_size</th>\n",
       "      <th>imbalance_buy_sell_flag</th>\n",
       "      <th>reference_price</th>\n",
       "      <th>matched_size</th>\n",
       "      <th>far_price</th>\n",
       "      <th>near_price</th>\n",
       "      <th>bid_price</th>\n",
       "      <th>bid_size</th>\n",
       "      <th>ask_price</th>\n",
       "      <th>ask_size</th>\n",
       "      <th>wap</th>\n",
       "      <th>target</th>\n",
       "      <th>time_id</th>\n",
       "      <th>row_id</th>\n",
       "    </tr>\n",
       "  </thead>\n",
       "  <tbody>\n",
       "    <tr>\n",
       "      <th>0</th>\n",
       "      <td>0</td>\n",
       "      <td>0</td>\n",
       "      <td>0</td>\n",
       "      <td>3180602.69</td>\n",
       "      <td>1</td>\n",
       "      <td>0.999812</td>\n",
       "      <td>13380276.64</td>\n",
       "      <td>NaN</td>\n",
       "      <td>NaN</td>\n",
       "      <td>0.999812</td>\n",
       "      <td>60651.50</td>\n",
       "      <td>1.000026</td>\n",
       "      <td>8493.03</td>\n",
       "      <td>1.0</td>\n",
       "      <td>-3.029704</td>\n",
       "      <td>0</td>\n",
       "      <td>0_0_0</td>\n",
       "    </tr>\n",
       "    <tr>\n",
       "      <th>1</th>\n",
       "      <td>1</td>\n",
       "      <td>0</td>\n",
       "      <td>0</td>\n",
       "      <td>166603.91</td>\n",
       "      <td>-1</td>\n",
       "      <td>0.999896</td>\n",
       "      <td>1642214.25</td>\n",
       "      <td>NaN</td>\n",
       "      <td>NaN</td>\n",
       "      <td>0.999896</td>\n",
       "      <td>3233.04</td>\n",
       "      <td>1.000660</td>\n",
       "      <td>20605.09</td>\n",
       "      <td>1.0</td>\n",
       "      <td>-5.519986</td>\n",
       "      <td>0</td>\n",
       "      <td>0_0_1</td>\n",
       "    </tr>\n",
       "    <tr>\n",
       "      <th>2</th>\n",
       "      <td>2</td>\n",
       "      <td>0</td>\n",
       "      <td>0</td>\n",
       "      <td>302879.87</td>\n",
       "      <td>-1</td>\n",
       "      <td>0.999561</td>\n",
       "      <td>1819368.03</td>\n",
       "      <td>NaN</td>\n",
       "      <td>NaN</td>\n",
       "      <td>0.999403</td>\n",
       "      <td>37956.00</td>\n",
       "      <td>1.000298</td>\n",
       "      <td>18995.00</td>\n",
       "      <td>1.0</td>\n",
       "      <td>-8.389950</td>\n",
       "      <td>0</td>\n",
       "      <td>0_0_2</td>\n",
       "    </tr>\n",
       "    <tr>\n",
       "      <th>3</th>\n",
       "      <td>3</td>\n",
       "      <td>0</td>\n",
       "      <td>0</td>\n",
       "      <td>11917682.27</td>\n",
       "      <td>-1</td>\n",
       "      <td>1.000171</td>\n",
       "      <td>18389745.62</td>\n",
       "      <td>NaN</td>\n",
       "      <td>NaN</td>\n",
       "      <td>0.999999</td>\n",
       "      <td>2324.90</td>\n",
       "      <td>1.000214</td>\n",
       "      <td>479032.40</td>\n",
       "      <td>1.0</td>\n",
       "      <td>-4.010200</td>\n",
       "      <td>0</td>\n",
       "      <td>0_0_3</td>\n",
       "    </tr>\n",
       "    <tr>\n",
       "      <th>4</th>\n",
       "      <td>4</td>\n",
       "      <td>0</td>\n",
       "      <td>0</td>\n",
       "      <td>447549.96</td>\n",
       "      <td>-1</td>\n",
       "      <td>0.999532</td>\n",
       "      <td>17860614.95</td>\n",
       "      <td>NaN</td>\n",
       "      <td>NaN</td>\n",
       "      <td>0.999394</td>\n",
       "      <td>16485.54</td>\n",
       "      <td>1.000016</td>\n",
       "      <td>434.10</td>\n",
       "      <td>1.0</td>\n",
       "      <td>-7.349849</td>\n",
       "      <td>0</td>\n",
       "      <td>0_0_4</td>\n",
       "    </tr>\n",
       "  </tbody>\n",
       "</table>\n",
       "</div>"
      ],
      "text/plain": [
       "   stock_id  date_id  seconds_in_bucket  imbalance_size  \\\n",
       "0         0        0                  0      3180602.69   \n",
       "1         1        0                  0       166603.91   \n",
       "2         2        0                  0       302879.87   \n",
       "3         3        0                  0     11917682.27   \n",
       "4         4        0                  0       447549.96   \n",
       "\n",
       "   imbalance_buy_sell_flag  reference_price  matched_size  far_price  \\\n",
       "0                        1         0.999812   13380276.64        NaN   \n",
       "1                       -1         0.999896    1642214.25        NaN   \n",
       "2                       -1         0.999561    1819368.03        NaN   \n",
       "3                       -1         1.000171   18389745.62        NaN   \n",
       "4                       -1         0.999532   17860614.95        NaN   \n",
       "\n",
       "   near_price  bid_price  bid_size  ask_price   ask_size  wap    target  \\\n",
       "0         NaN   0.999812  60651.50   1.000026    8493.03  1.0 -3.029704   \n",
       "1         NaN   0.999896   3233.04   1.000660   20605.09  1.0 -5.519986   \n",
       "2         NaN   0.999403  37956.00   1.000298   18995.00  1.0 -8.389950   \n",
       "3         NaN   0.999999   2324.90   1.000214  479032.40  1.0 -4.010200   \n",
       "4         NaN   0.999394  16485.54   1.000016     434.10  1.0 -7.349849   \n",
       "\n",
       "   time_id row_id  \n",
       "0        0  0_0_0  \n",
       "1        0  0_0_1  \n",
       "2        0  0_0_2  \n",
       "3        0  0_0_3  \n",
       "4        0  0_0_4  "
      ]
     },
     "execution_count": 3,
     "metadata": {},
     "output_type": "execute_result"
    }
   ],
   "source": [
    "# Load and preprocess the data\n",
    "train_df = pd.read_csv('/kaggle/input/optiver-trading-at-the-close/train.csv')\n",
    "train_df.head()\n"
   ]
  },
  {
   "cell_type": "markdown",
   "id": "d8af95b5",
   "metadata": {
    "id": "4c27dd88",
    "papermill": {
     "duration": 0.005276,
     "end_time": "2023-12-20T13:40:26.050644",
     "exception": false,
     "start_time": "2023-12-20T13:40:26.045368",
     "status": "completed"
    },
    "tags": []
   },
   "source": [
    "## EDA"
   ]
  },
  {
   "cell_type": "code",
   "execution_count": 4,
   "id": "05df939b",
   "metadata": {
    "execution": {
     "iopub.execute_input": "2023-12-20T13:40:26.063386Z",
     "iopub.status.busy": "2023-12-20T13:40:26.062618Z",
     "iopub.status.idle": "2023-12-20T13:40:26.068623Z",
     "shell.execute_reply": "2023-12-20T13:40:26.067338Z"
    },
    "id": "c592f0d1",
    "outputId": "4afe2ea9-15f1-44bf-ea6a-1b5e3cda7930",
    "papermill": {
     "duration": 0.014365,
     "end_time": "2023-12-20T13:40:26.070388",
     "exception": false,
     "start_time": "2023-12-20T13:40:26.056023",
     "status": "completed"
    },
    "tags": []
   },
   "outputs": [
    {
     "name": "stdout",
     "output_type": "stream",
     "text": [
      "Shape of the DataFrame: (5237980, 17)\n",
      "Columns in the DataFrame: Index(['stock_id', 'date_id', 'seconds_in_bucket', 'imbalance_size',\n",
      "       'imbalance_buy_sell_flag', 'reference_price', 'matched_size',\n",
      "       'far_price', 'near_price', 'bid_price', 'bid_size', 'ask_price',\n",
      "       'ask_size', 'wap', 'target', 'time_id', 'row_id'],\n",
      "      dtype='object')\n"
     ]
    }
   ],
   "source": [
    "def print_df(df):\n",
    "    # Print the shape of the DataFrame\n",
    "    print(\"Shape of the DataFrame:\", df.shape)\n",
    "    # Print the columns of the DataFrame\n",
    "    print(\"Columns in the DataFrame:\", df.columns)\n",
    "\n",
    "\n",
    "print_df(train_df)"
   ]
  },
  {
   "cell_type": "code",
   "execution_count": 5,
   "id": "ea154fea",
   "metadata": {
    "execution": {
     "iopub.execute_input": "2023-12-20T13:40:26.083943Z",
     "iopub.status.busy": "2023-12-20T13:40:26.082795Z",
     "iopub.status.idle": "2023-12-20T13:40:26.115714Z",
     "shell.execute_reply": "2023-12-20T13:40:26.114571Z"
    },
    "id": "4dacde63",
    "outputId": "92d8b3e1-9942-4d1e-cbfa-8a15c015145d",
    "papermill": {
     "duration": 0.041623,
     "end_time": "2023-12-20T13:40:26.117629",
     "exception": false,
     "start_time": "2023-12-20T13:40:26.076006",
     "status": "completed"
    },
    "tags": []
   },
   "outputs": [
    {
     "data": {
      "text/plain": [
       "200"
      ]
     },
     "execution_count": 5,
     "metadata": {},
     "output_type": "execute_result"
    }
   ],
   "source": [
    "# Available Stocks count\n",
    "len(train_df.stock_id.unique())"
   ]
  },
  {
   "cell_type": "code",
   "execution_count": 6,
   "id": "a85b7acb",
   "metadata": {
    "execution": {
     "iopub.execute_input": "2023-12-20T13:40:26.131980Z",
     "iopub.status.busy": "2023-12-20T13:40:26.131618Z",
     "iopub.status.idle": "2023-12-20T13:40:26.633410Z",
     "shell.execute_reply": "2023-12-20T13:40:26.632196Z"
    },
    "id": "573e6823",
    "outputId": "238d17db-ed5c-4bb7-a0d4-854fe779e62a",
    "papermill": {
     "duration": 0.511499,
     "end_time": "2023-12-20T13:40:26.635509",
     "exception": false,
     "start_time": "2023-12-20T13:40:26.124010",
     "status": "completed"
    },
    "tags": []
   },
   "outputs": [
    {
     "data": {
      "text/plain": [
       "<Axes: >"
      ]
     },
     "execution_count": 6,
     "metadata": {},
     "output_type": "execute_result"
    },
    {
     "data": {
      "image/png": "[encoded data removed]",
      "text/plain": [
       "<Figure size 640x480 with 1 Axes>"
      ]
     },
     "metadata": {},
     "output_type": "display_data"
    }
   ],
   "source": [
    "train_df.isna().sum().sort_values(ascending=False).plot(kind='bar')"
   ]
  },
  {
   "cell_type": "code",
   "execution_count": 7,
   "id": "b513cc83",
   "metadata": {
    "execution": {
     "iopub.execute_input": "2023-12-20T13:40:26.651044Z",
     "iopub.status.busy": "2023-12-20T13:40:26.650660Z",
     "iopub.status.idle": "2023-12-20T13:40:27.239983Z",
     "shell.execute_reply": "2023-12-20T13:40:27.239007Z"
    },
    "id": "947ec307",
    "outputId": "19167a93-8363-470d-f289-02ca77a04e7c",
    "papermill": {
     "duration": 0.599108,
     "end_time": "2023-12-20T13:40:27.242003",
     "exception": false,
     "start_time": "2023-12-20T13:40:26.642895",
     "status": "completed"
    },
    "tags": []
   },
   "outputs": [
    {
     "data": {
      "image/png": "[encoded data removed]",
      "text/plain": [
       "<Figure size 640x480 with 1 Axes>"
      ]
     },
     "metadata": {},
     "output_type": "display_data"
    }
   ],
   "source": [
    "# Check the total null values of df\n",
    "def check_null(df,return_null_cols=False, null_cols_count=2, ):\n",
    "    df = df.copy()\n",
    "    vals = df.isna().sum().sort_values(ascending=False).plot(kind='bar')\n",
    "    if return_null_cols:\n",
    "        return vals[:null_cols_count].index\n",
    "\n",
    "null_cols = check_null(train_df)"
   ]
  },
  {
   "cell_type": "code",
   "execution_count": 8,
   "id": "33879d49",
   "metadata": {
    "execution": {
     "iopub.execute_input": "2023-12-20T13:40:27.260475Z",
     "iopub.status.busy": "2023-12-20T13:40:27.260121Z",
     "iopub.status.idle": "2023-12-20T13:40:27.264823Z",
     "shell.execute_reply": "2023-12-20T13:40:27.263834Z"
    },
    "id": "2646365e",
    "papermill": {
     "duration": 0.014825,
     "end_time": "2023-12-20T13:40:27.266644",
     "exception": false,
     "start_time": "2023-12-20T13:40:27.251819",
     "status": "completed"
    },
    "tags": []
   },
   "outputs": [],
   "source": [
    "null_cols"
   ]
  },
  {
   "cell_type": "code",
   "execution_count": 9,
   "id": "0a5094f5",
   "metadata": {
    "execution": {
     "iopub.execute_input": "2023-12-20T13:40:27.282165Z",
     "iopub.status.busy": "2023-12-20T13:40:27.281741Z",
     "iopub.status.idle": "2023-12-20T13:40:27.754063Z",
     "shell.execute_reply": "2023-12-20T13:40:27.753038Z"
    },
    "id": "315b8cd5",
    "outputId": "82fee7e6-951b-4023-db70-be3805580a64",
    "papermill": {
     "duration": 0.482274,
     "end_time": "2023-12-20T13:40:27.755984",
     "exception": false,
     "start_time": "2023-12-20T13:40:27.273710",
     "status": "completed"
    },
    "tags": []
   },
   "outputs": [
    {
     "name": "stdout",
     "output_type": "stream",
     "text": [
      "high null values: Index(['far_price', 'near_price'], dtype='object')\n"
     ]
    }
   ],
   "source": [
    "# Drip high null columsn\n",
    "high_null_cols = train_df.isna().sum().sort_values(ascending=False)[:2].index\n",
    "\n",
    "print(f\"high null values: {high_null_cols}\")\n",
    "\n",
    "def drop_cols(df, cols):\n",
    "    df = df.drop(cols, axis=1)\n",
    "    return df\n",
    "\n",
    "df = drop_cols(train_df, high_null_cols)\n",
    "df = drop_cols(df, ['row_id'])"
   ]
  },
  {
   "cell_type": "code",
   "execution_count": 10,
   "id": "77744379",
   "metadata": {
    "execution": {
     "iopub.execute_input": "2023-12-20T13:40:27.771804Z",
     "iopub.status.busy": "2023-12-20T13:40:27.771338Z",
     "iopub.status.idle": "2023-12-20T13:40:39.893811Z",
     "shell.execute_reply": "2023-12-20T13:40:39.892462Z"
    },
    "id": "b0e39402",
    "outputId": "6892a4e3-ef8d-428a-8677-7f19d3420f12",
    "papermill": {
     "duration": 12.133443,
     "end_time": "2023-12-20T13:40:39.896582",
     "exception": false,
     "start_time": "2023-12-20T13:40:27.763139",
     "status": "completed"
    },
    "tags": []
   },
   "outputs": [],
   "source": [
    "def imputer(df_processed):\n",
    "    '''\n",
    "    Function that receives a dataframe and returns the median value of each missing value in a column partitioned by stock_id,\n",
    "    '''\n",
    "    stock_list = list(df_processed['stock_id'].unique())\n",
    "\n",
    "    imputer_columns = ['imbalance_size', 'reference_price', 'matched_size', 'bid_price', 'ask_price',\n",
    "                       'wap', 'target', 'seconds_in_bucket', 'bid_size', 'ask_size']\n",
    "\n",
    "    # Create a single SimpleImputer instance for each column\n",
    "    imputers = {col: SimpleImputer(missing_values=np.nan, strategy='median') for col in imputer_columns}\n",
    "\n",
    "    for stock in stock_list:\n",
    "        stock_df = df_processed.loc[df_processed['stock_id'] == stock]\n",
    "\n",
    "        # Apply imputation to each column\n",
    "        for col, imputer in imputers.items():\n",
    "            stock_df.loc[:,col] = imputer.fit_transform(stock_df[col].values.reshape(-1,1))\n",
    "\n",
    "        # Update the original DataFrame with imputed values\n",
    "        df_processed.loc[df_processed['stock_id'] == stock, imputer_columns] = stock_df[imputer_columns].values\n",
    "\n",
    "    return df_processed, imputers\n",
    "\n",
    "df_processed, imputers = imputer(df)"
   ]
  },
  {
   "cell_type": "code",
   "execution_count": 11,
   "id": "e3972fce",
   "metadata": {
    "execution": {
     "iopub.execute_input": "2023-12-20T13:40:39.912530Z",
     "iopub.status.busy": "2023-12-20T13:40:39.912163Z",
     "iopub.status.idle": "2023-12-20T13:40:39.922340Z",
     "shell.execute_reply": "2023-12-20T13:40:39.921396Z"
    },
    "id": "8c8907e0",
    "outputId": "078da6cf-00be-4256-e76e-bda96a256ea7",
    "papermill": {
     "duration": 0.020652,
     "end_time": "2023-12-20T13:40:39.924584",
     "exception": false,
     "start_time": "2023-12-20T13:40:39.903932",
     "status": "completed"
    },
    "tags": []
   },
   "outputs": [
    {
     "data": {
      "text/plain": [
       "{'imbalance_size': SimpleImputer(strategy='median'),\n",
       " 'reference_price': SimpleImputer(strategy='median'),\n",
       " 'matched_size': SimpleImputer(strategy='median'),\n",
       " 'bid_price': SimpleImputer(strategy='median'),\n",
       " 'ask_price': SimpleImputer(strategy='median'),\n",
       " 'wap': SimpleImputer(strategy='median'),\n",
       " 'target': SimpleImputer(strategy='median'),\n",
       " 'seconds_in_bucket': SimpleImputer(strategy='median'),\n",
       " 'bid_size': SimpleImputer(strategy='median'),\n",
       " 'ask_size': SimpleImputer(strategy='median')}"
      ]
     },
     "execution_count": 11,
     "metadata": {},
     "output_type": "execute_result"
    }
   ],
   "source": [
    "imputers"
   ]
  },
  {
   "cell_type": "code",
   "execution_count": 12,
   "id": "3da646c4",
   "metadata": {
    "execution": {
     "iopub.execute_input": "2023-12-20T13:40:39.941188Z",
     "iopub.status.busy": "2023-12-20T13:40:39.940601Z",
     "iopub.status.idle": "2023-12-20T13:40:39.945677Z",
     "shell.execute_reply": "2023-12-20T13:40:39.945056Z"
    },
    "id": "15e8df8d",
    "papermill": {
     "duration": 0.015967,
     "end_time": "2023-12-20T13:40:39.948156",
     "exception": false,
     "start_time": "2023-12-20T13:40:39.932189",
     "status": "completed"
    },
    "tags": []
   },
   "outputs": [],
   "source": [
    "def apply_imputer(df_processed, imputers):\n",
    "    imputer_columns = ['imbalance_size', 'reference_price', 'matched_size', 'bid_price', 'ask_price',\n",
    "                       'wap', 'seconds_in_bucket', 'bid_size', 'ask_size']\n",
    "\n",
    "    for col in imputer_columns:\n",
    "        df_processed[col] = imputers[col].transform(np.array(df_processed[col]).reshape(-1, 1))\n",
    "\n",
    "    return df_processed"
   ]
  },
  {
   "cell_type": "code",
   "execution_count": 13,
   "id": "8f212529",
   "metadata": {
    "execution": {
     "iopub.execute_input": "2023-12-20T13:40:39.964209Z",
     "iopub.status.busy": "2023-12-20T13:40:39.963826Z",
     "iopub.status.idle": "2023-12-20T13:40:40.269682Z",
     "shell.execute_reply": "2023-12-20T13:40:40.268204Z"
    },
    "id": "9331e92e",
    "papermill": {
     "duration": 0.316764,
     "end_time": "2023-12-20T13:40:40.272343",
     "exception": false,
     "start_time": "2023-12-20T13:40:39.955579",
     "status": "completed"
    },
    "tags": []
   },
   "outputs": [],
   "source": [
    "df_processed = apply_imputer(df_processed, imputers)"
   ]
  },
  {
   "cell_type": "code",
   "execution_count": 14,
   "id": "559732eb",
   "metadata": {
    "execution": {
     "iopub.execute_input": "2023-12-20T13:40:40.288270Z",
     "iopub.status.busy": "2023-12-20T13:40:40.287586Z",
     "iopub.status.idle": "2023-12-20T13:40:40.504273Z",
     "shell.execute_reply": "2023-12-20T13:40:40.502909Z"
    },
    "id": "31794b35",
    "outputId": "2dc68ab3-2d2c-4f29-eb57-b21379e16c3d",
    "papermill": {
     "duration": 0.226671,
     "end_time": "2023-12-20T13:40:40.506416",
     "exception": false,
     "start_time": "2023-12-20T13:40:40.279745",
     "status": "completed"
    },
    "tags": []
   },
   "outputs": [
    {
     "data": {
      "text/html": [
       "<div>\n",
       "<style scoped>\n",
       "    .dataframe tbody tr th:only-of-type {\n",
       "        vertical-align: middle;\n",
       "    }\n",
       "\n",
       "    .dataframe tbody tr th {\n",
       "        vertical-align: top;\n",
       "    }\n",
       "\n",
       "    .dataframe thead th {\n",
       "        text-align: right;\n",
       "    }\n",
       "</style>\n",
       "<table border=\"1\" class=\"dataframe\">\n",
       "  <thead>\n",
       "    <tr style=\"text-align: right;\">\n",
       "      <th></th>\n",
       "      <th>stock_id</th>\n",
       "      <th>date_id</th>\n",
       "      <th>seconds_in_bucket</th>\n",
       "      <th>imbalance_size</th>\n",
       "      <th>imbalance_buy_sell_flag</th>\n",
       "      <th>reference_price</th>\n",
       "      <th>matched_size</th>\n",
       "      <th>far_price</th>\n",
       "      <th>near_price</th>\n",
       "      <th>bid_price</th>\n",
       "      <th>bid_size</th>\n",
       "      <th>ask_price</th>\n",
       "      <th>ask_size</th>\n",
       "      <th>wap</th>\n",
       "      <th>time_id</th>\n",
       "      <th>row_id</th>\n",
       "      <th>currently_scored</th>\n",
       "    </tr>\n",
       "  </thead>\n",
       "  <tbody>\n",
       "    <tr>\n",
       "      <th>0</th>\n",
       "      <td>0</td>\n",
       "      <td>478</td>\n",
       "      <td>0</td>\n",
       "      <td>3753451.43</td>\n",
       "      <td>-1</td>\n",
       "      <td>0.999875</td>\n",
       "      <td>11548975.43</td>\n",
       "      <td>NaN</td>\n",
       "      <td>NaN</td>\n",
       "      <td>0.999875</td>\n",
       "      <td>22940.00</td>\n",
       "      <td>1.000050</td>\n",
       "      <td>9177.60</td>\n",
       "      <td>1.000000</td>\n",
       "      <td>26290</td>\n",
       "      <td>478_0_0</td>\n",
       "      <td>False</td>\n",
       "    </tr>\n",
       "    <tr>\n",
       "      <th>1</th>\n",
       "      <td>1</td>\n",
       "      <td>478</td>\n",
       "      <td>0</td>\n",
       "      <td>985977.11</td>\n",
       "      <td>-1</td>\n",
       "      <td>1.000245</td>\n",
       "      <td>3850033.97</td>\n",
       "      <td>NaN</td>\n",
       "      <td>NaN</td>\n",
       "      <td>0.999940</td>\n",
       "      <td>1967.90</td>\n",
       "      <td>1.000601</td>\n",
       "      <td>19692.00</td>\n",
       "      <td>1.000000</td>\n",
       "      <td>26290</td>\n",
       "      <td>478_0_1</td>\n",
       "      <td>False</td>\n",
       "    </tr>\n",
       "    <tr>\n",
       "      <th>2</th>\n",
       "      <td>2</td>\n",
       "      <td>478</td>\n",
       "      <td>0</td>\n",
       "      <td>599128.74</td>\n",
       "      <td>1</td>\n",
       "      <td>1.000584</td>\n",
       "      <td>4359198.25</td>\n",
       "      <td>NaN</td>\n",
       "      <td>NaN</td>\n",
       "      <td>0.999918</td>\n",
       "      <td>4488.22</td>\n",
       "      <td>1.000636</td>\n",
       "      <td>34955.12</td>\n",
       "      <td>1.000000</td>\n",
       "      <td>26290</td>\n",
       "      <td>478_0_2</td>\n",
       "      <td>False</td>\n",
       "    </tr>\n",
       "    <tr>\n",
       "      <th>3</th>\n",
       "      <td>3</td>\n",
       "      <td>478</td>\n",
       "      <td>0</td>\n",
       "      <td>2872317.54</td>\n",
       "      <td>-1</td>\n",
       "      <td>0.999802</td>\n",
       "      <td>27129551.64</td>\n",
       "      <td>NaN</td>\n",
       "      <td>NaN</td>\n",
       "      <td>0.999705</td>\n",
       "      <td>16082.04</td>\n",
       "      <td>1.000189</td>\n",
       "      <td>10314.00</td>\n",
       "      <td>1.000000</td>\n",
       "      <td>26290</td>\n",
       "      <td>478_0_3</td>\n",
       "      <td>False</td>\n",
       "    </tr>\n",
       "    <tr>\n",
       "      <th>4</th>\n",
       "      <td>4</td>\n",
       "      <td>478</td>\n",
       "      <td>0</td>\n",
       "      <td>740059.14</td>\n",
       "      <td>-1</td>\n",
       "      <td>0.999886</td>\n",
       "      <td>8880890.78</td>\n",
       "      <td>NaN</td>\n",
       "      <td>NaN</td>\n",
       "      <td>0.999720</td>\n",
       "      <td>19012.35</td>\n",
       "      <td>1.000107</td>\n",
       "      <td>7245.60</td>\n",
       "      <td>1.000000</td>\n",
       "      <td>26290</td>\n",
       "      <td>478_0_4</td>\n",
       "      <td>False</td>\n",
       "    </tr>\n",
       "    <tr>\n",
       "      <th>...</th>\n",
       "      <td>...</td>\n",
       "      <td>...</td>\n",
       "      <td>...</td>\n",
       "      <td>...</td>\n",
       "      <td>...</td>\n",
       "      <td>...</td>\n",
       "      <td>...</td>\n",
       "      <td>...</td>\n",
       "      <td>...</td>\n",
       "      <td>...</td>\n",
       "      <td>...</td>\n",
       "      <td>...</td>\n",
       "      <td>...</td>\n",
       "      <td>...</td>\n",
       "      <td>...</td>\n",
       "      <td>...</td>\n",
       "      <td>...</td>\n",
       "    </tr>\n",
       "    <tr>\n",
       "      <th>32995</th>\n",
       "      <td>195</td>\n",
       "      <td>480</td>\n",
       "      <td>540</td>\n",
       "      <td>2440722.89</td>\n",
       "      <td>-1</td>\n",
       "      <td>1.000317</td>\n",
       "      <td>28280361.74</td>\n",
       "      <td>0.999734</td>\n",
       "      <td>0.999734</td>\n",
       "      <td>1.000317</td>\n",
       "      <td>32257.04</td>\n",
       "      <td>1.000434</td>\n",
       "      <td>319862.40</td>\n",
       "      <td>1.000328</td>\n",
       "      <td>26454</td>\n",
       "      <td>480_540_195</td>\n",
       "      <td>False</td>\n",
       "    </tr>\n",
       "    <tr>\n",
       "      <th>32996</th>\n",
       "      <td>196</td>\n",
       "      <td>480</td>\n",
       "      <td>540</td>\n",
       "      <td>349510.47</td>\n",
       "      <td>-1</td>\n",
       "      <td>1.000643</td>\n",
       "      <td>9187699.11</td>\n",
       "      <td>1.000129</td>\n",
       "      <td>1.000386</td>\n",
       "      <td>1.000643</td>\n",
       "      <td>205108.40</td>\n",
       "      <td>1.000900</td>\n",
       "      <td>93393.07</td>\n",
       "      <td>1.000819</td>\n",
       "      <td>26454</td>\n",
       "      <td>480_540_196</td>\n",
       "      <td>False</td>\n",
       "    </tr>\n",
       "    <tr>\n",
       "      <th>32997</th>\n",
       "      <td>197</td>\n",
       "      <td>480</td>\n",
       "      <td>540</td>\n",
       "      <td>0.00</td>\n",
       "      <td>0</td>\n",
       "      <td>0.995789</td>\n",
       "      <td>12725436.10</td>\n",
       "      <td>0.995789</td>\n",
       "      <td>0.995789</td>\n",
       "      <td>0.995789</td>\n",
       "      <td>16790.66</td>\n",
       "      <td>0.995883</td>\n",
       "      <td>180038.32</td>\n",
       "      <td>0.995797</td>\n",
       "      <td>26454</td>\n",
       "      <td>480_540_197</td>\n",
       "      <td>False</td>\n",
       "    </tr>\n",
       "    <tr>\n",
       "      <th>32998</th>\n",
       "      <td>198</td>\n",
       "      <td>480</td>\n",
       "      <td>540</td>\n",
       "      <td>1000898.84</td>\n",
       "      <td>1</td>\n",
       "      <td>0.999210</td>\n",
       "      <td>94773271.05</td>\n",
       "      <td>0.999210</td>\n",
       "      <td>0.999210</td>\n",
       "      <td>0.998970</td>\n",
       "      <td>125631.72</td>\n",
       "      <td>0.999210</td>\n",
       "      <td>669893.00</td>\n",
       "      <td>0.999008</td>\n",
       "      <td>26454</td>\n",
       "      <td>480_540_198</td>\n",
       "      <td>False</td>\n",
       "    </tr>\n",
       "    <tr>\n",
       "      <th>32999</th>\n",
       "      <td>199</td>\n",
       "      <td>480</td>\n",
       "      <td>540</td>\n",
       "      <td>1884285.71</td>\n",
       "      <td>-1</td>\n",
       "      <td>1.002129</td>\n",
       "      <td>24073677.32</td>\n",
       "      <td>1.000859</td>\n",
       "      <td>1.001494</td>\n",
       "      <td>1.002129</td>\n",
       "      <td>250081.44</td>\n",
       "      <td>1.002447</td>\n",
       "      <td>300167.56</td>\n",
       "      <td>1.002274</td>\n",
       "      <td>26454</td>\n",
       "      <td>480_540_199</td>\n",
       "      <td>False</td>\n",
       "    </tr>\n",
       "  </tbody>\n",
       "</table>\n",
       "<p>33000 rows × 17 columns</p>\n",
       "</div>"
      ],
      "text/plain": [
       "       stock_id  date_id  seconds_in_bucket  imbalance_size  \\\n",
       "0             0      478                  0      3753451.43   \n",
       "1             1      478                  0       985977.11   \n",
       "2             2      478                  0       599128.74   \n",
       "3             3      478                  0      2872317.54   \n",
       "4             4      478                  0       740059.14   \n",
       "...         ...      ...                ...             ...   \n",
       "32995       195      480                540      2440722.89   \n",
       "32996       196      480                540       349510.47   \n",
       "32997       197      480                540            0.00   \n",
       "32998       198      480                540      1000898.84   \n",
       "32999       199      480                540      1884285.71   \n",
       "\n",
       "       imbalance_buy_sell_flag  reference_price  matched_size  far_price  \\\n",
       "0                           -1         0.999875   11548975.43        NaN   \n",
       "1                           -1         1.000245    3850033.97        NaN   \n",
       "2                            1         1.000584    4359198.25        NaN   \n",
       "3                           -1         0.999802   27129551.64        NaN   \n",
       "4                           -1         0.999886    8880890.78        NaN   \n",
       "...                        ...              ...           ...        ...   \n",
       "32995                       -1         1.000317   28280361.74   0.999734   \n",
       "32996                       -1         1.000643    9187699.11   1.000129   \n",
       "32997                        0         0.995789   12725436.10   0.995789   \n",
       "32998                        1         0.999210   94773271.05   0.999210   \n",
       "32999                       -1         1.002129   24073677.32   1.000859   \n",
       "\n",
       "       near_price  bid_price   bid_size  ask_price   ask_size       wap  \\\n",
       "0             NaN   0.999875   22940.00   1.000050    9177.60  1.000000   \n",
       "1             NaN   0.999940    1967.90   1.000601   19692.00  1.000000   \n",
       "2             NaN   0.999918    4488.22   1.000636   34955.12  1.000000   \n",
       "3             NaN   0.999705   16082.04   1.000189   10314.00  1.000000   \n",
       "4             NaN   0.999720   19012.35   1.000107    7245.60  1.000000   \n",
       "...           ...        ...        ...        ...        ...       ...   \n",
       "32995    0.999734   1.000317   32257.04   1.000434  319862.40  1.000328   \n",
       "32996    1.000386   1.000643  205108.40   1.000900   93393.07  1.000819   \n",
       "32997    0.995789   0.995789   16790.66   0.995883  180038.32  0.995797   \n",
       "32998    0.999210   0.998970  125631.72   0.999210  669893.00  0.999008   \n",
       "32999    1.001494   1.002129  250081.44   1.002447  300167.56  1.002274   \n",
       "\n",
       "       time_id       row_id  currently_scored  \n",
       "0        26290      478_0_0             False  \n",
       "1        26290      478_0_1             False  \n",
       "2        26290      478_0_2             False  \n",
       "3        26290      478_0_3             False  \n",
       "4        26290      478_0_4             False  \n",
       "...        ...          ...               ...  \n",
       "32995    26454  480_540_195             False  \n",
       "32996    26454  480_540_196             False  \n",
       "32997    26454  480_540_197             False  \n",
       "32998    26454  480_540_198             False  \n",
       "32999    26454  480_540_199             False  \n",
       "\n",
       "[33000 rows x 17 columns]"
      ]
     },
     "execution_count": 14,
     "metadata": {},
     "output_type": "execute_result"
    }
   ],
   "source": [
    "### Test dataset:\n",
    "test_df = pd.read_csv(\"/kaggle/input/optiver-trading-at-the-close/example_test_files/test.csv\")\n",
    "test_df_targets = pd.read_csv(\"/kaggle/input/optiver-trading-at-the-close/example_test_files/revealed_targets.csv\")\n",
    "\n",
    "sample_submission = pd.read_csv(\"/kaggle/input/optiver-trading-at-the-close/example_test_files/sample_submission.csv\")\n",
    "test_df\n"
   ]
  },
  {
   "cell_type": "markdown",
   "id": "963ffe1b",
   "metadata": {
    "id": "a038a67f",
    "papermill": {
     "duration": 0.007215,
     "end_time": "2023-12-20T13:40:40.521672",
     "exception": false,
     "start_time": "2023-12-20T13:40:40.514457",
     "status": "completed"
    },
    "tags": []
   },
   "source": [
    "## PreProcessing for X Train y Train"
   ]
  },
  {
   "cell_type": "code",
   "execution_count": 15,
   "id": "ba1dc229",
   "metadata": {
    "execution": {
     "iopub.execute_input": "2023-12-20T13:40:40.537972Z",
     "iopub.status.busy": "2023-12-20T13:40:40.537590Z",
     "iopub.status.idle": "2023-12-20T13:40:40.676178Z",
     "shell.execute_reply": "2023-12-20T13:40:40.675496Z"
    },
    "id": "8a5fee57",
    "papermill": {
     "duration": 0.149157,
     "end_time": "2023-12-20T13:40:40.678288",
     "exception": false,
     "start_time": "2023-12-20T13:40:40.529131",
     "status": "completed"
    },
    "tags": []
   },
   "outputs": [],
   "source": [
    "y = df_processed['target']\n",
    "X = df_processed.drop(['target'], axis = 1)"
   ]
  },
  {
   "cell_type": "code",
   "execution_count": 16,
   "id": "7cbf4de6",
   "metadata": {
    "execution": {
     "iopub.execute_input": "2023-12-20T13:40:40.696388Z",
     "iopub.status.busy": "2023-12-20T13:40:40.695813Z",
     "iopub.status.idle": "2023-12-20T13:40:40.841155Z",
     "shell.execute_reply": "2023-12-20T13:40:40.840127Z"
    },
    "id": "730119f7",
    "papermill": {
     "duration": 0.157205,
     "end_time": "2023-12-20T13:40:40.843679",
     "exception": false,
     "start_time": "2023-12-20T13:40:40.686474",
     "status": "completed"
    },
    "tags": []
   },
   "outputs": [],
   "source": [
    "X = X.drop(['time_id'], axis = 1)"
   ]
  },
  {
   "cell_type": "code",
   "execution_count": 17,
   "id": "5652fbf1",
   "metadata": {
    "execution": {
     "iopub.execute_input": "2023-12-20T13:40:40.862062Z",
     "iopub.status.busy": "2023-12-20T13:40:40.861674Z",
     "iopub.status.idle": "2023-12-20T13:40:40.865454Z",
     "shell.execute_reply": "2023-12-20T13:40:40.864631Z"
    },
    "id": "13bb1669",
    "papermill": {
     "duration": 0.015168,
     "end_time": "2023-12-20T13:40:40.867112",
     "exception": false,
     "start_time": "2023-12-20T13:40:40.851944",
     "status": "completed"
    },
    "tags": []
   },
   "outputs": [],
   "source": [
    "# Use this same cols to test data\n",
    "X_cols = X.columns"
   ]
  },
  {
   "cell_type": "code",
   "execution_count": 18,
   "id": "f2e21dda",
   "metadata": {
    "execution": {
     "iopub.execute_input": "2023-12-20T13:40:40.883518Z",
     "iopub.status.busy": "2023-12-20T13:40:40.883159Z",
     "iopub.status.idle": "2023-12-20T13:40:41.331312Z",
     "shell.execute_reply": "2023-12-20T13:40:41.330028Z"
    },
    "id": "207bd55b",
    "papermill": {
     "duration": 0.4591,
     "end_time": "2023-12-20T13:40:41.333589",
     "exception": false,
     "start_time": "2023-12-20T13:40:40.874489",
     "status": "completed"
    },
    "tags": []
   },
   "outputs": [],
   "source": [
    "a = df_processed[(df_processed.date_id<385)]\n",
    "y_train = a['target']\n",
    "X_train = a.drop(['target','time_id'], axis = 1)\n",
    "\n",
    "a = df_processed[(df_processed.date_id>=385)]\n",
    "y_test = a['target']\n",
    "X_test = a.drop(['target','time_id'], axis = 1)"
   ]
  },
  {
   "cell_type": "markdown",
   "id": "39fb2704",
   "metadata": {
    "id": "1c1509e7",
    "papermill": {
     "duration": 0.006911,
     "end_time": "2023-12-20T13:40:41.348198",
     "exception": false,
     "start_time": "2023-12-20T13:40:41.341287",
     "status": "completed"
    },
    "tags": []
   },
   "source": [
    "## Building model"
   ]
  },
  {
   "cell_type": "code",
   "execution_count": 19,
   "id": "0dd3f460",
   "metadata": {
    "execution": {
     "iopub.execute_input": "2023-12-20T13:40:41.364701Z",
     "iopub.status.busy": "2023-12-20T13:40:41.363905Z",
     "iopub.status.idle": "2023-12-20T13:44:12.796059Z",
     "shell.execute_reply": "2023-12-20T13:44:12.794555Z"
    },
    "id": "p4zMn1a7Yfcl",
    "outputId": "b6698db7-7196-4a05-ef49-27e8c2f15ccd",
    "papermill": {
     "duration": 211.443045,
     "end_time": "2023-12-20T13:44:12.798424",
     "exception": false,
     "start_time": "2023-12-20T13:40:41.355379",
     "status": "completed"
    },
    "tags": []
   },
   "outputs": [
    {
     "name": "stderr",
     "output_type": "stream",
     "text": [
      "/opt/conda/lib/python3.10/site-packages/lightgbm/engine.py:177: UserWarning: Found `n_estimators` in params. Will use it instead of argument\n",
      "  _log_warning(f\"Found `{alias}` in params. Will use it instead of argument\")\n"
     ]
    },
    {
     "name": "stdout",
     "output_type": "stream",
     "text": [
      "Training until validation scores don't improve for 100 rounds\n",
      "[100]\tvalid_0's l1: 6.01551\n",
      "[200]\tvalid_0's l1: 5.9983\n",
      "[300]\tvalid_0's l1: 5.99329\n",
      "[400]\tvalid_0's l1: 5.9915\n",
      "[500]\tvalid_0's l1: 5.99196\n",
      "Early stopping, best iteration is:\n",
      "[405]\tvalid_0's l1: 5.99137\n"
     ]
    }
   ],
   "source": [
    "import lightgbm as lgb\n",
    "from sklearn.metrics import mean_squared_error\n",
    "from sklearn.model_selection import train_test_split\n",
    "\n",
    "# Assuming df_processed is your training data DataFrame\n",
    "# Replace 'your_target_column' with the actual column name in your dataset\n",
    "#X = df_processed.drop('target', axis=1)\n",
    "#y = df_processed['target']\n",
    "\n",
    "# Split the data into training, validation, and test sets\n",
    "#X_train, X_temp, y_train, y_temp = train_test_split(X, y, test_size=0.2, random_state=42)\n",
    "#X_valid, X_test, y_valid, y_test = train_test_split(X_temp, y_temp, test_size=0.5, random_state=42)\n",
    "\n",
    "# Create LightGBM datasets\n",
    "train_data = lgb.Dataset(X_train, label=y_train)\n",
    "valid_data = lgb.Dataset(X_test, label=y_test, reference=train_data)\n",
    "\n",
    "# Define LightGBM parameters (you can adjust these as needed)\n",
    "params = {\n",
    "    \"objective\": \"regression\",\n",
    "    \"metric\": \"mae\",\n",
    "        \"n_estimators\": 1000,\n",
    "        \"num_leaves\": 512,\n",
    "        \"subsample\": 0.4,\n",
    "        \"colsample_bytree\": 0.6,\n",
    "        \"learning_rate\": 0.00865,\n",
    "        'max_depth': 24,\n",
    "        \"n_jobs\": 4,\n",
    "        \"verbosity\": -1,\n",
    "        \"reg_alpha\": 0.1,\n",
    "        \"reg_lambda\": 3.25\n",
    "}\n",
    "callbacks = [lgb.early_stopping(100), lgb.log_evaluation(100)]\n",
    "\n",
    "# Train the LightGBM model\n",
    "num_round = 1000  # You can adjust the number of boosting rounds\n",
    "bst = lgb.train(params, train_data, num_round, valid_sets=[valid_data], callbacks=callbacks)\n",
    "#bst = lgb.cv(params, train_data, folds=None, nfold=5, stratified=False, shuffle=False, callbacks=callbacks)\n",
    "## Make predictions on the test set\n",
    "#test_predictions = bst.predict(X_test)\n",
    "\n",
    "# Evaluate the model on the test set using MAE\n",
    "# Note: Replace 'your_target_column' with the actual column name in your dataset\n",
    "#mae = mean_absolute_error(y_test, test_predictions)\n",
    "#print(f'Mean Absolute Error on the test set: {mae}')\n"
   ]
  },
  {
   "cell_type": "markdown",
   "id": "63b0c17f",
   "metadata": {
    "id": "58bbe6da",
    "papermill": {
     "duration": 0.007693,
     "end_time": "2023-12-20T13:44:12.814277",
     "exception": false,
     "start_time": "2023-12-20T13:44:12.806584",
     "status": "completed"
    },
    "tags": []
   },
   "source": [
    "## Evaluation"
   ]
  },
  {
   "cell_type": "markdown",
   "id": "a41337d4",
   "metadata": {
    "id": "c0f2be67",
    "papermill": {
     "duration": 0.007677,
     "end_time": "2023-12-20T13:44:12.830160",
     "exception": false,
     "start_time": "2023-12-20T13:44:12.822483",
     "status": "completed"
    },
    "tags": []
   },
   "source": [
    "### Prediction on the real test data"
   ]
  },
  {
   "cell_type": "code",
   "execution_count": 20,
   "id": "e1a89dd7",
   "metadata": {
    "execution": {
     "iopub.execute_input": "2023-12-20T13:44:12.848323Z",
     "iopub.status.busy": "2023-12-20T13:44:12.848000Z",
     "iopub.status.idle": "2023-12-20T13:44:12.872565Z",
     "shell.execute_reply": "2023-12-20T13:44:12.871819Z"
    },
    "id": "cca15775",
    "outputId": "62154e01-b21e-4b2f-9b68-fdff0991cc34",
    "papermill": {
     "duration": 0.036271,
     "end_time": "2023-12-20T13:44:12.874652",
     "exception": false,
     "start_time": "2023-12-20T13:44:12.838381",
     "status": "completed"
    },
    "tags": []
   },
   "outputs": [],
   "source": [
    "import optiver2023\n",
    "env = optiver2023.make_env()\n",
    "iter_test = env.iter_test()"
   ]
  },
  {
   "cell_type": "code",
   "execution_count": 21,
   "id": "a3126b93",
   "metadata": {
    "execution": {
     "iopub.execute_input": "2023-12-20T13:44:12.893513Z",
     "iopub.status.busy": "2023-12-20T13:44:12.892949Z",
     "iopub.status.idle": "2023-12-20T13:44:14.584705Z",
     "shell.execute_reply": "2023-12-20T13:44:14.583355Z"
    },
    "id": "5bd2c118",
    "papermill": {
     "duration": 1.704135,
     "end_time": "2023-12-20T13:44:14.587100",
     "exception": false,
     "start_time": "2023-12-20T13:44:12.882965",
     "status": "completed"
    },
    "tags": []
   },
   "outputs": [
    {
     "name": "stdout",
     "output_type": "stream",
     "text": [
      "This version of the API is not optimized and should not be used to estimate the runtime of your code on the hidden test set.\n"
     ]
    }
   ],
   "source": [
    "counter = 0\n",
    "for (test, revealed_targets, test_preds) in iter_test:\n",
    "    test_preds['target'] = bst.predict(test[X_cols])\n",
    "    env.predict(test_preds)\n",
    "    counter += 1"
   ]
  }
 ],
 "metadata": {
  "accelerator": "GPU",
  "colab": {
   "gpuType": "T4",
   "provenance": []
  },
  "kaggle": {
   "accelerator": "none",
   "dataSources": [
    {
     "databundleVersionId": 7056235,
     "sourceId": 57891,
     "sourceType": "competition"
    }
   ],
   "dockerImageVersionId": 30626,
   "isGpuEnabled": false,
   "isInternetEnabled": false,
   "language": "python",
   "sourceType": "notebook"
  },
  "kernelspec": {
   "display_name": "Python 3",
   "language": "python",
   "name": "python3"
  },
  "language_info": {
   "codemirror_mode": {
    "name": "ipython",
    "version": 3
   },
   "file_extension": ".py",
   "mimetype": "text/x-python",
   "name": "python",
   "nbconvert_exporter": "python",
   "pygments_lexer": "ipython3",
   "version": "3.10.12"
  },
  "papermill": {
   "default_parameters": {},
   "duration": 247.493854,
   "end_time": "2023-12-20T13:44:15.617714",
   "environment_variables": {},
   "exception": null,
   "input_path": "__notebook__.ipynb",
   "output_path": "__notebook__.ipynb",
   "parameters": {},
   "start_time": "2023-12-20T13:40:08.123860",
   "version": "2.4.0"
  }
 },
 "nbformat": 4,
 "nbformat_minor": 5
}
