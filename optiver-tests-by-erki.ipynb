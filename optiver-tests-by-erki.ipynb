{
 "cells": [
  {
   "cell_type": "code",
   "execution_count": 1,
   "id": "52c0af8f",
   "metadata": {
    "_cell_guid": "b1076dfc-b9ad-4769-8c92-a6c4dae69d19",
    "_uuid": "8f2839f25d086af736a60e9eeb907d3b93b6e0e5",
    "execution": {
     "iopub.execute_input": "2023-11-16T06:41:12.585668Z",
     "iopub.status.busy": "2023-11-16T06:41:12.585182Z",
     "iopub.status.idle": "2023-11-16T06:41:13.494982Z",
     "shell.execute_reply": "2023-11-16T06:41:13.493761Z"
    },
    "papermill": {
     "duration": 0.922536,
     "end_time": "2023-11-16T06:41:13.498108",
     "exception": false,
     "start_time": "2023-11-16T06:41:12.575572",
     "status": "completed"
    },
    "tags": []
   },
   "outputs": [],
   "source": [
    "# This Python 3 environment comes with many helpful analytics libraries installed\n",
    "# It is defined by the kaggle/python Docker image: https://github.com/kaggle/docker-python\n",
    "# For example, here's several helpful packages to load\n",
    "\n",
    "import numpy as np # linear algebra\n",
    "import pandas as pd # data processing, CSV file I/O (e.g. pd.read_csv)\n",
    "\n",
    "# Input data files are available in the read-only \"../input/\" directory\n",
    "# For example, running this (by clicking run or pressing Shift+Enter) will list all files under the input directory\n",
    "\n",
    "import os\n",
    "for dirname, _, filenames in os.walk('/kaggle/input'):\n",
    "    for filename in filenames:\n",
    "        print(os.path.join(dirname, filename))\n",
    "\n",
    "# You can write up to 20GB to the current directory (/kaggle/working/) that gets preserved as output when you create a version using \"Save & Run All\" \n",
    "# You can also write temporary files to /kaggle/temp/, but they won't be saved outside of the current session"
   ]
  },
  {
   "cell_type": "code",
   "execution_count": 2,
   "id": "01edf839",
   "metadata": {
    "execution": {
     "iopub.execute_input": "2023-11-16T06:41:13.515572Z",
     "iopub.status.busy": "2023-11-16T06:41:13.515088Z",
     "iopub.status.idle": "2023-11-16T06:41:15.270525Z",
     "shell.execute_reply": "2023-11-16T06:41:15.269385Z"
    },
    "papermill": {
     "duration": 1.767209,
     "end_time": "2023-11-16T06:41:15.273368",
     "exception": false,
     "start_time": "2023-11-16T06:41:13.506159",
     "status": "completed"
    },
    "tags": []
   },
   "outputs": [],
   "source": [
    "# Deps\n",
    "import pandas as pd\n",
    "import xgboost as xgb\n",
    "from sklearn.model_selection import train_test_split\n",
    "from sklearn.metrics import mean_squared_error, mean_absolute_error\n",
    "from sklearn.impute import SimpleImputer\n"
   ]
  },
  {
   "cell_type": "markdown",
   "id": "f3a7bbc9",
   "metadata": {
    "papermill": {
     "duration": 0.007209,
     "end_time": "2023-11-16T06:41:15.288368",
     "exception": false,
     "start_time": "2023-11-16T06:41:15.281159",
     "status": "completed"
    },
    "tags": []
   },
   "source": [
    "## Load the data"
   ]
  },
  {
   "cell_type": "code",
   "execution_count": 3,
   "id": "c6cdd767",
   "metadata": {
    "execution": {
     "iopub.execute_input": "2023-11-16T06:41:15.304729Z",
     "iopub.status.busy": "2023-11-16T06:41:15.304262Z",
     "iopub.status.idle": "2023-11-16T06:41:31.009029Z",
     "shell.execute_reply": "2023-11-16T06:41:31.006661Z"
    },
    "papermill": {
     "duration": 15.716881,
     "end_time": "2023-11-16T06:41:31.012501",
     "exception": false,
     "start_time": "2023-11-16T06:41:15.295620",
     "status": "completed"
    },
    "tags": []
   },
   "outputs": [
    {
     "data": {
      "text/html": [
       "<div>\n",
       "<style scoped>\n",
       "    .dataframe tbody tr th:only-of-type {\n",
       "        vertical-align: middle;\n",
       "    }\n",
       "\n",
       "    .dataframe tbody tr th {\n",
       "        vertical-align: top;\n",
       "    }\n",
       "\n",
       "    .dataframe thead th {\n",
       "        text-align: right;\n",
       "    }\n",
       "</style>\n",
       "<table border=\"1\" class=\"dataframe\">\n",
       "  <thead>\n",
       "    <tr style=\"text-align: right;\">\n",
       "      <th></th>\n",
       "      <th>stock_id</th>\n",
       "      <th>date_id</th>\n",
       "      <th>seconds_in_bucket</th>\n",
       "      <th>imbalance_size</th>\n",
       "      <th>imbalance_buy_sell_flag</th>\n",
       "      <th>reference_price</th>\n",
       "      <th>matched_size</th>\n",
       "      <th>far_price</th>\n",
       "      <th>near_price</th>\n",
       "      <th>bid_price</th>\n",
       "      <th>bid_size</th>\n",
       "      <th>ask_price</th>\n",
       "      <th>ask_size</th>\n",
       "      <th>wap</th>\n",
       "      <th>target</th>\n",
       "      <th>time_id</th>\n",
       "      <th>row_id</th>\n",
       "    </tr>\n",
       "  </thead>\n",
       "  <tbody>\n",
       "    <tr>\n",
       "      <th>0</th>\n",
       "      <td>0</td>\n",
       "      <td>0</td>\n",
       "      <td>0</td>\n",
       "      <td>3180602.69</td>\n",
       "      <td>1</td>\n",
       "      <td>0.999812</td>\n",
       "      <td>13380276.64</td>\n",
       "      <td>NaN</td>\n",
       "      <td>NaN</td>\n",
       "      <td>0.999812</td>\n",
       "      <td>60651.50</td>\n",
       "      <td>1.000026</td>\n",
       "      <td>8493.03</td>\n",
       "      <td>1.0</td>\n",
       "      <td>-3.029704</td>\n",
       "      <td>0</td>\n",
       "      <td>0_0_0</td>\n",
       "    </tr>\n",
       "    <tr>\n",
       "      <th>1</th>\n",
       "      <td>1</td>\n",
       "      <td>0</td>\n",
       "      <td>0</td>\n",
       "      <td>166603.91</td>\n",
       "      <td>-1</td>\n",
       "      <td>0.999896</td>\n",
       "      <td>1642214.25</td>\n",
       "      <td>NaN</td>\n",
       "      <td>NaN</td>\n",
       "      <td>0.999896</td>\n",
       "      <td>3233.04</td>\n",
       "      <td>1.000660</td>\n",
       "      <td>20605.09</td>\n",
       "      <td>1.0</td>\n",
       "      <td>-5.519986</td>\n",
       "      <td>0</td>\n",
       "      <td>0_0_1</td>\n",
       "    </tr>\n",
       "    <tr>\n",
       "      <th>2</th>\n",
       "      <td>2</td>\n",
       "      <td>0</td>\n",
       "      <td>0</td>\n",
       "      <td>302879.87</td>\n",
       "      <td>-1</td>\n",
       "      <td>0.999561</td>\n",
       "      <td>1819368.03</td>\n",
       "      <td>NaN</td>\n",
       "      <td>NaN</td>\n",
       "      <td>0.999403</td>\n",
       "      <td>37956.00</td>\n",
       "      <td>1.000298</td>\n",
       "      <td>18995.00</td>\n",
       "      <td>1.0</td>\n",
       "      <td>-8.389950</td>\n",
       "      <td>0</td>\n",
       "      <td>0_0_2</td>\n",
       "    </tr>\n",
       "    <tr>\n",
       "      <th>3</th>\n",
       "      <td>3</td>\n",
       "      <td>0</td>\n",
       "      <td>0</td>\n",
       "      <td>11917682.27</td>\n",
       "      <td>-1</td>\n",
       "      <td>1.000171</td>\n",
       "      <td>18389745.62</td>\n",
       "      <td>NaN</td>\n",
       "      <td>NaN</td>\n",
       "      <td>0.999999</td>\n",
       "      <td>2324.90</td>\n",
       "      <td>1.000214</td>\n",
       "      <td>479032.40</td>\n",
       "      <td>1.0</td>\n",
       "      <td>-4.010200</td>\n",
       "      <td>0</td>\n",
       "      <td>0_0_3</td>\n",
       "    </tr>\n",
       "    <tr>\n",
       "      <th>4</th>\n",
       "      <td>4</td>\n",
       "      <td>0</td>\n",
       "      <td>0</td>\n",
       "      <td>447549.96</td>\n",
       "      <td>-1</td>\n",
       "      <td>0.999532</td>\n",
       "      <td>17860614.95</td>\n",
       "      <td>NaN</td>\n",
       "      <td>NaN</td>\n",
       "      <td>0.999394</td>\n",
       "      <td>16485.54</td>\n",
       "      <td>1.000016</td>\n",
       "      <td>434.10</td>\n",
       "      <td>1.0</td>\n",
       "      <td>-7.349849</td>\n",
       "      <td>0</td>\n",
       "      <td>0_0_4</td>\n",
       "    </tr>\n",
       "  </tbody>\n",
       "</table>\n",
       "</div>"
      ],
      "text/plain": [
       "   stock_id  date_id  seconds_in_bucket  imbalance_size  \\\n",
       "0         0        0                  0      3180602.69   \n",
       "1         1        0                  0       166603.91   \n",
       "2         2        0                  0       302879.87   \n",
       "3         3        0                  0     11917682.27   \n",
       "4         4        0                  0       447549.96   \n",
       "\n",
       "   imbalance_buy_sell_flag  reference_price  matched_size  far_price  \\\n",
       "0                        1         0.999812   13380276.64        NaN   \n",
       "1                       -1         0.999896    1642214.25        NaN   \n",
       "2                       -1         0.999561    1819368.03        NaN   \n",
       "3                       -1         1.000171   18389745.62        NaN   \n",
       "4                       -1         0.999532   17860614.95        NaN   \n",
       "\n",
       "   near_price  bid_price  bid_size  ask_price   ask_size  wap    target  \\\n",
       "0         NaN   0.999812  60651.50   1.000026    8493.03  1.0 -3.029704   \n",
       "1         NaN   0.999896   3233.04   1.000660   20605.09  1.0 -5.519986   \n",
       "2         NaN   0.999403  37956.00   1.000298   18995.00  1.0 -8.389950   \n",
       "3         NaN   0.999999   2324.90   1.000214  479032.40  1.0 -4.010200   \n",
       "4         NaN   0.999394  16485.54   1.000016     434.10  1.0 -7.349849   \n",
       "\n",
       "   time_id row_id  \n",
       "0        0  0_0_0  \n",
       "1        0  0_0_1  \n",
       "2        0  0_0_2  \n",
       "3        0  0_0_3  \n",
       "4        0  0_0_4  "
      ]
     },
     "execution_count": 3,
     "metadata": {},
     "output_type": "execute_result"
    }
   ],
   "source": [
    "# Load and preprocess the data\n",
    "train_df = pd.read_csv('train.csv')\n",
    "train_df.head()\n"
   ]
  },
  {
   "cell_type": "markdown",
   "id": "4c27dd88",
   "metadata": {
    "papermill": {
     "duration": 0.00771,
     "end_time": "2023-11-16T06:41:31.028638",
     "exception": false,
     "start_time": "2023-11-16T06:41:31.020928",
     "status": "completed"
    },
    "tags": []
   },
   "source": [
    "## EDA"
   ]
  },
  {
   "cell_type": "code",
   "execution_count": 4,
   "id": "c592f0d1",
   "metadata": {
    "execution": {
     "iopub.execute_input": "2023-11-16T06:41:31.045840Z",
     "iopub.status.busy": "2023-11-16T06:41:31.045376Z",
     "iopub.status.idle": "2023-11-16T06:41:31.052515Z",
     "shell.execute_reply": "2023-11-16T06:41:31.051166Z"
    },
    "papermill": {
     "duration": 0.018364,
     "end_time": "2023-11-16T06:41:31.054744",
     "exception": false,
     "start_time": "2023-11-16T06:41:31.036380",
     "status": "completed"
    },
    "tags": []
   },
   "outputs": [
    {
     "name": "stdout",
     "output_type": "stream",
     "text": [
      "Shape of the DataFrame: (5237980, 17)\n",
      "Columns in the DataFrame: Index(['stock_id', 'date_id', 'seconds_in_bucket', 'imbalance_size',\n",
      "       'imbalance_buy_sell_flag', 'reference_price', 'matched_size',\n",
      "       'far_price', 'near_price', 'bid_price', 'bid_size', 'ask_price',\n",
      "       'ask_size', 'wap', 'target', 'time_id', 'row_id'],\n",
      "      dtype='object')\n"
     ]
    }
   ],
   "source": [
    "def print_df(df):\n",
    "    # Print the shape of the DataFrame\n",
    "    print(\"Shape of the DataFrame:\", df.shape)\n",
    "    # Print the columns of the DataFrame\n",
    "    print(\"Columns in the DataFrame:\", df.columns)\n",
    "\n",
    "\n",
    "print_df(train_df)"
   ]
  },
  {
   "cell_type": "code",
   "execution_count": 5,
   "id": "4dacde63",
   "metadata": {
    "execution": {
     "iopub.execute_input": "2023-11-16T06:41:31.072572Z",
     "iopub.status.busy": "2023-11-16T06:41:31.071322Z",
     "iopub.status.idle": "2023-11-16T06:41:31.104258Z",
     "shell.execute_reply": "2023-11-16T06:41:31.102573Z"
    },
    "papermill": {
     "duration": 0.045376,
     "end_time": "2023-11-16T06:41:31.107806",
     "exception": false,
     "start_time": "2023-11-16T06:41:31.062430",
     "status": "completed"
    },
    "tags": []
   },
   "outputs": [
    {
     "data": {
      "text/plain": [
       "200"
      ]
     },
     "execution_count": 5,
     "metadata": {},
     "output_type": "execute_result"
    }
   ],
   "source": [
    "# Available Stocks count\n",
    "len(train_df.stock_id.unique())"
   ]
  },
  {
   "cell_type": "code",
   "execution_count": 6,
   "id": "573e6823",
   "metadata": {
    "execution": {
     "iopub.execute_input": "2023-11-16T06:41:31.127291Z",
     "iopub.status.busy": "2023-11-16T06:41:31.126792Z",
     "iopub.status.idle": "2023-11-16T06:41:31.677180Z",
     "shell.execute_reply": "2023-11-16T06:41:31.675778Z"
    },
    "papermill": {
     "duration": 0.562982,
     "end_time": "2023-11-16T06:41:31.679307",
     "exception": false,
     "start_time": "2023-11-16T06:41:31.116325",
     "status": "completed"
    },
    "tags": []
   },
   "outputs": [
    {
     "data": {
      "text/plain": [
       "<Axes: >"
      ]
     },
     "execution_count": 6,
     "metadata": {},
     "output_type": "execute_result"
    },
    {
     "data": {
      "image/png": "[encoded data removed]",
      "text/plain": [
       "<Figure size 640x480 with 1 Axes>"
      ]
     },
     "metadata": {},
     "output_type": "display_data"
    }
   ],
   "source": [
    "train_df.isna().sum().sort_values(ascending=False).plot(kind='bar')"
   ]
  },
  {
   "cell_type": "code",
   "execution_count": 7,
   "id": "947ec307",
   "metadata": {
    "execution": {
     "iopub.execute_input": "2023-11-16T06:41:31.698857Z",
     "iopub.status.busy": "2023-11-16T06:41:31.697600Z",
     "iopub.status.idle": "2023-11-16T06:41:32.385299Z",
     "shell.execute_reply": "2023-11-16T06:41:32.384387Z"
    },
    "papermill": {
     "duration": 0.699684,
     "end_time": "2023-11-16T06:41:32.387448",
     "exception": false,
     "start_time": "2023-11-16T06:41:31.687764",
     "status": "completed"
    },
    "tags": []
   },
   "outputs": [
    {
     "data": {
      "image/png": "[encoded data removed]",
      "text/plain": [
       "<Figure size 640x480 with 1 Axes>"
      ]
     },
     "metadata": {},
     "output_type": "display_data"
    }
   ],
   "source": [
    "# Check the total null values of df\n",
    "def check_null(df,return_null_cols=False, null_cols_count=2, ):\n",
    "    df = df.copy()\n",
    "    vals = df.isna().sum().sort_values(ascending=False).plot(kind='bar')\n",
    "    if return_null_cols:\n",
    "        return vals[:null_cols_count].index\n",
    "\n",
    "null_cols = check_null(train_df)"
   ]
  },
  {
   "cell_type": "code",
   "execution_count": 8,
   "id": "2646365e",
   "metadata": {
    "execution": {
     "iopub.execute_input": "2023-11-16T06:41:32.405744Z",
     "iopub.status.busy": "2023-11-16T06:41:32.405462Z",
     "iopub.status.idle": "2023-11-16T06:41:32.409190Z",
     "shell.execute_reply": "2023-11-16T06:41:32.408296Z"
    },
    "papermill": {
     "duration": 0.015058,
     "end_time": "2023-11-16T06:41:32.411147",
     "exception": false,
     "start_time": "2023-11-16T06:41:32.396089",
     "status": "completed"
    },
    "tags": []
   },
   "outputs": [],
   "source": [
    "null_cols"
   ]
  },
  {
   "cell_type": "code",
   "execution_count": 9,
   "id": "315b8cd5",
   "metadata": {
    "execution": {
     "iopub.execute_input": "2023-11-16T06:41:32.432366Z",
     "iopub.status.busy": "2023-11-16T06:41:32.431964Z",
     "iopub.status.idle": "2023-11-16T06:41:32.927310Z",
     "shell.execute_reply": "2023-11-16T06:41:32.925872Z"
    },
    "papermill": {
     "duration": 0.508734,
     "end_time": "2023-11-16T06:41:32.930007",
     "exception": false,
     "start_time": "2023-11-16T06:41:32.421273",
     "status": "completed"
    },
    "tags": []
   },
   "outputs": [
    {
     "name": "stdout",
     "output_type": "stream",
     "text": [
      "high null values: Index(['far_price', 'near_price'], dtype='object')\n"
     ]
    }
   ],
   "source": [
    "# Drip high null columsn\n",
    "high_null_cols = train_df.isna().sum().sort_values(ascending=False)[:2].index\n",
    "\n",
    "print(f\"high null values: {high_null_cols}\")\n",
    "\n",
    "def drop_cols(df, cols):\n",
    "    df = df.drop(cols, axis=1)\n",
    "    return df\n",
    "\n",
    "df = drop_cols(train_df, high_null_cols)\n",
    "df = drop_cols(df, ['row_id'])"
   ]
  },
  {
   "cell_type": "code",
   "execution_count": 10,
   "id": "b0e39402",
   "metadata": {
    "execution": {
     "iopub.execute_input": "2023-11-16T06:41:32.950294Z",
     "iopub.status.busy": "2023-11-16T06:41:32.949264Z",
     "iopub.status.idle": "2023-11-16T06:41:46.041372Z",
     "shell.execute_reply": "2023-11-16T06:41:46.039614Z"
    },
    "papermill": {
     "duration": 13.1046,
     "end_time": "2023-11-16T06:41:46.043741",
     "exception": false,
     "start_time": "2023-11-16T06:41:32.939141",
     "status": "completed"
    },
    "tags": []
   },
   "outputs": [],
   "source": [
    "def imputer(df_processed):\n",
    "    '''\n",
    "    Function that receives a dataframe and returns the median value of each missing value in a column partitioned by stock_id,\n",
    "    '''\n",
    "    stock_list = list(df_processed['stock_id'].unique())\n",
    "\n",
    "    imputer_columns = ['imbalance_size', 'reference_price', 'matched_size', 'bid_price', 'ask_price', \n",
    "                       'wap', 'target', 'seconds_in_bucket', 'bid_size', 'ask_size']\n",
    "\n",
    "    # Create a single SimpleImputer instance for each column\n",
    "    imputers = {col: SimpleImputer(missing_values=np.nan, strategy='median') for col in imputer_columns}\n",
    "\n",
    "    for stock in stock_list:\n",
    "        stock_df = df_processed.loc[df_processed['stock_id'] == stock]\n",
    "\n",
    "        # Apply imputation to each column\n",
    "        for col, imputer in imputers.items():\n",
    "            stock_df.loc[:,col] = imputer.fit_transform(stock_df[col].values.reshape(-1,1))\n",
    "\n",
    "        # Update the original DataFrame with imputed values\n",
    "        df_processed.loc[df_processed['stock_id'] == stock, imputer_columns] = stock_df[imputer_columns].values\n",
    "\n",
    "    return df_processed, imputers\n",
    "\n",
    "df_processed, imputers = imputer(df)"
   ]
  },
  {
   "cell_type": "code",
   "execution_count": 11,
   "id": "8c8907e0",
   "metadata": {
    "execution": {
     "iopub.execute_input": "2023-11-16T06:41:46.063767Z",
     "iopub.status.busy": "2023-11-16T06:41:46.063208Z",
     "iopub.status.idle": "2023-11-16T06:41:46.075622Z",
     "shell.execute_reply": "2023-11-16T06:41:46.074900Z"
    },
    "papermill": {
     "duration": 0.025334,
     "end_time": "2023-11-16T06:41:46.078049",
     "exception": false,
     "start_time": "2023-11-16T06:41:46.052715",
     "status": "completed"
    },
    "tags": []
   },
   "outputs": [
    {
     "data": {
      "text/plain": [
       "{'imbalance_size': SimpleImputer(strategy='median'),\n",
       " 'reference_price': SimpleImputer(strategy='median'),\n",
       " 'matched_size': SimpleImputer(strategy='median'),\n",
       " 'bid_price': SimpleImputer(strategy='median'),\n",
       " 'ask_price': SimpleImputer(strategy='median'),\n",
       " 'wap': SimpleImputer(strategy='median'),\n",
       " 'target': SimpleImputer(strategy='median'),\n",
       " 'seconds_in_bucket': SimpleImputer(strategy='median'),\n",
       " 'bid_size': SimpleImputer(strategy='median'),\n",
       " 'ask_size': SimpleImputer(strategy='median')}"
      ]
     },
     "execution_count": 11,
     "metadata": {},
     "output_type": "execute_result"
    }
   ],
   "source": [
    "imputers"
   ]
  },
  {
   "cell_type": "code",
   "execution_count": 12,
   "id": "15e8df8d",
   "metadata": {
    "execution": {
     "iopub.execute_input": "2023-11-16T06:41:46.099232Z",
     "iopub.status.busy": "2023-11-16T06:41:46.098168Z",
     "iopub.status.idle": "2023-11-16T06:41:46.104080Z",
     "shell.execute_reply": "2023-11-16T06:41:46.103119Z"
    },
    "papermill": {
     "duration": 0.019233,
     "end_time": "2023-11-16T06:41:46.106894",
     "exception": false,
     "start_time": "2023-11-16T06:41:46.087661",
     "status": "completed"
    },
    "tags": []
   },
   "outputs": [],
   "source": [
    "def apply_imputer(df_processed, imputers):\n",
    "    imputer_columns = ['imbalance_size', 'reference_price', 'matched_size', 'bid_price', 'ask_price',\n",
    "                       'wap', 'seconds_in_bucket', 'bid_size', 'ask_size']\n",
    "\n",
    "    for col in imputer_columns:\n",
    "        df_processed[col] = imputers[col].transform(np.array(df_processed[col]).reshape(-1, 1))\n",
    "\n",
    "    return df_processed"
   ]
  },
  {
   "cell_type": "code",
   "execution_count": 13,
   "id": "9331e92e",
   "metadata": {
    "execution": {
     "iopub.execute_input": "2023-11-16T06:41:46.127716Z",
     "iopub.status.busy": "2023-11-16T06:41:46.127329Z",
     "iopub.status.idle": "2023-11-16T06:41:46.594575Z",
     "shell.execute_reply": "2023-11-16T06:41:46.593250Z"
    },
    "papermill": {
     "duration": 0.481035,
     "end_time": "2023-11-16T06:41:46.597693",
     "exception": false,
     "start_time": "2023-11-16T06:41:46.116658",
     "status": "completed"
    },
    "tags": []
   },
   "outputs": [],
   "source": [
    "df_processed = apply_imputer(df_processed, imputers)"
   ]
  },
  {
   "cell_type": "code",
   "execution_count": 14,
   "id": "31794b35",
   "metadata": {
    "execution": {
     "iopub.execute_input": "2023-11-16T06:41:46.618720Z",
     "iopub.status.busy": "2023-11-16T06:41:46.618318Z",
     "iopub.status.idle": "2023-11-16T06:41:46.790869Z",
     "shell.execute_reply": "2023-11-16T06:41:46.789901Z"
    },
    "papermill": {
     "duration": 0.185301,
     "end_time": "2023-11-16T06:41:46.792858",
     "exception": false,
     "start_time": "2023-11-16T06:41:46.607557",
     "status": "completed"
    },
    "tags": []
   },
   "outputs": [
    {
     "data": {
      "text/html": [
       "<div>\n",
       "<style scoped>\n",
       "    .dataframe tbody tr th:only-of-type {\n",
       "        vertical-align: middle;\n",
       "    }\n",
       "\n",
       "    .dataframe tbody tr th {\n",
       "        vertical-align: top;\n",
       "    }\n",
       "\n",
       "    .dataframe thead th {\n",
       "        text-align: right;\n",
       "    }\n",
       "</style>\n",
       "<table border=\"1\" class=\"dataframe\">\n",
       "  <thead>\n",
       "    <tr style=\"text-align: right;\">\n",
       "      <th></th>\n",
       "      <th>stock_id</th>\n",
       "      <th>date_id</th>\n",
       "      <th>seconds_in_bucket</th>\n",
       "      <th>imbalance_size</th>\n",
       "      <th>imbalance_buy_sell_flag</th>\n",
       "      <th>reference_price</th>\n",
       "      <th>matched_size</th>\n",
       "      <th>far_price</th>\n",
       "      <th>near_price</th>\n",
       "      <th>bid_price</th>\n",
       "      <th>bid_size</th>\n",
       "      <th>ask_price</th>\n",
       "      <th>ask_size</th>\n",
       "      <th>wap</th>\n",
       "      <th>time_id</th>\n",
       "      <th>row_id</th>\n",
       "      <th>currently_scored</th>\n",
       "    </tr>\n",
       "  </thead>\n",
       "  <tbody>\n",
       "    <tr>\n",
       "      <th>0</th>\n",
       "      <td>0</td>\n",
       "      <td>478</td>\n",
       "      <td>0</td>\n",
       "      <td>3753451.43</td>\n",
       "      <td>-1</td>\n",
       "      <td>0.999875</td>\n",
       "      <td>11548975.43</td>\n",
       "      <td>NaN</td>\n",
       "      <td>NaN</td>\n",
       "      <td>0.999875</td>\n",
       "      <td>22940.00</td>\n",
       "      <td>1.000050</td>\n",
       "      <td>9177.60</td>\n",
       "      <td>1.000000</td>\n",
       "      <td>26290</td>\n",
       "      <td>478_0_0</td>\n",
       "      <td>False</td>\n",
       "    </tr>\n",
       "    <tr>\n",
       "      <th>1</th>\n",
       "      <td>1</td>\n",
       "      <td>478</td>\n",
       "      <td>0</td>\n",
       "      <td>985977.11</td>\n",
       "      <td>-1</td>\n",
       "      <td>1.000245</td>\n",
       "      <td>3850033.97</td>\n",
       "      <td>NaN</td>\n",
       "      <td>NaN</td>\n",
       "      <td>0.999940</td>\n",
       "      <td>1967.90</td>\n",
       "      <td>1.000601</td>\n",
       "      <td>19692.00</td>\n",
       "      <td>1.000000</td>\n",
       "      <td>26290</td>\n",
       "      <td>478_0_1</td>\n",
       "      <td>False</td>\n",
       "    </tr>\n",
       "    <tr>\n",
       "      <th>2</th>\n",
       "      <td>2</td>\n",
       "      <td>478</td>\n",
       "      <td>0</td>\n",
       "      <td>599128.74</td>\n",
       "      <td>1</td>\n",
       "      <td>1.000584</td>\n",
       "      <td>4359198.25</td>\n",
       "      <td>NaN</td>\n",
       "      <td>NaN</td>\n",
       "      <td>0.999918</td>\n",
       "      <td>4488.22</td>\n",
       "      <td>1.000636</td>\n",
       "      <td>34955.12</td>\n",
       "      <td>1.000000</td>\n",
       "      <td>26290</td>\n",
       "      <td>478_0_2</td>\n",
       "      <td>False</td>\n",
       "    </tr>\n",
       "    <tr>\n",
       "      <th>3</th>\n",
       "      <td>3</td>\n",
       "      <td>478</td>\n",
       "      <td>0</td>\n",
       "      <td>2872317.54</td>\n",
       "      <td>-1</td>\n",
       "      <td>0.999802</td>\n",
       "      <td>27129551.64</td>\n",
       "      <td>NaN</td>\n",
       "      <td>NaN</td>\n",
       "      <td>0.999705</td>\n",
       "      <td>16082.04</td>\n",
       "      <td>1.000189</td>\n",
       "      <td>10314.00</td>\n",
       "      <td>1.000000</td>\n",
       "      <td>26290</td>\n",
       "      <td>478_0_3</td>\n",
       "      <td>False</td>\n",
       "    </tr>\n",
       "    <tr>\n",
       "      <th>4</th>\n",
       "      <td>4</td>\n",
       "      <td>478</td>\n",
       "      <td>0</td>\n",
       "      <td>740059.14</td>\n",
       "      <td>-1</td>\n",
       "      <td>0.999886</td>\n",
       "      <td>8880890.78</td>\n",
       "      <td>NaN</td>\n",
       "      <td>NaN</td>\n",
       "      <td>0.999720</td>\n",
       "      <td>19012.35</td>\n",
       "      <td>1.000107</td>\n",
       "      <td>7245.60</td>\n",
       "      <td>1.000000</td>\n",
       "      <td>26290</td>\n",
       "      <td>478_0_4</td>\n",
       "      <td>False</td>\n",
       "    </tr>\n",
       "    <tr>\n",
       "      <th>...</th>\n",
       "      <td>...</td>\n",
       "      <td>...</td>\n",
       "      <td>...</td>\n",
       "      <td>...</td>\n",
       "      <td>...</td>\n",
       "      <td>...</td>\n",
       "      <td>...</td>\n",
       "      <td>...</td>\n",
       "      <td>...</td>\n",
       "      <td>...</td>\n",
       "      <td>...</td>\n",
       "      <td>...</td>\n",
       "      <td>...</td>\n",
       "      <td>...</td>\n",
       "      <td>...</td>\n",
       "      <td>...</td>\n",
       "      <td>...</td>\n",
       "    </tr>\n",
       "    <tr>\n",
       "      <th>32995</th>\n",
       "      <td>195</td>\n",
       "      <td>480</td>\n",
       "      <td>540</td>\n",
       "      <td>2440722.89</td>\n",
       "      <td>-1</td>\n",
       "      <td>1.000317</td>\n",
       "      <td>28280361.74</td>\n",
       "      <td>0.999734</td>\n",
       "      <td>0.999734</td>\n",
       "      <td>1.000317</td>\n",
       "      <td>32257.04</td>\n",
       "      <td>1.000434</td>\n",
       "      <td>319862.40</td>\n",
       "      <td>1.000328</td>\n",
       "      <td>26454</td>\n",
       "      <td>480_540_195</td>\n",
       "      <td>False</td>\n",
       "    </tr>\n",
       "    <tr>\n",
       "      <th>32996</th>\n",
       "      <td>196</td>\n",
       "      <td>480</td>\n",
       "      <td>540</td>\n",
       "      <td>349510.47</td>\n",
       "      <td>-1</td>\n",
       "      <td>1.000643</td>\n",
       "      <td>9187699.11</td>\n",
       "      <td>1.000129</td>\n",
       "      <td>1.000386</td>\n",
       "      <td>1.000643</td>\n",
       "      <td>205108.40</td>\n",
       "      <td>1.000900</td>\n",
       "      <td>93393.07</td>\n",
       "      <td>1.000819</td>\n",
       "      <td>26454</td>\n",
       "      <td>480_540_196</td>\n",
       "      <td>False</td>\n",
       "    </tr>\n",
       "    <tr>\n",
       "      <th>32997</th>\n",
       "      <td>197</td>\n",
       "      <td>480</td>\n",
       "      <td>540</td>\n",
       "      <td>0.00</td>\n",
       "      <td>0</td>\n",
       "      <td>0.995789</td>\n",
       "      <td>12725436.10</td>\n",
       "      <td>0.995789</td>\n",
       "      <td>0.995789</td>\n",
       "      <td>0.995789</td>\n",
       "      <td>16790.66</td>\n",
       "      <td>0.995883</td>\n",
       "      <td>180038.32</td>\n",
       "      <td>0.995797</td>\n",
       "      <td>26454</td>\n",
       "      <td>480_540_197</td>\n",
       "      <td>False</td>\n",
       "    </tr>\n",
       "    <tr>\n",
       "      <th>32998</th>\n",
       "      <td>198</td>\n",
       "      <td>480</td>\n",
       "      <td>540</td>\n",
       "      <td>1000898.84</td>\n",
       "      <td>1</td>\n",
       "      <td>0.999210</td>\n",
       "      <td>94773271.05</td>\n",
       "      <td>0.999210</td>\n",
       "      <td>0.999210</td>\n",
       "      <td>0.998970</td>\n",
       "      <td>125631.72</td>\n",
       "      <td>0.999210</td>\n",
       "      <td>669893.00</td>\n",
       "      <td>0.999008</td>\n",
       "      <td>26454</td>\n",
       "      <td>480_540_198</td>\n",
       "      <td>False</td>\n",
       "    </tr>\n",
       "    <tr>\n",
       "      <th>32999</th>\n",
       "      <td>199</td>\n",
       "      <td>480</td>\n",
       "      <td>540</td>\n",
       "      <td>1884285.71</td>\n",
       "      <td>-1</td>\n",
       "      <td>1.002129</td>\n",
       "      <td>24073677.32</td>\n",
       "      <td>1.000859</td>\n",
       "      <td>1.001494</td>\n",
       "      <td>1.002129</td>\n",
       "      <td>250081.44</td>\n",
       "      <td>1.002447</td>\n",
       "      <td>300167.56</td>\n",
       "      <td>1.002274</td>\n",
       "      <td>26454</td>\n",
       "      <td>480_540_199</td>\n",
       "      <td>False</td>\n",
       "    </tr>\n",
       "  </tbody>\n",
       "</table>\n",
       "<p>33000 rows × 17 columns</p>\n",
       "</div>"
      ],
      "text/plain": [
       "       stock_id  date_id  seconds_in_bucket  imbalance_size  \\\n",
       "0             0      478                  0      3753451.43   \n",
       "1             1      478                  0       985977.11   \n",
       "2             2      478                  0       599128.74   \n",
       "3             3      478                  0      2872317.54   \n",
       "4             4      478                  0       740059.14   \n",
       "...         ...      ...                ...             ...   \n",
       "32995       195      480                540      2440722.89   \n",
       "32996       196      480                540       349510.47   \n",
       "32997       197      480                540            0.00   \n",
       "32998       198      480                540      1000898.84   \n",
       "32999       199      480                540      1884285.71   \n",
       "\n",
       "       imbalance_buy_sell_flag  reference_price  matched_size  far_price  \\\n",
       "0                           -1         0.999875   11548975.43        NaN   \n",
       "1                           -1         1.000245    3850033.97        NaN   \n",
       "2                            1         1.000584    4359198.25        NaN   \n",
       "3                           -1         0.999802   27129551.64        NaN   \n",
       "4                           -1         0.999886    8880890.78        NaN   \n",
       "...                        ...              ...           ...        ...   \n",
       "32995                       -1         1.000317   28280361.74   0.999734   \n",
       "32996                       -1         1.000643    9187699.11   1.000129   \n",
       "32997                        0         0.995789   12725436.10   0.995789   \n",
       "32998                        1         0.999210   94773271.05   0.999210   \n",
       "32999                       -1         1.002129   24073677.32   1.000859   \n",
       "\n",
       "       near_price  bid_price   bid_size  ask_price   ask_size       wap  \\\n",
       "0             NaN   0.999875   22940.00   1.000050    9177.60  1.000000   \n",
       "1             NaN   0.999940    1967.90   1.000601   19692.00  1.000000   \n",
       "2             NaN   0.999918    4488.22   1.000636   34955.12  1.000000   \n",
       "3             NaN   0.999705   16082.04   1.000189   10314.00  1.000000   \n",
       "4             NaN   0.999720   19012.35   1.000107    7245.60  1.000000   \n",
       "...           ...        ...        ...        ...        ...       ...   \n",
       "32995    0.999734   1.000317   32257.04   1.000434  319862.40  1.000328   \n",
       "32996    1.000386   1.000643  205108.40   1.000900   93393.07  1.000819   \n",
       "32997    0.995789   0.995789   16790.66   0.995883  180038.32  0.995797   \n",
       "32998    0.999210   0.998970  125631.72   0.999210  669893.00  0.999008   \n",
       "32999    1.001494   1.002129  250081.44   1.002447  300167.56  1.002274   \n",
       "\n",
       "       time_id       row_id  currently_scored  \n",
       "0        26290      478_0_0             False  \n",
       "1        26290      478_0_1             False  \n",
       "2        26290      478_0_2             False  \n",
       "3        26290      478_0_3             False  \n",
       "4        26290      478_0_4             False  \n",
       "...        ...          ...               ...  \n",
       "32995    26454  480_540_195             False  \n",
       "32996    26454  480_540_196             False  \n",
       "32997    26454  480_540_197             False  \n",
       "32998    26454  480_540_198             False  \n",
       "32999    26454  480_540_199             False  \n",
       "\n",
       "[33000 rows x 17 columns]"
      ]
     },
     "execution_count": 14,
     "metadata": {},
     "output_type": "execute_result"
    }
   ],
   "source": [
    "### Test dataset:\n",
    "test_df = pd.read_csv(\"example_test_files/test.csv\")\n",
    "test_df_targets = pd.read_csv(\"example_test_files/revealed_targets.csv\")\n",
    "\n",
    "sample_submission = pd.read_csv(\"example_test_files/sample_submission.csv\")\n",
    "test_df\n"
   ]
  },
  {
   "cell_type": "markdown",
   "id": "a038a67f",
   "metadata": {
    "papermill": {
     "duration": 0.010228,
     "end_time": "2023-11-16T06:41:46.812918",
     "exception": false,
     "start_time": "2023-11-16T06:41:46.802690",
     "status": "completed"
    },
    "tags": []
   },
   "source": [
    "## PreProcessing for X Train y Train"
   ]
  },
  {
   "cell_type": "code",
   "execution_count": 15,
   "id": "8a5fee57",
   "metadata": {
    "execution": {
     "iopub.execute_input": "2023-11-16T06:41:46.834476Z",
     "iopub.status.busy": "2023-11-16T06:41:46.833436Z",
     "iopub.status.idle": "2023-11-16T06:41:47.017971Z",
     "shell.execute_reply": "2023-11-16T06:41:47.016864Z"
    },
    "papermill": {
     "duration": 0.197819,
     "end_time": "2023-11-16T06:41:47.020631",
     "exception": false,
     "start_time": "2023-11-16T06:41:46.822812",
     "status": "completed"
    },
    "tags": []
   },
   "outputs": [],
   "source": [
    "\n",
    "y = df_processed['target']\n",
    "X = df_processed.drop(['target'], axis = 1)"
   ]
  },
  {
   "cell_type": "code",
   "execution_count": 16,
   "id": "730119f7",
   "metadata": {
    "execution": {
     "iopub.execute_input": "2023-11-16T06:41:47.041830Z",
     "iopub.status.busy": "2023-11-16T06:41:47.041400Z",
     "iopub.status.idle": "2023-11-16T06:41:47.242471Z",
     "shell.execute_reply": "2023-11-16T06:41:47.241252Z"
    },
    "papermill": {
     "duration": 0.21496,
     "end_time": "2023-11-16T06:41:47.245403",
     "exception": false,
     "start_time": "2023-11-16T06:41:47.030443",
     "status": "completed"
    },
    "tags": []
   },
   "outputs": [],
   "source": [
    "X = X.drop(['time_id'], axis = 1)\n"
   ]
  },
  {
   "cell_type": "code",
   "execution_count": 17,
   "id": "13bb1669",
   "metadata": {
    "execution": {
     "iopub.execute_input": "2023-11-16T06:41:47.266806Z",
     "iopub.status.busy": "2023-11-16T06:41:47.266435Z",
     "iopub.status.idle": "2023-11-16T06:41:47.272798Z",
     "shell.execute_reply": "2023-11-16T06:41:47.271023Z"
    },
    "papermill": {
     "duration": 0.021392,
     "end_time": "2023-11-16T06:41:47.276684",
     "exception": false,
     "start_time": "2023-11-16T06:41:47.255292",
     "status": "completed"
    },
    "tags": []
   },
   "outputs": [],
   "source": [
    "# Use this same cols to test data\n",
    "X_cols = X.columns"
   ]
  },
  {
   "cell_type": "code",
   "execution_count": 18,
   "id": "207bd55b",
   "metadata": {
    "execution": {
     "iopub.execute_input": "2023-11-16T06:41:47.297896Z",
     "iopub.status.busy": "2023-11-16T06:41:47.297502Z",
     "iopub.status.idle": "2023-11-16T06:41:49.971375Z",
     "shell.execute_reply": "2023-11-16T06:41:49.969862Z"
    },
    "papermill": {
     "duration": 2.687292,
     "end_time": "2023-11-16T06:41:49.974065",
     "exception": false,
     "start_time": "2023-11-16T06:41:47.286773",
     "status": "completed"
    },
    "tags": []
   },
   "outputs": [],
   "source": [
    "X_train, X_test, y_train, y_test = train_test_split(X, y, test_size = 0.8, random_state = 42)"
   ]
  },
  {
   "cell_type": "markdown",
   "id": "1c1509e7",
   "metadata": {
    "papermill": {
     "duration": 0.008718,
     "end_time": "2023-11-16T06:41:49.992115",
     "exception": false,
     "start_time": "2023-11-16T06:41:49.983397",
     "status": "completed"
    },
    "tags": []
   },
   "source": [
    "## Building model"
   ]
  },
  {
   "cell_type": "code",
   "execution_count": 19,
   "id": "c55bc024",
   "metadata": {
    "execution": {
     "iopub.execute_input": "2023-11-16T06:41:50.015331Z",
     "iopub.status.busy": "2023-11-16T06:41:50.014977Z",
     "iopub.status.idle": "2023-11-16T06:41:50.021015Z",
     "shell.execute_reply": "2023-11-16T06:41:50.019526Z"
    },
    "papermill": {
     "duration": 0.023071,
     "end_time": "2023-11-16T06:41:50.025068",
     "exception": false,
     "start_time": "2023-11-16T06:41:50.001997",
     "status": "completed"
    },
    "tags": []
   },
   "outputs": [],
   "source": [
    "# Train the model\n",
    "clf = xgb.XGBRegressor(n_estimators = 20, eval_metric = 'mae')\n"
   ]
  },
  {
   "cell_type": "code",
   "execution_count": 20,
   "id": "c3064d1c",
   "metadata": {
    "execution": {
     "iopub.execute_input": "2023-11-16T06:41:50.121610Z",
     "iopub.status.busy": "2023-11-16T06:41:50.121203Z",
     "iopub.status.idle": "2023-11-16T06:41:52.225082Z",
     "shell.execute_reply": "2023-11-16T06:41:52.223018Z"
    },
    "papermill": {
     "duration": 2.116838,
     "end_time": "2023-11-16T06:41:52.227452",
     "exception": false,
     "start_time": "2023-11-16T06:41:50.110614",
     "status": "completed"
    },
    "tags": []
   },
   "outputs": [
    {
     "data": {
      "text/html": [
       "<style>#sk-container-id-1 {color: black;}#sk-container-id-1 pre{padding: 0;}#sk-container-id-1 div.sk-toggleable {background-color: white;}#sk-container-id-1 label.sk-toggleable__label {cursor: pointer;display: block;width: 100%;margin-bottom: 0;padding: 0.3em;box-sizing: border-box;text-align: center;}#sk-container-id-1 label.sk-toggleable__label-arrow:before {content: \"▸\";float: left;margin-right: 0.25em;color: #696969;}#sk-container-id-1 label.sk-toggleable__label-arrow:hover:before {color: black;}#sk-container-id-1 div.sk-estimator:hover label.sk-toggleable__label-arrow:before {color: black;}#sk-container-id-1 div.sk-toggleable__content {max-height: 0;max-width: 0;overflow: hidden;text-align: left;background-color: #f0f8ff;}#sk-container-id-1 div.sk-toggleable__content pre {margin: 0.2em;color: black;border-radius: 0.25em;background-color: #f0f8ff;}#sk-container-id-1 input.sk-toggleable__control:checked~div.sk-toggleable__content {max-height: 200px;max-width: 100%;overflow: auto;}#sk-container-id-1 input.sk-toggleable__control:checked~label.sk-toggleable__label-arrow:before {content: \"▾\";}#sk-container-id-1 div.sk-estimator input.sk-toggleable__control:checked~label.sk-toggleable__label {background-color: #d4ebff;}#sk-container-id-1 div.sk-label input.sk-toggleable__control:checked~label.sk-toggleable__label {background-color: #d4ebff;}#sk-container-id-1 input.sk-hidden--visually {border: 0;clip: rect(1px 1px 1px 1px);clip: rect(1px, 1px, 1px, 1px);height: 1px;margin: -1px;overflow: hidden;padding: 0;position: absolute;width: 1px;}#sk-container-id-1 div.sk-estimator {font-family: monospace;background-color: #f0f8ff;border: 1px dotted black;border-radius: 0.25em;box-sizing: border-box;margin-bottom: 0.5em;}#sk-container-id-1 div.sk-estimator:hover {background-color: #d4ebff;}#sk-container-id-1 div.sk-parallel-item::after {content: \"\";width: 100%;border-bottom: 1px solid gray;flex-grow: 1;}#sk-container-id-1 div.sk-label:hover label.sk-toggleable__label {background-color: #d4ebff;}#sk-container-id-1 div.sk-serial::before {content: \"\";position: absolute;border-left: 1px solid gray;box-sizing: border-box;top: 0;bottom: 0;left: 50%;z-index: 0;}#sk-container-id-1 div.sk-serial {display: flex;flex-direction: column;align-items: center;background-color: white;padding-right: 0.2em;padding-left: 0.2em;position: relative;}#sk-container-id-1 div.sk-item {position: relative;z-index: 1;}#sk-container-id-1 div.sk-parallel {display: flex;align-items: stretch;justify-content: center;background-color: white;position: relative;}#sk-container-id-1 div.sk-item::before, #sk-container-id-1 div.sk-parallel-item::before {content: \"\";position: absolute;border-left: 1px solid gray;box-sizing: border-box;top: 0;bottom: 0;left: 50%;z-index: -1;}#sk-container-id-1 div.sk-parallel-item {display: flex;flex-direction: column;z-index: 1;position: relative;background-color: white;}#sk-container-id-1 div.sk-parallel-item:first-child::after {align-self: flex-end;width: 50%;}#sk-container-id-1 div.sk-parallel-item:last-child::after {align-self: flex-start;width: 50%;}#sk-container-id-1 div.sk-parallel-item:only-child::after {width: 0;}#sk-container-id-1 div.sk-dashed-wrapped {border: 1px dashed gray;margin: 0 0.4em 0.5em 0.4em;box-sizing: border-box;padding-bottom: 0.4em;background-color: white;}#sk-container-id-1 div.sk-label label {font-family: monospace;font-weight: bold;display: inline-block;line-height: 1.2em;}#sk-container-id-1 div.sk-label-container {text-align: center;}#sk-container-id-1 div.sk-container {/* jupyter's `normalize.less` sets `[hidden] { display: none; }` but bootstrap.min.css set `[hidden] { display: none !important; }` so we also need the `!important` here to be able to override the default hidden behavior on the sphinx rendered scikit-learn.org. See: https://github.com/scikit-learn/scikit-learn/issues/21755 */display: inline-block !important;position: relative;}#sk-container-id-1 div.sk-text-repr-fallback {display: none;}</style><div id=\"sk-container-id-1\" class=\"sk-top-container\"><div class=\"sk-text-repr-fallback\"><pre>XGBRegressor(base_score=None, booster=None, callbacks=None,\n",
       "             colsample_bylevel=None, colsample_bynode=None,\n",
       "             colsample_bytree=None, device=None, early_stopping_rounds=None,\n",
       "             enable_categorical=False, eval_metric=&#x27;mae&#x27;, feature_types=None,\n",
       "             gamma=None, grow_policy=None, importance_type=None,\n",
       "             interaction_constraints=None, learning_rate=None, max_bin=None,\n",
       "             max_cat_threshold=None, max_cat_to_onehot=None,\n",
       "             max_delta_step=None, max_depth=None, max_leaves=None,\n",
       "             min_child_weight=None, missing=nan, monotone_constraints=None,\n",
       "             multi_strategy=None, n_estimators=20, n_jobs=None,\n",
       "             num_parallel_tree=None, random_state=None, ...)</pre><b>In a Jupyter environment, please rerun this cell to show the HTML representation or trust the notebook. <br />On GitHub, the HTML representation is unable to render, please try loading this page with nbviewer.org.</b></div><div class=\"sk-container\" hidden><div class=\"sk-item\"><div class=\"sk-estimator sk-toggleable\"><input class=\"sk-toggleable__control sk-hidden--visually\" id=\"sk-estimator-id-1\" type=\"checkbox\" checked><label for=\"sk-estimator-id-1\" class=\"sk-toggleable__label sk-toggleable__label-arrow\">XGBRegressor</label><div class=\"sk-toggleable__content\"><pre>XGBRegressor(base_score=None, booster=None, callbacks=None,\n",
       "             colsample_bylevel=None, colsample_bynode=None,\n",
       "             colsample_bytree=None, device=None, early_stopping_rounds=None,\n",
       "             enable_categorical=False, eval_metric=&#x27;mae&#x27;, feature_types=None,\n",
       "             gamma=None, grow_policy=None, importance_type=None,\n",
       "             interaction_constraints=None, learning_rate=None, max_bin=None,\n",
       "             max_cat_threshold=None, max_cat_to_onehot=None,\n",
       "             max_delta_step=None, max_depth=None, max_leaves=None,\n",
       "             min_child_weight=None, missing=nan, monotone_constraints=None,\n",
       "             multi_strategy=None, n_estimators=20, n_jobs=None,\n",
       "             num_parallel_tree=None, random_state=None, ...)</pre></div></div></div></div></div>"
      ],
      "text/plain": [
       "XGBRegressor(base_score=None, booster=None, callbacks=None,\n",
       "             colsample_bylevel=None, colsample_bynode=None,\n",
       "             colsample_bytree=None, device=None, early_stopping_rounds=None,\n",
       "             enable_categorical=False, eval_metric='mae', feature_types=None,\n",
       "             gamma=None, grow_policy=None, importance_type=None,\n",
       "             interaction_constraints=None, learning_rate=None, max_bin=None,\n",
       "             max_cat_threshold=None, max_cat_to_onehot=None,\n",
       "             max_delta_step=None, max_depth=None, max_leaves=None,\n",
       "             min_child_weight=None, missing=nan, monotone_constraints=None,\n",
       "             multi_strategy=None, n_estimators=20, n_jobs=None,\n",
       "             num_parallel_tree=None, random_state=None, ...)"
      ]
     },
     "execution_count": 20,
     "metadata": {},
     "output_type": "execute_result"
    }
   ],
   "source": [
    "clf.fit(X_train, y_train)"
   ]
  },
  {
   "cell_type": "code",
   "execution_count": 21,
   "id": "e39b4a51",
   "metadata": {
    "execution": {
     "iopub.execute_input": "2023-11-16T06:41:52.249670Z",
     "iopub.status.busy": "2023-11-16T06:41:52.248174Z",
     "iopub.status.idle": "2023-11-16T06:41:53.255135Z",
     "shell.execute_reply": "2023-11-16T06:41:53.254180Z"
    },
    "papermill": {
     "duration": 1.020271,
     "end_time": "2023-11-16T06:41:53.257714",
     "exception": false,
     "start_time": "2023-11-16T06:41:52.237443",
     "status": "completed"
    },
    "tags": []
   },
   "outputs": [
    {
     "data": {
      "text/plain": [
       "array([-0.46447706,  0.08227   , -0.44877222, ..., -0.3378636 ,\n",
       "       -0.02125105, -1.5965672 ], dtype=float32)"
      ]
     },
     "execution_count": 21,
     "metadata": {},
     "output_type": "execute_result"
    }
   ],
   "source": [
    "y_pred = clf.predict(X_test)\n",
    "y_pred"
   ]
  },
  {
   "cell_type": "markdown",
   "id": "58bbe6da",
   "metadata": {
    "papermill": {
     "duration": 0.009998,
     "end_time": "2023-11-16T06:41:53.278222",
     "exception": false,
     "start_time": "2023-11-16T06:41:53.268224",
     "status": "completed"
    },
    "tags": []
   },
   "source": [
    "## Evaluation"
   ]
  },
  {
   "cell_type": "code",
   "execution_count": null,
   "id": "60fe095d",
   "metadata": {
    "papermill": {
     "duration": 0.009999,
     "end_time": "2023-11-16T06:41:53.299221",
     "exception": false,
     "start_time": "2023-11-16T06:41:53.289222",
     "status": "completed"
    },
    "tags": []
   },
   "outputs": [],
   "source": []
  },
  {
   "cell_type": "code",
   "execution_count": 22,
   "id": "d26069aa",
   "metadata": {
    "execution": {
     "iopub.execute_input": "2023-11-16T06:41:53.321391Z",
     "iopub.status.busy": "2023-11-16T06:41:53.320954Z",
     "iopub.status.idle": "2023-11-16T06:41:53.355073Z",
     "shell.execute_reply": "2023-11-16T06:41:53.353316Z"
    },
    "papermill": {
     "duration": 0.048551,
     "end_time": "2023-11-16T06:41:53.357724",
     "exception": false,
     "start_time": "2023-11-16T06:41:53.309173",
     "status": "completed"
    },
    "tags": []
   },
   "outputs": [
    {
     "name": "stdout",
     "output_type": "stream",
     "text": [
      "Mean Absolute Error: 6.317359829963602\n"
     ]
    }
   ],
   "source": [
    "mae = mean_absolute_error(y_pred, y_test)\n",
    "print(\"Mean Absolute Error: {}\".format(mae))"
   ]
  },
  {
   "cell_type": "markdown",
   "id": "c0f2be67",
   "metadata": {
    "papermill": {
     "duration": 0.009824,
     "end_time": "2023-11-16T06:41:53.377943",
     "exception": false,
     "start_time": "2023-11-16T06:41:53.368119",
     "status": "completed"
    },
    "tags": []
   },
   "source": [
    "### Prediction on the real test data"
   ]
  },
  {
   "cell_type": "code",
   "execution_count": 23,
   "id": "e5cedc4a",
   "metadata": {
    "execution": {
     "iopub.execute_input": "2023-11-16T06:41:53.400489Z",
     "iopub.status.busy": "2023-11-16T06:41:53.400030Z",
     "iopub.status.idle": "2023-11-16T06:41:53.422869Z",
     "shell.execute_reply": "2023-11-16T06:41:53.422135Z"
    },
    "papermill": {
     "duration": 0.036837,
     "end_time": "2023-11-16T06:41:53.424793",
     "exception": false,
     "start_time": "2023-11-16T06:41:53.387956",
     "status": "completed"
    },
    "tags": []
   },
   "outputs": [
    {
     "data": {
      "text/plain": [
       "array([-2.033901  ,  1.4639628 ,  2.425465  , ...,  0.72875226,\n",
       "        1.657935  , -1.4829203 ], dtype=float32)"
      ]
     },
     "execution_count": 23,
     "metadata": {},
     "output_type": "execute_result"
    }
   ],
   "source": [
    "\n",
    "test_preds = clf.predict(test_df[X_cols])\n",
    "test_preds"
   ]
  },
  {
   "cell_type": "code",
   "execution_count": 24,
   "id": "ee142ad6",
   "metadata": {
    "execution": {
     "iopub.execute_input": "2023-11-16T06:41:53.446308Z",
     "iopub.status.busy": "2023-11-16T06:41:53.445970Z",
     "iopub.status.idle": "2023-11-16T06:41:53.451248Z",
     "shell.execute_reply": "2023-11-16T06:41:53.449934Z"
    },
    "papermill": {
     "duration": 0.017949,
     "end_time": "2023-11-16T06:41:53.453099",
     "exception": false,
     "start_time": "2023-11-16T06:41:53.435150",
     "status": "completed"
    },
    "tags": []
   },
   "outputs": [],
   "source": [
    "# pd.DataFrame({'row_id':sample_submission[\"row_id\"],'target':test_preds}).to_csv('submission.csv', index=False)"
   ]
  },
  {
   "cell_type": "code",
   "execution_count": 25,
   "id": "cca15775",
   "metadata": {
    "execution": {
     "iopub.execute_input": "2023-11-16T06:41:53.475372Z",
     "iopub.status.busy": "2023-11-16T06:41:53.474795Z",
     "iopub.status.idle": "2023-11-16T06:41:53.510538Z",
     "shell.execute_reply": "2023-11-16T06:41:53.509338Z"
    },
    "papermill": {
     "duration": 0.049783,
     "end_time": "2023-11-16T06:41:53.513126",
     "exception": false,
     "start_time": "2023-11-16T06:41:53.463343",
     "status": "completed"
    },
    "tags": []
   },
   "outputs": [
    {
     "ename": "ModuleNotFoundError",
     "evalue": "No module named 'optiver2023.competition'",
     "output_type": "error",
     "traceback": [
      "\u001b[1;31m---------------------------------------------------------------------------\u001b[0m",
      "\u001b[1;31mModuleNotFoundError\u001b[0m                       Traceback (most recent call last)",
      "Cell \u001b[1;32mIn[25], line 1\u001b[0m\n\u001b[1;32m----> 1\u001b[0m \u001b[39mimport\u001b[39;00m \u001b[39moptiver2023\u001b[39;00m\n\u001b[0;32m      2\u001b[0m env \u001b[39m=\u001b[39m optiver2023\u001b[39m.\u001b[39mmake_env()\n\u001b[0;32m      3\u001b[0m iter_test \u001b[39m=\u001b[39m env\u001b[39m.\u001b[39miter_test()\n",
      "File \u001b[1;32mc:\\Users\\Erki\\OneDrive - Tartu Ülikool\\Dokumendid\\Masinõpe\\ml2023-project\\optiver2023\\__init__.py:2\u001b[0m\n\u001b[1;32m----> 2\u001b[0m \u001b[39mfrom\u001b[39;00m \u001b[39m.\u001b[39;00m\u001b[39mcompetition\u001b[39;00m \u001b[39mimport\u001b[39;00m make_env\n\u001b[0;32m      4\u001b[0m __all__ \u001b[39m=\u001b[39m [\u001b[39m'\u001b[39m\u001b[39mmake_env\u001b[39m\u001b[39m'\u001b[39m]\n",
      "\u001b[1;31mModuleNotFoundError\u001b[0m: No module named 'optiver2023.competition'"
     ]
    }
   ],
   "source": [
    "import optiver2023\n",
    "env = optiver2023.make_env()\n",
    "iter_test = env.iter_test()"
   ]
  },
  {
   "cell_type": "code",
   "execution_count": null,
   "id": "78e98221",
   "metadata": {
    "execution": {
     "iopub.execute_input": "2023-11-16T06:41:53.536956Z",
     "iopub.status.busy": "2023-11-16T06:41:53.536430Z",
     "iopub.status.idle": "2023-11-16T06:41:53.612628Z",
     "shell.execute_reply": "2023-11-16T06:41:53.611549Z"
    },
    "papermill": {
     "duration": 0.092519,
     "end_time": "2023-11-16T06:41:53.615916",
     "exception": false,
     "start_time": "2023-11-16T06:41:53.523397",
     "status": "completed"
    },
    "tags": []
   },
   "outputs": [],
   "source": [
    "revealed = pd.read_csv('example_test_files/revealed_targets.csv')\n",
    "test = pd.read_csv('example_test_files/test.csv')\n"
   ]
  },
  {
   "cell_type": "code",
   "execution_count": null,
   "id": "5bd2c118",
   "metadata": {
    "execution": {
     "iopub.execute_input": "2023-11-16T06:41:53.638566Z",
     "iopub.status.busy": "2023-11-16T06:41:53.638163Z",
     "iopub.status.idle": "2023-11-16T06:41:54.110406Z",
     "shell.execute_reply": "2023-11-16T06:41:54.109372Z"
    },
    "papermill": {
     "duration": 0.486718,
     "end_time": "2023-11-16T06:41:54.113268",
     "exception": false,
     "start_time": "2023-11-16T06:41:53.626550",
     "status": "completed"
    },
    "tags": []
   },
   "outputs": [
    {
     "name": "stdout",
     "output_type": "stream",
     "text": [
      "This version of the API is not optimized and should not be used to estimate the runtime of your code on the hidden test set.\n",
      "   stock_id  date_id  seconds_in_bucket  imbalance_size  \\\n",
      "0         0      478                  0      3753451.43   \n",
      "1         1      478                  0       985977.11   \n",
      "2         2      478                  0       599128.74   \n",
      "\n",
      "   imbalance_buy_sell_flag  reference_price  matched_size  far_price  \\\n",
      "0                       -1         0.999875   11548975.43        NaN   \n",
      "1                       -1         1.000245    3850033.97        NaN   \n",
      "2                        1         1.000584    4359198.25        NaN   \n",
      "\n",
      "   near_price  bid_price  bid_size  ask_price  ask_size  wap   row_id  \\\n",
      "0         NaN   0.999875  22940.00   1.000050   9177.60  1.0  478_0_0   \n",
      "1         NaN   0.999940   1967.90   1.000601  19692.00  1.0  478_0_1   \n",
      "2         NaN   0.999918   4488.22   1.000636  34955.12  1.0  478_0_2   \n",
      "\n",
      "   currently_scored  \n",
      "0             False  \n",
      "1             False  \n",
      "2             False  \n",
      "   stock_id  date_id  seconds_in_bucket  revealed_target  revealed_date_id  \\\n",
      "0         0      478                  0        -2.310276               477   \n",
      "1         1      478                  0       -12.850165               477   \n",
      "2         2      478                  0        -0.439882               477   \n",
      "\n",
      "   revealed_time_id  \n",
      "0             26235  \n",
      "1             26235  \n",
      "2             26235  \n",
      "    row_id  target\n",
      "0  478_0_0     0.0\n",
      "1  478_0_1     0.0\n",
      "2  478_0_2     0.0\n"
     ]
    }
   ],
   "source": [
    "counter = 0\n",
    "for (test, revealed_targets, test_preds) in iter_test:\n",
    "    if counter == 0:\n",
    "        print(test.head(3))\n",
    "        print(revealed_targets.head(3))\n",
    "        print(test_preds.head(3))\n",
    "    test_preds['target'] = 0\n",
    "    env.predict(test_preds)\n",
    "    counter += 1"
   ]
  },
  {
   "cell_type": "code",
   "execution_count": null,
   "id": "cdca4525",
   "metadata": {
    "papermill": {
     "duration": 0.010017,
     "end_time": "2023-11-16T06:41:54.133933",
     "exception": false,
     "start_time": "2023-11-16T06:41:54.123916",
     "status": "completed"
    },
    "tags": []
   },
   "outputs": [],
   "source": []
  },
  {
   "cell_type": "code",
   "execution_count": 22,
   "id": "7be2ab2e",
   "metadata": {
    "papermill": {
     "duration": 0.009702,
     "end_time": "2023-11-16T06:41:54.153555",
     "exception": false,
     "start_time": "2023-11-16T06:41:54.143853",
     "status": "completed"
    },
    "tags": []
   },
   "outputs": [
    {
     "data": {
      "text/html": [
       "<div>\n",
       "<style scoped>\n",
       "    .dataframe tbody tr th:only-of-type {\n",
       "        vertical-align: middle;\n",
       "    }\n",
       "\n",
       "    .dataframe tbody tr th {\n",
       "        vertical-align: top;\n",
       "    }\n",
       "\n",
       "    .dataframe thead th {\n",
       "        text-align: right;\n",
       "    }\n",
       "</style>\n",
       "<table border=\"1\" class=\"dataframe\">\n",
       "  <thead>\n",
       "    <tr style=\"text-align: right;\">\n",
       "      <th></th>\n",
       "      <th>stock_id</th>\n",
       "      <th>date_id</th>\n",
       "      <th>seconds_in_bucket</th>\n",
       "      <th>imbalance_size</th>\n",
       "      <th>imbalance_buy_sell_flag</th>\n",
       "      <th>reference_price</th>\n",
       "      <th>matched_size</th>\n",
       "      <th>far_price</th>\n",
       "      <th>near_price</th>\n",
       "      <th>bid_price</th>\n",
       "      <th>bid_size</th>\n",
       "      <th>ask_price</th>\n",
       "      <th>ask_size</th>\n",
       "      <th>wap</th>\n",
       "      <th>target</th>\n",
       "      <th>time_id</th>\n",
       "    </tr>\n",
       "  </thead>\n",
       "  <tbody>\n",
       "    <tr>\n",
       "      <th>count</th>\n",
       "      <td>5.237980e+06</td>\n",
       "      <td>5.237980e+06</td>\n",
       "      <td>5.237980e+06</td>\n",
       "      <td>5.237760e+06</td>\n",
       "      <td>5.237980e+06</td>\n",
       "      <td>5.237760e+06</td>\n",
       "      <td>5.237760e+06</td>\n",
       "      <td>2.343638e+06</td>\n",
       "      <td>2.380800e+06</td>\n",
       "      <td>5.237760e+06</td>\n",
       "      <td>5.237980e+06</td>\n",
       "      <td>5.237760e+06</td>\n",
       "      <td>5.237980e+06</td>\n",
       "      <td>5.237760e+06</td>\n",
       "      <td>5.237892e+06</td>\n",
       "      <td>5.237980e+06</td>\n",
       "    </tr>\n",
       "    <tr>\n",
       "      <th>mean</th>\n",
       "      <td>9.928856e+01</td>\n",
       "      <td>2.415100e+02</td>\n",
       "      <td>2.700000e+02</td>\n",
       "      <td>5.715293e+06</td>\n",
       "      <td>-1.189619e-02</td>\n",
       "      <td>9.999955e-01</td>\n",
       "      <td>4.510025e+07</td>\n",
       "      <td>1.001713e+00</td>\n",
       "      <td>9.996601e-01</td>\n",
       "      <td>9.997263e-01</td>\n",
       "      <td>5.181359e+04</td>\n",
       "      <td>1.000264e+00</td>\n",
       "      <td>5.357568e+04</td>\n",
       "      <td>9.999920e-01</td>\n",
       "      <td>-4.756125e-02</td>\n",
       "      <td>1.331005e+04</td>\n",
       "    </tr>\n",
       "    <tr>\n",
       "      <th>std</th>\n",
       "      <td>5.787176e+01</td>\n",
       "      <td>1.385319e+02</td>\n",
       "      <td>1.587451e+02</td>\n",
       "      <td>2.051591e+07</td>\n",
       "      <td>8.853374e-01</td>\n",
       "      <td>2.532497e-03</td>\n",
       "      <td>1.398413e+08</td>\n",
       "      <td>7.214705e-01</td>\n",
       "      <td>1.216920e-02</td>\n",
       "      <td>2.499345e-03</td>\n",
       "      <td>1.114214e+05</td>\n",
       "      <td>2.510042e-03</td>\n",
       "      <td>1.293554e+05</td>\n",
       "      <td>2.497509e-03</td>\n",
       "      <td>9.452860e+00</td>\n",
       "      <td>7.619271e+03</td>\n",
       "    </tr>\n",
       "    <tr>\n",
       "      <th>min</th>\n",
       "      <td>0.000000e+00</td>\n",
       "      <td>0.000000e+00</td>\n",
       "      <td>0.000000e+00</td>\n",
       "      <td>0.000000e+00</td>\n",
       "      <td>-1.000000e+00</td>\n",
       "      <td>9.352850e-01</td>\n",
       "      <td>4.316610e+03</td>\n",
       "      <td>7.700000e-05</td>\n",
       "      <td>7.869880e-01</td>\n",
       "      <td>9.349150e-01</td>\n",
       "      <td>0.000000e+00</td>\n",
       "      <td>9.398270e-01</td>\n",
       "      <td>0.000000e+00</td>\n",
       "      <td>9.380080e-01</td>\n",
       "      <td>-3.852898e+02</td>\n",
       "      <td>0.000000e+00</td>\n",
       "    </tr>\n",
       "    <tr>\n",
       "      <th>25%</th>\n",
       "      <td>4.900000e+01</td>\n",
       "      <td>1.220000e+02</td>\n",
       "      <td>1.300000e+02</td>\n",
       "      <td>8.453415e+04</td>\n",
       "      <td>-1.000000e+00</td>\n",
       "      <td>9.987630e-01</td>\n",
       "      <td>5.279575e+06</td>\n",
       "      <td>9.963320e-01</td>\n",
       "      <td>9.971000e-01</td>\n",
       "      <td>9.985290e-01</td>\n",
       "      <td>7.374720e+03</td>\n",
       "      <td>9.990290e-01</td>\n",
       "      <td>7.823700e+03</td>\n",
       "      <td>9.987810e-01</td>\n",
       "      <td>-4.559755e+00</td>\n",
       "      <td>6.729000e+03</td>\n",
       "    </tr>\n",
       "    <tr>\n",
       "      <th>50%</th>\n",
       "      <td>9.900000e+01</td>\n",
       "      <td>2.420000e+02</td>\n",
       "      <td>2.700000e+02</td>\n",
       "      <td>1.113604e+06</td>\n",
       "      <td>0.000000e+00</td>\n",
       "      <td>9.999670e-01</td>\n",
       "      <td>1.288264e+07</td>\n",
       "      <td>9.998830e-01</td>\n",
       "      <td>9.998890e-01</td>\n",
       "      <td>9.997280e-01</td>\n",
       "      <td>2.196900e+04</td>\n",
       "      <td>1.000207e+00</td>\n",
       "      <td>2.301792e+04</td>\n",
       "      <td>9.999970e-01</td>\n",
       "      <td>-6.020069e-02</td>\n",
       "      <td>1.334500e+04</td>\n",
       "    </tr>\n",
       "    <tr>\n",
       "      <th>75%</th>\n",
       "      <td>1.490000e+02</td>\n",
       "      <td>3.610000e+02</td>\n",
       "      <td>4.100000e+02</td>\n",
       "      <td>4.190951e+06</td>\n",
       "      <td>1.000000e+00</td>\n",
       "      <td>1.001174e+00</td>\n",
       "      <td>3.270013e+07</td>\n",
       "      <td>1.003318e+00</td>\n",
       "      <td>1.002590e+00</td>\n",
       "      <td>1.000905e+00</td>\n",
       "      <td>5.583168e+04</td>\n",
       "      <td>1.001414e+00</td>\n",
       "      <td>5.787841e+04</td>\n",
       "      <td>1.001149e+00</td>\n",
       "      <td>4.409552e+00</td>\n",
       "      <td>1.990700e+04</td>\n",
       "    </tr>\n",
       "    <tr>\n",
       "      <th>max</th>\n",
       "      <td>1.990000e+02</td>\n",
       "      <td>4.800000e+02</td>\n",
       "      <td>5.400000e+02</td>\n",
       "      <td>2.982028e+09</td>\n",
       "      <td>1.000000e+00</td>\n",
       "      <td>1.077488e+00</td>\n",
       "      <td>7.713682e+09</td>\n",
       "      <td>4.379531e+02</td>\n",
       "      <td>1.309732e+00</td>\n",
       "      <td>1.077488e+00</td>\n",
       "      <td>3.028784e+07</td>\n",
       "      <td>1.077836e+00</td>\n",
       "      <td>5.440500e+07</td>\n",
       "      <td>1.077675e+00</td>\n",
       "      <td>4.460704e+02</td>\n",
       "      <td>2.645400e+04</td>\n",
       "    </tr>\n",
       "  </tbody>\n",
       "</table>\n",
       "</div>"
      ],
      "text/plain": [
       "           stock_id       date_id  seconds_in_bucket  imbalance_size  \\\n",
       "count  5.237980e+06  5.237980e+06       5.237980e+06    5.237760e+06   \n",
       "mean   9.928856e+01  2.415100e+02       2.700000e+02    5.715293e+06   \n",
       "std    5.787176e+01  1.385319e+02       1.587451e+02    2.051591e+07   \n",
       "min    0.000000e+00  0.000000e+00       0.000000e+00    0.000000e+00   \n",
       "25%    4.900000e+01  1.220000e+02       1.300000e+02    8.453415e+04   \n",
       "50%    9.900000e+01  2.420000e+02       2.700000e+02    1.113604e+06   \n",
       "75%    1.490000e+02  3.610000e+02       4.100000e+02    4.190951e+06   \n",
       "max    1.990000e+02  4.800000e+02       5.400000e+02    2.982028e+09   \n",
       "\n",
       "       imbalance_buy_sell_flag  reference_price  matched_size     far_price  \\\n",
       "count             5.237980e+06     5.237760e+06  5.237760e+06  2.343638e+06   \n",
       "mean             -1.189619e-02     9.999955e-01  4.510025e+07  1.001713e+00   \n",
       "std               8.853374e-01     2.532497e-03  1.398413e+08  7.214705e-01   \n",
       "min              -1.000000e+00     9.352850e-01  4.316610e+03  7.700000e-05   \n",
       "25%              -1.000000e+00     9.987630e-01  5.279575e+06  9.963320e-01   \n",
       "50%               0.000000e+00     9.999670e-01  1.288264e+07  9.998830e-01   \n",
       "75%               1.000000e+00     1.001174e+00  3.270013e+07  1.003318e+00   \n",
       "max               1.000000e+00     1.077488e+00  7.713682e+09  4.379531e+02   \n",
       "\n",
       "         near_price     bid_price      bid_size     ask_price      ask_size  \\\n",
       "count  2.380800e+06  5.237760e+06  5.237980e+06  5.237760e+06  5.237980e+06   \n",
       "mean   9.996601e-01  9.997263e-01  5.181359e+04  1.000264e+00  5.357568e+04   \n",
       "std    1.216920e-02  2.499345e-03  1.114214e+05  2.510042e-03  1.293554e+05   \n",
       "min    7.869880e-01  9.349150e-01  0.000000e+00  9.398270e-01  0.000000e+00   \n",
       "25%    9.971000e-01  9.985290e-01  7.374720e+03  9.990290e-01  7.823700e+03   \n",
       "50%    9.998890e-01  9.997280e-01  2.196900e+04  1.000207e+00  2.301792e+04   \n",
       "75%    1.002590e+00  1.000905e+00  5.583168e+04  1.001414e+00  5.787841e+04   \n",
       "max    1.309732e+00  1.077488e+00  3.028784e+07  1.077836e+00  5.440500e+07   \n",
       "\n",
       "                wap        target       time_id  \n",
       "count  5.237760e+06  5.237892e+06  5.237980e+06  \n",
       "mean   9.999920e-01 -4.756125e-02  1.331005e+04  \n",
       "std    2.497509e-03  9.452860e+00  7.619271e+03  \n",
       "min    9.380080e-01 -3.852898e+02  0.000000e+00  \n",
       "25%    9.987810e-01 -4.559755e+00  6.729000e+03  \n",
       "50%    9.999970e-01 -6.020069e-02  1.334500e+04  \n",
       "75%    1.001149e+00  4.409552e+00  1.990700e+04  \n",
       "max    1.077675e+00  4.460704e+02  2.645400e+04  "
      ]
     },
     "execution_count": 22,
     "metadata": {},
     "output_type": "execute_result"
    }
   ],
   "source": [
    "train_df.describe()"
   ]
  },
  {
   "cell_type": "code",
   "execution_count": 23,
   "id": "21de2ef3",
   "metadata": {
    "papermill": {
     "duration": 0.009893,
     "end_time": "2023-11-16T06:41:54.174105",
     "exception": false,
     "start_time": "2023-11-16T06:41:54.164212",
     "status": "completed"
    },
    "tags": []
   },
   "outputs": [
    {
     "data": {
      "text/html": [
       "<div>\n",
       "<style scoped>\n",
       "    .dataframe tbody tr th:only-of-type {\n",
       "        vertical-align: middle;\n",
       "    }\n",
       "\n",
       "    .dataframe tbody tr th {\n",
       "        vertical-align: top;\n",
       "    }\n",
       "\n",
       "    .dataframe thead th {\n",
       "        text-align: right;\n",
       "    }\n",
       "</style>\n",
       "<table border=\"1\" class=\"dataframe\">\n",
       "  <thead>\n",
       "    <tr style=\"text-align: right;\">\n",
       "      <th></th>\n",
       "      <th>stock_id</th>\n",
       "      <th>date_id</th>\n",
       "      <th>seconds_in_bucket</th>\n",
       "      <th>imbalance_size</th>\n",
       "      <th>imbalance_buy_sell_flag</th>\n",
       "      <th>reference_price</th>\n",
       "      <th>matched_size</th>\n",
       "      <th>bid_price</th>\n",
       "      <th>bid_size</th>\n",
       "      <th>ask_price</th>\n",
       "      <th>ask_size</th>\n",
       "      <th>wap</th>\n",
       "      <th>target</th>\n",
       "      <th>time_id</th>\n",
       "    </tr>\n",
       "  </thead>\n",
       "  <tbody>\n",
       "    <tr>\n",
       "      <th>count</th>\n",
       "      <td>5.237980e+06</td>\n",
       "      <td>5.237980e+06</td>\n",
       "      <td>5.237980e+06</td>\n",
       "      <td>5.237980e+06</td>\n",
       "      <td>5.237980e+06</td>\n",
       "      <td>5.237980e+06</td>\n",
       "      <td>5.237980e+06</td>\n",
       "      <td>5.237980e+06</td>\n",
       "      <td>5.237980e+06</td>\n",
       "      <td>5.237980e+06</td>\n",
       "      <td>5.237980e+06</td>\n",
       "      <td>5.237980e+06</td>\n",
       "      <td>5.237980e+06</td>\n",
       "      <td>5.237980e+06</td>\n",
       "    </tr>\n",
       "    <tr>\n",
       "      <th>mean</th>\n",
       "      <td>9.928856e+01</td>\n",
       "      <td>2.415100e+02</td>\n",
       "      <td>2.700000e+02</td>\n",
       "      <td>5.715081e+06</td>\n",
       "      <td>-1.189619e-02</td>\n",
       "      <td>9.999955e-01</td>\n",
       "      <td>4.509861e+07</td>\n",
       "      <td>9.997263e-01</td>\n",
       "      <td>5.181359e+04</td>\n",
       "      <td>1.000265e+00</td>\n",
       "      <td>5.357568e+04</td>\n",
       "      <td>9.999920e-01</td>\n",
       "      <td>-4.756155e-02</td>\n",
       "      <td>1.331005e+04</td>\n",
       "    </tr>\n",
       "    <tr>\n",
       "      <th>std</th>\n",
       "      <td>5.787176e+01</td>\n",
       "      <td>1.385319e+02</td>\n",
       "      <td>1.587451e+02</td>\n",
       "      <td>2.051550e+07</td>\n",
       "      <td>8.853374e-01</td>\n",
       "      <td>2.532444e-03</td>\n",
       "      <td>1.398386e+08</td>\n",
       "      <td>2.499293e-03</td>\n",
       "      <td>1.114214e+05</td>\n",
       "      <td>2.509991e-03</td>\n",
       "      <td>1.293554e+05</td>\n",
       "      <td>2.497456e-03</td>\n",
       "      <td>9.452780e+00</td>\n",
       "      <td>7.619271e+03</td>\n",
       "    </tr>\n",
       "    <tr>\n",
       "      <th>min</th>\n",
       "      <td>0.000000e+00</td>\n",
       "      <td>0.000000e+00</td>\n",
       "      <td>0.000000e+00</td>\n",
       "      <td>0.000000e+00</td>\n",
       "      <td>-1.000000e+00</td>\n",
       "      <td>9.352850e-01</td>\n",
       "      <td>4.316610e+03</td>\n",
       "      <td>9.349150e-01</td>\n",
       "      <td>0.000000e+00</td>\n",
       "      <td>9.398270e-01</td>\n",
       "      <td>0.000000e+00</td>\n",
       "      <td>9.380080e-01</td>\n",
       "      <td>-3.852898e+02</td>\n",
       "      <td>0.000000e+00</td>\n",
       "    </tr>\n",
       "    <tr>\n",
       "      <th>25%</th>\n",
       "      <td>4.900000e+01</td>\n",
       "      <td>1.220000e+02</td>\n",
       "      <td>1.300000e+02</td>\n",
       "      <td>8.456663e+04</td>\n",
       "      <td>-1.000000e+00</td>\n",
       "      <td>9.987630e-01</td>\n",
       "      <td>5.279384e+06</td>\n",
       "      <td>9.985290e-01</td>\n",
       "      <td>7.374720e+03</td>\n",
       "      <td>9.990290e-01</td>\n",
       "      <td>7.823700e+03</td>\n",
       "      <td>9.987810e-01</td>\n",
       "      <td>-4.559755e+00</td>\n",
       "      <td>6.729000e+03</td>\n",
       "    </tr>\n",
       "    <tr>\n",
       "      <th>50%</th>\n",
       "      <td>9.900000e+01</td>\n",
       "      <td>2.420000e+02</td>\n",
       "      <td>2.700000e+02</td>\n",
       "      <td>1.113467e+06</td>\n",
       "      <td>0.000000e+00</td>\n",
       "      <td>9.999670e-01</td>\n",
       "      <td>1.288158e+07</td>\n",
       "      <td>9.997280e-01</td>\n",
       "      <td>2.196900e+04</td>\n",
       "      <td>1.000207e+00</td>\n",
       "      <td>2.301792e+04</td>\n",
       "      <td>9.999970e-01</td>\n",
       "      <td>-6.020069e-02</td>\n",
       "      <td>1.334500e+04</td>\n",
       "    </tr>\n",
       "    <tr>\n",
       "      <th>75%</th>\n",
       "      <td>1.490000e+02</td>\n",
       "      <td>3.610000e+02</td>\n",
       "      <td>4.100000e+02</td>\n",
       "      <td>4.190639e+06</td>\n",
       "      <td>1.000000e+00</td>\n",
       "      <td>1.001174e+00</td>\n",
       "      <td>3.269849e+07</td>\n",
       "      <td>1.000905e+00</td>\n",
       "      <td>5.583168e+04</td>\n",
       "      <td>1.001414e+00</td>\n",
       "      <td>5.787841e+04</td>\n",
       "      <td>1.001149e+00</td>\n",
       "      <td>4.409552e+00</td>\n",
       "      <td>1.990700e+04</td>\n",
       "    </tr>\n",
       "    <tr>\n",
       "      <th>max</th>\n",
       "      <td>1.990000e+02</td>\n",
       "      <td>4.800000e+02</td>\n",
       "      <td>5.400000e+02</td>\n",
       "      <td>2.982028e+09</td>\n",
       "      <td>1.000000e+00</td>\n",
       "      <td>1.077488e+00</td>\n",
       "      <td>7.713682e+09</td>\n",
       "      <td>1.077488e+00</td>\n",
       "      <td>3.028784e+07</td>\n",
       "      <td>1.077836e+00</td>\n",
       "      <td>5.440500e+07</td>\n",
       "      <td>1.077675e+00</td>\n",
       "      <td>4.460704e+02</td>\n",
       "      <td>2.645400e+04</td>\n",
       "    </tr>\n",
       "  </tbody>\n",
       "</table>\n",
       "</div>"
      ],
      "text/plain": [
       "           stock_id       date_id  seconds_in_bucket  imbalance_size  \\\n",
       "count  5.237980e+06  5.237980e+06       5.237980e+06    5.237980e+06   \n",
       "mean   9.928856e+01  2.415100e+02       2.700000e+02    5.715081e+06   \n",
       "std    5.787176e+01  1.385319e+02       1.587451e+02    2.051550e+07   \n",
       "min    0.000000e+00  0.000000e+00       0.000000e+00    0.000000e+00   \n",
       "25%    4.900000e+01  1.220000e+02       1.300000e+02    8.456663e+04   \n",
       "50%    9.900000e+01  2.420000e+02       2.700000e+02    1.113467e+06   \n",
       "75%    1.490000e+02  3.610000e+02       4.100000e+02    4.190639e+06   \n",
       "max    1.990000e+02  4.800000e+02       5.400000e+02    2.982028e+09   \n",
       "\n",
       "       imbalance_buy_sell_flag  reference_price  matched_size     bid_price  \\\n",
       "count             5.237980e+06     5.237980e+06  5.237980e+06  5.237980e+06   \n",
       "mean             -1.189619e-02     9.999955e-01  4.509861e+07  9.997263e-01   \n",
       "std               8.853374e-01     2.532444e-03  1.398386e+08  2.499293e-03   \n",
       "min              -1.000000e+00     9.352850e-01  4.316610e+03  9.349150e-01   \n",
       "25%              -1.000000e+00     9.987630e-01  5.279384e+06  9.985290e-01   \n",
       "50%               0.000000e+00     9.999670e-01  1.288158e+07  9.997280e-01   \n",
       "75%               1.000000e+00     1.001174e+00  3.269849e+07  1.000905e+00   \n",
       "max               1.000000e+00     1.077488e+00  7.713682e+09  1.077488e+00   \n",
       "\n",
       "           bid_size     ask_price      ask_size           wap        target  \\\n",
       "count  5.237980e+06  5.237980e+06  5.237980e+06  5.237980e+06  5.237980e+06   \n",
       "mean   5.181359e+04  1.000265e+00  5.357568e+04  9.999920e-01 -4.756155e-02   \n",
       "std    1.114214e+05  2.509991e-03  1.293554e+05  2.497456e-03  9.452780e+00   \n",
       "min    0.000000e+00  9.398270e-01  0.000000e+00  9.380080e-01 -3.852898e+02   \n",
       "25%    7.374720e+03  9.990290e-01  7.823700e+03  9.987810e-01 -4.559755e+00   \n",
       "50%    2.196900e+04  1.000207e+00  2.301792e+04  9.999970e-01 -6.020069e-02   \n",
       "75%    5.583168e+04  1.001414e+00  5.787841e+04  1.001149e+00  4.409552e+00   \n",
       "max    3.028784e+07  1.077836e+00  5.440500e+07  1.077675e+00  4.460704e+02   \n",
       "\n",
       "            time_id  \n",
       "count  5.237980e+06  \n",
       "mean   1.331005e+04  \n",
       "std    7.619271e+03  \n",
       "min    0.000000e+00  \n",
       "25%    6.729000e+03  \n",
       "50%    1.334500e+04  \n",
       "75%    1.990700e+04  \n",
       "max    2.645400e+04  "
      ]
     },
     "execution_count": 23,
     "metadata": {},
     "output_type": "execute_result"
    }
   ],
   "source": [
    "df_processed.describe()"
   ]
  },
  {
   "cell_type": "code",
   "execution_count": 24,
   "id": "8ef9a1f1",
   "metadata": {
    "papermill": {
     "duration": 0.010006,
     "end_time": "2023-11-16T06:41:54.194334",
     "exception": false,
     "start_time": "2023-11-16T06:41:54.184328",
     "status": "completed"
    },
    "tags": []
   },
   "outputs": [
    {
     "data": {
      "text/html": [
       "<div>\n",
       "<style scoped>\n",
       "    .dataframe tbody tr th:only-of-type {\n",
       "        vertical-align: middle;\n",
       "    }\n",
       "\n",
       "    .dataframe tbody tr th {\n",
       "        vertical-align: top;\n",
       "    }\n",
       "\n",
       "    .dataframe thead th {\n",
       "        text-align: right;\n",
       "    }\n",
       "</style>\n",
       "<table border=\"1\" class=\"dataframe\">\n",
       "  <thead>\n",
       "    <tr style=\"text-align: right;\">\n",
       "      <th></th>\n",
       "      <th>stock_id</th>\n",
       "      <th>date_id</th>\n",
       "      <th>seconds_in_bucket</th>\n",
       "      <th>imbalance_size</th>\n",
       "      <th>imbalance_buy_sell_flag</th>\n",
       "      <th>reference_price</th>\n",
       "      <th>matched_size</th>\n",
       "      <th>bid_price</th>\n",
       "      <th>bid_size</th>\n",
       "      <th>ask_price</th>\n",
       "      <th>ask_size</th>\n",
       "      <th>wap</th>\n",
       "      <th>target</th>\n",
       "      <th>time_id</th>\n",
       "    </tr>\n",
       "  </thead>\n",
       "  <tbody>\n",
       "    <tr>\n",
       "      <th>0</th>\n",
       "      <td>0</td>\n",
       "      <td>0</td>\n",
       "      <td>0.0</td>\n",
       "      <td>3180602.69</td>\n",
       "      <td>1</td>\n",
       "      <td>0.999812</td>\n",
       "      <td>13380276.64</td>\n",
       "      <td>0.999812</td>\n",
       "      <td>60651.50</td>\n",
       "      <td>1.000026</td>\n",
       "      <td>8493.03</td>\n",
       "      <td>1.0</td>\n",
       "      <td>-3.029704</td>\n",
       "      <td>0</td>\n",
       "    </tr>\n",
       "    <tr>\n",
       "      <th>1</th>\n",
       "      <td>1</td>\n",
       "      <td>0</td>\n",
       "      <td>0.0</td>\n",
       "      <td>166603.91</td>\n",
       "      <td>-1</td>\n",
       "      <td>0.999896</td>\n",
       "      <td>1642214.25</td>\n",
       "      <td>0.999896</td>\n",
       "      <td>3233.04</td>\n",
       "      <td>1.000660</td>\n",
       "      <td>20605.09</td>\n",
       "      <td>1.0</td>\n",
       "      <td>-5.519986</td>\n",
       "      <td>0</td>\n",
       "    </tr>\n",
       "    <tr>\n",
       "      <th>2</th>\n",
       "      <td>2</td>\n",
       "      <td>0</td>\n",
       "      <td>0.0</td>\n",
       "      <td>302879.87</td>\n",
       "      <td>-1</td>\n",
       "      <td>0.999561</td>\n",
       "      <td>1819368.03</td>\n",
       "      <td>0.999403</td>\n",
       "      <td>37956.00</td>\n",
       "      <td>1.000298</td>\n",
       "      <td>18995.00</td>\n",
       "      <td>1.0</td>\n",
       "      <td>-8.389950</td>\n",
       "      <td>0</td>\n",
       "    </tr>\n",
       "    <tr>\n",
       "      <th>3</th>\n",
       "      <td>3</td>\n",
       "      <td>0</td>\n",
       "      <td>0.0</td>\n",
       "      <td>11917682.27</td>\n",
       "      <td>-1</td>\n",
       "      <td>1.000171</td>\n",
       "      <td>18389745.62</td>\n",
       "      <td>0.999999</td>\n",
       "      <td>2324.90</td>\n",
       "      <td>1.000214</td>\n",
       "      <td>479032.40</td>\n",
       "      <td>1.0</td>\n",
       "      <td>-4.010200</td>\n",
       "      <td>0</td>\n",
       "    </tr>\n",
       "    <tr>\n",
       "      <th>4</th>\n",
       "      <td>4</td>\n",
       "      <td>0</td>\n",
       "      <td>0.0</td>\n",
       "      <td>447549.96</td>\n",
       "      <td>-1</td>\n",
       "      <td>0.999532</td>\n",
       "      <td>17860614.95</td>\n",
       "      <td>0.999394</td>\n",
       "      <td>16485.54</td>\n",
       "      <td>1.000016</td>\n",
       "      <td>434.10</td>\n",
       "      <td>1.0</td>\n",
       "      <td>-7.349849</td>\n",
       "      <td>0</td>\n",
       "    </tr>\n",
       "  </tbody>\n",
       "</table>\n",
       "</div>"
      ],
      "text/plain": [
       "   stock_id  date_id  seconds_in_bucket  imbalance_size  \\\n",
       "0         0        0                0.0      3180602.69   \n",
       "1         1        0                0.0       166603.91   \n",
       "2         2        0                0.0       302879.87   \n",
       "3         3        0                0.0     11917682.27   \n",
       "4         4        0                0.0       447549.96   \n",
       "\n",
       "   imbalance_buy_sell_flag  reference_price  matched_size  bid_price  \\\n",
       "0                        1         0.999812   13380276.64   0.999812   \n",
       "1                       -1         0.999896    1642214.25   0.999896   \n",
       "2                       -1         0.999561    1819368.03   0.999403   \n",
       "3                       -1         1.000171   18389745.62   0.999999   \n",
       "4                       -1         0.999532   17860614.95   0.999394   \n",
       "\n",
       "   bid_size  ask_price   ask_size  wap    target  time_id  \n",
       "0  60651.50   1.000026    8493.03  1.0 -3.029704        0  \n",
       "1   3233.04   1.000660   20605.09  1.0 -5.519986        0  \n",
       "2  37956.00   1.000298   18995.00  1.0 -8.389950        0  \n",
       "3   2324.90   1.000214  479032.40  1.0 -4.010200        0  \n",
       "4  16485.54   1.000016     434.10  1.0 -7.349849        0  "
      ]
     },
     "execution_count": 24,
     "metadata": {},
     "output_type": "execute_result"
    }
   ],
   "source": [
    "df_processed.head()"
   ]
  },
  {
   "cell_type": "code",
   "execution_count": 25,
   "id": "81573e36",
   "metadata": {
    "papermill": {
     "duration": 0.010189,
     "end_time": "2023-11-16T06:41:54.214679",
     "exception": false,
     "start_time": "2023-11-16T06:41:54.204490",
     "status": "completed"
    },
    "tags": []
   },
   "outputs": [
    {
     "data": {
      "text/html": [
       "<div>\n",
       "<style scoped>\n",
       "    .dataframe tbody tr th:only-of-type {\n",
       "        vertical-align: middle;\n",
       "    }\n",
       "\n",
       "    .dataframe tbody tr th {\n",
       "        vertical-align: top;\n",
       "    }\n",
       "\n",
       "    .dataframe thead th {\n",
       "        text-align: right;\n",
       "    }\n",
       "</style>\n",
       "<table border=\"1\" class=\"dataframe\">\n",
       "  <thead>\n",
       "    <tr style=\"text-align: right;\">\n",
       "      <th></th>\n",
       "      <th>stock_id</th>\n",
       "      <th>date_id</th>\n",
       "      <th>seconds_in_bucket</th>\n",
       "      <th>imbalance_size</th>\n",
       "      <th>imbalance_buy_sell_flag</th>\n",
       "      <th>reference_price</th>\n",
       "      <th>matched_size</th>\n",
       "      <th>far_price</th>\n",
       "      <th>near_price</th>\n",
       "      <th>bid_price</th>\n",
       "      <th>bid_size</th>\n",
       "      <th>ask_price</th>\n",
       "      <th>ask_size</th>\n",
       "      <th>wap</th>\n",
       "      <th>target</th>\n",
       "      <th>time_id</th>\n",
       "      <th>row_id</th>\n",
       "    </tr>\n",
       "  </thead>\n",
       "  <tbody>\n",
       "    <tr>\n",
       "      <th>0</th>\n",
       "      <td>0</td>\n",
       "      <td>0</td>\n",
       "      <td>0</td>\n",
       "      <td>3180602.69</td>\n",
       "      <td>1</td>\n",
       "      <td>0.999812</td>\n",
       "      <td>13380276.64</td>\n",
       "      <td>NaN</td>\n",
       "      <td>NaN</td>\n",
       "      <td>0.999812</td>\n",
       "      <td>60651.50</td>\n",
       "      <td>1.000026</td>\n",
       "      <td>8493.03</td>\n",
       "      <td>1.0</td>\n",
       "      <td>-3.029704</td>\n",
       "      <td>0</td>\n",
       "      <td>0_0_0</td>\n",
       "    </tr>\n",
       "    <tr>\n",
       "      <th>1</th>\n",
       "      <td>1</td>\n",
       "      <td>0</td>\n",
       "      <td>0</td>\n",
       "      <td>166603.91</td>\n",
       "      <td>-1</td>\n",
       "      <td>0.999896</td>\n",
       "      <td>1642214.25</td>\n",
       "      <td>NaN</td>\n",
       "      <td>NaN</td>\n",
       "      <td>0.999896</td>\n",
       "      <td>3233.04</td>\n",
       "      <td>1.000660</td>\n",
       "      <td>20605.09</td>\n",
       "      <td>1.0</td>\n",
       "      <td>-5.519986</td>\n",
       "      <td>0</td>\n",
       "      <td>0_0_1</td>\n",
       "    </tr>\n",
       "    <tr>\n",
       "      <th>2</th>\n",
       "      <td>2</td>\n",
       "      <td>0</td>\n",
       "      <td>0</td>\n",
       "      <td>302879.87</td>\n",
       "      <td>-1</td>\n",
       "      <td>0.999561</td>\n",
       "      <td>1819368.03</td>\n",
       "      <td>NaN</td>\n",
       "      <td>NaN</td>\n",
       "      <td>0.999403</td>\n",
       "      <td>37956.00</td>\n",
       "      <td>1.000298</td>\n",
       "      <td>18995.00</td>\n",
       "      <td>1.0</td>\n",
       "      <td>-8.389950</td>\n",
       "      <td>0</td>\n",
       "      <td>0_0_2</td>\n",
       "    </tr>\n",
       "    <tr>\n",
       "      <th>3</th>\n",
       "      <td>3</td>\n",
       "      <td>0</td>\n",
       "      <td>0</td>\n",
       "      <td>11917682.27</td>\n",
       "      <td>-1</td>\n",
       "      <td>1.000171</td>\n",
       "      <td>18389745.62</td>\n",
       "      <td>NaN</td>\n",
       "      <td>NaN</td>\n",
       "      <td>0.999999</td>\n",
       "      <td>2324.90</td>\n",
       "      <td>1.000214</td>\n",
       "      <td>479032.40</td>\n",
       "      <td>1.0</td>\n",
       "      <td>-4.010200</td>\n",
       "      <td>0</td>\n",
       "      <td>0_0_3</td>\n",
       "    </tr>\n",
       "    <tr>\n",
       "      <th>4</th>\n",
       "      <td>4</td>\n",
       "      <td>0</td>\n",
       "      <td>0</td>\n",
       "      <td>447549.96</td>\n",
       "      <td>-1</td>\n",
       "      <td>0.999532</td>\n",
       "      <td>17860614.95</td>\n",
       "      <td>NaN</td>\n",
       "      <td>NaN</td>\n",
       "      <td>0.999394</td>\n",
       "      <td>16485.54</td>\n",
       "      <td>1.000016</td>\n",
       "      <td>434.10</td>\n",
       "      <td>1.0</td>\n",
       "      <td>-7.349849</td>\n",
       "      <td>0</td>\n",
       "      <td>0_0_4</td>\n",
       "    </tr>\n",
       "    <tr>\n",
       "      <th>5</th>\n",
       "      <td>5</td>\n",
       "      <td>0</td>\n",
       "      <td>0</td>\n",
       "      <td>0.00</td>\n",
       "      <td>0</td>\n",
       "      <td>1.000635</td>\n",
       "      <td>13552875.92</td>\n",
       "      <td>NaN</td>\n",
       "      <td>NaN</td>\n",
       "      <td>0.999779</td>\n",
       "      <td>1962.72</td>\n",
       "      <td>1.000635</td>\n",
       "      <td>5647.65</td>\n",
       "      <td>1.0</td>\n",
       "      <td>6.779432</td>\n",
       "      <td>0</td>\n",
       "      <td>0_0_5</td>\n",
       "    </tr>\n",
       "    <tr>\n",
       "      <th>6</th>\n",
       "      <td>6</td>\n",
       "      <td>0</td>\n",
       "      <td>0</td>\n",
       "      <td>969969.40</td>\n",
       "      <td>1</td>\n",
       "      <td>1.000115</td>\n",
       "      <td>3647503.98</td>\n",
       "      <td>NaN</td>\n",
       "      <td>NaN</td>\n",
       "      <td>0.999506</td>\n",
       "      <td>6663.16</td>\n",
       "      <td>1.000283</td>\n",
       "      <td>3810.48</td>\n",
       "      <td>1.0</td>\n",
       "      <td>-2.499819</td>\n",
       "      <td>0</td>\n",
       "      <td>0_0_6</td>\n",
       "    </tr>\n",
       "    <tr>\n",
       "      <th>7</th>\n",
       "      <td>7</td>\n",
       "      <td>0</td>\n",
       "      <td>0</td>\n",
       "      <td>9412959.10</td>\n",
       "      <td>1</td>\n",
       "      <td>0.999818</td>\n",
       "      <td>21261245.87</td>\n",
       "      <td>NaN</td>\n",
       "      <td>NaN</td>\n",
       "      <td>0.999741</td>\n",
       "      <td>5139.20</td>\n",
       "      <td>1.000130</td>\n",
       "      <td>2570.60</td>\n",
       "      <td>1.0</td>\n",
       "      <td>-1.959801</td>\n",
       "      <td>0</td>\n",
       "      <td>0_0_7</td>\n",
       "    </tr>\n",
       "    <tr>\n",
       "      <th>8</th>\n",
       "      <td>8</td>\n",
       "      <td>0</td>\n",
       "      <td>0</td>\n",
       "      <td>2394875.85</td>\n",
       "      <td>1</td>\n",
       "      <td>0.999916</td>\n",
       "      <td>9473209.08</td>\n",
       "      <td>NaN</td>\n",
       "      <td>NaN</td>\n",
       "      <td>0.999022</td>\n",
       "      <td>52011.60</td>\n",
       "      <td>1.000041</td>\n",
       "      <td>2169.36</td>\n",
       "      <td>1.0</td>\n",
       "      <td>-5.970001</td>\n",
       "      <td>0</td>\n",
       "      <td>0_0_8</td>\n",
       "    </tr>\n",
       "    <tr>\n",
       "      <th>9</th>\n",
       "      <td>9</td>\n",
       "      <td>0</td>\n",
       "      <td>0</td>\n",
       "      <td>3039700.65</td>\n",
       "      <td>-1</td>\n",
       "      <td>1.000969</td>\n",
       "      <td>6248958.45</td>\n",
       "      <td>NaN</td>\n",
       "      <td>NaN</td>\n",
       "      <td>0.999354</td>\n",
       "      <td>6191.00</td>\n",
       "      <td>1.000646</td>\n",
       "      <td>6199.00</td>\n",
       "      <td>1.0</td>\n",
       "      <td>7.970333</td>\n",
       "      <td>0</td>\n",
       "      <td>0_0_9</td>\n",
       "    </tr>\n",
       "  </tbody>\n",
       "</table>\n",
       "</div>"
      ],
      "text/plain": [
       "   stock_id  date_id  seconds_in_bucket  imbalance_size  \\\n",
       "0         0        0                  0      3180602.69   \n",
       "1         1        0                  0       166603.91   \n",
       "2         2        0                  0       302879.87   \n",
       "3         3        0                  0     11917682.27   \n",
       "4         4        0                  0       447549.96   \n",
       "5         5        0                  0            0.00   \n",
       "6         6        0                  0       969969.40   \n",
       "7         7        0                  0      9412959.10   \n",
       "8         8        0                  0      2394875.85   \n",
       "9         9        0                  0      3039700.65   \n",
       "\n",
       "   imbalance_buy_sell_flag  reference_price  matched_size  far_price  \\\n",
       "0                        1         0.999812   13380276.64        NaN   \n",
       "1                       -1         0.999896    1642214.25        NaN   \n",
       "2                       -1         0.999561    1819368.03        NaN   \n",
       "3                       -1         1.000171   18389745.62        NaN   \n",
       "4                       -1         0.999532   17860614.95        NaN   \n",
       "5                        0         1.000635   13552875.92        NaN   \n",
       "6                        1         1.000115    3647503.98        NaN   \n",
       "7                        1         0.999818   21261245.87        NaN   \n",
       "8                        1         0.999916    9473209.08        NaN   \n",
       "9                       -1         1.000969    6248958.45        NaN   \n",
       "\n",
       "   near_price  bid_price  bid_size  ask_price   ask_size  wap    target  \\\n",
       "0         NaN   0.999812  60651.50   1.000026    8493.03  1.0 -3.029704   \n",
       "1         NaN   0.999896   3233.04   1.000660   20605.09  1.0 -5.519986   \n",
       "2         NaN   0.999403  37956.00   1.000298   18995.00  1.0 -8.389950   \n",
       "3         NaN   0.999999   2324.90   1.000214  479032.40  1.0 -4.010200   \n",
       "4         NaN   0.999394  16485.54   1.000016     434.10  1.0 -7.349849   \n",
       "5         NaN   0.999779   1962.72   1.000635    5647.65  1.0  6.779432   \n",
       "6         NaN   0.999506   6663.16   1.000283    3810.48  1.0 -2.499819   \n",
       "7         NaN   0.999741   5139.20   1.000130    2570.60  1.0 -1.959801   \n",
       "8         NaN   0.999022  52011.60   1.000041    2169.36  1.0 -5.970001   \n",
       "9         NaN   0.999354   6191.00   1.000646    6199.00  1.0  7.970333   \n",
       "\n",
       "   time_id row_id  \n",
       "0        0  0_0_0  \n",
       "1        0  0_0_1  \n",
       "2        0  0_0_2  \n",
       "3        0  0_0_3  \n",
       "4        0  0_0_4  \n",
       "5        0  0_0_5  \n",
       "6        0  0_0_6  \n",
       "7        0  0_0_7  \n",
       "8        0  0_0_8  \n",
       "9        0  0_0_9  "
      ]
     },
     "execution_count": 25,
     "metadata": {},
     "output_type": "execute_result"
    }
   ],
   "source": [
    "train_df[0:10]"
   ]
  },
  {
   "cell_type": "code",
   "execution_count": 26,
   "metadata": {},
   "outputs": [],
   "source": [
    "def add_seconds_to_row_id(row_id, seconds):\n",
    "    row_split = row_id.split(\"_\")\n",
    "    return row_split[0] + '_' + str(int(row_split[1]) + 60) + '_' + row_split[2]"
   ]
  },
  {
   "cell_type": "code",
   "execution_count": 27,
   "metadata": {},
   "outputs": [],
   "source": [
    "train_df_2 = train_df.copy()"
   ]
  },
  {
   "cell_type": "code",
   "execution_count": 28,
   "metadata": {},
   "outputs": [],
   "source": [
    "train_df_2['row_id_60_secs_to_future'] = train_df_2.apply(lambda row: \\\n",
    "          add_seconds_to_row_id(row.row_id, 60), axis=1)\n",
    "train_df_60_secs_to_future = train_df[[\"row_id\", \"wap\"]].copy()\n",
    "train_df_60_secs_to_future.columns = train_df_60_secs_to_future.columns.map(lambda col: \\\n",
    "                              col+'_60_secs_to_future')\n",
    "train_df_2 = pd.merge(train_df_2, train_df_60_secs_to_future, \\\n",
    "                            on=['row_id_60_secs_to_future'], how='left')"
   ]
  },
  {
   "cell_type": "code",
   "execution_count": 29,
   "metadata": {},
   "outputs": [
    {
     "data": {
      "text/html": [
       "<div>\n",
       "<style scoped>\n",
       "    .dataframe tbody tr th:only-of-type {\n",
       "        vertical-align: middle;\n",
       "    }\n",
       "\n",
       "    .dataframe tbody tr th {\n",
       "        vertical-align: top;\n",
       "    }\n",
       "\n",
       "    .dataframe thead th {\n",
       "        text-align: right;\n",
       "    }\n",
       "</style>\n",
       "<table border=\"1\" class=\"dataframe\">\n",
       "  <thead>\n",
       "    <tr style=\"text-align: right;\">\n",
       "      <th></th>\n",
       "      <th>stock_id</th>\n",
       "      <th>date_id</th>\n",
       "      <th>seconds_in_bucket</th>\n",
       "      <th>imbalance_size</th>\n",
       "      <th>imbalance_buy_sell_flag</th>\n",
       "      <th>reference_price</th>\n",
       "      <th>matched_size</th>\n",
       "      <th>far_price</th>\n",
       "      <th>near_price</th>\n",
       "      <th>bid_price</th>\n",
       "      <th>bid_size</th>\n",
       "      <th>ask_price</th>\n",
       "      <th>ask_size</th>\n",
       "      <th>wap</th>\n",
       "      <th>target</th>\n",
       "      <th>time_id</th>\n",
       "      <th>row_id</th>\n",
       "      <th>row_id_60_secs_to_future</th>\n",
       "      <th>wap_60_secs_to_future</th>\n",
       "    </tr>\n",
       "  </thead>\n",
       "  <tbody>\n",
       "    <tr>\n",
       "      <th>0</th>\n",
       "      <td>0</td>\n",
       "      <td>0</td>\n",
       "      <td>0</td>\n",
       "      <td>3180602.69</td>\n",
       "      <td>1</td>\n",
       "      <td>0.999812</td>\n",
       "      <td>13380276.64</td>\n",
       "      <td>NaN</td>\n",
       "      <td>NaN</td>\n",
       "      <td>0.999812</td>\n",
       "      <td>60651.50</td>\n",
       "      <td>1.000026</td>\n",
       "      <td>8493.03</td>\n",
       "      <td>1.0</td>\n",
       "      <td>-3.029704</td>\n",
       "      <td>0</td>\n",
       "      <td>0_0_0</td>\n",
       "      <td>0_60_0</td>\n",
       "      <td>1.000517</td>\n",
       "    </tr>\n",
       "    <tr>\n",
       "      <th>1</th>\n",
       "      <td>1</td>\n",
       "      <td>0</td>\n",
       "      <td>0</td>\n",
       "      <td>166603.91</td>\n",
       "      <td>-1</td>\n",
       "      <td>0.999896</td>\n",
       "      <td>1642214.25</td>\n",
       "      <td>NaN</td>\n",
       "      <td>NaN</td>\n",
       "      <td>0.999896</td>\n",
       "      <td>3233.04</td>\n",
       "      <td>1.000660</td>\n",
       "      <td>20605.09</td>\n",
       "      <td>1.0</td>\n",
       "      <td>-5.519986</td>\n",
       "      <td>0</td>\n",
       "      <td>0_0_1</td>\n",
       "      <td>0_60_1</td>\n",
       "      <td>1.000268</td>\n",
       "    </tr>\n",
       "    <tr>\n",
       "      <th>2</th>\n",
       "      <td>2</td>\n",
       "      <td>0</td>\n",
       "      <td>0</td>\n",
       "      <td>302879.87</td>\n",
       "      <td>-1</td>\n",
       "      <td>0.999561</td>\n",
       "      <td>1819368.03</td>\n",
       "      <td>NaN</td>\n",
       "      <td>NaN</td>\n",
       "      <td>0.999403</td>\n",
       "      <td>37956.00</td>\n",
       "      <td>1.000298</td>\n",
       "      <td>18995.00</td>\n",
       "      <td>1.0</td>\n",
       "      <td>-8.389950</td>\n",
       "      <td>0</td>\n",
       "      <td>0_0_2</td>\n",
       "      <td>0_60_2</td>\n",
       "      <td>0.999981</td>\n",
       "    </tr>\n",
       "    <tr>\n",
       "      <th>3</th>\n",
       "      <td>3</td>\n",
       "      <td>0</td>\n",
       "      <td>0</td>\n",
       "      <td>11917682.27</td>\n",
       "      <td>-1</td>\n",
       "      <td>1.000171</td>\n",
       "      <td>18389745.62</td>\n",
       "      <td>NaN</td>\n",
       "      <td>NaN</td>\n",
       "      <td>0.999999</td>\n",
       "      <td>2324.90</td>\n",
       "      <td>1.000214</td>\n",
       "      <td>479032.40</td>\n",
       "      <td>1.0</td>\n",
       "      <td>-4.010200</td>\n",
       "      <td>0</td>\n",
       "      <td>0_0_3</td>\n",
       "      <td>0_60_3</td>\n",
       "      <td>1.000419</td>\n",
       "    </tr>\n",
       "    <tr>\n",
       "      <th>4</th>\n",
       "      <td>4</td>\n",
       "      <td>0</td>\n",
       "      <td>0</td>\n",
       "      <td>447549.96</td>\n",
       "      <td>-1</td>\n",
       "      <td>0.999532</td>\n",
       "      <td>17860614.95</td>\n",
       "      <td>NaN</td>\n",
       "      <td>NaN</td>\n",
       "      <td>0.999394</td>\n",
       "      <td>16485.54</td>\n",
       "      <td>1.000016</td>\n",
       "      <td>434.10</td>\n",
       "      <td>1.0</td>\n",
       "      <td>-7.349849</td>\n",
       "      <td>0</td>\n",
       "      <td>0_0_4</td>\n",
       "      <td>0_60_4</td>\n",
       "      <td>1.000086</td>\n",
       "    </tr>\n",
       "  </tbody>\n",
       "</table>\n",
       "</div>"
      ],
      "text/plain": [
       "   stock_id  date_id  seconds_in_bucket  imbalance_size  \\\n",
       "0         0        0                  0      3180602.69   \n",
       "1         1        0                  0       166603.91   \n",
       "2         2        0                  0       302879.87   \n",
       "3         3        0                  0     11917682.27   \n",
       "4         4        0                  0       447549.96   \n",
       "\n",
       "   imbalance_buy_sell_flag  reference_price  matched_size  far_price  \\\n",
       "0                        1         0.999812   13380276.64        NaN   \n",
       "1                       -1         0.999896    1642214.25        NaN   \n",
       "2                       -1         0.999561    1819368.03        NaN   \n",
       "3                       -1         1.000171   18389745.62        NaN   \n",
       "4                       -1         0.999532   17860614.95        NaN   \n",
       "\n",
       "   near_price  bid_price  bid_size  ask_price   ask_size  wap    target  \\\n",
       "0         NaN   0.999812  60651.50   1.000026    8493.03  1.0 -3.029704   \n",
       "1         NaN   0.999896   3233.04   1.000660   20605.09  1.0 -5.519986   \n",
       "2         NaN   0.999403  37956.00   1.000298   18995.00  1.0 -8.389950   \n",
       "3         NaN   0.999999   2324.90   1.000214  479032.40  1.0 -4.010200   \n",
       "4         NaN   0.999394  16485.54   1.000016     434.10  1.0 -7.349849   \n",
       "\n",
       "   time_id row_id row_id_60_secs_to_future  wap_60_secs_to_future  \n",
       "0        0  0_0_0                   0_60_0               1.000517  \n",
       "1        0  0_0_1                   0_60_1               1.000268  \n",
       "2        0  0_0_2                   0_60_2               0.999981  \n",
       "3        0  0_0_3                   0_60_3               1.000419  \n",
       "4        0  0_0_4                   0_60_4               1.000086  "
      ]
     },
     "execution_count": 29,
     "metadata": {},
     "output_type": "execute_result"
    }
   ],
   "source": [
    "train_df_2.head()"
   ]
  },
  {
   "cell_type": "code",
   "execution_count": 30,
   "metadata": {},
   "outputs": [],
   "source": [
    "train_df_2[\"index_diff\"]=(train_df_2[\"wap_60_secs_to_future\"]/train_df_2[\"wap\"])-train_df_2[\"target\"]/10000"
   ]
  },
  {
   "cell_type": "code",
   "execution_count": 31,
   "metadata": {},
   "outputs": [
    {
     "data": {
      "text/html": [
       "<div>\n",
       "<style scoped>\n",
       "    .dataframe tbody tr th:only-of-type {\n",
       "        vertical-align: middle;\n",
       "    }\n",
       "\n",
       "    .dataframe tbody tr th {\n",
       "        vertical-align: top;\n",
       "    }\n",
       "\n",
       "    .dataframe thead th {\n",
       "        text-align: right;\n",
       "    }\n",
       "</style>\n",
       "<table border=\"1\" class=\"dataframe\">\n",
       "  <thead>\n",
       "    <tr style=\"text-align: right;\">\n",
       "      <th></th>\n",
       "      <th>stock_id</th>\n",
       "      <th>date_id</th>\n",
       "      <th>seconds_in_bucket</th>\n",
       "      <th>imbalance_size</th>\n",
       "      <th>imbalance_buy_sell_flag</th>\n",
       "      <th>reference_price</th>\n",
       "      <th>matched_size</th>\n",
       "      <th>far_price</th>\n",
       "      <th>near_price</th>\n",
       "      <th>bid_price</th>\n",
       "      <th>bid_size</th>\n",
       "      <th>ask_price</th>\n",
       "      <th>ask_size</th>\n",
       "      <th>wap</th>\n",
       "      <th>target</th>\n",
       "      <th>time_id</th>\n",
       "      <th>row_id</th>\n",
       "      <th>row_id_60_secs_to_future</th>\n",
       "      <th>wap_60_secs_to_future</th>\n",
       "      <th>index_diff</th>\n",
       "    </tr>\n",
       "  </thead>\n",
       "  <tbody>\n",
       "    <tr>\n",
       "      <th>0</th>\n",
       "      <td>0</td>\n",
       "      <td>0</td>\n",
       "      <td>0</td>\n",
       "      <td>3180602.69</td>\n",
       "      <td>1</td>\n",
       "      <td>0.999812</td>\n",
       "      <td>13380276.64</td>\n",
       "      <td>NaN</td>\n",
       "      <td>NaN</td>\n",
       "      <td>0.999812</td>\n",
       "      <td>60651.50</td>\n",
       "      <td>1.000026</td>\n",
       "      <td>8493.03</td>\n",
       "      <td>1.0</td>\n",
       "      <td>-3.029704</td>\n",
       "      <td>0</td>\n",
       "      <td>0_0_0</td>\n",
       "      <td>0_60_0</td>\n",
       "      <td>1.000517</td>\n",
       "      <td>1.000820</td>\n",
       "    </tr>\n",
       "    <tr>\n",
       "      <th>1</th>\n",
       "      <td>1</td>\n",
       "      <td>0</td>\n",
       "      <td>0</td>\n",
       "      <td>166603.91</td>\n",
       "      <td>-1</td>\n",
       "      <td>0.999896</td>\n",
       "      <td>1642214.25</td>\n",
       "      <td>NaN</td>\n",
       "      <td>NaN</td>\n",
       "      <td>0.999896</td>\n",
       "      <td>3233.04</td>\n",
       "      <td>1.000660</td>\n",
       "      <td>20605.09</td>\n",
       "      <td>1.0</td>\n",
       "      <td>-5.519986</td>\n",
       "      <td>0</td>\n",
       "      <td>0_0_1</td>\n",
       "      <td>0_60_1</td>\n",
       "      <td>1.000268</td>\n",
       "      <td>1.000820</td>\n",
       "    </tr>\n",
       "    <tr>\n",
       "      <th>2</th>\n",
       "      <td>2</td>\n",
       "      <td>0</td>\n",
       "      <td>0</td>\n",
       "      <td>302879.87</td>\n",
       "      <td>-1</td>\n",
       "      <td>0.999561</td>\n",
       "      <td>1819368.03</td>\n",
       "      <td>NaN</td>\n",
       "      <td>NaN</td>\n",
       "      <td>0.999403</td>\n",
       "      <td>37956.00</td>\n",
       "      <td>1.000298</td>\n",
       "      <td>18995.00</td>\n",
       "      <td>1.0</td>\n",
       "      <td>-8.389950</td>\n",
       "      <td>0</td>\n",
       "      <td>0_0_2</td>\n",
       "      <td>0_60_2</td>\n",
       "      <td>0.999981</td>\n",
       "      <td>1.000820</td>\n",
       "    </tr>\n",
       "    <tr>\n",
       "      <th>3</th>\n",
       "      <td>3</td>\n",
       "      <td>0</td>\n",
       "      <td>0</td>\n",
       "      <td>11917682.27</td>\n",
       "      <td>-1</td>\n",
       "      <td>1.000171</td>\n",
       "      <td>18389745.62</td>\n",
       "      <td>NaN</td>\n",
       "      <td>NaN</td>\n",
       "      <td>0.999999</td>\n",
       "      <td>2324.90</td>\n",
       "      <td>1.000214</td>\n",
       "      <td>479032.40</td>\n",
       "      <td>1.0</td>\n",
       "      <td>-4.010200</td>\n",
       "      <td>0</td>\n",
       "      <td>0_0_3</td>\n",
       "      <td>0_60_3</td>\n",
       "      <td>1.000419</td>\n",
       "      <td>1.000820</td>\n",
       "    </tr>\n",
       "    <tr>\n",
       "      <th>4</th>\n",
       "      <td>4</td>\n",
       "      <td>0</td>\n",
       "      <td>0</td>\n",
       "      <td>447549.96</td>\n",
       "      <td>-1</td>\n",
       "      <td>0.999532</td>\n",
       "      <td>17860614.95</td>\n",
       "      <td>NaN</td>\n",
       "      <td>NaN</td>\n",
       "      <td>0.999394</td>\n",
       "      <td>16485.54</td>\n",
       "      <td>1.000016</td>\n",
       "      <td>434.10</td>\n",
       "      <td>1.0</td>\n",
       "      <td>-7.349849</td>\n",
       "      <td>0</td>\n",
       "      <td>0_0_4</td>\n",
       "      <td>0_60_4</td>\n",
       "      <td>1.000086</td>\n",
       "      <td>1.000821</td>\n",
       "    </tr>\n",
       "  </tbody>\n",
       "</table>\n",
       "</div>"
      ],
      "text/plain": [
       "   stock_id  date_id  seconds_in_bucket  imbalance_size  \\\n",
       "0         0        0                  0      3180602.69   \n",
       "1         1        0                  0       166603.91   \n",
       "2         2        0                  0       302879.87   \n",
       "3         3        0                  0     11917682.27   \n",
       "4         4        0                  0       447549.96   \n",
       "\n",
       "   imbalance_buy_sell_flag  reference_price  matched_size  far_price  \\\n",
       "0                        1         0.999812   13380276.64        NaN   \n",
       "1                       -1         0.999896    1642214.25        NaN   \n",
       "2                       -1         0.999561    1819368.03        NaN   \n",
       "3                       -1         1.000171   18389745.62        NaN   \n",
       "4                       -1         0.999532   17860614.95        NaN   \n",
       "\n",
       "   near_price  bid_price  bid_size  ask_price   ask_size  wap    target  \\\n",
       "0         NaN   0.999812  60651.50   1.000026    8493.03  1.0 -3.029704   \n",
       "1         NaN   0.999896   3233.04   1.000660   20605.09  1.0 -5.519986   \n",
       "2         NaN   0.999403  37956.00   1.000298   18995.00  1.0 -8.389950   \n",
       "3         NaN   0.999999   2324.90   1.000214  479032.40  1.0 -4.010200   \n",
       "4         NaN   0.999394  16485.54   1.000016     434.10  1.0 -7.349849   \n",
       "\n",
       "   time_id row_id row_id_60_secs_to_future  wap_60_secs_to_future  index_diff  \n",
       "0        0  0_0_0                   0_60_0               1.000517    1.000820  \n",
       "1        0  0_0_1                   0_60_1               1.000268    1.000820  \n",
       "2        0  0_0_2                   0_60_2               0.999981    1.000820  \n",
       "3        0  0_0_3                   0_60_3               1.000419    1.000820  \n",
       "4        0  0_0_4                   0_60_4               1.000086    1.000821  "
      ]
     },
     "execution_count": 31,
     "metadata": {},
     "output_type": "execute_result"
    }
   ],
   "source": [
    "train_df_2.head()"
   ]
  },
  {
   "cell_type": "code",
   "execution_count": 32,
   "metadata": {},
   "outputs": [
    {
     "data": {
      "text/plain": [
       "count    4.666368e+06\n",
       "mean     1.000007e+00\n",
       "std      6.493229e-04\n",
       "min      9.948220e-01\n",
       "25%      9.996830e-01\n",
       "50%      1.000000e+00\n",
       "75%      1.000324e+00\n",
       "max      1.006878e+00\n",
       "Name: index_diff, dtype: float64"
      ]
     },
     "execution_count": 32,
     "metadata": {},
     "output_type": "execute_result"
    }
   ],
   "source": [
    "train_df_2[\"index_diff\"].describe()"
   ]
  },
  {
   "cell_type": "code",
   "execution_count": 33,
   "metadata": {},
   "outputs": [
    {
     "data": {
      "text/html": [
       "<div>\n",
       "<style scoped>\n",
       "    .dataframe tbody tr th:only-of-type {\n",
       "        vertical-align: middle;\n",
       "    }\n",
       "\n",
       "    .dataframe tbody tr th {\n",
       "        vertical-align: top;\n",
       "    }\n",
       "\n",
       "    .dataframe thead th {\n",
       "        text-align: right;\n",
       "    }\n",
       "</style>\n",
       "<table border=\"1\" class=\"dataframe\">\n",
       "  <thead>\n",
       "    <tr style=\"text-align: right;\">\n",
       "      <th></th>\n",
       "      <th>stock_id</th>\n",
       "      <th>date_id</th>\n",
       "      <th>seconds_in_bucket</th>\n",
       "      <th>imbalance_size</th>\n",
       "      <th>imbalance_buy_sell_flag</th>\n",
       "      <th>reference_price</th>\n",
       "      <th>matched_size</th>\n",
       "      <th>far_price</th>\n",
       "      <th>near_price</th>\n",
       "      <th>bid_price</th>\n",
       "      <th>...</th>\n",
       "      <th>ask_price</th>\n",
       "      <th>ask_size</th>\n",
       "      <th>wap</th>\n",
       "      <th>target</th>\n",
       "      <th>time_id</th>\n",
       "      <th>row_id</th>\n",
       "      <th>row_id_60_secs_to_future</th>\n",
       "      <th>wap_60_secs_to_future</th>\n",
       "      <th>index_diff</th>\n",
       "      <th>wap_diff</th>\n",
       "    </tr>\n",
       "  </thead>\n",
       "  <tbody>\n",
       "    <tr>\n",
       "      <th>0</th>\n",
       "      <td>0</td>\n",
       "      <td>0</td>\n",
       "      <td>0</td>\n",
       "      <td>3180602.69</td>\n",
       "      <td>1</td>\n",
       "      <td>0.999812</td>\n",
       "      <td>13380276.64</td>\n",
       "      <td>NaN</td>\n",
       "      <td>NaN</td>\n",
       "      <td>0.999812</td>\n",
       "      <td>...</td>\n",
       "      <td>1.000026</td>\n",
       "      <td>8493.03</td>\n",
       "      <td>1.0</td>\n",
       "      <td>-3.029704</td>\n",
       "      <td>0</td>\n",
       "      <td>0_0_0</td>\n",
       "      <td>0_60_0</td>\n",
       "      <td>1.000517</td>\n",
       "      <td>1.000820</td>\n",
       "      <td>1.000517</td>\n",
       "    </tr>\n",
       "    <tr>\n",
       "      <th>1</th>\n",
       "      <td>1</td>\n",
       "      <td>0</td>\n",
       "      <td>0</td>\n",
       "      <td>166603.91</td>\n",
       "      <td>-1</td>\n",
       "      <td>0.999896</td>\n",
       "      <td>1642214.25</td>\n",
       "      <td>NaN</td>\n",
       "      <td>NaN</td>\n",
       "      <td>0.999896</td>\n",
       "      <td>...</td>\n",
       "      <td>1.000660</td>\n",
       "      <td>20605.09</td>\n",
       "      <td>1.0</td>\n",
       "      <td>-5.519986</td>\n",
       "      <td>0</td>\n",
       "      <td>0_0_1</td>\n",
       "      <td>0_60_1</td>\n",
       "      <td>1.000268</td>\n",
       "      <td>1.000820</td>\n",
       "      <td>1.000268</td>\n",
       "    </tr>\n",
       "    <tr>\n",
       "      <th>2</th>\n",
       "      <td>2</td>\n",
       "      <td>0</td>\n",
       "      <td>0</td>\n",
       "      <td>302879.87</td>\n",
       "      <td>-1</td>\n",
       "      <td>0.999561</td>\n",
       "      <td>1819368.03</td>\n",
       "      <td>NaN</td>\n",
       "      <td>NaN</td>\n",
       "      <td>0.999403</td>\n",
       "      <td>...</td>\n",
       "      <td>1.000298</td>\n",
       "      <td>18995.00</td>\n",
       "      <td>1.0</td>\n",
       "      <td>-8.389950</td>\n",
       "      <td>0</td>\n",
       "      <td>0_0_2</td>\n",
       "      <td>0_60_2</td>\n",
       "      <td>0.999981</td>\n",
       "      <td>1.000820</td>\n",
       "      <td>0.999981</td>\n",
       "    </tr>\n",
       "    <tr>\n",
       "      <th>3</th>\n",
       "      <td>3</td>\n",
       "      <td>0</td>\n",
       "      <td>0</td>\n",
       "      <td>11917682.27</td>\n",
       "      <td>-1</td>\n",
       "      <td>1.000171</td>\n",
       "      <td>18389745.62</td>\n",
       "      <td>NaN</td>\n",
       "      <td>NaN</td>\n",
       "      <td>0.999999</td>\n",
       "      <td>...</td>\n",
       "      <td>1.000214</td>\n",
       "      <td>479032.40</td>\n",
       "      <td>1.0</td>\n",
       "      <td>-4.010200</td>\n",
       "      <td>0</td>\n",
       "      <td>0_0_3</td>\n",
       "      <td>0_60_3</td>\n",
       "      <td>1.000419</td>\n",
       "      <td>1.000820</td>\n",
       "      <td>1.000419</td>\n",
       "    </tr>\n",
       "    <tr>\n",
       "      <th>4</th>\n",
       "      <td>4</td>\n",
       "      <td>0</td>\n",
       "      <td>0</td>\n",
       "      <td>447549.96</td>\n",
       "      <td>-1</td>\n",
       "      <td>0.999532</td>\n",
       "      <td>17860614.95</td>\n",
       "      <td>NaN</td>\n",
       "      <td>NaN</td>\n",
       "      <td>0.999394</td>\n",
       "      <td>...</td>\n",
       "      <td>1.000016</td>\n",
       "      <td>434.10</td>\n",
       "      <td>1.0</td>\n",
       "      <td>-7.349849</td>\n",
       "      <td>0</td>\n",
       "      <td>0_0_4</td>\n",
       "      <td>0_60_4</td>\n",
       "      <td>1.000086</td>\n",
       "      <td>1.000821</td>\n",
       "      <td>1.000086</td>\n",
       "    </tr>\n",
       "  </tbody>\n",
       "</table>\n",
       "<p>5 rows × 21 columns</p>\n",
       "</div>"
      ],
      "text/plain": [
       "   stock_id  date_id  seconds_in_bucket  imbalance_size  \\\n",
       "0         0        0                  0      3180602.69   \n",
       "1         1        0                  0       166603.91   \n",
       "2         2        0                  0       302879.87   \n",
       "3         3        0                  0     11917682.27   \n",
       "4         4        0                  0       447549.96   \n",
       "\n",
       "   imbalance_buy_sell_flag  reference_price  matched_size  far_price  \\\n",
       "0                        1         0.999812   13380276.64        NaN   \n",
       "1                       -1         0.999896    1642214.25        NaN   \n",
       "2                       -1         0.999561    1819368.03        NaN   \n",
       "3                       -1         1.000171   18389745.62        NaN   \n",
       "4                       -1         0.999532   17860614.95        NaN   \n",
       "\n",
       "   near_price  bid_price  ...  ask_price   ask_size  wap    target  time_id  \\\n",
       "0         NaN   0.999812  ...   1.000026    8493.03  1.0 -3.029704        0   \n",
       "1         NaN   0.999896  ...   1.000660   20605.09  1.0 -5.519986        0   \n",
       "2         NaN   0.999403  ...   1.000298   18995.00  1.0 -8.389950        0   \n",
       "3         NaN   0.999999  ...   1.000214  479032.40  1.0 -4.010200        0   \n",
       "4         NaN   0.999394  ...   1.000016     434.10  1.0 -7.349849        0   \n",
       "\n",
       "   row_id row_id_60_secs_to_future wap_60_secs_to_future  index_diff  wap_diff  \n",
       "0   0_0_0                   0_60_0              1.000517    1.000820  1.000517  \n",
       "1   0_0_1                   0_60_1              1.000268    1.000820  1.000268  \n",
       "2   0_0_2                   0_60_2              0.999981    1.000820  0.999981  \n",
       "3   0_0_3                   0_60_3              1.000419    1.000820  1.000419  \n",
       "4   0_0_4                   0_60_4              1.000086    1.000821  1.000086  \n",
       "\n",
       "[5 rows x 21 columns]"
      ]
     },
     "execution_count": 33,
     "metadata": {},
     "output_type": "execute_result"
    }
   ],
   "source": [
    "train_df_2[\"wap_diff\"] = train_df_2[\"wap_60_secs_to_future\"]/train_df_2[\"wap\"]\n",
    "train_df_2.head()"
   ]
  },
  {
   "cell_type": "code",
   "execution_count": 34,
   "metadata": {},
   "outputs": [
    {
     "data": {
      "text/plain": [
       "count    4.666368e+06\n",
       "mean     1.000002e+00\n",
       "std      1.113927e-03\n",
       "min      9.607158e-01\n",
       "25%      9.994557e-01\n",
       "50%      9.999990e-01\n",
       "75%      1.000538e+00\n",
       "max      1.037969e+00\n",
       "Name: wap_diff, dtype: float64"
      ]
     },
     "execution_count": 34,
     "metadata": {},
     "output_type": "execute_result"
    }
   ],
   "source": [
    "train_df_2[\"wap_diff\"].describe()"
   ]
  },
  {
   "cell_type": "code",
   "execution_count": 35,
   "metadata": {},
   "outputs": [
    {
     "data": {
      "text/plain": [
       "<Axes: ylabel='Frequency'>"
      ]
     },
     "execution_count": 35,
     "metadata": {},
     "output_type": "execute_result"
    },
    {
     "data": {
      "image/png": "[encoded data removed]",
      "text/plain": [
       "<Figure size 640x480 with 1 Axes>"
      ]
     },
     "metadata": {},
     "output_type": "display_data"
    }
   ],
   "source": [
    "train_df_2[\"wap_diff\"].plot.hist(bins=1000)"
   ]
  },
  {
   "cell_type": "code",
   "execution_count": 36,
   "metadata": {},
   "outputs": [
    {
     "data": {
      "text/plain": [
       "<Axes: ylabel='Frequency'>"
      ]
     },
     "execution_count": 36,
     "metadata": {},
     "output_type": "execute_result"
    },
    {
     "data": {
      "image/png": "[encoded data removed]",
      "text/plain": [
       "<Figure size 640x480 with 1 Axes>"
      ]
     },
     "metadata": {},
     "output_type": "display_data"
    }
   ],
   "source": [
    "train_df_2[\"index_diff\"].plot.hist(bins=1000)"
   ]
  },
  {
   "cell_type": "code",
   "execution_count": 37,
   "metadata": {},
   "outputs": [
    {
     "data": {
      "text/html": [
       "<div>\n",
       "<style scoped>\n",
       "    .dataframe tbody tr th:only-of-type {\n",
       "        vertical-align: middle;\n",
       "    }\n",
       "\n",
       "    .dataframe tbody tr th {\n",
       "        vertical-align: top;\n",
       "    }\n",
       "\n",
       "    .dataframe thead tr th {\n",
       "        text-align: left;\n",
       "    }\n",
       "\n",
       "    .dataframe thead tr:last-of-type th {\n",
       "        text-align: right;\n",
       "    }\n",
       "</style>\n",
       "<table border=\"1\" class=\"dataframe\">\n",
       "  <thead>\n",
       "    <tr>\n",
       "      <th></th>\n",
       "      <th colspan=\"2\" halign=\"left\">index_diff</th>\n",
       "    </tr>\n",
       "    <tr>\n",
       "      <th></th>\n",
       "      <th>min</th>\n",
       "      <th>max</th>\n",
       "    </tr>\n",
       "    <tr>\n",
       "      <th>date_id</th>\n",
       "      <th></th>\n",
       "      <th></th>\n",
       "    </tr>\n",
       "  </thead>\n",
       "  <tbody>\n",
       "    <tr>\n",
       "      <th>0</th>\n",
       "      <td>0.999299</td>\n",
       "      <td>1.000821</td>\n",
       "    </tr>\n",
       "    <tr>\n",
       "      <th>1</th>\n",
       "      <td>0.999653</td>\n",
       "      <td>1.000684</td>\n",
       "    </tr>\n",
       "    <tr>\n",
       "      <th>2</th>\n",
       "      <td>0.999454</td>\n",
       "      <td>1.000273</td>\n",
       "    </tr>\n",
       "    <tr>\n",
       "      <th>3</th>\n",
       "      <td>0.999772</td>\n",
       "      <td>1.000399</td>\n",
       "    </tr>\n",
       "    <tr>\n",
       "      <th>4</th>\n",
       "      <td>0.999782</td>\n",
       "      <td>1.000516</td>\n",
       "    </tr>\n",
       "    <tr>\n",
       "      <th>...</th>\n",
       "      <td>...</td>\n",
       "      <td>...</td>\n",
       "    </tr>\n",
       "    <tr>\n",
       "      <th>476</th>\n",
       "      <td>0.999341</td>\n",
       "      <td>1.000440</td>\n",
       "    </tr>\n",
       "    <tr>\n",
       "      <th>477</th>\n",
       "      <td>0.998811</td>\n",
       "      <td>1.000902</td>\n",
       "    </tr>\n",
       "    <tr>\n",
       "      <th>478</th>\n",
       "      <td>0.999167</td>\n",
       "      <td>1.001326</td>\n",
       "    </tr>\n",
       "    <tr>\n",
       "      <th>479</th>\n",
       "      <td>0.998932</td>\n",
       "      <td>1.000805</td>\n",
       "    </tr>\n",
       "    <tr>\n",
       "      <th>480</th>\n",
       "      <td>0.999359</td>\n",
       "      <td>1.000142</td>\n",
       "    </tr>\n",
       "  </tbody>\n",
       "</table>\n",
       "<p>481 rows × 2 columns</p>\n",
       "</div>"
      ],
      "text/plain": [
       "        index_diff          \n",
       "               min       max\n",
       "date_id                     \n",
       "0         0.999299  1.000821\n",
       "1         0.999653  1.000684\n",
       "2         0.999454  1.000273\n",
       "3         0.999772  1.000399\n",
       "4         0.999782  1.000516\n",
       "...            ...       ...\n",
       "476       0.999341  1.000440\n",
       "477       0.998811  1.000902\n",
       "478       0.999167  1.001326\n",
       "479       0.998932  1.000805\n",
       "480       0.999359  1.000142\n",
       "\n",
       "[481 rows x 2 columns]"
      ]
     },
     "execution_count": 37,
     "metadata": {},
     "output_type": "execute_result"
    }
   ],
   "source": [
    "train_df_2[[\"index_diff\", \"date_id\"]].groupby('date_id').agg(['min', 'max'])"
   ]
  },
  {
   "cell_type": "code",
   "execution_count": 38,
   "metadata": {},
   "outputs": [],
   "source": [
    "y = train_df_2.dropna()['index_diff']\n",
    "X = train_df_2.dropna().drop(['index_diff','target', 'row_id','far_price', 'near_price','row_id_60_secs_to_future', 'wap_60_secs_to_future','wap_diff','time_id'], axis = 1)\n",
    "X_train, X_test, y_train, y_test = train_test_split(X, y, test_size = 0.8, random_state = 42)"
   ]
  },
  {
   "cell_type": "code",
   "execution_count": 39,
   "metadata": {},
   "outputs": [
    {
     "name": "stdout",
     "output_type": "stream",
     "text": [
      "train error: 0.0003744227625033454\n",
      "test error: 0.0003743693853894618\n"
     ]
    }
   ],
   "source": [
    "from sklearn.neural_network import MLPRegressor\n",
    "from sklearn.linear_model import LinearRegression\n",
    "from sklearn.metrics import mean_absolute_error\n",
    "model1 = LinearRegression()\n",
    "model1.fit(X_train,y_train)\n",
    "train_pred = model1.predict(X_train)\n",
    "print(\"train error:\",mean_absolute_error(train_pred, y_train))\n",
    "print(\"test error:\",mean_absolute_error(model1.predict(X_test), y_test))"
   ]
  },
  {
   "cell_type": "code",
   "execution_count": 40,
   "metadata": {},
   "outputs": [
    {
     "data": {
      "text/html": [
       "<div>\n",
       "<style scoped>\n",
       "    .dataframe tbody tr th:only-of-type {\n",
       "        vertical-align: middle;\n",
       "    }\n",
       "\n",
       "    .dataframe tbody tr th {\n",
       "        vertical-align: top;\n",
       "    }\n",
       "\n",
       "    .dataframe thead th {\n",
       "        text-align: right;\n",
       "    }\n",
       "</style>\n",
       "<table border=\"1\" class=\"dataframe\">\n",
       "  <thead>\n",
       "    <tr style=\"text-align: right;\">\n",
       "      <th></th>\n",
       "      <th>stock_id</th>\n",
       "      <th>date_id</th>\n",
       "      <th>seconds_in_bucket</th>\n",
       "      <th>imbalance_size</th>\n",
       "      <th>imbalance_buy_sell_flag</th>\n",
       "      <th>reference_price</th>\n",
       "      <th>matched_size</th>\n",
       "      <th>bid_price</th>\n",
       "      <th>bid_size</th>\n",
       "      <th>ask_price</th>\n",
       "      <th>ask_size</th>\n",
       "      <th>wap</th>\n",
       "    </tr>\n",
       "  </thead>\n",
       "  <tbody>\n",
       "    <tr>\n",
       "      <th>5730</th>\n",
       "      <td>0</td>\n",
       "      <td>0</td>\n",
       "      <td>300</td>\n",
       "      <td>0.00</td>\n",
       "      <td>0</td>\n",
       "      <td>1.000241</td>\n",
       "      <td>26670118.88</td>\n",
       "      <td>1.000026</td>\n",
       "      <td>19319.31</td>\n",
       "      <td>1.000241</td>\n",
       "      <td>16149.55</td>\n",
       "      <td>1.000143</td>\n",
       "    </tr>\n",
       "    <tr>\n",
       "      <th>5731</th>\n",
       "      <td>1</td>\n",
       "      <td>0</td>\n",
       "      <td>300</td>\n",
       "      <td>242332.96</td>\n",
       "      <td>-1</td>\n",
       "      <td>1.000073</td>\n",
       "      <td>3242054.27</td>\n",
       "      <td>0.999544</td>\n",
       "      <td>43205.40</td>\n",
       "      <td>1.000308</td>\n",
       "      <td>2042.76</td>\n",
       "      <td>1.000273</td>\n",
       "    </tr>\n",
       "    <tr>\n",
       "      <th>5732</th>\n",
       "      <td>2</td>\n",
       "      <td>0</td>\n",
       "      <td>300</td>\n",
       "      <td>0.00</td>\n",
       "      <td>0</td>\n",
       "      <td>1.000193</td>\n",
       "      <td>4671376.00</td>\n",
       "      <td>0.999035</td>\n",
       "      <td>18971.00</td>\n",
       "      <td>1.001036</td>\n",
       "      <td>59688.26</td>\n",
       "      <td>0.999518</td>\n",
       "    </tr>\n",
       "    <tr>\n",
       "      <th>5733</th>\n",
       "      <td>3</td>\n",
       "      <td>0</td>\n",
       "      <td>300</td>\n",
       "      <td>2914730.16</td>\n",
       "      <td>1</td>\n",
       "      <td>0.999870</td>\n",
       "      <td>41057776.66</td>\n",
       "      <td>0.999827</td>\n",
       "      <td>25569.50</td>\n",
       "      <td>1.000042</td>\n",
       "      <td>37897.50</td>\n",
       "      <td>0.999914</td>\n",
       "    </tr>\n",
       "    <tr>\n",
       "      <th>5734</th>\n",
       "      <td>4</td>\n",
       "      <td>0</td>\n",
       "      <td>300</td>\n",
       "      <td>3396923.02</td>\n",
       "      <td>1</td>\n",
       "      <td>0.998496</td>\n",
       "      <td>38356174.88</td>\n",
       "      <td>0.998357</td>\n",
       "      <td>14446.00</td>\n",
       "      <td>0.998703</td>\n",
       "      <td>2601.18</td>\n",
       "      <td>0.998650</td>\n",
       "    </tr>\n",
       "  </tbody>\n",
       "</table>\n",
       "</div>"
      ],
      "text/plain": [
       "      stock_id  date_id  seconds_in_bucket  imbalance_size  \\\n",
       "5730         0        0                300            0.00   \n",
       "5731         1        0                300       242332.96   \n",
       "5732         2        0                300            0.00   \n",
       "5733         3        0                300      2914730.16   \n",
       "5734         4        0                300      3396923.02   \n",
       "\n",
       "      imbalance_buy_sell_flag  reference_price  matched_size  bid_price  \\\n",
       "5730                        0         1.000241   26670118.88   1.000026   \n",
       "5731                       -1         1.000073    3242054.27   0.999544   \n",
       "5732                        0         1.000193    4671376.00   0.999035   \n",
       "5733                        1         0.999870   41057776.66   0.999827   \n",
       "5734                        1         0.998496   38356174.88   0.998357   \n",
       "\n",
       "      bid_size  ask_price  ask_size       wap  \n",
       "5730  19319.31   1.000241  16149.55  1.000143  \n",
       "5731  43205.40   1.000308   2042.76  1.000273  \n",
       "5732  18971.00   1.001036  59688.26  0.999518  \n",
       "5733  25569.50   1.000042  37897.50  0.999914  \n",
       "5734  14446.00   0.998703   2601.18  0.998650  "
      ]
     },
     "execution_count": 40,
     "metadata": {},
     "output_type": "execute_result"
    }
   ],
   "source": [
    "X.head()"
   ]
  },
  {
   "cell_type": "code",
   "execution_count": 41,
   "metadata": {},
   "outputs": [],
   "source": [
    "y = train_df_2.dropna()['wap_60_secs_to_future']\n",
    "X = train_df_2.dropna().drop(['target', 'row_id','far_price', 'near_price','row_id_60_secs_to_future', 'wap_60_secs_to_future','wap_diff','time_id','index_diff'], axis = 1)\n",
    "X_train, X_test, y_train, y_test = train_test_split(X, y, test_size = 0.8)"
   ]
  },
  {
   "cell_type": "code",
   "execution_count": 42,
   "metadata": {},
   "outputs": [
    {
     "name": "stdout",
     "output_type": "stream",
     "text": [
      "train error: 0.0006498185774148982\n",
      "test error: 0.0006495105735453557\n"
     ]
    }
   ],
   "source": [
    "model2 = LinearRegression()\n",
    "model2.fit(X_train,y_train)\n",
    "train_pred = model2.predict(X_train)\n",
    "print(\"train error:\",mean_absolute_error(train_pred, y_train))\n",
    "print(\"test error:\",mean_absolute_error(model2.predict(X_test), y_test))"
   ]
  },
  {
   "cell_type": "code",
   "execution_count": 43,
   "metadata": {},
   "outputs": [],
   "source": [
    "y = df_processed['target']\n",
    "X = df_processed.drop(['target'], axis = 1)\n",
    "X = X.drop(['time_id'], axis = 1)\n",
    "X_train, X_test, y_train, y_test = train_test_split(X, y, test_size = 0.8, random_state = 42)\n",
    "X_test[\"index_diff\"] = model1.predict(X_test)\n",
    "X_test[\"wap_60_secs_to_future\"] = model2.predict(X_test.drop(['index_diff'],axis=1))\n",
    "X_test[\"target_pred\"] = 10000*(X_test[\"wap_60_secs_to_future\"]/X_test[\"wap\"]-X_test[\"index_diff\"])"
   ]
  },
  {
   "cell_type": "code",
   "execution_count": 44,
   "metadata": {},
   "outputs": [
    {
     "name": "stdout",
     "output_type": "stream",
     "text": [
      "6.322815095736363\n"
     ]
    }
   ],
   "source": [
    "print(mean_absolute_error(X_test[\"target_pred\"],y_test))"
   ]
  },
  {
   "cell_type": "code",
   "execution_count": null,
   "metadata": {},
   "outputs": [],
   "source": []
  },
  {
   "cell_type": "code",
   "execution_count": 46,
   "metadata": {},
   "outputs": [],
   "source": [
    "from sklearn.metrics import mean_absolute_error\n",
    "\n",
    "def conj_model_eval(model1, model2, X_test, y_test):\n",
    "    X_test[\"index_diff\"] = model1.predict(X_test)\n",
    "    X_test[\"wap_60_secs_to_future\"] = model2.predict(X_test.drop(['index_diff'],axis=1))\n",
    "    X_test[\"target_pred\"] = 10000*(X_test[\"wap_60_secs_to_future\"]/X_test[\"wap\"]-X_test[\"index_diff\"])\n",
    "    mae = mean_absolute_error(X_test[\"target_pred\"],y_test)\n",
    "    print(\"model1:\",type(model1).__name__,\"; model2:\",type(model2).__name__,\"; MAE:\",mae)\n",
    "    return mae\n",
    "\n",
    "def train_and_eval_model(model, X_train, y_train, X_val, y_val):\n",
    "    model.fit(X_train, y_train)\n",
    "    train_mae = mean_absolute_error(model.predict(X_train), y_train)\n",
    "    val_mae = mean_absolute_error(model.predict(X_val), y_val)\n",
    "    print(\"model:\", type(model).__name__,\"; train MAE:\",train_mae,\"; val MAE:\", val_mae)\n",
    "    return train_mae, val_mae\n",
    "\n",
    "def train_and_eval_model1(model, train_df_2):\n",
    "    y = train_df_2.dropna()['index_diff']\n",
    "    X = train_df_2.dropna().drop(['index_diff','target', 'row_id','far_price', 'near_price','row_id_60_secs_to_future', 'wap_60_secs_to_future','wap_diff','time_id'], axis = 1)\n",
    "    X_train, X_val, y_train, y_val = train_test_split(X, y, test_size = 0.8)\n",
    "    return train_and_eval_model(model, X_train, y_train, X_val, y_val)\n",
    "\n",
    "def train_and_eval_model2(model, train_df_2):\n",
    "    y = train_df_2.dropna()['wap_60_secs_to_future']\n",
    "    X = train_df_2.dropna().drop(['index_diff','target', 'row_id','far_price', 'near_price','row_id_60_secs_to_future', 'wap_60_secs_to_future','wap_diff','time_id'], axis = 1)\n",
    "    X_train, X_val, y_train, y_val = train_test_split(X, y, test_size = 0.8)\n",
    "    return train_and_eval_model(model, X_train, y_train, X_val, y_val)"
   ]
  },
  {
   "cell_type": "code",
   "execution_count": 53,
   "metadata": {},
   "outputs": [
    {
     "name": "stdout",
     "output_type": "stream",
     "text": [
      "model: LinearRegression ; train MAE: 0.0003747617402781441 ; val MAE: 0.0003743325735416463\n",
      "model: Lasso ; train MAE: 0.00037451097521314086 ; val MAE: 0.0003750867715618286\n"
     ]
    },
    {
     "name": "stderr",
     "output_type": "stream",
     "text": [
      "C:\\Users\\Erki\\AppData\\Local\\Packages\\PythonSoftwareFoundation.Python.3.10_qbz5n2kfra8p0\\LocalCache\\local-packages\\Python310\\site-packages\\sklearn\\linear_model\\_ridge.py:200: LinAlgWarning: Ill-conditioned matrix (rcond=7.46968e-23): result may not be accurate.\n",
      "  return linalg.solve(A, Xy, assume_a=\"pos\", overwrite_a=True).T\n"
     ]
    },
    {
     "name": "stdout",
     "output_type": "stream",
     "text": [
      "model: Ridge ; train MAE: 0.0003747863204072778 ; val MAE: 0.00037431138538955485\n",
      "model: ElasticNet ; train MAE: 0.0003755728208052166 ; val MAE: 0.0003748121913239221\n",
      "model: SGDRegressor ; train MAE: 6.142462734853487e+24 ; val MAE: 6.148173385371777e+24\n",
      "model: SVR ; train MAE: 0.00038914417122272877 ; val MAE: 0.0003894121050615097\n"
     ]
    }
   ],
   "source": [
    "from sklearn.neural_network import MLPRegressor\n",
    "from sklearn.linear_model import LinearRegression, Lasso, Ridge, ElasticNet, SGDRegressor\n",
    "from sklearn.svm import SVR\n",
    "from sklearn.neighbors import KNeighborsRegressor\n",
    "from sklearn.gaussian_process import GaussianProcessRegressor\n",
    "from sklearn.tree import DecisionTreeRegressor\n",
    "from sklearn.ensemble import RandomForestRegressor\n",
    "models_1_1 = [LinearRegression(), Lasso(), Ridge(), ElasticNet(), SGDRegressor(), SVR()]\n",
    "for model in models_1_1:\n",
    "    train_and_eval_model1(model, train_df_2)"
   ]
  },
  {
   "cell_type": "code",
   "execution_count": 55,
   "metadata": {},
   "outputs": [
    {
     "name": "stdout",
     "output_type": "stream",
     "text": [
      "model: KNeighborsRegressor ; train MAE: 0.00034802644047627734 ; val MAE: 0.0004010669126595859\n",
      "model: DecisionTreeRegressor ; train MAE: 2.3618247563774143e-09 ; val MAE: 3.1758868061460024e-06\n",
      "model: RandomForestRegressor ; train MAE: 2.075200916128269e-06 ; val MAE: 5.366105651090457e-06\n",
      "model: MLPRegressor ; train MAE: 0.00037507876586931533 ; val MAE: 0.0003749665917416765\n"
     ]
    }
   ],
   "source": [
    "models_1_2 = [KNeighborsRegressor(n_neighbors=7),\n",
    "          DecisionTreeRegressor(), RandomForestRegressor(n_estimators=33), MLPRegressor((32,32,32))]\n",
    "for model in models_1_2:\n",
    "    train_and_eval_model1(model, train_df_2)"
   ]
  },
  {
   "cell_type": "code",
   "execution_count": 56,
   "metadata": {},
   "outputs": [
    {
     "name": "stdout",
     "output_type": "stream",
     "text": [
      "model: LinearRegression ; train MAE: 0.0006501879199477049 ; val MAE: 0.0006493336848575476\n",
      "model: Lasso ; train MAE: 0.002250211039692498 ; val MAE: 0.002247146618374388\n"
     ]
    },
    {
     "name": "stderr",
     "output_type": "stream",
     "text": [
      "C:\\Users\\Erki\\AppData\\Local\\Packages\\PythonSoftwareFoundation.Python.3.10_qbz5n2kfra8p0\\LocalCache\\local-packages\\Python310\\site-packages\\sklearn\\linear_model\\_ridge.py:200: LinAlgWarning: Ill-conditioned matrix (rcond=7.82266e-23): result may not be accurate.\n",
      "  return linalg.solve(A, Xy, assume_a=\"pos\", overwrite_a=True).T\n"
     ]
    },
    {
     "name": "stdout",
     "output_type": "stream",
     "text": [
      "model: Ridge ; train MAE: 0.0006779486658779691 ; val MAE: 0.0006771933397436454\n",
      "model: ElasticNet ; train MAE: 0.002248276227876671 ; val MAE: 0.002247917637332683\n",
      "model: SGDRegressor ; train MAE: 2.4085236365010772e+23 ; val MAE: 2.4050108257496663e+23\n",
      "model: SVR ; train MAE: 0.009395619035192962 ; val MAE: 0.009399958425576432\n"
     ]
    }
   ],
   "source": [
    "models_2_1 = [LinearRegression(), Lasso(), Ridge(), ElasticNet(), SGDRegressor(), SVR()]\n",
    "for model in models_2_1:\n",
    "    train_and_eval_model2(model, train_df_2)"
   ]
  },
  {
   "cell_type": "code",
   "execution_count": 57,
   "metadata": {},
   "outputs": [
    {
     "name": "stdout",
     "output_type": "stream",
     "text": [
      "model: KNeighborsRegressor ; train MAE: 0.0019625928147260032 ; val MAE: 0.0022772426453512187\n",
      "model: DecisionTreeRegressor ; train MAE: 9.396061989915988e-22 ; val MAE: 0.0009274522897546591\n",
      "model: RandomForestRegressor ; train MAE: 0.0002454005601967905 ; val MAE: 0.0006430664396861445\n",
      "model: MLPRegressor ; train MAE: 0.0060005301827127785 ; val MAE: 0.0037905325971501922\n"
     ]
    }
   ],
   "source": [
    "models_2_2 = [KNeighborsRegressor(n_neighbors=7),\n",
    "          DecisionTreeRegressor(), RandomForestRegressor(n_estimators=33), MLPRegressor((32,32,32))]\n",
    "for model in models_2_2:\n",
    "    train_and_eval_model2(model, train_df_2)"
   ]
  },
  {
   "cell_type": "code",
   "execution_count": 59,
   "metadata": {},
   "outputs": [
    {
     "name": "stdout",
     "output_type": "stream",
     "text": [
      "model1: LinearRegression ; model2: LinearRegression ; MAE: 6.3227736694546195\n",
      "model1: LinearRegression ; model2: Lasso ; MAE: 18.495766800819663\n",
      "model1: LinearRegression ; model2: Ridge ; MAE: 6.535493107539132\n",
      "model1: LinearRegression ; model2: ElasticNet ; MAE: 18.494685350254738\n",
      "model1: LinearRegression ; model2: SGDRegressor ; MAE: 2.5327923580420775e+27\n",
      "model1: LinearRegression ; model2: SVR ; MAE: 94.39222434108952\n",
      "model1: Lasso ; model2: LinearRegression ; MAE: 6.4026852125822735\n",
      "model1: Lasso ; model2: Lasso ; MAE: 18.431322682593194\n",
      "model1: Lasso ; model2: Ridge ; MAE: 6.601321636673705\n",
      "model1: Lasso ; model2: ElasticNet ; MAE: 18.429999800167895\n",
      "model1: Lasso ; model2: SGDRegressor ; MAE: 2.5327923580420775e+27\n",
      "model1: Lasso ; model2: SVR ; MAE: 93.70445897266121\n",
      "model1: Ridge ; model2: LinearRegression ; MAE: 6.323054897318607\n",
      "model1: Ridge ; model2: Lasso ; MAE: 18.495127791952815\n",
      "model1: Ridge ; model2: Ridge ; MAE: 6.537179880363697\n",
      "model1: Ridge ; model2: ElasticNet ; MAE: 18.494155717599746\n",
      "model1: Ridge ; model2: SGDRegressor ; MAE: 2.5327923580420775e+27\n",
      "model1: Ridge ; model2: SVR ; MAE: 94.36801241251085\n",
      "model1: ElasticNet ; model2: LinearRegression ; MAE: 6.40106697338172\n",
      "model1: ElasticNet ; model2: Lasso ; MAE: 18.431165672405456\n",
      "model1: ElasticNet ; model2: Ridge ; MAE: 6.599767090021612\n",
      "model1: ElasticNet ; model2: ElasticNet ; MAE: 18.429834580636715\n",
      "model1: ElasticNet ; model2: SGDRegressor ; MAE: 2.5327923580420775e+27\n",
      "model1: ElasticNet ; model2: SVR ; MAE: 93.72457524603858\n",
      "model1: SGDRegressor ; model2: LinearRegression ; MAE: 4.9485713936452895e+28\n",
      "model1: SGDRegressor ; model2: Lasso ; MAE: 4.9485713936452895e+28\n",
      "model1: SGDRegressor ; model2: Ridge ; MAE: 4.9485713936452895e+28\n",
      "model1: SGDRegressor ; model2: ElasticNet ; MAE: 4.9485713936452895e+28\n",
      "model1: SGDRegressor ; model2: SGDRegressor ; MAE: 4.695434160725257e+28\n",
      "model1: SGDRegressor ; model2: SVR ; MAE: 4.9485713936452895e+28\n",
      "model1: SVR ; model2: LinearRegression ; MAE: 6.568901590271915\n",
      "model1: SVR ; model2: Lasso ; MAE: 18.466405489904297\n",
      "model1: SVR ; model2: Ridge ; MAE: 6.760126096117447\n",
      "model1: SVR ; model2: ElasticNet ; MAE: 18.46557774084484\n",
      "model1: SVR ; model2: SGDRegressor ; MAE: 2.5327923580420775e+27\n",
      "model1: SVR ; model2: SVR ; MAE: 92.59491001016467\n"
     ]
    }
   ],
   "source": [
    "for model1 in models_1_1:\n",
    "    for model2 in models_2_1:\n",
    "        X_train, X_test, y_train, y_test = train_test_split(X, y, test_size = 0.8, random_state = 42)\n",
    "        conj_model_eval(model1, model2, X_test, y_test)"
   ]
  },
  {
   "cell_type": "code",
   "execution_count": 60,
   "metadata": {},
   "outputs": [
    {
     "name": "stdout",
     "output_type": "stream",
     "text": [
      "model1: LinearRegression ; model2: KNeighborsRegressor ; MAE: 22.173350403580912\n",
      "model1: LinearRegression ; model2: DecisionTreeRegressor ; MAE: 10.1147090113305\n",
      "model1: LinearRegression ; model2: RandomForestRegressor ; MAE: 6.485408786912315\n",
      "model1: LinearRegression ; model2: MLPRegressor ; MAE: 83.80070950493322\n",
      "model1: Lasso ; model2: KNeighborsRegressor ; MAE: 22.120349918400642\n",
      "model1: Lasso ; model2: DecisionTreeRegressor ; MAE: 10.100825243572316\n",
      "model1: Lasso ; model2: RandomForestRegressor ; MAE: 6.468598491655755\n",
      "model1: Lasso ; model2: MLPRegressor ; MAE: 83.72050363759365\n",
      "model1: Ridge ; model2: KNeighborsRegressor ; MAE: 22.17399939976935\n",
      "model1: Ridge ; model2: DecisionTreeRegressor ; MAE: 10.113107055349102\n",
      "model1: Ridge ; model2: RandomForestRegressor ; MAE: 6.482716830487791\n",
      "model1: Ridge ; model2: MLPRegressor ; MAE: 83.80082090319468\n",
      "model1: ElasticNet ; model2: KNeighborsRegressor ; MAE: 22.12030628453981\n",
      "model1: ElasticNet ; model2: DecisionTreeRegressor ; MAE: 10.100536662746519\n",
      "model1: ElasticNet ; model2: RandomForestRegressor ; MAE: 6.468019332257886\n",
      "model1: ElasticNet ; model2: MLPRegressor ; MAE: 83.7207102175322\n",
      "model1: SGDRegressor ; model2: KNeighborsRegressor ; MAE: 4.9485713936452895e+28\n",
      "model1: SGDRegressor ; model2: DecisionTreeRegressor ; MAE: 4.9485713936452895e+28\n",
      "model1: SGDRegressor ; model2: RandomForestRegressor ; MAE: 4.9485713936452895e+28\n",
      "model1: SGDRegressor ; model2: MLPRegressor ; MAE: 4.9485713936452895e+28\n",
      "model1: SVR ; model2: KNeighborsRegressor ; MAE: 22.142246578716854\n",
      "model1: SVR ; model2: DecisionTreeRegressor ; MAE: 10.169659187536167\n",
      "model1: SVR ; model2: RandomForestRegressor ; MAE: 6.577789760330226\n",
      "model1: SVR ; model2: MLPRegressor ; MAE: 83.74056889430304\n"
     ]
    }
   ],
   "source": [
    "for model1 in models_1_1:\n",
    "    for model2 in models_2_2:\n",
    "        X_train, X_test, y_train, y_test = train_test_split(X, y, test_size = 0.8, random_state = 42)\n",
    "        conj_model_eval(model1, model2, X_test, y_test)"
   ]
  },
  {
   "cell_type": "code",
   "execution_count": 61,
   "metadata": {},
   "outputs": [
    {
     "name": "stdout",
     "output_type": "stream",
     "text": [
      "model1: KNeighborsRegressor ; model2: LinearRegression ; MAE: 6.680285649673162\n",
      "model1: KNeighborsRegressor ; model2: Lasso ; MAE: 18.550270050535968\n",
      "model1: KNeighborsRegressor ; model2: Ridge ; MAE: 6.870877326007919\n",
      "model1: KNeighborsRegressor ; model2: ElasticNet ; MAE: 18.549232919660422\n",
      "model1: KNeighborsRegressor ; model2: SGDRegressor ; MAE: 2.5327923580420775e+27\n",
      "model1: KNeighborsRegressor ; model2: SVR ; MAE: 93.7786398130563\n",
      "model1: DecisionTreeRegressor ; model2: LinearRegression ; MAE: 7.996223791036327\n",
      "model1: DecisionTreeRegressor ; model2: Lasso ; MAE: 19.293778469170537\n",
      "model1: DecisionTreeRegressor ; model2: Ridge ; MAE: 8.204452876118047\n",
      "model1: DecisionTreeRegressor ; model2: ElasticNet ; MAE: 19.292314422830213\n",
      "model1: DecisionTreeRegressor ; model2: SGDRegressor ; MAE: 2.5327923580420775e+27\n",
      "model1: DecisionTreeRegressor ; model2: SVR ; MAE: 93.84711967679698\n",
      "model1: RandomForestRegressor ; model2: LinearRegression ; MAE: 7.981588055945018\n",
      "model1: RandomForestRegressor ; model2: Lasso ; MAE: 19.286509930696326\n",
      "model1: RandomForestRegressor ; model2: Ridge ; MAE: 8.190087897732887\n",
      "model1: RandomForestRegressor ; model2: ElasticNet ; MAE: 19.28503952161097\n",
      "model1: RandomForestRegressor ; model2: SGDRegressor ; MAE: 2.5327923580420775e+27\n",
      "model1: RandomForestRegressor ; model2: SVR ; MAE: 93.8510959159919\n",
      "model1: MLPRegressor ; model2: LinearRegression ; MAE: 38.65970331639923\n",
      "model1: MLPRegressor ; model2: Lasso ; MAE: 50.69258422972869\n",
      "model1: MLPRegressor ; model2: Ridge ; MAE: 38.8582480877241\n",
      "model1: MLPRegressor ; model2: ElasticNet ; MAE: 50.690924281349055\n",
      "model1: MLPRegressor ; model2: SGDRegressor ; MAE: 2.5327923580420775e+27\n",
      "model1: MLPRegressor ; model2: SVR ; MAE: 126.01239399682711\n"
     ]
    }
   ],
   "source": [
    "for model1 in models_1_2:\n",
    "    for model2 in models_2_1:\n",
    "        X_train, X_test, y_train, y_test = train_test_split(X, y, test_size = 0.8, random_state = 42)\n",
    "        conj_model_eval(model1, model2, X_test, y_test)"
   ]
  },
  {
   "cell_type": "code",
   "execution_count": 62,
   "metadata": {},
   "outputs": [
    {
     "name": "stdout",
     "output_type": "stream",
     "text": [
      "model1: KNeighborsRegressor ; model2: KNeighborsRegressor ; MAE: 22.137897286116583\n",
      "model1: KNeighborsRegressor ; model2: DecisionTreeRegressor ; MAE: 10.266295190024184\n",
      "model1: KNeighborsRegressor ; model2: RandomForestRegressor ; MAE: 6.729761638024003\n",
      "model1: KNeighborsRegressor ; model2: MLPRegressor ; MAE: 83.8426400414093\n",
      "model1: DecisionTreeRegressor ; model2: KNeighborsRegressor ; MAE: 22.74835200261728\n",
      "model1: DecisionTreeRegressor ; model2: DecisionTreeRegressor ; MAE: 10.80982149805944\n",
      "model1: DecisionTreeRegressor ; model2: RandomForestRegressor ; MAE: 7.8203232774159765\n",
      "model1: DecisionTreeRegressor ; model2: MLPRegressor ; MAE: 84.58296639617214\n",
      "model1: RandomForestRegressor ; model2: KNeighborsRegressor ; MAE: 22.742777146878048\n",
      "model1: RandomForestRegressor ; model2: DecisionTreeRegressor ; MAE: 10.802201448879934\n",
      "model1: RandomForestRegressor ; model2: RandomForestRegressor ; MAE: 7.806045775085514\n",
      "model1: RandomForestRegressor ; model2: MLPRegressor ; MAE: 84.5756656745594\n",
      "model1: MLPRegressor ; model2: KNeighborsRegressor ; MAE: 54.37978689640462\n",
      "model1: MLPRegressor ; model2: DecisionTreeRegressor ; MAE: 42.35783238782624\n",
      "model1: MLPRegressor ; model2: RandomForestRegressor ; MAE: 38.72501270604681\n",
      "model1: MLPRegressor ; model2: MLPRegressor ; MAE: 115.97850847948106\n"
     ]
    }
   ],
   "source": [
    "for model1 in models_1_2:\n",
    "    for model2 in models_2_2:\n",
    "        X_train, X_test, y_train, y_test = train_test_split(X, y, test_size = 0.8, random_state = 42)\n",
    "        conj_model_eval(model1, model2, X_test, y_test)"
   ]
  },
  {
   "cell_type": "code",
   "execution_count": 63,
   "metadata": {},
   "outputs": [
    {
     "data": {
      "text/plain": [
       "array([-1.16184111e-09, -6.95740663e-08,  5.72492027e-07, -2.16131248e-13,\n",
       "        8.60962115e-06,  3.09632964e-04,  2.10459765e-14, -1.03881880e-02,\n",
       "       -1.88526115e-12,  1.76140092e-03, -1.91167417e-11,  1.05814780e-02])"
      ]
     },
     "execution_count": 63,
     "metadata": {},
     "output_type": "execute_result"
    }
   ],
   "source": [
    "models_1_1[0].coef_"
   ]
  },
  {
   "cell_type": "code",
   "execution_count": 64,
   "metadata": {},
   "outputs": [
    {
     "data": {
      "text/plain": [
       "['wap_60_secs_to_future_model_linear_regression.joblib']"
      ]
     },
     "execution_count": 64,
     "metadata": {},
     "output_type": "execute_result"
    }
   ],
   "source": [
    "from joblib import dump, load\n",
    "dump(models_1_1[0], \"index_diff_model_linear_regression.joblib\")\n",
    "dump(models_2_1[0], \"wap_60_secs_to_future_model_linear_regression.joblib\")"
   ]
  },
  {
   "cell_type": "code",
   "execution_count": 1,
   "metadata": {},
   "outputs": [
    {
     "ename": "NameError",
     "evalue": "name 'dump' is not defined",
     "output_type": "error",
     "traceback": [
      "\u001b[1;31m---------------------------------------------------------------------------\u001b[0m",
      "\u001b[1;31mNameError\u001b[0m                                 Traceback (most recent call last)",
      "\u001b[1;32mc:\\Users\\Erki\\OneDrive - Tartu Ülikool\\Dokumendid\\Masinõpe\\ml2023-project\\optiver-tests-by-erki.ipynb Cell 71\u001b[0m line \u001b[0;36m1\n\u001b[1;32m----> <a href='vscode-notebook-cell:/c%3A/Users/Erki/OneDrive%20-%20Tartu%20%C3%9Clikool/Dokumendid/Masin%C3%B5pe/ml2023-project/optiver-tests-by-erki.ipynb#Y130sZmlsZQ%3D%3D?line=0'>1</a>\u001b[0m dump(models_1_2[\u001b[39m2\u001b[39m], \u001b[39m\"\u001b[39m\u001b[39mindex_diff_model_random_forest.joblib\u001b[39m\u001b[39m\"\u001b[39m)\n",
      "\u001b[1;31mNameError\u001b[0m: name 'dump' is not defined"
     ]
    }
   ],
   "source": [
    "dump(models_1_2[2], \"index_diff_model_random_forest.joblib\")"
   ]
  }
 ],
 "metadata": {
  "kaggle": {
   "accelerator": "none",
   "dataSources": [
    {
     "databundleVersionId": 7056235,
     "sourceId": 57891,
     "sourceType": "competition"
    }
   ],
   "dockerImageVersionId": 30579,
   "isGpuEnabled": false,
   "isInternetEnabled": false,
   "language": "python",
   "sourceType": "notebook"
  },
  "kernelspec": {
   "display_name": "Python 3",
   "language": "python",
   "name": "python3"
  },
  "language_info": {
   "codemirror_mode": {
    "name": "ipython",
    "version": 3
   },
   "file_extension": ".py",
   "mimetype": "text/x-python",
   "name": "python",
   "nbconvert_exporter": "python",
   "pygments_lexer": "ipython3",
   "version": "3.10.11"
  },
  "papermill": {
   "default_parameters": {},
   "duration": 45.612644,
   "end_time": "2023-11-16T06:41:55.050677",
   "environment_variables": {},
   "exception": null,
   "input_path": "__notebook__.ipynb",
   "output_path": "__notebook__.ipynb",
   "parameters": {},
   "start_time": "2023-11-16T06:41:09.438033",
   "version": "2.4.0"
  }
 },
 "nbformat": 4,
 "nbformat_minor": 5
}
